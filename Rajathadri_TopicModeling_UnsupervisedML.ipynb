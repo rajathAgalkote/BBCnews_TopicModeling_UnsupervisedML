{
  "cells": [
    {
      "cell_type": "markdown",
      "metadata": {
        "id": "view-in-github",
        "colab_type": "text"
      },
      "source": [
        "<a href=\"https://colab.research.google.com/github/rajathAgalkote/BBCnews_TopicModeling_UnsupervisedML/blob/main/Rajathadri_TopicModeling_UnsupervisedML.ipynb\" target=\"_parent\"><img src=\"https://colab.research.google.com/assets/colab-badge.svg\" alt=\"Open In Colab\"/></a>"
      ]
    },
    {
      "cell_type": "markdown",
      "metadata": {
        "id": "vncDsAP0Gaoa"
      },
      "source": [
        "# **Project Name**    - BBC News Topic Modeling\n",
        "\n"
      ]
    },
    {
      "cell_type": "markdown",
      "metadata": {
        "id": "beRrZCGUAJYm"
      },
      "source": [
        "##### **Project Type**    - Unsupervised\n",
        "##### **Contribution**    - Individual\n",
        "##### **Team Member 1 -** Rajathadri A S"
      ]
    },
    {
      "cell_type": "markdown",
      "metadata": {
        "id": "FJNUwmbgGyua"
      },
      "source": [
        "# **Project Summary -**"
      ]
    },
    {
      "cell_type": "markdown",
      "metadata": {
        "id": "F6v_1wHtG2nS"
      },
      "source": [
        "Write the summary here within 500-600 words."
      ]
    },
    {
      "cell_type": "markdown",
      "metadata": {
        "id": "w6K7xa23Elo4"
      },
      "source": [
        "# **GitHub Link -**"
      ]
    },
    {
      "cell_type": "markdown",
      "metadata": {
        "id": "h1o69JH3Eqqn"
      },
      "source": [
        "Provide your GitHub Link here."
      ]
    },
    {
      "cell_type": "markdown",
      "metadata": {
        "id": "yQaldy8SH6Dl"
      },
      "source": [
        "# **Problem Statement**\n"
      ]
    },
    {
      "cell_type": "markdown",
      "metadata": {
        "id": "DpeJGUA3kjGy"
      },
      "source": [
        "**Write Problem Statement Here.**"
      ]
    },
    {
      "cell_type": "markdown",
      "metadata": {
        "id": "mDgbUHAGgjLW"
      },
      "source": [
        "# **General Guidelines** : -  "
      ]
    },
    {
      "cell_type": "markdown",
      "metadata": {
        "id": "ZrxVaUj-hHfC"
      },
      "source": [
        "1.   Well-structured, formatted, and commented code is required. \n",
        "2.   Exception Handling, Production Grade Code & Deployment Ready Code will be a plus. Those students will be awarded some additional credits. \n",
        "     \n",
        "     The additional credits will have advantages over other students during Star Student selection.\n",
        "       \n",
        "             [ Note: - Deployment Ready Code is defined as, the whole .ipynb notebook should be executable in one go\n",
        "                       without a single error logged. ]\n",
        "\n",
        "3.   Each and every logic should have proper comments.\n",
        "4. You may add as many number of charts you want. Make Sure for each and every chart the following format should be answered.\n",
        "        \n",
        "\n",
        "```\n",
        "# Chart visualization code\n",
        "```\n",
        "            \n",
        "\n",
        "*   Why did you pick the specific chart?\n",
        "*   What is/are the insight(s) found from the chart?\n",
        "* Will the gained insights help creating a positive business impact? \n",
        "Are there any insights that lead to negative growth? Justify with specific reason.\n",
        "\n",
        "5. You have to create at least 15 logical & meaningful charts having important insights.\n",
        "\n",
        "\n",
        "[ Hints : - Do the Vizualization in  a structured way while following \"UBM\" Rule. \n",
        "\n",
        "U - Univariate Analysis,\n",
        "\n",
        "B - Bivariate Analysis (Numerical - Categorical, Numerical - Numerical, Categorical - Categorical)\n",
        "\n",
        "M - Multivariate Analysis\n",
        " ]\n",
        "\n",
        "\n",
        "\n",
        "\n",
        "\n",
        "6. You may add more ml algorithms for model creation. Make sure for each and every algorithm, the following format should be answered.\n",
        "\n",
        "\n",
        "*   Explain the ML Model used and it's performance using Evaluation metric Score Chart.\n",
        "\n",
        "\n",
        "*   Cross- Validation & Hyperparameter Tuning\n",
        "\n",
        "*   Have you seen any improvement? Note down the improvement with updates Evaluation metric Score Chart.\n",
        "\n",
        "*   Explain each evaluation metric's indication towards business and the business impact pf the ML model used.\n",
        "\n",
        "\n",
        "\n",
        "\n",
        "\n",
        "\n",
        "\n",
        "\n",
        "\n",
        "\n",
        "\n",
        "\n",
        "\n",
        "\n",
        "\n",
        "\n",
        "\n",
        "\n"
      ]
    },
    {
      "cell_type": "markdown",
      "metadata": {
        "id": "O_i_v8NEhb9l"
      },
      "source": [
        "# ***Let's Begin !***"
      ]
    },
    {
      "cell_type": "markdown",
      "metadata": {
        "id": "HhfV-JJviCcP"
      },
      "source": [
        "## ***1. Know Your Data***"
      ]
    },
    {
      "cell_type": "markdown",
      "metadata": {
        "id": "Y3lxredqlCYt"
      },
      "source": [
        "### Import Libraries"
      ]
    },
    {
      "cell_type": "markdown",
      "metadata": {
        "id": "0ZfVHbCzYpqG"
      },
      "source": [
        "Importing all the neccessary libraries and packages that we require to develop the required model."
      ]
    },
    {
      "cell_type": "code",
      "execution_count": 1,
      "metadata": {
        "id": "M8Vqi-pPk-HR"
      },
      "outputs": [],
      "source": [
        "# Import Libraries\n",
        "\n",
        "# importing os module\n",
        "import os\n",
        "\n",
        "# Importing data manipulation libraries\n",
        "import numpy as np\n",
        "import pandas as pd\n",
        "\n",
        "# importing CountVectorizer for feature extraction\n",
        "from sklearn.feature_extraction.text import CountVectorizer\n",
        "\n",
        "# importing tqdm and display modules for progress meters/bars\n",
        "from IPython.display import display\n",
        "from tqdm import tqdm\n",
        "\n",
        "# importing wordcloud to represent topics wordcloud\n",
        "from wordcloud import WordCloud\n",
        "\n",
        "# Model selection modules\n",
        "from sklearn.model_selection import GridSearchCV\n",
        "\n",
        "# Importing Counter\n",
        "from collections import Counter\n",
        "\n",
        "# import ast(abstract syntax tree)\n",
        "import ast\n",
        "\n",
        "# importing data visualization modules\n",
        "import matplotlib.pyplot as plt\n",
        "import seaborn as sns\n",
        "\n",
        "# importing mlab for implementing MATLAB functions\n",
        "import matplotlib.mlab as mlab\n",
        "\n",
        "# importing statistics module\n",
        "import scipy.stats as stats\n",
        "\n",
        "# importing TSNE for data exploration and visualizing high-dimensional data\n",
        "from sklearn.manifold import TSNE\n",
        "\n",
        "# importing decomposition modules\n",
        "from sklearn.decomposition import TruncatedSVD\n",
        "from sklearn.decomposition import LatentDirichletAllocation\n",
        "\n",
        "# importing Natural Language Toolkit and other NLP modules\n",
        "import nltk\n",
        "from nltk.stem import WordNetLemmatizer\n",
        "from textblob import TextBlob, Word\n",
        "from nltk.corpus import stopwords\n",
        "import re\n",
        "\n",
        "# importing countVectorizer for text vectorization\n",
        "from sklearn.feature_extraction.text import CountVectorizer\n",
        "\n",
        "# Importing warnings library. The warnings module handles warnings in Python.\n",
        "import warnings\n",
        "warnings.filterwarnings('ignore')"
      ]
    },
    {
      "cell_type": "markdown",
      "metadata": {
        "id": "3RnN4peoiCZX"
      },
      "source": [
        "### Dataset Loading"
      ]
    },
    {
      "cell_type": "code",
      "execution_count": 2,
      "metadata": {
        "colab": {
          "base_uri": "https://localhost:8080/"
        },
        "id": "4CkvbW_SlZ_R",
        "outputId": "932c8602-831f-4424-bf10-071a97ce5328"
      },
      "outputs": [
        {
          "metadata": {
            "tags": null
          },
          "name": "stdout",
          "output_type": "stream",
          "text": [
            "Mounted at /content/drive\n"
          ]
        }
      ],
      "source": [
        "# Load Dataset\n",
        "\n",
        "# Mounting the Google Drive to access data.\n",
        "from google.colab import drive\n",
        "drive.mount('/content/drive')"
      ]
    },
    {
      "cell_type": "markdown",
      "metadata": {
        "id": "GWUXDLurQ9kA"
      },
      "source": [
        "The dataset in this case isn't collective, its been stored in form of numerous text files sub-categorized in 5 different domains. Hence, for loading the data we'll visit all text files individually and copy all articles to a dataframe along with their category.\n",
        "\n",
        "Hence, the dataframe will contain the textual data along with its cateegory as two features."
      ]
    },
    {
      "cell_type": "code",
      "execution_count": 6,
      "metadata": {
        "id": "rA-isLETQ4xw"
      },
      "outputs": [],
      "source": [
        "# The variable \"directory\" holds the address of text files stored in drive\n",
        "directory = '/content/drive/MyDrive/AlmaBetter/Project_Unsupervised/'\n",
        "\n",
        "# All 5 sub-categories provided\n",
        "subdirs = ['business', 'entertainment', 'politics', 'sport', 'tech']\n",
        "\n",
        "# Create dataframe for gathering the articles\n",
        "bbc = pd.DataFrame()\n",
        " \n",
        "# Iterate over sub-directories to access the text files\n",
        "for subdir in subdirs:\n",
        "\n",
        "  # address to the subdirectory\n",
        "  dir = directory + subdir\n",
        "\n",
        "  # Iterate over all the text files present in a sub-directory\n",
        "  for filename in os.listdir(dir):\n",
        "    \n",
        "    # Get file address\n",
        "    filepath = os.path.join(dir, filename)\n",
        "\n",
        "    # Traversing over text files and storing the articles into the dataframe\n",
        "    try:\n",
        "      data = open(filepath,'r').read()\n",
        "\n",
        "      # escape characters to be ignored in the text\n",
        "      escape = ['\\n']\n",
        "      \n",
        "      # removing escape characters from text\n",
        "      for elem in escape:\n",
        "        data = data.replace(elem, ' ')\n",
        "      \n",
        "      # Storing article to the dataframe\n",
        "      dict1 = {'Filename': filename.split('.')[0], 'Contents': data.lower(), 'Category':subdir}\n",
        "      bbc = bbc.append(dict1, ignore_index=True, verify_integrity = True)\n",
        "\n",
        "    # Ignore exception, if any\n",
        "    except:\n",
        "      pass    "
      ]
    },
    {
      "cell_type": "markdown",
      "metadata": {
        "id": "x71ZqKXriCWQ"
      },
      "source": [
        "### Dataset First View"
      ]
    },
    {
      "cell_type": "code",
      "execution_count": 4,
      "metadata": {
        "colab": {
          "base_uri": "https://localhost:8080/",
          "height": 206
        },
        "id": "LWNFOSvLl09H",
        "outputId": "d687a932-22b7-4742-f68b-80e504c4f60f"
      },
      "outputs": [
        {
          "output_type": "execute_result",
          "data": {
            "text/plain": [
              "  Filename                                           Contents  Category\n",
              "0      011  ask jeeves tips online ad revival  ask jeeves ...  business\n",
              "1      013  peugeot deal boosts mitsubishi  struggling jap...  business\n",
              "2      015  air passengers win new eu rights  air passenge...  business\n",
              "3      010  court rejects $280bn tobacco case  a us govern...  business\n",
              "4      005  pernod takeover talk lifts domecq  shares in u...  business"
            ],
            "text/html": [
              "\n",
              "  <div id=\"df-26532745-9ed7-4340-82bd-bf6e981721d9\">\n",
              "    <div class=\"colab-df-container\">\n",
              "      <div>\n",
              "<style scoped>\n",
              "    .dataframe tbody tr th:only-of-type {\n",
              "        vertical-align: middle;\n",
              "    }\n",
              "\n",
              "    .dataframe tbody tr th {\n",
              "        vertical-align: top;\n",
              "    }\n",
              "\n",
              "    .dataframe thead th {\n",
              "        text-align: right;\n",
              "    }\n",
              "</style>\n",
              "<table border=\"1\" class=\"dataframe\">\n",
              "  <thead>\n",
              "    <tr style=\"text-align: right;\">\n",
              "      <th></th>\n",
              "      <th>Filename</th>\n",
              "      <th>Contents</th>\n",
              "      <th>Category</th>\n",
              "    </tr>\n",
              "  </thead>\n",
              "  <tbody>\n",
              "    <tr>\n",
              "      <th>0</th>\n",
              "      <td>011</td>\n",
              "      <td>ask jeeves tips online ad revival  ask jeeves ...</td>\n",
              "      <td>business</td>\n",
              "    </tr>\n",
              "    <tr>\n",
              "      <th>1</th>\n",
              "      <td>013</td>\n",
              "      <td>peugeot deal boosts mitsubishi  struggling jap...</td>\n",
              "      <td>business</td>\n",
              "    </tr>\n",
              "    <tr>\n",
              "      <th>2</th>\n",
              "      <td>015</td>\n",
              "      <td>air passengers win new eu rights  air passenge...</td>\n",
              "      <td>business</td>\n",
              "    </tr>\n",
              "    <tr>\n",
              "      <th>3</th>\n",
              "      <td>010</td>\n",
              "      <td>court rejects $280bn tobacco case  a us govern...</td>\n",
              "      <td>business</td>\n",
              "    </tr>\n",
              "    <tr>\n",
              "      <th>4</th>\n",
              "      <td>005</td>\n",
              "      <td>pernod takeover talk lifts domecq  shares in u...</td>\n",
              "      <td>business</td>\n",
              "    </tr>\n",
              "  </tbody>\n",
              "</table>\n",
              "</div>\n",
              "      <button class=\"colab-df-convert\" onclick=\"convertToInteractive('df-26532745-9ed7-4340-82bd-bf6e981721d9')\"\n",
              "              title=\"Convert this dataframe to an interactive table.\"\n",
              "              style=\"display:none;\">\n",
              "        \n",
              "  <svg xmlns=\"http://www.w3.org/2000/svg\" height=\"24px\"viewBox=\"0 0 24 24\"\n",
              "       width=\"24px\">\n",
              "    <path d=\"M0 0h24v24H0V0z\" fill=\"none\"/>\n",
              "    <path d=\"M18.56 5.44l.94 2.06.94-2.06 2.06-.94-2.06-.94-.94-2.06-.94 2.06-2.06.94zm-11 1L8.5 8.5l.94-2.06 2.06-.94-2.06-.94L8.5 2.5l-.94 2.06-2.06.94zm10 10l.94 2.06.94-2.06 2.06-.94-2.06-.94-.94-2.06-.94 2.06-2.06.94z\"/><path d=\"M17.41 7.96l-1.37-1.37c-.4-.4-.92-.59-1.43-.59-.52 0-1.04.2-1.43.59L10.3 9.45l-7.72 7.72c-.78.78-.78 2.05 0 2.83L4 21.41c.39.39.9.59 1.41.59.51 0 1.02-.2 1.41-.59l7.78-7.78 2.81-2.81c.8-.78.8-2.07 0-2.86zM5.41 20L4 18.59l7.72-7.72 1.47 1.35L5.41 20z\"/>\n",
              "  </svg>\n",
              "      </button>\n",
              "      \n",
              "  <style>\n",
              "    .colab-df-container {\n",
              "      display:flex;\n",
              "      flex-wrap:wrap;\n",
              "      gap: 12px;\n",
              "    }\n",
              "\n",
              "    .colab-df-convert {\n",
              "      background-color: #E8F0FE;\n",
              "      border: none;\n",
              "      border-radius: 50%;\n",
              "      cursor: pointer;\n",
              "      display: none;\n",
              "      fill: #1967D2;\n",
              "      height: 32px;\n",
              "      padding: 0 0 0 0;\n",
              "      width: 32px;\n",
              "    }\n",
              "\n",
              "    .colab-df-convert:hover {\n",
              "      background-color: #E2EBFA;\n",
              "      box-shadow: 0px 1px 2px rgba(60, 64, 67, 0.3), 0px 1px 3px 1px rgba(60, 64, 67, 0.15);\n",
              "      fill: #174EA6;\n",
              "    }\n",
              "\n",
              "    [theme=dark] .colab-df-convert {\n",
              "      background-color: #3B4455;\n",
              "      fill: #D2E3FC;\n",
              "    }\n",
              "\n",
              "    [theme=dark] .colab-df-convert:hover {\n",
              "      background-color: #434B5C;\n",
              "      box-shadow: 0px 1px 3px 1px rgba(0, 0, 0, 0.15);\n",
              "      filter: drop-shadow(0px 1px 2px rgba(0, 0, 0, 0.3));\n",
              "      fill: #FFFFFF;\n",
              "    }\n",
              "  </style>\n",
              "\n",
              "      <script>\n",
              "        const buttonEl =\n",
              "          document.querySelector('#df-26532745-9ed7-4340-82bd-bf6e981721d9 button.colab-df-convert');\n",
              "        buttonEl.style.display =\n",
              "          google.colab.kernel.accessAllowed ? 'block' : 'none';\n",
              "\n",
              "        async function convertToInteractive(key) {\n",
              "          const element = document.querySelector('#df-26532745-9ed7-4340-82bd-bf6e981721d9');\n",
              "          const dataTable =\n",
              "            await google.colab.kernel.invokeFunction('convertToInteractive',\n",
              "                                                     [key], {});\n",
              "          if (!dataTable) return;\n",
              "\n",
              "          const docLinkHtml = 'Like what you see? Visit the ' +\n",
              "            '<a target=\"_blank\" href=https://colab.research.google.com/notebooks/data_table.ipynb>data table notebook</a>'\n",
              "            + ' to learn more about interactive tables.';\n",
              "          element.innerHTML = '';\n",
              "          dataTable['output_type'] = 'display_data';\n",
              "          await google.colab.output.renderOutput(dataTable, element);\n",
              "          const docLink = document.createElement('div');\n",
              "          docLink.innerHTML = docLinkHtml;\n",
              "          element.appendChild(docLink);\n",
              "        }\n",
              "      </script>\n",
              "    </div>\n",
              "  </div>\n",
              "  "
            ]
          },
          "metadata": {},
          "execution_count": 4
        }
      ],
      "source": [
        "# Dataset First Look\n",
        "\n",
        "bbc.head()"
      ]
    },
    {
      "cell_type": "markdown",
      "metadata": {
        "id": "7hBIi_osiCS2"
      },
      "source": [
        "### Dataset Rows & Columns count"
      ]
    },
    {
      "cell_type": "code",
      "execution_count": 7,
      "metadata": {
        "colab": {
          "base_uri": "https://localhost:8080/"
        },
        "id": "Kllu7SJgmLij",
        "outputId": "afac8554-db3a-4f35-cae3-98cd29379c07"
      },
      "outputs": [
        {
          "output_type": "execute_result",
          "data": {
            "text/plain": [
              "(2224, 3)"
            ]
          },
          "metadata": {},
          "execution_count": 7
        }
      ],
      "source": [
        "# Dataset Rows & Columns count\n",
        "bbc.shape"
      ]
    },
    {
      "cell_type": "markdown",
      "metadata": {
        "id": "JlHwYmJAmNHm"
      },
      "source": [
        "### Dataset Information"
      ]
    },
    {
      "cell_type": "code",
      "execution_count": 8,
      "metadata": {
        "colab": {
          "base_uri": "https://localhost:8080/"
        },
        "id": "e9hRXRi6meOf",
        "outputId": "19509541-63af-4ae0-eb0b-eaac2b67652a"
      },
      "outputs": [
        {
          "output_type": "stream",
          "name": "stdout",
          "text": [
            "<class 'pandas.core.frame.DataFrame'>\n",
            "RangeIndex: 2224 entries, 0 to 2223\n",
            "Data columns (total 3 columns):\n",
            " #   Column    Non-Null Count  Dtype \n",
            "---  ------    --------------  ----- \n",
            " 0   Filename  2224 non-null   object\n",
            " 1   Contents  2224 non-null   object\n",
            " 2   Category  2224 non-null   object\n",
            "dtypes: object(3)\n",
            "memory usage: 52.2+ KB\n"
          ]
        }
      ],
      "source": [
        "# Dataset Info\n",
        "bbc.info()"
      ]
    },
    {
      "cell_type": "markdown",
      "metadata": {
        "id": "35m5QtbWiB9F"
      },
      "source": [
        "#### Duplicate Values"
      ]
    },
    {
      "cell_type": "code",
      "execution_count": 9,
      "metadata": {
        "colab": {
          "base_uri": "https://localhost:8080/",
          "height": 423
        },
        "id": "1sLdpKYkmox0",
        "outputId": "4c981e6b-6f55-43c6-b89d-c9b3dfc3360d"
      },
      "outputs": [
        {
          "output_type": "execute_result",
          "data": {
            "text/plain": [
              "     Filename                                           Contents  Category\n",
              "250       253  jobs growth still slow in the us  the us creat...  business\n",
              "281       240  economy 'strong' in election year  uk business...  business\n",
              "295       333  troubled marsh under sec scrutiny  the us stoc...  business\n",
              "345       356  s korea spending boost to economy  south korea...  business\n",
              "354       371  singapore growth at 8.1% in 2004  singapore's ...  business\n",
              "...       ...                                                ...       ...\n",
              "2199      323  blind student 'hears in colour'  a blind stude...      tech\n",
              "2201      374  commodore finds new lease of life  the once-fa...      tech\n",
              "2212      387  progress on new internet domains  by early 200...      tech\n",
              "2216      382  tough rules for ringtone sellers  firms that f...      tech\n",
              "2220      328  britons fed up with net service  a survey cond...      tech\n",
              "\n",
              "[99 rows x 3 columns]"
            ],
            "text/html": [
              "\n",
              "  <div id=\"df-3bcff493-b46d-446c-8290-43a325cc19be\">\n",
              "    <div class=\"colab-df-container\">\n",
              "      <div>\n",
              "<style scoped>\n",
              "    .dataframe tbody tr th:only-of-type {\n",
              "        vertical-align: middle;\n",
              "    }\n",
              "\n",
              "    .dataframe tbody tr th {\n",
              "        vertical-align: top;\n",
              "    }\n",
              "\n",
              "    .dataframe thead th {\n",
              "        text-align: right;\n",
              "    }\n",
              "</style>\n",
              "<table border=\"1\" class=\"dataframe\">\n",
              "  <thead>\n",
              "    <tr style=\"text-align: right;\">\n",
              "      <th></th>\n",
              "      <th>Filename</th>\n",
              "      <th>Contents</th>\n",
              "      <th>Category</th>\n",
              "    </tr>\n",
              "  </thead>\n",
              "  <tbody>\n",
              "    <tr>\n",
              "      <th>250</th>\n",
              "      <td>253</td>\n",
              "      <td>jobs growth still slow in the us  the us creat...</td>\n",
              "      <td>business</td>\n",
              "    </tr>\n",
              "    <tr>\n",
              "      <th>281</th>\n",
              "      <td>240</td>\n",
              "      <td>economy 'strong' in election year  uk business...</td>\n",
              "      <td>business</td>\n",
              "    </tr>\n",
              "    <tr>\n",
              "      <th>295</th>\n",
              "      <td>333</td>\n",
              "      <td>troubled marsh under sec scrutiny  the us stoc...</td>\n",
              "      <td>business</td>\n",
              "    </tr>\n",
              "    <tr>\n",
              "      <th>345</th>\n",
              "      <td>356</td>\n",
              "      <td>s korea spending boost to economy  south korea...</td>\n",
              "      <td>business</td>\n",
              "    </tr>\n",
              "    <tr>\n",
              "      <th>354</th>\n",
              "      <td>371</td>\n",
              "      <td>singapore growth at 8.1% in 2004  singapore's ...</td>\n",
              "      <td>business</td>\n",
              "    </tr>\n",
              "    <tr>\n",
              "      <th>...</th>\n",
              "      <td>...</td>\n",
              "      <td>...</td>\n",
              "      <td>...</td>\n",
              "    </tr>\n",
              "    <tr>\n",
              "      <th>2199</th>\n",
              "      <td>323</td>\n",
              "      <td>blind student 'hears in colour'  a blind stude...</td>\n",
              "      <td>tech</td>\n",
              "    </tr>\n",
              "    <tr>\n",
              "      <th>2201</th>\n",
              "      <td>374</td>\n",
              "      <td>commodore finds new lease of life  the once-fa...</td>\n",
              "      <td>tech</td>\n",
              "    </tr>\n",
              "    <tr>\n",
              "      <th>2212</th>\n",
              "      <td>387</td>\n",
              "      <td>progress on new internet domains  by early 200...</td>\n",
              "      <td>tech</td>\n",
              "    </tr>\n",
              "    <tr>\n",
              "      <th>2216</th>\n",
              "      <td>382</td>\n",
              "      <td>tough rules for ringtone sellers  firms that f...</td>\n",
              "      <td>tech</td>\n",
              "    </tr>\n",
              "    <tr>\n",
              "      <th>2220</th>\n",
              "      <td>328</td>\n",
              "      <td>britons fed up with net service  a survey cond...</td>\n",
              "      <td>tech</td>\n",
              "    </tr>\n",
              "  </tbody>\n",
              "</table>\n",
              "<p>99 rows × 3 columns</p>\n",
              "</div>\n",
              "      <button class=\"colab-df-convert\" onclick=\"convertToInteractive('df-3bcff493-b46d-446c-8290-43a325cc19be')\"\n",
              "              title=\"Convert this dataframe to an interactive table.\"\n",
              "              style=\"display:none;\">\n",
              "        \n",
              "  <svg xmlns=\"http://www.w3.org/2000/svg\" height=\"24px\"viewBox=\"0 0 24 24\"\n",
              "       width=\"24px\">\n",
              "    <path d=\"M0 0h24v24H0V0z\" fill=\"none\"/>\n",
              "    <path d=\"M18.56 5.44l.94 2.06.94-2.06 2.06-.94-2.06-.94-.94-2.06-.94 2.06-2.06.94zm-11 1L8.5 8.5l.94-2.06 2.06-.94-2.06-.94L8.5 2.5l-.94 2.06-2.06.94zm10 10l.94 2.06.94-2.06 2.06-.94-2.06-.94-.94-2.06-.94 2.06-2.06.94z\"/><path d=\"M17.41 7.96l-1.37-1.37c-.4-.4-.92-.59-1.43-.59-.52 0-1.04.2-1.43.59L10.3 9.45l-7.72 7.72c-.78.78-.78 2.05 0 2.83L4 21.41c.39.39.9.59 1.41.59.51 0 1.02-.2 1.41-.59l7.78-7.78 2.81-2.81c.8-.78.8-2.07 0-2.86zM5.41 20L4 18.59l7.72-7.72 1.47 1.35L5.41 20z\"/>\n",
              "  </svg>\n",
              "      </button>\n",
              "      \n",
              "  <style>\n",
              "    .colab-df-container {\n",
              "      display:flex;\n",
              "      flex-wrap:wrap;\n",
              "      gap: 12px;\n",
              "    }\n",
              "\n",
              "    .colab-df-convert {\n",
              "      background-color: #E8F0FE;\n",
              "      border: none;\n",
              "      border-radius: 50%;\n",
              "      cursor: pointer;\n",
              "      display: none;\n",
              "      fill: #1967D2;\n",
              "      height: 32px;\n",
              "      padding: 0 0 0 0;\n",
              "      width: 32px;\n",
              "    }\n",
              "\n",
              "    .colab-df-convert:hover {\n",
              "      background-color: #E2EBFA;\n",
              "      box-shadow: 0px 1px 2px rgba(60, 64, 67, 0.3), 0px 1px 3px 1px rgba(60, 64, 67, 0.15);\n",
              "      fill: #174EA6;\n",
              "    }\n",
              "\n",
              "    [theme=dark] .colab-df-convert {\n",
              "      background-color: #3B4455;\n",
              "      fill: #D2E3FC;\n",
              "    }\n",
              "\n",
              "    [theme=dark] .colab-df-convert:hover {\n",
              "      background-color: #434B5C;\n",
              "      box-shadow: 0px 1px 3px 1px rgba(0, 0, 0, 0.15);\n",
              "      filter: drop-shadow(0px 1px 2px rgba(0, 0, 0, 0.3));\n",
              "      fill: #FFFFFF;\n",
              "    }\n",
              "  </style>\n",
              "\n",
              "      <script>\n",
              "        const buttonEl =\n",
              "          document.querySelector('#df-3bcff493-b46d-446c-8290-43a325cc19be button.colab-df-convert');\n",
              "        buttonEl.style.display =\n",
              "          google.colab.kernel.accessAllowed ? 'block' : 'none';\n",
              "\n",
              "        async function convertToInteractive(key) {\n",
              "          const element = document.querySelector('#df-3bcff493-b46d-446c-8290-43a325cc19be');\n",
              "          const dataTable =\n",
              "            await google.colab.kernel.invokeFunction('convertToInteractive',\n",
              "                                                     [key], {});\n",
              "          if (!dataTable) return;\n",
              "\n",
              "          const docLinkHtml = 'Like what you see? Visit the ' +\n",
              "            '<a target=\"_blank\" href=https://colab.research.google.com/notebooks/data_table.ipynb>data table notebook</a>'\n",
              "            + ' to learn more about interactive tables.';\n",
              "          element.innerHTML = '';\n",
              "          dataTable['output_type'] = 'display_data';\n",
              "          await google.colab.output.renderOutput(dataTable, element);\n",
              "          const docLink = document.createElement('div');\n",
              "          docLink.innerHTML = docLinkHtml;\n",
              "          element.appendChild(docLink);\n",
              "        }\n",
              "      </script>\n",
              "    </div>\n",
              "  </div>\n",
              "  "
            ]
          },
          "metadata": {},
          "execution_count": 9
        }
      ],
      "source": [
        "# Dataset Duplicate Value Count\n",
        "\n",
        "bbc[bbc.duplicated(subset = \"Contents\")]"
      ]
    },
    {
      "cell_type": "markdown",
      "metadata": {
        "id": "0OT3yrsmXPa2"
      },
      "source": [
        "99 duplicate entries are present"
      ]
    },
    {
      "cell_type": "markdown",
      "metadata": {
        "id": "PoPl-ycgm1ru"
      },
      "source": [
        "#### Missing Values/Null Values"
      ]
    },
    {
      "cell_type": "code",
      "execution_count": 10,
      "metadata": {
        "colab": {
          "base_uri": "https://localhost:8080/"
        },
        "id": "GgHWkxvamxVg",
        "outputId": "d2a4bfa9-2c6a-41a8-ed4b-b0ea9c14376b"
      },
      "outputs": [
        {
          "output_type": "stream",
          "name": "stdout",
          "text": [
            "Filename    0\n",
            "Contents    0\n",
            "Category    0\n",
            "dtype: int64\n"
          ]
        }
      ],
      "source": [
        "# Missing Values/Null Values Count\n",
        "\n",
        "print(bbc.isnull().sum())"
      ]
    },
    {
      "cell_type": "code",
      "execution_count": null,
      "metadata": {
        "colab": {
          "base_uri": "https://localhost:8080/",
          "height": 393
        },
        "id": "3q5wnI3om9sJ",
        "outputId": "0b20f9fe-8ff6-4fec-875c-4af77403cb1b"
      },
      "outputs": [
        {
          "output_type": "execute_result",
          "data": {
            "text/plain": [
              "<Axes: >"
            ]
          },
          "metadata": {},
          "execution_count": 10
        },
        {
          "output_type": "display_data",
          "data": {
            "text/plain": [
              "<Figure size 700x400 with 1 Axes>"
            ],
            "image/png": "[encoded data removed]"
          },
          "metadata": {}
        }
      ],
      "source": [
        "# Visualizing the missing values\n",
        "\n",
        "plt.figure(figsize=(7,4))\n",
        "sns.heatmap(bbc.isnull(), cbar=False)"
      ]
    },
    {
      "cell_type": "markdown",
      "metadata": {
        "id": "KyRquay8YTVr"
      },
      "source": [
        "No missing values are present in the 'bbc' dataset."
      ]
    },
    {
      "cell_type": "markdown",
      "metadata": {
        "id": "H0kj-8xxnORC"
      },
      "source": [
        "### What did you know about your dataset?"
      ]
    },
    {
      "cell_type": "markdown",
      "metadata": {
        "id": "gfoNAAC-nUe_"
      },
      "source": [
        "Our dataset in this case wasn't collective, it was stored in the form of numerous text files sub-categorized in 5 different domains.\n",
        "\n",
        "We gathered all the textual data files into a dataframe called 'bbc' and performed some basic operations to understand our dataset.\n",
        "\n",
        "There was a particular file in this dataset which was formatted differently from the rest of the files, hence while reading the data, the text formatting was throwing an exception. For such cases, we have neglected the file altogether using **try and except**, since the case was relevant to only a single file.\n",
        "\n",
        "\n",
        "\n",
        "*   We observed that our BBC dataframe contains 2224 entries and 3 features.\n",
        "*   All the features are object datatypes. Although, Filename and Category features should be numerical and categorical-numerical respectively.\n",
        "* There are 99 duplicate rows. It informs us that these articles are present more than once, we need to drop such rows before we proceed further with the model development. \n",
        "* Finally, there are no missing values in our dataset.\n",
        "\n"
      ]
    },
    {
      "cell_type": "markdown",
      "metadata": {
        "id": "nA9Y7ga8ng1Z"
      },
      "source": [
        "## ***2. Understanding Your Variables***"
      ]
    },
    {
      "cell_type": "code",
      "execution_count": null,
      "metadata": {
        "id": "j7xfkqrt5Ag5",
        "colab": {
          "base_uri": "https://localhost:8080/"
        },
        "outputId": "4a27da51-2918-4465-c764-ab8993aeb971"
      },
      "outputs": [
        {
          "output_type": "execute_result",
          "data": {
            "text/plain": [
              "Index(['Filename', 'Contents', 'Category'], dtype='object')"
            ]
          },
          "metadata": {},
          "execution_count": 11
        }
      ],
      "source": [
        "# Dataset Columns\n",
        "bbc.columns"
      ]
    },
    {
      "cell_type": "code",
      "execution_count": null,
      "metadata": {
        "id": "DnOaZdaE5Q5t",
        "colab": {
          "base_uri": "https://localhost:8080/",
          "height": 143
        },
        "outputId": "f049be22-7a5d-4da1-d500-b78e984ad2df"
      },
      "outputs": [
        {
          "output_type": "execute_result",
          "data": {
            "text/plain": [
              "         count unique                                                top freq\n",
              "Filename  2224    511                                                011    5\n",
              "Contents  2224   2125  digital guru floats sub-$100 pc  nicholas negr...    2\n",
              "Category  2224      5                                           business  510"
            ],
            "text/html": [
              "\n",
              "  <div id=\"df-55dd46d9-5400-4cf5-8228-1fc35a4bc5d7\">\n",
              "    <div class=\"colab-df-container\">\n",
              "      <div>\n",
              "<style scoped>\n",
              "    .dataframe tbody tr th:only-of-type {\n",
              "        vertical-align: middle;\n",
              "    }\n",
              "\n",
              "    .dataframe tbody tr th {\n",
              "        vertical-align: top;\n",
              "    }\n",
              "\n",
              "    .dataframe thead th {\n",
              "        text-align: right;\n",
              "    }\n",
              "</style>\n",
              "<table border=\"1\" class=\"dataframe\">\n",
              "  <thead>\n",
              "    <tr style=\"text-align: right;\">\n",
              "      <th></th>\n",
              "      <th>count</th>\n",
              "      <th>unique</th>\n",
              "      <th>top</th>\n",
              "      <th>freq</th>\n",
              "    </tr>\n",
              "  </thead>\n",
              "  <tbody>\n",
              "    <tr>\n",
              "      <th>Filename</th>\n",
              "      <td>2224</td>\n",
              "      <td>511</td>\n",
              "      <td>011</td>\n",
              "      <td>5</td>\n",
              "    </tr>\n",
              "    <tr>\n",
              "      <th>Contents</th>\n",
              "      <td>2224</td>\n",
              "      <td>2125</td>\n",
              "      <td>digital guru floats sub-$100 pc  nicholas negr...</td>\n",
              "      <td>2</td>\n",
              "    </tr>\n",
              "    <tr>\n",
              "      <th>Category</th>\n",
              "      <td>2224</td>\n",
              "      <td>5</td>\n",
              "      <td>business</td>\n",
              "      <td>510</td>\n",
              "    </tr>\n",
              "  </tbody>\n",
              "</table>\n",
              "</div>\n",
              "      <button class=\"colab-df-convert\" onclick=\"convertToInteractive('df-55dd46d9-5400-4cf5-8228-1fc35a4bc5d7')\"\n",
              "              title=\"Convert this dataframe to an interactive table.\"\n",
              "              style=\"display:none;\">\n",
              "        \n",
              "  <svg xmlns=\"http://www.w3.org/2000/svg\" height=\"24px\"viewBox=\"0 0 24 24\"\n",
              "       width=\"24px\">\n",
              "    <path d=\"M0 0h24v24H0V0z\" fill=\"none\"/>\n",
              "    <path d=\"M18.56 5.44l.94 2.06.94-2.06 2.06-.94-2.06-.94-.94-2.06-.94 2.06-2.06.94zm-11 1L8.5 8.5l.94-2.06 2.06-.94-2.06-.94L8.5 2.5l-.94 2.06-2.06.94zm10 10l.94 2.06.94-2.06 2.06-.94-2.06-.94-.94-2.06-.94 2.06-2.06.94z\"/><path d=\"M17.41 7.96l-1.37-1.37c-.4-.4-.92-.59-1.43-.59-.52 0-1.04.2-1.43.59L10.3 9.45l-7.72 7.72c-.78.78-.78 2.05 0 2.83L4 21.41c.39.39.9.59 1.41.59.51 0 1.02-.2 1.41-.59l7.78-7.78 2.81-2.81c.8-.78.8-2.07 0-2.86zM5.41 20L4 18.59l7.72-7.72 1.47 1.35L5.41 20z\"/>\n",
              "  </svg>\n",
              "      </button>\n",
              "      \n",
              "  <style>\n",
              "    .colab-df-container {\n",
              "      display:flex;\n",
              "      flex-wrap:wrap;\n",
              "      gap: 12px;\n",
              "    }\n",
              "\n",
              "    .colab-df-convert {\n",
              "      background-color: #E8F0FE;\n",
              "      border: none;\n",
              "      border-radius: 50%;\n",
              "      cursor: pointer;\n",
              "      display: none;\n",
              "      fill: #1967D2;\n",
              "      height: 32px;\n",
              "      padding: 0 0 0 0;\n",
              "      width: 32px;\n",
              "    }\n",
              "\n",
              "    .colab-df-convert:hover {\n",
              "      background-color: #E2EBFA;\n",
              "      box-shadow: 0px 1px 2px rgba(60, 64, 67, 0.3), 0px 1px 3px 1px rgba(60, 64, 67, 0.15);\n",
              "      fill: #174EA6;\n",
              "    }\n",
              "\n",
              "    [theme=dark] .colab-df-convert {\n",
              "      background-color: #3B4455;\n",
              "      fill: #D2E3FC;\n",
              "    }\n",
              "\n",
              "    [theme=dark] .colab-df-convert:hover {\n",
              "      background-color: #434B5C;\n",
              "      box-shadow: 0px 1px 3px 1px rgba(0, 0, 0, 0.15);\n",
              "      filter: drop-shadow(0px 1px 2px rgba(0, 0, 0, 0.3));\n",
              "      fill: #FFFFFF;\n",
              "    }\n",
              "  </style>\n",
              "\n",
              "      <script>\n",
              "        const buttonEl =\n",
              "          document.querySelector('#df-55dd46d9-5400-4cf5-8228-1fc35a4bc5d7 button.colab-df-convert');\n",
              "        buttonEl.style.display =\n",
              "          google.colab.kernel.accessAllowed ? 'block' : 'none';\n",
              "\n",
              "        async function convertToInteractive(key) {\n",
              "          const element = document.querySelector('#df-55dd46d9-5400-4cf5-8228-1fc35a4bc5d7');\n",
              "          const dataTable =\n",
              "            await google.colab.kernel.invokeFunction('convertToInteractive',\n",
              "                                                     [key], {});\n",
              "          if (!dataTable) return;\n",
              "\n",
              "          const docLinkHtml = 'Like what you see? Visit the ' +\n",
              "            '<a target=\"_blank\" href=https://colab.research.google.com/notebooks/data_table.ipynb>data table notebook</a>'\n",
              "            + ' to learn more about interactive tables.';\n",
              "          element.innerHTML = '';\n",
              "          dataTable['output_type'] = 'display_data';\n",
              "          await google.colab.output.renderOutput(dataTable, element);\n",
              "          const docLink = document.createElement('div');\n",
              "          docLink.innerHTML = docLinkHtml;\n",
              "          element.appendChild(docLink);\n",
              "        }\n",
              "      </script>\n",
              "    </div>\n",
              "  </div>\n",
              "  "
            ]
          },
          "metadata": {},
          "execution_count": 12
        }
      ],
      "source": [
        "# Dataset Describe\n",
        "bbc.describe().T"
      ]
    },
    {
      "cell_type": "markdown",
      "metadata": {
        "id": "n65-U8R0hyNS"
      },
      "source": [
        "Since majority of our data is textual, describe() function is not of much value here due to the lack of numerical information to observe."
      ]
    },
    {
      "cell_type": "markdown",
      "metadata": {
        "id": "PBTbrJXOngz2"
      },
      "source": [
        "### Variables Description "
      ]
    },
    {
      "cell_type": "markdown",
      "metadata": {
        "id": "aJV4KIxSnxay"
      },
      "source": [
        "**The dataset consists of the following attributes:**\n",
        "\n",
        "● **Index**: Entry index.\n",
        "\n",
        "● **FileName**: Destination File name/number.\n",
        "\n",
        "● **Contents**: Complete transcript of the articles, this contains all the textual data present in the destination file for a particular entry.\n",
        "\n",
        "● **Category**: Theme/domain of the article."
      ]
    },
    {
      "cell_type": "markdown",
      "metadata": {
        "id": "u3PMJOP6ngxN"
      },
      "source": [
        "### Check Unique Values for each variable."
      ]
    },
    {
      "cell_type": "code",
      "execution_count": null,
      "metadata": {
        "id": "zms12Yq5n-jE",
        "colab": {
          "base_uri": "https://localhost:8080/"
        },
        "outputId": "dcdf6587-0e92-4566-f013-ab65b1d62e36"
      },
      "outputs": [
        {
          "output_type": "stream",
          "name": "stdout",
          "text": [
            "Unique values in  Filename :  511\n",
            "Unique values in  Contents :  2125\n",
            "Unique values in  Category :  5\n"
          ]
        }
      ],
      "source": [
        "# Check Unique Values for each variable.\n",
        "for i in bbc.columns.tolist():\n",
        "  print(\"Unique values in \",i,\": \",bbc[i].nunique())"
      ]
    },
    {
      "cell_type": "markdown",
      "metadata": {
        "id": "qKKTHuEwioQ_"
      },
      "source": [
        "This information was already imparted using the describe() function."
      ]
    },
    {
      "cell_type": "markdown",
      "metadata": {
        "id": "dauF4eBmngu3"
      },
      "source": [
        "## 3. ***Data Wrangling***"
      ]
    },
    {
      "cell_type": "markdown",
      "metadata": {
        "id": "bKJF3rekwFvQ"
      },
      "source": [
        "### Data Wrangling Code"
      ]
    },
    {
      "cell_type": "code",
      "execution_count": null,
      "metadata": {
        "id": "wk-9a2fpoLcV"
      },
      "outputs": [],
      "source": [
        "# Write your code to make your dataset analysis ready."
      ]
    },
    {
      "cell_type": "markdown",
      "metadata": {
        "id": "NjW5RXOci_B-"
      },
      "source": [
        "We will begin data wrangling by dropping the 99 duplicate entries."
      ]
    },
    {
      "cell_type": "code",
      "execution_count": 11,
      "metadata": {
        "id": "rIMLi1eCi73W"
      },
      "outputs": [],
      "source": [
        "# Dropping duplicate entries\n",
        "bbc = bbc.drop_duplicates(subset=['Contents'], keep='first')"
      ]
    },
    {
      "cell_type": "code",
      "execution_count": 12,
      "metadata": {
        "id": "79GHjaeRjTvq",
        "colab": {
          "base_uri": "https://localhost:8080/",
          "height": 49
        },
        "outputId": "35ea0c77-1906-43a2-d900-3a67a138f55e"
      },
      "outputs": [
        {
          "output_type": "execute_result",
          "data": {
            "text/plain": [
              "Empty DataFrame\n",
              "Columns: [Filename, Contents, Category]\n",
              "Index: []"
            ],
            "text/html": [
              "\n",
              "  <div id=\"df-617fe648-86f8-4c4b-9230-343e83f3ce51\">\n",
              "    <div class=\"colab-df-container\">\n",
              "      <div>\n",
              "<style scoped>\n",
              "    .dataframe tbody tr th:only-of-type {\n",
              "        vertical-align: middle;\n",
              "    }\n",
              "\n",
              "    .dataframe tbody tr th {\n",
              "        vertical-align: top;\n",
              "    }\n",
              "\n",
              "    .dataframe thead th {\n",
              "        text-align: right;\n",
              "    }\n",
              "</style>\n",
              "<table border=\"1\" class=\"dataframe\">\n",
              "  <thead>\n",
              "    <tr style=\"text-align: right;\">\n",
              "      <th></th>\n",
              "      <th>Filename</th>\n",
              "      <th>Contents</th>\n",
              "      <th>Category</th>\n",
              "    </tr>\n",
              "  </thead>\n",
              "  <tbody>\n",
              "  </tbody>\n",
              "</table>\n",
              "</div>\n",
              "      <button class=\"colab-df-convert\" onclick=\"convertToInteractive('df-617fe648-86f8-4c4b-9230-343e83f3ce51')\"\n",
              "              title=\"Convert this dataframe to an interactive table.\"\n",
              "              style=\"display:none;\">\n",
              "        \n",
              "  <svg xmlns=\"http://www.w3.org/2000/svg\" height=\"24px\"viewBox=\"0 0 24 24\"\n",
              "       width=\"24px\">\n",
              "    <path d=\"M0 0h24v24H0V0z\" fill=\"none\"/>\n",
              "    <path d=\"M18.56 5.44l.94 2.06.94-2.06 2.06-.94-2.06-.94-.94-2.06-.94 2.06-2.06.94zm-11 1L8.5 8.5l.94-2.06 2.06-.94-2.06-.94L8.5 2.5l-.94 2.06-2.06.94zm10 10l.94 2.06.94-2.06 2.06-.94-2.06-.94-.94-2.06-.94 2.06-2.06.94z\"/><path d=\"M17.41 7.96l-1.37-1.37c-.4-.4-.92-.59-1.43-.59-.52 0-1.04.2-1.43.59L10.3 9.45l-7.72 7.72c-.78.78-.78 2.05 0 2.83L4 21.41c.39.39.9.59 1.41.59.51 0 1.02-.2 1.41-.59l7.78-7.78 2.81-2.81c.8-.78.8-2.07 0-2.86zM5.41 20L4 18.59l7.72-7.72 1.47 1.35L5.41 20z\"/>\n",
              "  </svg>\n",
              "      </button>\n",
              "      \n",
              "  <style>\n",
              "    .colab-df-container {\n",
              "      display:flex;\n",
              "      flex-wrap:wrap;\n",
              "      gap: 12px;\n",
              "    }\n",
              "\n",
              "    .colab-df-convert {\n",
              "      background-color: #E8F0FE;\n",
              "      border: none;\n",
              "      border-radius: 50%;\n",
              "      cursor: pointer;\n",
              "      display: none;\n",
              "      fill: #1967D2;\n",
              "      height: 32px;\n",
              "      padding: 0 0 0 0;\n",
              "      width: 32px;\n",
              "    }\n",
              "\n",
              "    .colab-df-convert:hover {\n",
              "      background-color: #E2EBFA;\n",
              "      box-shadow: 0px 1px 2px rgba(60, 64, 67, 0.3), 0px 1px 3px 1px rgba(60, 64, 67, 0.15);\n",
              "      fill: #174EA6;\n",
              "    }\n",
              "\n",
              "    [theme=dark] .colab-df-convert {\n",
              "      background-color: #3B4455;\n",
              "      fill: #D2E3FC;\n",
              "    }\n",
              "\n",
              "    [theme=dark] .colab-df-convert:hover {\n",
              "      background-color: #434B5C;\n",
              "      box-shadow: 0px 1px 3px 1px rgba(0, 0, 0, 0.15);\n",
              "      filter: drop-shadow(0px 1px 2px rgba(0, 0, 0, 0.3));\n",
              "      fill: #FFFFFF;\n",
              "    }\n",
              "  </style>\n",
              "\n",
              "      <script>\n",
              "        const buttonEl =\n",
              "          document.querySelector('#df-617fe648-86f8-4c4b-9230-343e83f3ce51 button.colab-df-convert');\n",
              "        buttonEl.style.display =\n",
              "          google.colab.kernel.accessAllowed ? 'block' : 'none';\n",
              "\n",
              "        async function convertToInteractive(key) {\n",
              "          const element = document.querySelector('#df-617fe648-86f8-4c4b-9230-343e83f3ce51');\n",
              "          const dataTable =\n",
              "            await google.colab.kernel.invokeFunction('convertToInteractive',\n",
              "                                                     [key], {});\n",
              "          if (!dataTable) return;\n",
              "\n",
              "          const docLinkHtml = 'Like what you see? Visit the ' +\n",
              "            '<a target=\"_blank\" href=https://colab.research.google.com/notebooks/data_table.ipynb>data table notebook</a>'\n",
              "            + ' to learn more about interactive tables.';\n",
              "          element.innerHTML = '';\n",
              "          dataTable['output_type'] = 'display_data';\n",
              "          await google.colab.output.renderOutput(dataTable, element);\n",
              "          const docLink = document.createElement('div');\n",
              "          docLink.innerHTML = docLinkHtml;\n",
              "          element.appendChild(docLink);\n",
              "        }\n",
              "      </script>\n",
              "    </div>\n",
              "  </div>\n",
              "  "
            ]
          },
          "metadata": {},
          "execution_count": 12
        }
      ],
      "source": [
        "bbc[bbc.duplicated(subset = \"Contents\")]"
      ]
    },
    {
      "cell_type": "code",
      "source": [
        "bbc.shape"
      ],
      "metadata": {
        "colab": {
          "base_uri": "https://localhost:8080/"
        },
        "id": "XDr6pX4iEafq",
        "outputId": "506af9dc-58d6-4ba0-e4cd-4d2cae72ce26"
      },
      "execution_count": 13,
      "outputs": [
        {
          "output_type": "execute_result",
          "data": {
            "text/plain": [
              "(2125, 3)"
            ]
          },
          "metadata": {},
          "execution_count": 13
        }
      ]
    },
    {
      "cell_type": "markdown",
      "metadata": {
        "id": "sV0yshD5VI5M"
      },
      "source": [
        "The Filename feature is an object datatype, but it contains numbers. Hence, we will coonvert it to int64 datatype using pandas to_numeric feature."
      ]
    },
    {
      "cell_type": "code",
      "execution_count": 14,
      "metadata": {
        "id": "rieU1SuiUDbu"
      },
      "outputs": [],
      "source": [
        "# Converting 'Filename' feature to numeric\n",
        "bbc[['Filename']] = bbc[['Filename']].apply(pd.to_numeric)"
      ]
    },
    {
      "cell_type": "code",
      "execution_count": 15,
      "metadata": {
        "id": "E5XBFT0hUW28",
        "colab": {
          "base_uri": "https://localhost:8080/"
        },
        "outputId": "06a32788-7055-49d4-d5d9-a1060052b769"
      },
      "outputs": [
        {
          "output_type": "stream",
          "name": "stdout",
          "text": [
            "<class 'pandas.core.frame.DataFrame'>\n",
            "Int64Index: 2125 entries, 0 to 2223\n",
            "Data columns (total 3 columns):\n",
            " #   Column    Non-Null Count  Dtype \n",
            "---  ------    --------------  ----- \n",
            " 0   Filename  2125 non-null   int64 \n",
            " 1   Contents  2125 non-null   object\n",
            " 2   Category  2125 non-null   object\n",
            "dtypes: int64(1), object(2)\n",
            "memory usage: 66.4+ KB\n"
          ]
        }
      ],
      "source": [
        "bbc.info()"
      ]
    },
    {
      "cell_type": "markdown",
      "metadata": {
        "id": "vE485FAqcHOT"
      },
      "source": [
        "We will remove unwanted characters and punctuations from out 'Contents' feature."
      ]
    },
    {
      "cell_type": "code",
      "execution_count": 16,
      "metadata": {
        "id": "TAeyQmlf0TGj"
      },
      "outputs": [],
      "source": [
        "lm = WordNetLemmatizer()"
      ]
    },
    {
      "cell_type": "code",
      "execution_count": 21,
      "metadata": {
        "id": "czt2ZSIYcIOk"
      },
      "outputs": [],
      "source": [
        "def rem_unwanted(article):\n",
        "    modify = re.sub(\"[^a-zA-Z]\",' ',article) #Keeping only alphabets in our corpus\n",
        "    modify = modify.lower()                  #Coonverting into lower case\n",
        "    return modify"
      ]
    },
    {
      "cell_type": "code",
      "execution_count": 22,
      "metadata": {
        "id": "xtdirxSkcIIj"
      },
      "outputs": [],
      "source": [
        "bbc['Contents'] = bbc['Contents'].apply(rem_unwanted)"
      ]
    },
    {
      "cell_type": "code",
      "execution_count": 23,
      "metadata": {
        "id": "J0KKc0HicHpq",
        "colab": {
          "base_uri": "https://localhost:8080/"
        },
        "outputId": "3cee3b3c-70d3-43f5-d392-ff1437d27eb1"
      },
      "outputs": [
        {
          "output_type": "execute_result",
          "data": {
            "text/plain": [
              "0       ask jeeves tips online ad revival  ask jeeves ...\n",
              "1       peugeot deal boosts mitsubishi  struggling jap...\n",
              "2       air passengers win new eu rights  air passenge...\n",
              "3       court rejects     bn tobacco case  a us govern...\n",
              "4       pernod takeover talk lifts domecq  shares in u...\n",
              "                              ...                        \n",
              "2218    new consoles promise big problems  making game...\n",
              "2219    us cyber security chief resigns  the man makin...\n",
              "2221    sony psp tipped as a  must have   sony s plays...\n",
              "2222    more movies head to sony s psp  movies open wa...\n",
              "2223    local net tv takes off in austria  an austrian...\n",
              "Name: Contents, Length: 2125, dtype: object"
            ]
          },
          "metadata": {},
          "execution_count": 23
        }
      ],
      "source": [
        "bbc['Contents']"
      ]
    },
    {
      "cell_type": "markdown",
      "metadata": {
        "id": "GxIv9CduXHf6"
      },
      "source": [
        "Now, we will resample the dataset and reset the indexes."
      ]
    },
    {
      "cell_type": "code",
      "execution_count": 24,
      "metadata": {
        "id": "aiz_kHKIjide"
      },
      "outputs": [],
      "source": [
        "# Resampling the dataset\n",
        "\n",
        "bbc_df = bbc.sample(bbc.shape[0])\n",
        "bbc_df = bbc_df.reset_index(drop=True)"
      ]
    },
    {
      "cell_type": "code",
      "execution_count": 25,
      "metadata": {
        "id": "mBWaHy7LjiXf",
        "colab": {
          "base_uri": "https://localhost:8080/"
        },
        "outputId": "a02f01b7-c65a-4d04-ea1c-cc792ca9b4ec"
      },
      "outputs": [
        {
          "output_type": "execute_result",
          "data": {
            "text/plain": [
              "(2125, 3)"
            ]
          },
          "metadata": {},
          "execution_count": 25
        }
      ],
      "source": [
        "bbc_df.shape"
      ]
    },
    {
      "cell_type": "code",
      "execution_count": 26,
      "metadata": {
        "id": "Qg3rl36cjiT2",
        "colab": {
          "base_uri": "https://localhost:8080/",
          "height": 423
        },
        "outputId": "a2ffbb99-6757-456e-956f-eb0a7e3b0f54"
      },
      "outputs": [
        {
          "output_type": "execute_result",
          "data": {
            "text/plain": [
              "      Filename                                           Contents  \\\n",
              "0          104  us seeks new     bn smoker ruling  the us just...   \n",
              "1          226  wolves appoint hoddle as manager  glenn hoddle...   \n",
              "2          395  cebit fever takes over hanover  thousands of p...   \n",
              "3           82  labour s  eu propaganda   a  taxpayer subsidis...   \n",
              "4          182  weak data buffets french economy  a batch of d...   \n",
              "...        ...                                                ...   \n",
              "2120       197  fa probes crowd trouble  the fa is to take act...   \n",
              "2121       215  south bank awards honour hit soap  coronation ...   \n",
              "2122        46  blair and blunkett sheffield trip  tony blair ...   \n",
              "2123         6  japan narrowly escapes recession  japan s econ...   \n",
              "2124       211  millions to miss out on the net  by           ...   \n",
              "\n",
              "           Category  \n",
              "0          business  \n",
              "1             sport  \n",
              "2              tech  \n",
              "3          politics  \n",
              "4          business  \n",
              "...             ...  \n",
              "2120          sport  \n",
              "2121  entertainment  \n",
              "2122       politics  \n",
              "2123       business  \n",
              "2124           tech  \n",
              "\n",
              "[2125 rows x 3 columns]"
            ],
            "text/html": [
              "\n",
              "  <div id=\"df-181e5a98-ad7e-4892-bc39-1cf788d85cb8\">\n",
              "    <div class=\"colab-df-container\">\n",
              "      <div>\n",
              "<style scoped>\n",
              "    .dataframe tbody tr th:only-of-type {\n",
              "        vertical-align: middle;\n",
              "    }\n",
              "\n",
              "    .dataframe tbody tr th {\n",
              "        vertical-align: top;\n",
              "    }\n",
              "\n",
              "    .dataframe thead th {\n",
              "        text-align: right;\n",
              "    }\n",
              "</style>\n",
              "<table border=\"1\" class=\"dataframe\">\n",
              "  <thead>\n",
              "    <tr style=\"text-align: right;\">\n",
              "      <th></th>\n",
              "      <th>Filename</th>\n",
              "      <th>Contents</th>\n",
              "      <th>Category</th>\n",
              "    </tr>\n",
              "  </thead>\n",
              "  <tbody>\n",
              "    <tr>\n",
              "      <th>0</th>\n",
              "      <td>104</td>\n",
              "      <td>us seeks new     bn smoker ruling  the us just...</td>\n",
              "      <td>business</td>\n",
              "    </tr>\n",
              "    <tr>\n",
              "      <th>1</th>\n",
              "      <td>226</td>\n",
              "      <td>wolves appoint hoddle as manager  glenn hoddle...</td>\n",
              "      <td>sport</td>\n",
              "    </tr>\n",
              "    <tr>\n",
              "      <th>2</th>\n",
              "      <td>395</td>\n",
              "      <td>cebit fever takes over hanover  thousands of p...</td>\n",
              "      <td>tech</td>\n",
              "    </tr>\n",
              "    <tr>\n",
              "      <th>3</th>\n",
              "      <td>82</td>\n",
              "      <td>labour s  eu propaganda   a  taxpayer subsidis...</td>\n",
              "      <td>politics</td>\n",
              "    </tr>\n",
              "    <tr>\n",
              "      <th>4</th>\n",
              "      <td>182</td>\n",
              "      <td>weak data buffets french economy  a batch of d...</td>\n",
              "      <td>business</td>\n",
              "    </tr>\n",
              "    <tr>\n",
              "      <th>...</th>\n",
              "      <td>...</td>\n",
              "      <td>...</td>\n",
              "      <td>...</td>\n",
              "    </tr>\n",
              "    <tr>\n",
              "      <th>2120</th>\n",
              "      <td>197</td>\n",
              "      <td>fa probes crowd trouble  the fa is to take act...</td>\n",
              "      <td>sport</td>\n",
              "    </tr>\n",
              "    <tr>\n",
              "      <th>2121</th>\n",
              "      <td>215</td>\n",
              "      <td>south bank awards honour hit soap  coronation ...</td>\n",
              "      <td>entertainment</td>\n",
              "    </tr>\n",
              "    <tr>\n",
              "      <th>2122</th>\n",
              "      <td>46</td>\n",
              "      <td>blair and blunkett sheffield trip  tony blair ...</td>\n",
              "      <td>politics</td>\n",
              "    </tr>\n",
              "    <tr>\n",
              "      <th>2123</th>\n",
              "      <td>6</td>\n",
              "      <td>japan narrowly escapes recession  japan s econ...</td>\n",
              "      <td>business</td>\n",
              "    </tr>\n",
              "    <tr>\n",
              "      <th>2124</th>\n",
              "      <td>211</td>\n",
              "      <td>millions to miss out on the net  by           ...</td>\n",
              "      <td>tech</td>\n",
              "    </tr>\n",
              "  </tbody>\n",
              "</table>\n",
              "<p>2125 rows × 3 columns</p>\n",
              "</div>\n",
              "      <button class=\"colab-df-convert\" onclick=\"convertToInteractive('df-181e5a98-ad7e-4892-bc39-1cf788d85cb8')\"\n",
              "              title=\"Convert this dataframe to an interactive table.\"\n",
              "              style=\"display:none;\">\n",
              "        \n",
              "  <svg xmlns=\"http://www.w3.org/2000/svg\" height=\"24px\"viewBox=\"0 0 24 24\"\n",
              "       width=\"24px\">\n",
              "    <path d=\"M0 0h24v24H0V0z\" fill=\"none\"/>\n",
              "    <path d=\"M18.56 5.44l.94 2.06.94-2.06 2.06-.94-2.06-.94-.94-2.06-.94 2.06-2.06.94zm-11 1L8.5 8.5l.94-2.06 2.06-.94-2.06-.94L8.5 2.5l-.94 2.06-2.06.94zm10 10l.94 2.06.94-2.06 2.06-.94-2.06-.94-.94-2.06-.94 2.06-2.06.94z\"/><path d=\"M17.41 7.96l-1.37-1.37c-.4-.4-.92-.59-1.43-.59-.52 0-1.04.2-1.43.59L10.3 9.45l-7.72 7.72c-.78.78-.78 2.05 0 2.83L4 21.41c.39.39.9.59 1.41.59.51 0 1.02-.2 1.41-.59l7.78-7.78 2.81-2.81c.8-.78.8-2.07 0-2.86zM5.41 20L4 18.59l7.72-7.72 1.47 1.35L5.41 20z\"/>\n",
              "  </svg>\n",
              "      </button>\n",
              "      \n",
              "  <style>\n",
              "    .colab-df-container {\n",
              "      display:flex;\n",
              "      flex-wrap:wrap;\n",
              "      gap: 12px;\n",
              "    }\n",
              "\n",
              "    .colab-df-convert {\n",
              "      background-color: #E8F0FE;\n",
              "      border: none;\n",
              "      border-radius: 50%;\n",
              "      cursor: pointer;\n",
              "      display: none;\n",
              "      fill: #1967D2;\n",
              "      height: 32px;\n",
              "      padding: 0 0 0 0;\n",
              "      width: 32px;\n",
              "    }\n",
              "\n",
              "    .colab-df-convert:hover {\n",
              "      background-color: #E2EBFA;\n",
              "      box-shadow: 0px 1px 2px rgba(60, 64, 67, 0.3), 0px 1px 3px 1px rgba(60, 64, 67, 0.15);\n",
              "      fill: #174EA6;\n",
              "    }\n",
              "\n",
              "    [theme=dark] .colab-df-convert {\n",
              "      background-color: #3B4455;\n",
              "      fill: #D2E3FC;\n",
              "    }\n",
              "\n",
              "    [theme=dark] .colab-df-convert:hover {\n",
              "      background-color: #434B5C;\n",
              "      box-shadow: 0px 1px 3px 1px rgba(0, 0, 0, 0.15);\n",
              "      filter: drop-shadow(0px 1px 2px rgba(0, 0, 0, 0.3));\n",
              "      fill: #FFFFFF;\n",
              "    }\n",
              "  </style>\n",
              "\n",
              "      <script>\n",
              "        const buttonEl =\n",
              "          document.querySelector('#df-181e5a98-ad7e-4892-bc39-1cf788d85cb8 button.colab-df-convert');\n",
              "        buttonEl.style.display =\n",
              "          google.colab.kernel.accessAllowed ? 'block' : 'none';\n",
              "\n",
              "        async function convertToInteractive(key) {\n",
              "          const element = document.querySelector('#df-181e5a98-ad7e-4892-bc39-1cf788d85cb8');\n",
              "          const dataTable =\n",
              "            await google.colab.kernel.invokeFunction('convertToInteractive',\n",
              "                                                     [key], {});\n",
              "          if (!dataTable) return;\n",
              "\n",
              "          const docLinkHtml = 'Like what you see? Visit the ' +\n",
              "            '<a target=\"_blank\" href=https://colab.research.google.com/notebooks/data_table.ipynb>data table notebook</a>'\n",
              "            + ' to learn more about interactive tables.';\n",
              "          element.innerHTML = '';\n",
              "          dataTable['output_type'] = 'display_data';\n",
              "          await google.colab.output.renderOutput(dataTable, element);\n",
              "          const docLink = document.createElement('div');\n",
              "          docLink.innerHTML = docLinkHtml;\n",
              "          element.appendChild(docLink);\n",
              "        }\n",
              "      </script>\n",
              "    </div>\n",
              "  </div>\n",
              "  "
            ]
          },
          "metadata": {},
          "execution_count": 26
        }
      ],
      "source": [
        "bbc_df"
      ]
    },
    {
      "cell_type": "markdown",
      "metadata": {
        "id": "xVT9dsANSSxJ"
      },
      "source": [
        "Let us create a new feature consisting of the length individual of articles."
      ]
    },
    {
      "cell_type": "code",
      "execution_count": 27,
      "metadata": {
        "id": "skZWPSiRSOsa",
        "colab": {
          "base_uri": "https://localhost:8080/",
          "height": 206
        },
        "outputId": "171b9029-9909-4b86-e7bc-07f8aeae4818"
      },
      "outputs": [
        {
          "output_type": "execute_result",
          "data": {
            "text/plain": [
              "   Filename                                           Contents  Category  \\\n",
              "0       104  us seeks new     bn smoker ruling  the us just...  business   \n",
              "1       226  wolves appoint hoddle as manager  glenn hoddle...     sport   \n",
              "2       395  cebit fever takes over hanover  thousands of p...      tech   \n",
              "3        82  labour s  eu propaganda   a  taxpayer subsidis...  politics   \n",
              "4       182  weak data buffets french economy  a batch of d...  business   \n",
              "\n",
              "   News_length  \n",
              "0         2293  \n",
              "1         1398  \n",
              "2         4914  \n",
              "3         3103  \n",
              "4         1621  "
            ],
            "text/html": [
              "\n",
              "  <div id=\"df-031bf0a0-1b1f-4663-a059-02e3c4b86282\">\n",
              "    <div class=\"colab-df-container\">\n",
              "      <div>\n",
              "<style scoped>\n",
              "    .dataframe tbody tr th:only-of-type {\n",
              "        vertical-align: middle;\n",
              "    }\n",
              "\n",
              "    .dataframe tbody tr th {\n",
              "        vertical-align: top;\n",
              "    }\n",
              "\n",
              "    .dataframe thead th {\n",
              "        text-align: right;\n",
              "    }\n",
              "</style>\n",
              "<table border=\"1\" class=\"dataframe\">\n",
              "  <thead>\n",
              "    <tr style=\"text-align: right;\">\n",
              "      <th></th>\n",
              "      <th>Filename</th>\n",
              "      <th>Contents</th>\n",
              "      <th>Category</th>\n",
              "      <th>News_length</th>\n",
              "    </tr>\n",
              "  </thead>\n",
              "  <tbody>\n",
              "    <tr>\n",
              "      <th>0</th>\n",
              "      <td>104</td>\n",
              "      <td>us seeks new     bn smoker ruling  the us just...</td>\n",
              "      <td>business</td>\n",
              "      <td>2293</td>\n",
              "    </tr>\n",
              "    <tr>\n",
              "      <th>1</th>\n",
              "      <td>226</td>\n",
              "      <td>wolves appoint hoddle as manager  glenn hoddle...</td>\n",
              "      <td>sport</td>\n",
              "      <td>1398</td>\n",
              "    </tr>\n",
              "    <tr>\n",
              "      <th>2</th>\n",
              "      <td>395</td>\n",
              "      <td>cebit fever takes over hanover  thousands of p...</td>\n",
              "      <td>tech</td>\n",
              "      <td>4914</td>\n",
              "    </tr>\n",
              "    <tr>\n",
              "      <th>3</th>\n",
              "      <td>82</td>\n",
              "      <td>labour s  eu propaganda   a  taxpayer subsidis...</td>\n",
              "      <td>politics</td>\n",
              "      <td>3103</td>\n",
              "    </tr>\n",
              "    <tr>\n",
              "      <th>4</th>\n",
              "      <td>182</td>\n",
              "      <td>weak data buffets french economy  a batch of d...</td>\n",
              "      <td>business</td>\n",
              "      <td>1621</td>\n",
              "    </tr>\n",
              "  </tbody>\n",
              "</table>\n",
              "</div>\n",
              "      <button class=\"colab-df-convert\" onclick=\"convertToInteractive('df-031bf0a0-1b1f-4663-a059-02e3c4b86282')\"\n",
              "              title=\"Convert this dataframe to an interactive table.\"\n",
              "              style=\"display:none;\">\n",
              "        \n",
              "  <svg xmlns=\"http://www.w3.org/2000/svg\" height=\"24px\"viewBox=\"0 0 24 24\"\n",
              "       width=\"24px\">\n",
              "    <path d=\"M0 0h24v24H0V0z\" fill=\"none\"/>\n",
              "    <path d=\"M18.56 5.44l.94 2.06.94-2.06 2.06-.94-2.06-.94-.94-2.06-.94 2.06-2.06.94zm-11 1L8.5 8.5l.94-2.06 2.06-.94-2.06-.94L8.5 2.5l-.94 2.06-2.06.94zm10 10l.94 2.06.94-2.06 2.06-.94-2.06-.94-.94-2.06-.94 2.06-2.06.94z\"/><path d=\"M17.41 7.96l-1.37-1.37c-.4-.4-.92-.59-1.43-.59-.52 0-1.04.2-1.43.59L10.3 9.45l-7.72 7.72c-.78.78-.78 2.05 0 2.83L4 21.41c.39.39.9.59 1.41.59.51 0 1.02-.2 1.41-.59l7.78-7.78 2.81-2.81c.8-.78.8-2.07 0-2.86zM5.41 20L4 18.59l7.72-7.72 1.47 1.35L5.41 20z\"/>\n",
              "  </svg>\n",
              "      </button>\n",
              "      \n",
              "  <style>\n",
              "    .colab-df-container {\n",
              "      display:flex;\n",
              "      flex-wrap:wrap;\n",
              "      gap: 12px;\n",
              "    }\n",
              "\n",
              "    .colab-df-convert {\n",
              "      background-color: #E8F0FE;\n",
              "      border: none;\n",
              "      border-radius: 50%;\n",
              "      cursor: pointer;\n",
              "      display: none;\n",
              "      fill: #1967D2;\n",
              "      height: 32px;\n",
              "      padding: 0 0 0 0;\n",
              "      width: 32px;\n",
              "    }\n",
              "\n",
              "    .colab-df-convert:hover {\n",
              "      background-color: #E2EBFA;\n",
              "      box-shadow: 0px 1px 2px rgba(60, 64, 67, 0.3), 0px 1px 3px 1px rgba(60, 64, 67, 0.15);\n",
              "      fill: #174EA6;\n",
              "    }\n",
              "\n",
              "    [theme=dark] .colab-df-convert {\n",
              "      background-color: #3B4455;\n",
              "      fill: #D2E3FC;\n",
              "    }\n",
              "\n",
              "    [theme=dark] .colab-df-convert:hover {\n",
              "      background-color: #434B5C;\n",
              "      box-shadow: 0px 1px 3px 1px rgba(0, 0, 0, 0.15);\n",
              "      filter: drop-shadow(0px 1px 2px rgba(0, 0, 0, 0.3));\n",
              "      fill: #FFFFFF;\n",
              "    }\n",
              "  </style>\n",
              "\n",
              "      <script>\n",
              "        const buttonEl =\n",
              "          document.querySelector('#df-031bf0a0-1b1f-4663-a059-02e3c4b86282 button.colab-df-convert');\n",
              "        buttonEl.style.display =\n",
              "          google.colab.kernel.accessAllowed ? 'block' : 'none';\n",
              "\n",
              "        async function convertToInteractive(key) {\n",
              "          const element = document.querySelector('#df-031bf0a0-1b1f-4663-a059-02e3c4b86282');\n",
              "          const dataTable =\n",
              "            await google.colab.kernel.invokeFunction('convertToInteractive',\n",
              "                                                     [key], {});\n",
              "          if (!dataTable) return;\n",
              "\n",
              "          const docLinkHtml = 'Like what you see? Visit the ' +\n",
              "            '<a target=\"_blank\" href=https://colab.research.google.com/notebooks/data_table.ipynb>data table notebook</a>'\n",
              "            + ' to learn more about interactive tables.';\n",
              "          element.innerHTML = '';\n",
              "          dataTable['output_type'] = 'display_data';\n",
              "          await google.colab.output.renderOutput(dataTable, element);\n",
              "          const docLink = document.createElement('div');\n",
              "          docLink.innerHTML = docLinkHtml;\n",
              "          element.appendChild(docLink);\n",
              "        }\n",
              "      </script>\n",
              "    </div>\n",
              "  </div>\n",
              "  "
            ]
          },
          "metadata": {},
          "execution_count": 27
        }
      ],
      "source": [
        "bbc_df['News_length'] = bbc_df['Contents'].str.len()\n",
        "bbc_df.head()"
      ]
    },
    {
      "cell_type": "markdown",
      "metadata": {
        "id": "MSa1f5Uengrz"
      },
      "source": [
        "### What all manipulations have you done and insights you found?"
      ]
    },
    {
      "cell_type": "markdown",
      "metadata": {
        "id": "LbyXE7I1olp8"
      },
      "source": [
        "There were 99 duplicate entries in our BBC dataset. We first dropped the duplicate entries from the 'Contents' feature preserving the first occurances.\n",
        "\n",
        "Next, we had observed that all the features were object datatypes. Hence, we converted the Filename feature to int64 dtype.\n",
        "\n",
        "Then we defined a function that removes unwanted characters from our CONTENTS feature and then converts all textual data to lowercase, and then applied the defined function to all entries in out dataset.\n",
        "\n",
        "Once the duplicate entries were dropped, we could observe that the index column was not properly distributed. Hence, we resampled the BBC dataset by resetting index and sampling it into a new dataframe called 'bbc_df'.\n",
        "\n",
        "Finally, we created a new feature called 'News_length' that consists of length of all individual articles."
      ]
    },
    {
      "cell_type": "markdown",
      "metadata": {
        "id": "GF8Ens_Soomf"
      },
      "source": [
        "## ***4. Data Vizualization, Storytelling & Experimenting with charts : Understand the relationships between variables***"
      ]
    },
    {
      "cell_type": "markdown",
      "metadata": {
        "id": "0wOQAZs5pc--"
      },
      "source": [
        "#### Chart - 1\n",
        "\n",
        "Understanding category distribution."
      ]
    },
    {
      "cell_type": "markdown",
      "metadata": {
        "id": "IoF2gEmjr5Ai"
      },
      "source": [
        "Now, lets see how many articles are there across all 5 categories."
      ]
    },
    {
      "cell_type": "code",
      "execution_count": 28,
      "metadata": {
        "id": "-65W-Sa2r3Ab",
        "colab": {
          "base_uri": "https://localhost:8080/"
        },
        "outputId": "fa42296f-6f83-481d-f6be-03b34fe1a57e"
      },
      "outputs": [
        {
          "output_type": "execute_result",
          "data": {
            "text/plain": [
              "Category\n",
              "business         503\n",
              "entertainment    369\n",
              "politics         403\n",
              "sport            503\n",
              "tech             347\n",
              "Name: Category, dtype: int64"
            ]
          },
          "metadata": {},
          "execution_count": 28
        }
      ],
      "source": [
        "# Grouping rows based on categories and counting the number of entries\n",
        "df = bbc_df.groupby(['Category'])['Category'].count()\n",
        "df"
      ]
    },
    {
      "cell_type": "code",
      "execution_count": 29,
      "metadata": {
        "id": "7v_ESjsspbW7",
        "colab": {
          "base_uri": "https://localhost:8080/",
          "height": 554
        },
        "outputId": "0a9175f2-26b8-4d7b-e09a-63f6f7176bde"
      },
      "outputs": [
        {
          "output_type": "display_data",
          "data": {
            "text/plain": [
              "<Figure size 800x500 with 1 Axes>"
            ],
            "image/png": "[encoded data removed]"
          },
          "metadata": {}
        }
      ],
      "source": [
        "# Chart - 1 visualization code\n",
        "\n",
        "# Plotting a bar graph to represent all the categories and number of articles in each \n",
        "ax = df.plot(x = \"Category\", kind = \"bar\", \n",
        "        figsize=(8,5), grid = True,\n",
        "        xlabel = \"Categories\",\n",
        "        ylabel = \"Number of Articles\",\n",
        "        width = 0.6, title = 'Articles per category',\n",
        "        rot = 45)\n",
        "\n",
        "plt.show()"
      ]
    },
    {
      "cell_type": "markdown",
      "metadata": {
        "id": "K5QZ13OEpz2H"
      },
      "source": [
        "##### 1. Why did you pick the specific chart?"
      ]
    },
    {
      "cell_type": "markdown",
      "metadata": {
        "id": "XESiWehPqBRc"
      },
      "source": [
        "We picked the bar chart to check the distribution of articles in percentage through individual categories."
      ]
    },
    {
      "cell_type": "markdown",
      "metadata": {
        "id": "lQ7QKXXCp7Bj"
      },
      "source": [
        "##### 2. What is/are the insight(s) found from the chart?"
      ]
    },
    {
      "cell_type": "markdown",
      "metadata": {
        "id": "C_j1G7yiqdRP"
      },
      "source": [
        "There are more articles in 'Sports' and 'business' categories and less articles in 'tech' and ' entertainment', whereas 'politics' category has average number of articles."
      ]
    },
    {
      "cell_type": "markdown",
      "metadata": {
        "id": "448CDAPjqfQr"
      },
      "source": [
        "##### 3. Will the gained insights help creating a positive business impact? \n",
        "Are there any insights that lead to negative growth? Justify with specific reason."
      ]
    },
    {
      "cell_type": "markdown",
      "metadata": {
        "id": "3cspy4FjqxJW"
      },
      "source": [
        "Yes, we now know that BBC has more aricles in certain cateories whereas less number of articles in other categories."
      ]
    },
    {
      "cell_type": "markdown",
      "metadata": {
        "id": "KSlN3yHqYklG"
      },
      "source": [
        "#### Chart - 2\n",
        "\n",
        "Observing the length of Articles."
      ]
    },
    {
      "cell_type": "markdown",
      "metadata": {
        "id": "_ahr0kWDYhvF"
      },
      "source": [
        "We will plot a distribution plot to observe the frequency distribution of article lengths across our bbc_df dataframe."
      ]
    },
    {
      "cell_type": "code",
      "source": [
        "# Chart - 2 visualization code\n",
        "\n",
        "doc_lens = [d for d in bbc_df['News_length']]\n",
        "\n",
        "# Plot\n",
        "plt.figure(figsize=(7,4), dpi=160)\n",
        "plt.hist(doc_lens, bins = 1000)\n",
        "plt.text(10000, 30, \"Mean   : \" + str(round(np.mean(doc_lens))))\n",
        "plt.text(10000, 25, \"Median : \" + str(round(np.median(doc_lens))))\n",
        "plt.text(10000, 20, \"Stdev   : \" + str(round(np.std(doc_lens))))\n",
        "plt.text(10000, 15, \"15%ile    : \" + str(round(np.quantile(doc_lens, q=0.1))))\n",
        "plt.text(10000, 10, \"75%ile  : \" + str(round(np.quantile(doc_lens, q=0.75))))\n",
        "\n",
        "plt.gca().set(ylabel='Number of Documents', xlabel='Document Word Count')\n",
        "plt.tick_params(size=16)\n",
        "plt.title('Distribution of Document Word Counts', fontdict=dict(size=22))\n",
        "plt.show()"
      ],
      "metadata": {
        "colab": {
          "base_uri": "https://localhost:8080/",
          "height": 685
        },
        "id": "5f5MVXoPeeXX",
        "outputId": "e2a963e2-d240-45e9-b7f2-122c0b232af7"
      },
      "execution_count": 33,
      "outputs": [
        {
          "output_type": "display_data",
          "data": {
            "text/plain": [
              "<Figure size 1120x640 with 1 Axes>"
            ],
            "image/png": "[encoded data removed]"
          },
          "metadata": {}
        }
      ]
    },
    {
      "cell_type": "markdown",
      "metadata": {
        "id": "IfRxMP96ZCUZ"
      },
      "source": [
        "Most of the articles have lengths close to 1000-3000. However, some articles have word counts over 3000 as well. \n",
        "\n",
        "Let's check how many articles have such a higher lengths in our dataset."
      ]
    },
    {
      "cell_type": "code",
      "execution_count": 34,
      "metadata": {
        "id": "WHOOZrGBZOks",
        "colab": {
          "base_uri": "https://localhost:8080/"
        },
        "outputId": "18664624-d15c-4019-a230-71f09eef2b09"
      },
      "outputs": [
        {
          "output_type": "stream",
          "name": "stdout",
          "text": [
            "Number of articles having length less than 3000: 1703\n",
            "Number of articles having length greater than 3000: 421\n"
          ]
        }
      ],
      "source": [
        "print(\"Number of articles having length less than 3000: {}\".format((bbc_df['News_length'] < 3000).sum()))\n",
        "print(\"Number of articles having length greater than 3000: {}\".format((bbc_df['News_length'] > 3000).sum()))"
      ]
    },
    {
      "cell_type": "markdown",
      "metadata": {
        "id": "t6dVpIINYklI"
      },
      "source": [
        "##### 1. Why did you pick the specific chart?"
      ]
    },
    {
      "cell_type": "markdown",
      "metadata": {
        "id": "5aaW0BYyYklI"
      },
      "source": [
        "We chose a distplot to observe the distribution of article lengths across our dataset. "
      ]
    },
    {
      "cell_type": "markdown",
      "metadata": {
        "id": "ijmpgYnKYklI"
      },
      "source": [
        "##### 2. What is/are the insight(s) found from the chart?"
      ]
    },
    {
      "cell_type": "markdown",
      "metadata": {
        "id": "PSx9atu2YklI"
      },
      "source": [
        "We found that most of the articles have lengths of around 300 to 3000 characters. We will use a kdeplot to further explore the distribution."
      ]
    },
    {
      "cell_type": "markdown",
      "metadata": {
        "id": "-JiQyfWJYklI"
      },
      "source": [
        "##### 3. Will the gained insights help creating a positive business impact? \n",
        "Are there any insights that lead to negative growth? Justify with specific reason."
      ]
    },
    {
      "cell_type": "markdown",
      "metadata": {
        "id": "BcBbebzrYklV"
      },
      "source": [
        "Yes, we now know that most of the articles have moderate lengths, and only a few articles have extremely low and high lengths."
      ]
    },
    {
      "cell_type": "markdown",
      "metadata": {
        "id": "EM7whBJCYoAo"
      },
      "source": [
        "#### Chart - 3\n",
        "\n",
        "Distribution wrt categories"
      ]
    },
    {
      "cell_type": "code",
      "execution_count": 35,
      "metadata": {
        "id": "t6GMdE67YoAp",
        "colab": {
          "base_uri": "https://localhost:8080/",
          "height": 472
        },
        "outputId": "9b8521e8-68ca-4c33-bfef-ecf89ee7fb02"
      },
      "outputs": [
        {
          "output_type": "display_data",
          "data": {
            "text/plain": [
              "<Figure size 640x480 with 1 Axes>"
            ],
            "image/png": "[encoded data removed]"
          },
          "metadata": {}
        }
      ],
      "source": [
        "# Chart - 3 visualization code\n",
        "plt.figure()\n",
        "sns.kdeplot(x= bbc_df['News_length'],data = bbc_df, hue = 'Category').set_title('News length distribution')\n",
        "plt.show()"
      ]
    },
    {
      "cell_type": "markdown",
      "metadata": {
        "id": "fge-S5ZAYoAp"
      },
      "source": [
        "##### 1. Why did you pick the specific chart?"
      ]
    },
    {
      "cell_type": "markdown",
      "metadata": {
        "id": "5dBItgRVYoAp"
      },
      "source": [
        "To observe the approximate length distributions of each categories."
      ]
    },
    {
      "cell_type": "markdown",
      "metadata": {
        "id": "85gYPyotYoAp"
      },
      "source": [
        "##### 2. What is/are the insight(s) found from the chart?"
      ]
    },
    {
      "cell_type": "markdown",
      "metadata": {
        "id": "4jstXR6OYoAp"
      },
      "source": [
        "The categories with highest lengths in descending order is as follows:\n",
        "1. Sport\n",
        "2. Business\n",
        "3. Entertainment\n",
        "4. Politics\n",
        "5. Tech"
      ]
    },
    {
      "cell_type": "markdown",
      "metadata": {
        "id": "RoGjAbkUYoAp"
      },
      "source": [
        "##### 3. Will the gained insights help creating a positive business impact? \n",
        "Are there any insights that lead to negative growth? Justify with specific reason."
      ]
    },
    {
      "cell_type": "markdown",
      "metadata": {
        "id": "zfJ8IqMcYoAp"
      },
      "source": [
        "Yes. We can observe that there is a distinct difference in the distribution of lengths of articles in different categories. Hence, this can be a strong  "
      ]
    },
    {
      "cell_type": "markdown",
      "metadata": {
        "id": "NC_X3p0fY2L0"
      },
      "source": [
        "#### Chart - 14 - Correlation Heatmap"
      ]
    },
    {
      "cell_type": "code",
      "execution_count": null,
      "metadata": {
        "id": "xyC9zolEZNRQ",
        "colab": {
          "base_uri": "https://localhost:8080/",
          "height": 625
        },
        "outputId": "56cd5420-5151-4750-a64c-699fe7f320aa"
      },
      "outputs": [
        {
          "output_type": "display_data",
          "data": {
            "text/plain": [
              "<Figure size 2000x800 with 2 Axes>"
            ],
            "image/png": "[encoded data removed]"
          },
          "metadata": {}
        }
      ],
      "source": [
        "# Correlation Heatmap visualization code\n",
        "\n",
        "# Checking for multi-collinearity\n",
        "correlation = bbc_df.corr()\n",
        "\n",
        "plt.figure(figsize=[20, 8])\n",
        "sns.heatmap(correlation, cmap='viridis', annot=True, annot_kws={'fontsize': 10})\n",
        "plt.show()"
      ]
    },
    {
      "cell_type": "markdown",
      "metadata": {
        "id": "UV0SzAkaZNRQ"
      },
      "source": [
        "##### 1. Why did you pick the specific chart?"
      ]
    },
    {
      "cell_type": "markdown",
      "metadata": {
        "id": "DVPuT8LYZNRQ"
      },
      "source": [
        "Answer Here."
      ]
    },
    {
      "cell_type": "markdown",
      "metadata": {
        "id": "YPEH6qLeZNRQ"
      },
      "source": [
        "##### 2. What is/are the insight(s) found from the chart?"
      ]
    },
    {
      "cell_type": "markdown",
      "metadata": {
        "id": "bfSqtnDqZNRR"
      },
      "source": [
        "Answer Here"
      ]
    },
    {
      "cell_type": "markdown",
      "metadata": {
        "id": "q29F0dvdveiT"
      },
      "source": [
        "#### Chart - 15 - Pair Plot "
      ]
    },
    {
      "cell_type": "code",
      "execution_count": null,
      "metadata": {
        "id": "o58-TEIhveiU"
      },
      "outputs": [],
      "source": [
        "# Pair Plot visualization code"
      ]
    },
    {
      "cell_type": "markdown",
      "metadata": {
        "id": "EXh0U9oCveiU"
      },
      "source": [
        "##### 1. Why did you pick the specific chart?"
      ]
    },
    {
      "cell_type": "markdown",
      "metadata": {
        "id": "eMmPjTByveiU"
      },
      "source": [
        "Answer Here."
      ]
    },
    {
      "cell_type": "markdown",
      "metadata": {
        "id": "22aHeOlLveiV"
      },
      "source": [
        "##### 2. What is/are the insight(s) found from the chart?"
      ]
    },
    {
      "cell_type": "markdown",
      "metadata": {
        "id": "uPQ8RGwHveiV"
      },
      "source": [
        "Answer Here"
      ]
    },
    {
      "cell_type": "markdown",
      "metadata": {
        "id": "g-ATYxFrGrvw"
      },
      "source": [
        "## ***5. Hypothesis Testing***"
      ]
    },
    {
      "cell_type": "markdown",
      "metadata": {
        "id": "Yfr_Vlr8HBkt"
      },
      "source": [
        "### Based on your chart experiments, define three hypothetical statements from the dataset. In the next three questions, perform hypothesis testing to obtain final conclusion about the statements through your code and statistical testing."
      ]
    },
    {
      "cell_type": "markdown",
      "metadata": {
        "id": "-7MS06SUHkB-"
      },
      "source": [
        "Answer Here."
      ]
    },
    {
      "cell_type": "markdown",
      "metadata": {
        "id": "8yEUt7NnHlrM"
      },
      "source": [
        "### Hypothetical Statement - 1"
      ]
    },
    {
      "cell_type": "markdown",
      "metadata": {
        "id": "tEA2Xm5dHt1r"
      },
      "source": [
        "#### 1. State Your research hypothesis as a null hypothesis and alternate hypothesis."
      ]
    },
    {
      "cell_type": "markdown",
      "metadata": {
        "id": "HI9ZP0laH0D-"
      },
      "source": [
        "Answer Here."
      ]
    },
    {
      "cell_type": "markdown",
      "metadata": {
        "id": "I79__PHVH19G"
      },
      "source": [
        "#### 2. Perform an appropriate statistical test."
      ]
    },
    {
      "cell_type": "code",
      "execution_count": null,
      "metadata": {
        "id": "oZrfquKtyian"
      },
      "outputs": [],
      "source": [
        "# Perform Statistical Test to obtain P-Value"
      ]
    },
    {
      "cell_type": "markdown",
      "metadata": {
        "id": "Ou-I18pAyIpj"
      },
      "source": [
        "##### Which statistical test have you done to obtain P-Value?"
      ]
    },
    {
      "cell_type": "markdown",
      "metadata": {
        "id": "s2U0kk00ygSB"
      },
      "source": [
        "Answer Here."
      ]
    },
    {
      "cell_type": "markdown",
      "metadata": {
        "id": "fF3858GYyt-u"
      },
      "source": [
        "##### Why did you choose the specific statistical test?"
      ]
    },
    {
      "cell_type": "markdown",
      "metadata": {
        "id": "HO4K0gP5y3B4"
      },
      "source": [
        "Answer Here."
      ]
    },
    {
      "cell_type": "markdown",
      "metadata": {
        "id": "4_0_7-oCpUZd"
      },
      "source": [
        "### Hypothetical Statement - 2"
      ]
    },
    {
      "cell_type": "markdown",
      "metadata": {
        "id": "hwyV_J3ipUZe"
      },
      "source": [
        "#### 1. State Your research hypothesis as a null hypothesis and alternate hypothesis."
      ]
    },
    {
      "cell_type": "markdown",
      "metadata": {
        "id": "FnpLGJ-4pUZe"
      },
      "source": [
        "Answer Here."
      ]
    },
    {
      "cell_type": "markdown",
      "metadata": {
        "id": "3yB-zSqbpUZe"
      },
      "source": [
        "#### 2. Perform an appropriate statistical test."
      ]
    },
    {
      "cell_type": "code",
      "execution_count": null,
      "metadata": {
        "id": "sWxdNTXNpUZe"
      },
      "outputs": [],
      "source": [
        "# Perform Statistical Test to obtain P-Value"
      ]
    },
    {
      "cell_type": "markdown",
      "metadata": {
        "id": "dEUvejAfpUZe"
      },
      "source": [
        "##### Which statistical test have you done to obtain P-Value?"
      ]
    },
    {
      "cell_type": "markdown",
      "metadata": {
        "id": "oLDrPz7HpUZf"
      },
      "source": [
        "Answer Here."
      ]
    },
    {
      "cell_type": "markdown",
      "metadata": {
        "id": "Fd15vwWVpUZf"
      },
      "source": [
        "##### Why did you choose the specific statistical test?"
      ]
    },
    {
      "cell_type": "markdown",
      "metadata": {
        "id": "4xOGYyiBpUZf"
      },
      "source": [
        "Answer Here."
      ]
    },
    {
      "cell_type": "markdown",
      "metadata": {
        "id": "bn_IUdTipZyH"
      },
      "source": [
        "### Hypothetical Statement - 3"
      ]
    },
    {
      "cell_type": "markdown",
      "metadata": {
        "id": "49K5P_iCpZyH"
      },
      "source": [
        "#### 1. State Your research hypothesis as a null hypothesis and alternate hypothesis."
      ]
    },
    {
      "cell_type": "markdown",
      "metadata": {
        "id": "7gWI5rT9pZyH"
      },
      "source": [
        "Answer Here."
      ]
    },
    {
      "cell_type": "markdown",
      "metadata": {
        "id": "Nff-vKELpZyI"
      },
      "source": [
        "#### 2. Perform an appropriate statistical test."
      ]
    },
    {
      "cell_type": "code",
      "execution_count": null,
      "metadata": {
        "id": "s6AnJQjtpZyI"
      },
      "outputs": [],
      "source": [
        "# Perform Statistical Test to obtain P-Value"
      ]
    },
    {
      "cell_type": "markdown",
      "metadata": {
        "id": "kLW572S8pZyI"
      },
      "source": [
        "##### Which statistical test have you done to obtain P-Value?"
      ]
    },
    {
      "cell_type": "markdown",
      "metadata": {
        "id": "ytWJ8v15pZyI"
      },
      "source": [
        "Answer Here."
      ]
    },
    {
      "cell_type": "markdown",
      "metadata": {
        "id": "dWbDXHzopZyI"
      },
      "source": [
        "##### Why did you choose the specific statistical test?"
      ]
    },
    {
      "cell_type": "markdown",
      "metadata": {
        "id": "M99G98V6pZyI"
      },
      "source": [
        "Answer Here."
      ]
    },
    {
      "cell_type": "markdown",
      "metadata": {
        "id": "yLjJCtPM0KBk"
      },
      "source": [
        "## ***6. Feature Engineering & Data Pre-processing***"
      ]
    },
    {
      "cell_type": "markdown",
      "metadata": {
        "id": "xiyOF9F70UgQ"
      },
      "source": [
        "### 1. Handling Missing Values"
      ]
    },
    {
      "cell_type": "code",
      "execution_count": 36,
      "metadata": {
        "id": "iRsAHk1K0fpS",
        "colab": {
          "base_uri": "https://localhost:8080/"
        },
        "outputId": "85955463-235c-4a0f-eeac-54277c49d8ca"
      },
      "outputs": [
        {
          "output_type": "execute_result",
          "data": {
            "text/plain": [
              "Filename       0\n",
              "Contents       0\n",
              "Category       0\n",
              "News_length    0\n",
              "dtype: int64"
            ]
          },
          "metadata": {},
          "execution_count": 36
        }
      ],
      "source": [
        "# Handling Missing Values & Missing Value Imputation\n",
        "\n",
        "bbc_df.isnull().sum()"
      ]
    },
    {
      "cell_type": "markdown",
      "metadata": {
        "id": "7wuGOrhz0itI"
      },
      "source": [
        "#### What all missing value imputation techniques have you used and why did you use those techniques?"
      ]
    },
    {
      "cell_type": "markdown",
      "metadata": {
        "id": "1ixusLtI0pqI"
      },
      "source": [
        "We have used isnull() function to check if there are any missing values in the dataset.\n",
        "\n",
        "As was verified during the initial data exploration and heatmap, there are no missing values in the dataset.\n",
        "\n",
        "Hence, no operation is required to handle the missing values."
      ]
    },
    {
      "cell_type": "markdown",
      "metadata": {
        "id": "id1riN9m0vUs"
      },
      "source": [
        "### 2. Handling Outliers"
      ]
    },
    {
      "cell_type": "code",
      "execution_count": 37,
      "metadata": {
        "id": "M6w2CzZf04JK",
        "colab": {
          "base_uri": "https://localhost:8080/",
          "height": 193
        },
        "outputId": "06a439c7-727e-4b76-b6ed-bfa48f2b710a"
      },
      "outputs": [
        {
          "output_type": "display_data",
          "data": {
            "text/plain": [
              "<Figure size 2500x1000 with 2 Axes>"
            ],
            "image/png": "[encoded data removed]"
          },
          "metadata": {}
        }
      ],
      "source": [
        "# Handling Outliers & Outlier treatments\n",
        "\n",
        "# looking for outliers using box plot\n",
        "plt.figure(figsize=(25,10))\n",
        "for index,item in enumerate([i for i in bbc_df.describe().columns.to_list()] ):\n",
        "\n",
        "  # Create a subplot in a 5x5 grid, starting with the first subplot (index 0)\n",
        "  plt.subplot(5,5,index+1)\n",
        "  \n",
        "  # Create a box plot of the current column's data\n",
        "  sns.boxplot(bbc_df[item], orient = 'h')\n",
        "  \n",
        "  # Add the column name to the subplot title\n",
        "  plt.title(item)\n",
        "  \n",
        "  # Add some spacing between the subplots\n",
        "  plt.subplots_adjust(hspace=0.5)"
      ]
    },
    {
      "cell_type": "markdown",
      "metadata": {
        "id": "riocb9JsiJtc"
      },
      "source": [
        "From the boxplot, we can observe that there are several outliers present in the 'News_length' feature. This informs us that the news length is majorly accumulated within 0 to 2000 characters, but there are also several news articles that have more than 2000 characters."
      ]
    },
    {
      "cell_type": "markdown",
      "metadata": {
        "id": "578E2V7j08f6"
      },
      "source": [
        "##### What all outlier treatment techniques have you used and why did you use those techniques?"
      ]
    },
    {
      "cell_type": "markdown",
      "metadata": {
        "id": "uGZz5OrT1HH-"
      },
      "source": [
        "Although we can clearly see the occurances of outliers in our dataset, we will not remove these outliers due to the following reasons:\n",
        "\n",
        "* We previously observed that there is evident distinction between the average values of 'News_length' feature for all categories. Hence, the varied distribution of news-length can provide as a strong determining factor for topic modeling.\n",
        "\n",
        "* Outliers don't have much of an impact in topic modeling as the objective is to classify the articles into topics which doesn't involve much of news_length feature."
      ]
    },
    {
      "cell_type": "markdown",
      "metadata": {
        "id": "3FQ1j8IBm1FU"
      },
      "source": [
        "As we have observed, our dataset has got the complete set of articles. Now we can use this dataset to count the top words with highest frequencies using **CountVectorizer**."
      ]
    },
    {
      "cell_type": "markdown",
      "metadata": {
        "id": "89xtkJwZ18nB"
      },
      "source": [
        "### 3. Tokenization"
      ]
    },
    {
      "cell_type": "markdown",
      "metadata": {
        "id": "OIMLUg_enVSr"
      },
      "source": [
        "In order to use textual data for predictive modeling, the text must be parsed to remove certain words – this process is called Tokenization.\n",
        "\n",
        "These words then need to be encoded as integers, or floating-point values, such that they can be used as inputs in machine learning algorithms. This process is called Feature Extraction (or Vectorization).\n",
        "\n",
        "Scikit-learn’s CountVectorizer is used to convert a collection of text documents to a vector of term/token counts. It also enables the ​pre-processing of text data prior to generating the vector representation. This functionality makes it a highly flexible feature representation module for text.\n",
        "\n",
        "CountVectorizer creates a matrix in which each unique word is represented by a column of the matrix, and each text sample from the document is a row in the matrix. The value of each cell is nothing but the count of the word in that particular text sample.\n",
        "\n",
        "Now that we know what CountVectorizer is, it's time we implement it to gather the top-most occuring words in out dataset."
      ]
    },
    {
      "cell_type": "code",
      "execution_count": 38,
      "metadata": {
        "id": "21JmIYMG2hEo"
      },
      "outputs": [],
      "source": [
        "# Function to extract top n words with highest frequency\n",
        "def get_top_n_words(n_top_words, count_vectorizer, text_data):\n",
        "    '''\n",
        "    The function returns a tuple of the top n words in a sample and their \n",
        "    accompanying counts, given a CountVectorizer object and text sample as inputs\n",
        "    '''\n",
        "    # encoding the document using countvectorizer object\n",
        "    vectorized_content = count_vectorizer.fit_transform(text_data.values)\n",
        "    vectorized_total = np.sum(vectorized_content, axis=0)\n",
        "\n",
        "    # extracting specifics for words\n",
        "    word_indices = np.flip(np.argsort(vectorized_total)[0,:], 1)\n",
        "    word_values = np.flip(np.sort(vectorized_total)[0,:],1)\n",
        "\n",
        "    # creating a vector matrix for words\n",
        "    word_vectors = np.zeros((n_top_words, vectorized_content.shape[1]))\n",
        "    for i in range(n_top_words):\n",
        "        word_vectors[i,word_indices[0,i]] = 1\n",
        "\n",
        "    # display Vector matrix\n",
        "    print(word_vectors)\n",
        "\n",
        "    # collect the words\n",
        "    words = [word[0].encode('ascii').decode('utf-8') for \n",
        "             word in count_vectorizer.inverse_transform(word_vectors)]\n",
        "\n",
        "    return (words, word_values[0,:n_top_words].tolist()[0])"
      ]
    },
    {
      "cell_type": "markdown",
      "metadata": {
        "id": "38dbooNa1_Cd"
      },
      "source": [
        "We will use this function later after removing stop words."
      ]
    },
    {
      "cell_type": "markdown",
      "metadata": {
        "id": "Iwf50b-R2tYG"
      },
      "source": [
        "### 4. Removing Stop Words"
      ]
    },
    {
      "cell_type": "markdown",
      "metadata": {
        "id": "dfe0vvGq4Tpz"
      },
      "source": [
        "**Stop Words:** A stop word is a commonly used word (such as “the”, “a”, “an”, “in”). Since these words occur a lot, a search engine has to be programmed to ignore them. We can easily remove them by storing a list of words that we consider to be stop words."
      ]
    },
    {
      "cell_type": "markdown",
      "metadata": {
        "id": "Y5XXKCKN7KYh"
      },
      "source": [
        "To remove the stop words, we will be using a library in python called NLTK."
      ]
    },
    {
      "cell_type": "markdown",
      "metadata": {
        "id": "EMEZT--Y5mGU"
      },
      "source": [
        "**NLTK(Natural Language Toolkit)** in python has a list of stopwords stored in 16 different languages. Hence we'll use it to extract our data without all such words."
      ]
    },
    {
      "cell_type": "code",
      "source": [
        "# dowloading nltk stopwords module\n",
        "nltk.download('stopwords')"
      ],
      "metadata": {
        "colab": {
          "base_uri": "https://localhost:8080/"
        },
        "id": "UtURHVa7JzHL",
        "outputId": "34871724-a1d8-4c3f-938f-b3fe25c075ec"
      },
      "execution_count": 39,
      "outputs": [
        {
          "output_type": "stream",
          "name": "stderr",
          "text": [
            "[nltk_data] Downloading package stopwords to /root/nltk_data...\n",
            "[nltk_data]   Unzipping corpora/stopwords.zip.\n"
          ]
        },
        {
          "output_type": "execute_result",
          "data": {
            "text/plain": [
              "True"
            ]
          },
          "metadata": {},
          "execution_count": 39
        }
      ]
    },
    {
      "cell_type": "markdown",
      "metadata": {
        "id": "TNRRVziL7Z5o"
      },
      "source": [
        "We know that all of our articles are in english language, hence we'll only require stopwords in english."
      ]
    },
    {
      "cell_type": "code",
      "execution_count": 40,
      "metadata": {
        "id": "Sef0pwNa7dUw",
        "colab": {
          "base_uri": "https://localhost:8080/"
        },
        "outputId": "ade936eb-d869-42b4-c22b-81e847309c42"
      },
      "outputs": [
        {
          "output_type": "stream",
          "name": "stdout",
          "text": [
            "Few of the stop words in english language NLTK library are:\n",
            "\n"
          ]
        },
        {
          "output_type": "execute_result",
          "data": {
            "text/plain": [
              "['i', 'me', 'my', 'myself', 'we', 'our', 'ours', 'ourselves', 'you', \"you're\"]"
            ]
          },
          "metadata": {},
          "execution_count": 40
        }
      ],
      "source": [
        "# extracting all stopwords for english language\n",
        "stpwrd = nltk.corpus.stopwords.words('english')\n",
        "\n",
        "\n",
        "print('Few of the stop words in english language NLTK library are:\\n')\n",
        "# Printing only a few stop words for demo\n",
        "stpwrd[:10]"
      ]
    },
    {
      "cell_type": "markdown",
      "metadata": {
        "id": "ZjPwcjh7_oVV"
      },
      "source": [
        "### 5. Implementing Count Vectorizer"
      ]
    },
    {
      "cell_type": "markdown",
      "metadata": {
        "id": "xuJcfx83_vXG"
      },
      "source": [
        "Now lets implement our countvectorizer to extract top words with highest frequencies."
      ]
    },
    {
      "cell_type": "code",
      "execution_count": 41,
      "metadata": {
        "id": "GcTJVuLxCo-d",
        "colab": {
          "base_uri": "https://localhost:8080/",
          "height": 206
        },
        "outputId": "06ffd303-0a94-4cb1-d144-24320c56c4ad"
      },
      "outputs": [
        {
          "output_type": "execute_result",
          "data": {
            "text/plain": [
              "   Filename                                           Contents  Category  \\\n",
              "0       104  us seeks new     bn smoker ruling  the us just...  business   \n",
              "1       226  wolves appoint hoddle as manager  glenn hoddle...     sport   \n",
              "2       395  cebit fever takes over hanover  thousands of p...      tech   \n",
              "3        82  labour s  eu propaganda   a  taxpayer subsidis...  politics   \n",
              "4       182  weak data buffets french economy  a batch of d...  business   \n",
              "\n",
              "   News_length  \n",
              "0         2293  \n",
              "1         1398  \n",
              "2         4914  \n",
              "3         3103  \n",
              "4         1621  "
            ],
            "text/html": [
              "\n",
              "  <div id=\"df-e6bac18c-3ca3-406e-9af1-d804270995ce\">\n",
              "    <div class=\"colab-df-container\">\n",
              "      <div>\n",
              "<style scoped>\n",
              "    .dataframe tbody tr th:only-of-type {\n",
              "        vertical-align: middle;\n",
              "    }\n",
              "\n",
              "    .dataframe tbody tr th {\n",
              "        vertical-align: top;\n",
              "    }\n",
              "\n",
              "    .dataframe thead th {\n",
              "        text-align: right;\n",
              "    }\n",
              "</style>\n",
              "<table border=\"1\" class=\"dataframe\">\n",
              "  <thead>\n",
              "    <tr style=\"text-align: right;\">\n",
              "      <th></th>\n",
              "      <th>Filename</th>\n",
              "      <th>Contents</th>\n",
              "      <th>Category</th>\n",
              "      <th>News_length</th>\n",
              "    </tr>\n",
              "  </thead>\n",
              "  <tbody>\n",
              "    <tr>\n",
              "      <th>0</th>\n",
              "      <td>104</td>\n",
              "      <td>us seeks new     bn smoker ruling  the us just...</td>\n",
              "      <td>business</td>\n",
              "      <td>2293</td>\n",
              "    </tr>\n",
              "    <tr>\n",
              "      <th>1</th>\n",
              "      <td>226</td>\n",
              "      <td>wolves appoint hoddle as manager  glenn hoddle...</td>\n",
              "      <td>sport</td>\n",
              "      <td>1398</td>\n",
              "    </tr>\n",
              "    <tr>\n",
              "      <th>2</th>\n",
              "      <td>395</td>\n",
              "      <td>cebit fever takes over hanover  thousands of p...</td>\n",
              "      <td>tech</td>\n",
              "      <td>4914</td>\n",
              "    </tr>\n",
              "    <tr>\n",
              "      <th>3</th>\n",
              "      <td>82</td>\n",
              "      <td>labour s  eu propaganda   a  taxpayer subsidis...</td>\n",
              "      <td>politics</td>\n",
              "      <td>3103</td>\n",
              "    </tr>\n",
              "    <tr>\n",
              "      <th>4</th>\n",
              "      <td>182</td>\n",
              "      <td>weak data buffets french economy  a batch of d...</td>\n",
              "      <td>business</td>\n",
              "      <td>1621</td>\n",
              "    </tr>\n",
              "  </tbody>\n",
              "</table>\n",
              "</div>\n",
              "      <button class=\"colab-df-convert\" onclick=\"convertToInteractive('df-e6bac18c-3ca3-406e-9af1-d804270995ce')\"\n",
              "              title=\"Convert this dataframe to an interactive table.\"\n",
              "              style=\"display:none;\">\n",
              "        \n",
              "  <svg xmlns=\"http://www.w3.org/2000/svg\" height=\"24px\"viewBox=\"0 0 24 24\"\n",
              "       width=\"24px\">\n",
              "    <path d=\"M0 0h24v24H0V0z\" fill=\"none\"/>\n",
              "    <path d=\"M18.56 5.44l.94 2.06.94-2.06 2.06-.94-2.06-.94-.94-2.06-.94 2.06-2.06.94zm-11 1L8.5 8.5l.94-2.06 2.06-.94-2.06-.94L8.5 2.5l-.94 2.06-2.06.94zm10 10l.94 2.06.94-2.06 2.06-.94-2.06-.94-.94-2.06-.94 2.06-2.06.94z\"/><path d=\"M17.41 7.96l-1.37-1.37c-.4-.4-.92-.59-1.43-.59-.52 0-1.04.2-1.43.59L10.3 9.45l-7.72 7.72c-.78.78-.78 2.05 0 2.83L4 21.41c.39.39.9.59 1.41.59.51 0 1.02-.2 1.41-.59l7.78-7.78 2.81-2.81c.8-.78.8-2.07 0-2.86zM5.41 20L4 18.59l7.72-7.72 1.47 1.35L5.41 20z\"/>\n",
              "  </svg>\n",
              "      </button>\n",
              "      \n",
              "  <style>\n",
              "    .colab-df-container {\n",
              "      display:flex;\n",
              "      flex-wrap:wrap;\n",
              "      gap: 12px;\n",
              "    }\n",
              "\n",
              "    .colab-df-convert {\n",
              "      background-color: #E8F0FE;\n",
              "      border: none;\n",
              "      border-radius: 50%;\n",
              "      cursor: pointer;\n",
              "      display: none;\n",
              "      fill: #1967D2;\n",
              "      height: 32px;\n",
              "      padding: 0 0 0 0;\n",
              "      width: 32px;\n",
              "    }\n",
              "\n",
              "    .colab-df-convert:hover {\n",
              "      background-color: #E2EBFA;\n",
              "      box-shadow: 0px 1px 2px rgba(60, 64, 67, 0.3), 0px 1px 3px 1px rgba(60, 64, 67, 0.15);\n",
              "      fill: #174EA6;\n",
              "    }\n",
              "\n",
              "    [theme=dark] .colab-df-convert {\n",
              "      background-color: #3B4455;\n",
              "      fill: #D2E3FC;\n",
              "    }\n",
              "\n",
              "    [theme=dark] .colab-df-convert:hover {\n",
              "      background-color: #434B5C;\n",
              "      box-shadow: 0px 1px 3px 1px rgba(0, 0, 0, 0.15);\n",
              "      filter: drop-shadow(0px 1px 2px rgba(0, 0, 0, 0.3));\n",
              "      fill: #FFFFFF;\n",
              "    }\n",
              "  </style>\n",
              "\n",
              "      <script>\n",
              "        const buttonEl =\n",
              "          document.querySelector('#df-e6bac18c-3ca3-406e-9af1-d804270995ce button.colab-df-convert');\n",
              "        buttonEl.style.display =\n",
              "          google.colab.kernel.accessAllowed ? 'block' : 'none';\n",
              "\n",
              "        async function convertToInteractive(key) {\n",
              "          const element = document.querySelector('#df-e6bac18c-3ca3-406e-9af1-d804270995ce');\n",
              "          const dataTable =\n",
              "            await google.colab.kernel.invokeFunction('convertToInteractive',\n",
              "                                                     [key], {});\n",
              "          if (!dataTable) return;\n",
              "\n",
              "          const docLinkHtml = 'Like what you see? Visit the ' +\n",
              "            '<a target=\"_blank\" href=https://colab.research.google.com/notebooks/data_table.ipynb>data table notebook</a>'\n",
              "            + ' to learn more about interactive tables.';\n",
              "          element.innerHTML = '';\n",
              "          dataTable['output_type'] = 'display_data';\n",
              "          await google.colab.output.renderOutput(dataTable, element);\n",
              "          const docLink = document.createElement('div');\n",
              "          docLink.innerHTML = docLinkHtml;\n",
              "          element.appendChild(docLink);\n",
              "        }\n",
              "      </script>\n",
              "    </div>\n",
              "  </div>\n",
              "  "
            ]
          },
          "metadata": {},
          "execution_count": 41
        }
      ],
      "source": [
        "bbc_df.head()"
      ]
    },
    {
      "cell_type": "code",
      "execution_count": 42,
      "metadata": {
        "id": "2Vqms7Ud7dzA"
      },
      "outputs": [],
      "source": [
        "# Creating vectorizer object\n",
        "count_vectorizer = CountVectorizer(stop_words=stpwrd)"
      ]
    },
    {
      "cell_type": "code",
      "execution_count": 43,
      "metadata": {
        "id": "FuYphmO-Cb2p"
      },
      "outputs": [],
      "source": [
        "counts = count_vectorizer.fit_transform(bbc_df['Contents'])"
      ]
    },
    {
      "cell_type": "code",
      "execution_count": 44,
      "metadata": {
        "id": "-DXs3IBPCbzu"
      },
      "outputs": [],
      "source": [
        "# Converting the sparse matrix into a dataframe\n",
        "counts_df =  pd.DataFrame(counts.toarray(), columns = count_vectorizer.get_feature_names_out())"
      ]
    },
    {
      "cell_type": "code",
      "execution_count": 45,
      "metadata": {
        "id": "igjwKK5CCbuu",
        "colab": {
          "base_uri": "https://localhost:8080/"
        },
        "outputId": "5af86b2a-1458-48e3-9101-4404b508b224"
      },
      "outputs": [
        {
          "output_type": "execute_result",
          "data": {
            "text/plain": [
              "(2125, 27736)"
            ]
          },
          "metadata": {},
          "execution_count": 45
        }
      ],
      "source": [
        "# Shape of our sparse dataset\n",
        "counts_df.shape"
      ]
    },
    {
      "cell_type": "code",
      "execution_count": 46,
      "metadata": {
        "id": "x3N5R-VlIxlh",
        "colab": {
          "base_uri": "https://localhost:8080/",
          "height": 235
        },
        "outputId": "8e39d8da-1831-467a-ce4d-03fd5376ce80"
      },
      "outputs": [
        {
          "output_type": "execute_result",
          "data": {
            "text/plain": [
              "   aa  aaa  aaas  aac  aadc  aaliyah  aaltra  aamir  aan  aara  ...  zooms  \\\n",
              "0   0    0     0    0     0        0       0      0    0     0  ...      0   \n",
              "1   0    0     0    0     0        0       0      0    0     0  ...      0   \n",
              "2   0    1     0    0     0        0       0      0    0     0  ...      0   \n",
              "3   0    0     0    0     0        0       0      0    0     0  ...      0   \n",
              "4   0    0     0    0     0        0       0      0    0     0  ...      0   \n",
              "\n",
              "   zooropa  zornotza  zorro  zubair  zuluaga  zurich  zutons  zvonareva  \\\n",
              "0        0         0      0       0        0       0       0          0   \n",
              "1        0         0      0       0        0       0       0          0   \n",
              "2        0         0      0       0        0       0       0          0   \n",
              "3        0         0      0       0        0       0       0          0   \n",
              "4        0         0      0       0        0       0       0          0   \n",
              "\n",
              "   zvyagintsev  \n",
              "0            0  \n",
              "1            0  \n",
              "2            0  \n",
              "3            0  \n",
              "4            0  \n",
              "\n",
              "[5 rows x 27736 columns]"
            ],
            "text/html": [
              "\n",
              "  <div id=\"df-cf5dc872-fadd-4136-bf9c-1975fcfd43ac\">\n",
              "    <div class=\"colab-df-container\">\n",
              "      <div>\n",
              "<style scoped>\n",
              "    .dataframe tbody tr th:only-of-type {\n",
              "        vertical-align: middle;\n",
              "    }\n",
              "\n",
              "    .dataframe tbody tr th {\n",
              "        vertical-align: top;\n",
              "    }\n",
              "\n",
              "    .dataframe thead th {\n",
              "        text-align: right;\n",
              "    }\n",
              "</style>\n",
              "<table border=\"1\" class=\"dataframe\">\n",
              "  <thead>\n",
              "    <tr style=\"text-align: right;\">\n",
              "      <th></th>\n",
              "      <th>aa</th>\n",
              "      <th>aaa</th>\n",
              "      <th>aaas</th>\n",
              "      <th>aac</th>\n",
              "      <th>aadc</th>\n",
              "      <th>aaliyah</th>\n",
              "      <th>aaltra</th>\n",
              "      <th>aamir</th>\n",
              "      <th>aan</th>\n",
              "      <th>aara</th>\n",
              "      <th>...</th>\n",
              "      <th>zooms</th>\n",
              "      <th>zooropa</th>\n",
              "      <th>zornotza</th>\n",
              "      <th>zorro</th>\n",
              "      <th>zubair</th>\n",
              "      <th>zuluaga</th>\n",
              "      <th>zurich</th>\n",
              "      <th>zutons</th>\n",
              "      <th>zvonareva</th>\n",
              "      <th>zvyagintsev</th>\n",
              "    </tr>\n",
              "  </thead>\n",
              "  <tbody>\n",
              "    <tr>\n",
              "      <th>0</th>\n",
              "      <td>0</td>\n",
              "      <td>0</td>\n",
              "      <td>0</td>\n",
              "      <td>0</td>\n",
              "      <td>0</td>\n",
              "      <td>0</td>\n",
              "      <td>0</td>\n",
              "      <td>0</td>\n",
              "      <td>0</td>\n",
              "      <td>0</td>\n",
              "      <td>...</td>\n",
              "      <td>0</td>\n",
              "      <td>0</td>\n",
              "      <td>0</td>\n",
              "      <td>0</td>\n",
              "      <td>0</td>\n",
              "      <td>0</td>\n",
              "      <td>0</td>\n",
              "      <td>0</td>\n",
              "      <td>0</td>\n",
              "      <td>0</td>\n",
              "    </tr>\n",
              "    <tr>\n",
              "      <th>1</th>\n",
              "      <td>0</td>\n",
              "      <td>0</td>\n",
              "      <td>0</td>\n",
              "      <td>0</td>\n",
              "      <td>0</td>\n",
              "      <td>0</td>\n",
              "      <td>0</td>\n",
              "      <td>0</td>\n",
              "      <td>0</td>\n",
              "      <td>0</td>\n",
              "      <td>...</td>\n",
              "      <td>0</td>\n",
              "      <td>0</td>\n",
              "      <td>0</td>\n",
              "      <td>0</td>\n",
              "      <td>0</td>\n",
              "      <td>0</td>\n",
              "      <td>0</td>\n",
              "      <td>0</td>\n",
              "      <td>0</td>\n",
              "      <td>0</td>\n",
              "    </tr>\n",
              "    <tr>\n",
              "      <th>2</th>\n",
              "      <td>0</td>\n",
              "      <td>1</td>\n",
              "      <td>0</td>\n",
              "      <td>0</td>\n",
              "      <td>0</td>\n",
              "      <td>0</td>\n",
              "      <td>0</td>\n",
              "      <td>0</td>\n",
              "      <td>0</td>\n",
              "      <td>0</td>\n",
              "      <td>...</td>\n",
              "      <td>0</td>\n",
              "      <td>0</td>\n",
              "      <td>0</td>\n",
              "      <td>0</td>\n",
              "      <td>0</td>\n",
              "      <td>0</td>\n",
              "      <td>0</td>\n",
              "      <td>0</td>\n",
              "      <td>0</td>\n",
              "      <td>0</td>\n",
              "    </tr>\n",
              "    <tr>\n",
              "      <th>3</th>\n",
              "      <td>0</td>\n",
              "      <td>0</td>\n",
              "      <td>0</td>\n",
              "      <td>0</td>\n",
              "      <td>0</td>\n",
              "      <td>0</td>\n",
              "      <td>0</td>\n",
              "      <td>0</td>\n",
              "      <td>0</td>\n",
              "      <td>0</td>\n",
              "      <td>...</td>\n",
              "      <td>0</td>\n",
              "      <td>0</td>\n",
              "      <td>0</td>\n",
              "      <td>0</td>\n",
              "      <td>0</td>\n",
              "      <td>0</td>\n",
              "      <td>0</td>\n",
              "      <td>0</td>\n",
              "      <td>0</td>\n",
              "      <td>0</td>\n",
              "    </tr>\n",
              "    <tr>\n",
              "      <th>4</th>\n",
              "      <td>0</td>\n",
              "      <td>0</td>\n",
              "      <td>0</td>\n",
              "      <td>0</td>\n",
              "      <td>0</td>\n",
              "      <td>0</td>\n",
              "      <td>0</td>\n",
              "      <td>0</td>\n",
              "      <td>0</td>\n",
              "      <td>0</td>\n",
              "      <td>...</td>\n",
              "      <td>0</td>\n",
              "      <td>0</td>\n",
              "      <td>0</td>\n",
              "      <td>0</td>\n",
              "      <td>0</td>\n",
              "      <td>0</td>\n",
              "      <td>0</td>\n",
              "      <td>0</td>\n",
              "      <td>0</td>\n",
              "      <td>0</td>\n",
              "    </tr>\n",
              "  </tbody>\n",
              "</table>\n",
              "<p>5 rows × 27736 columns</p>\n",
              "</div>\n",
              "      <button class=\"colab-df-convert\" onclick=\"convertToInteractive('df-cf5dc872-fadd-4136-bf9c-1975fcfd43ac')\"\n",
              "              title=\"Convert this dataframe to an interactive table.\"\n",
              "              style=\"display:none;\">\n",
              "        \n",
              "  <svg xmlns=\"http://www.w3.org/2000/svg\" height=\"24px\"viewBox=\"0 0 24 24\"\n",
              "       width=\"24px\">\n",
              "    <path d=\"M0 0h24v24H0V0z\" fill=\"none\"/>\n",
              "    <path d=\"M18.56 5.44l.94 2.06.94-2.06 2.06-.94-2.06-.94-.94-2.06-.94 2.06-2.06.94zm-11 1L8.5 8.5l.94-2.06 2.06-.94-2.06-.94L8.5 2.5l-.94 2.06-2.06.94zm10 10l.94 2.06.94-2.06 2.06-.94-2.06-.94-.94-2.06-.94 2.06-2.06.94z\"/><path d=\"M17.41 7.96l-1.37-1.37c-.4-.4-.92-.59-1.43-.59-.52 0-1.04.2-1.43.59L10.3 9.45l-7.72 7.72c-.78.78-.78 2.05 0 2.83L4 21.41c.39.39.9.59 1.41.59.51 0 1.02-.2 1.41-.59l7.78-7.78 2.81-2.81c.8-.78.8-2.07 0-2.86zM5.41 20L4 18.59l7.72-7.72 1.47 1.35L5.41 20z\"/>\n",
              "  </svg>\n",
              "      </button>\n",
              "      \n",
              "  <style>\n",
              "    .colab-df-container {\n",
              "      display:flex;\n",
              "      flex-wrap:wrap;\n",
              "      gap: 12px;\n",
              "    }\n",
              "\n",
              "    .colab-df-convert {\n",
              "      background-color: #E8F0FE;\n",
              "      border: none;\n",
              "      border-radius: 50%;\n",
              "      cursor: pointer;\n",
              "      display: none;\n",
              "      fill: #1967D2;\n",
              "      height: 32px;\n",
              "      padding: 0 0 0 0;\n",
              "      width: 32px;\n",
              "    }\n",
              "\n",
              "    .colab-df-convert:hover {\n",
              "      background-color: #E2EBFA;\n",
              "      box-shadow: 0px 1px 2px rgba(60, 64, 67, 0.3), 0px 1px 3px 1px rgba(60, 64, 67, 0.15);\n",
              "      fill: #174EA6;\n",
              "    }\n",
              "\n",
              "    [theme=dark] .colab-df-convert {\n",
              "      background-color: #3B4455;\n",
              "      fill: #D2E3FC;\n",
              "    }\n",
              "\n",
              "    [theme=dark] .colab-df-convert:hover {\n",
              "      background-color: #434B5C;\n",
              "      box-shadow: 0px 1px 3px 1px rgba(0, 0, 0, 0.15);\n",
              "      filter: drop-shadow(0px 1px 2px rgba(0, 0, 0, 0.3));\n",
              "      fill: #FFFFFF;\n",
              "    }\n",
              "  </style>\n",
              "\n",
              "      <script>\n",
              "        const buttonEl =\n",
              "          document.querySelector('#df-cf5dc872-fadd-4136-bf9c-1975fcfd43ac button.colab-df-convert');\n",
              "        buttonEl.style.display =\n",
              "          google.colab.kernel.accessAllowed ? 'block' : 'none';\n",
              "\n",
              "        async function convertToInteractive(key) {\n",
              "          const element = document.querySelector('#df-cf5dc872-fadd-4136-bf9c-1975fcfd43ac');\n",
              "          const dataTable =\n",
              "            await google.colab.kernel.invokeFunction('convertToInteractive',\n",
              "                                                     [key], {});\n",
              "          if (!dataTable) return;\n",
              "\n",
              "          const docLinkHtml = 'Like what you see? Visit the ' +\n",
              "            '<a target=\"_blank\" href=https://colab.research.google.com/notebooks/data_table.ipynb>data table notebook</a>'\n",
              "            + ' to learn more about interactive tables.';\n",
              "          element.innerHTML = '';\n",
              "          dataTable['output_type'] = 'display_data';\n",
              "          await google.colab.output.renderOutput(dataTable, element);\n",
              "          const docLink = document.createElement('div');\n",
              "          docLink.innerHTML = docLinkHtml;\n",
              "          element.appendChild(docLink);\n",
              "        }\n",
              "      </script>\n",
              "    </div>\n",
              "  </div>\n",
              "  "
            ]
          },
          "metadata": {},
          "execution_count": 46
        }
      ],
      "source": [
        "counts_df.head()"
      ]
    },
    {
      "cell_type": "markdown",
      "metadata": {
        "id": "1dCbfxTsHW4w"
      },
      "source": [
        "Now, let us count the number of occurances of all the terms/words used in all the articles."
      ]
    },
    {
      "cell_type": "markdown",
      "metadata": {
        "id": "_3CpON8pIKXi"
      },
      "source": [
        "We will follow the following steps to describe our most used words:\n",
        "\n",
        "1. Create an empty dictionary\n",
        "2. Storing the words as keys and the count as values\n",
        "3. Updating our stopwords\n",
        "4. Plotting the most frequent words using a bar-plot"
      ]
    },
    {
      "cell_type": "code",
      "execution_count": 48,
      "metadata": {
        "id": "1uhrWZ42IinZ"
      },
      "outputs": [],
      "source": [
        "# Creating an empty dictionary\n",
        "counts_dict = {}\n",
        "\n",
        "# Store the words as key-value pairs\n",
        "for ii, word in enumerate(counts_df.columns):\n",
        "    counts_dict[word] = sum(counts_df[str(word)])\n",
        "    word_count = [(i,count) for i,count in list(zip(counts_dict.keys(), counts_dict.values()))]"
      ]
    },
    {
      "cell_type": "code",
      "execution_count": 49,
      "metadata": {
        "id": "7Y22uM_BIilB",
        "colab": {
          "base_uri": "https://localhost:8080/"
        },
        "outputId": "f75d7451-eb1f-432c-fa27-386fe3999b63"
      },
      "outputs": [
        {
          "output_type": "execute_result",
          "data": {
            "text/plain": [
              "[('said', 6927),\n",
              " ('mr', 2859),\n",
              " ('would', 2472),\n",
              " ('year', 2223),\n",
              " ('also', 2035),\n",
              " ('people', 1895),\n",
              " ('us', 1884),\n",
              " ('new', 1877),\n",
              " ('one', 1810),\n",
              " ('could', 1441),\n",
              " ('last', 1331),\n",
              " ('first', 1294),\n",
              " ('time', 1280),\n",
              " ('two', 1234),\n",
              " ('world', 1160),\n",
              " ('government', 1135),\n",
              " ('uk', 1058),\n",
              " ('years', 968),\n",
              " ('bn', 944),\n",
              " ('best', 932)]"
            ]
          },
          "metadata": {},
          "execution_count": 49
        }
      ],
      "source": [
        "# Looking at the most common words\n",
        "# Sorting the occurance of each term in a descending order\n",
        "\n",
        "sorted_counts = sorted(word_count, key = lambda x: x[1], reverse = True)\n",
        "sorted_counts[:20]"
      ]
    },
    {
      "cell_type": "code",
      "execution_count": 50,
      "metadata": {
        "id": "HAuw3zKMIicp",
        "colab": {
          "base_uri": "https://localhost:8080/",
          "height": 890
        },
        "outputId": "90227251-d94e-40ab-fed6-d2d390372ba2"
      },
      "outputs": [
        {
          "output_type": "execute_result",
          "data": {
            "text/plain": [
              "Text(0, 0.5, 'Terms')"
            ]
          },
          "metadata": {},
          "execution_count": 50
        },
        {
          "output_type": "display_data",
          "data": {
            "text/plain": [
              "<Figure size 1000x1000 with 1 Axes>"
            ],
            "image/png": "[encoded data removed]"
          },
          "metadata": {}
        }
      ],
      "source": [
        "# Plotting a bar plot for the most frequent terms\n",
        "top_words = [word for word, count in sorted_counts[:40]]\n",
        "count_top_words = [count for word, count in sorted_counts[:40]]\n",
        "\n",
        "plt.figure(figsize = (10,10))\n",
        "sns.barplot(y = top_words, x=count_top_words, palette = 'rainbow')\n",
        "plt.title(\"Most Frequent Terms\")\n",
        "plt.xlabel(\"Counts\")\n",
        "plt.ylabel(\"Terms\")"
      ]
    },
    {
      "cell_type": "markdown",
      "metadata": {
        "id": "blk-syw7LzKj"
      },
      "source": [
        "We can see some commonly used words like \"said\", \"mr\", \"would\" etc, are on top, which makes sense because no matter what the subject of a article is, these words help build up a sentence and hence the excessive use is inevitable.\n",
        "\n",
        "However, we can also find a few words relevant to the categories of our articles. For example, 'UK' and 'US'(since we converted all words to lower case, 'us' represents US too) both are country names which could reflect to any of the categories. Also words like 'government' could reflect in articles related to Politics, Business, Tech etc.\n",
        "\n",
        "The words like 'film' and 'game' sounds relevant to the entertainment category."
      ]
    },
    {
      "cell_type": "markdown",
      "metadata": {
        "id": "pg_aayUvMHa5"
      },
      "source": [
        "### 6. Stemming & Lemmatization Test"
      ]
    },
    {
      "cell_type": "markdown",
      "metadata": {
        "id": "eKxOSG_nOXVE"
      },
      "source": [
        "**Stemming** is the process of reducing a word to its word stem that affixes to suffixes and prefixes or to the roots of words known as a lemma. Stemming is important in natural language understanding (NLU) and natural language processing (NLP)."
      ]
    },
    {
      "cell_type": "markdown",
      "metadata": {
        "id": "YtDMzRHQOccW"
      },
      "source": [
        "**Lemmatization**: This algorithm collects all inflected forms of a word in order to break them down to their root dictionary form or **lemma**. Words are broken down into a part of speech (the categories of word types) by way of the rules of grammar."
      ]
    },
    {
      "cell_type": "code",
      "execution_count": 51,
      "metadata": {
        "id": "w-oOQy93MMbg",
        "colab": {
          "base_uri": "https://localhost:8080/"
        },
        "outputId": "2bdaee80-d046-4c07-93c5-5087094bb1f9"
      },
      "outputs": [
        {
          "output_type": "execute_result",
          "data": {
            "text/plain": [
              "0       us seeks new     bn smoker ruling  the us just...\n",
              "1       wolves appoint hoddle as manager  glenn hoddle...\n",
              "2       cebit fever takes over hanover  thousands of p...\n",
              "3       labour s  eu propaganda   a  taxpayer subsidis...\n",
              "4       weak data buffets french economy  a batch of d...\n",
              "                              ...                        \n",
              "2120    fa probes crowd trouble  the fa is to take act...\n",
              "2121    south bank awards honour hit soap  coronation ...\n",
              "2122    blair and blunkett sheffield trip  tony blair ...\n",
              "2123    japan narrowly escapes recession  japan s econ...\n",
              "2124    millions to miss out on the net  by           ...\n",
              "Name: Contents, Length: 2125, dtype: object"
            ]
          },
          "metadata": {},
          "execution_count": 51
        }
      ],
      "source": [
        "# Contents/Articles in our dataset\n",
        "bbc_df['Contents']"
      ]
    },
    {
      "cell_type": "markdown",
      "metadata": {
        "id": "q0lTjBcLqA5m"
      },
      "source": [
        "For the process of lemmatization, we will use WordNetLemmatizer."
      ]
    },
    {
      "cell_type": "markdown",
      "metadata": {
        "id": "RJIqCVb-aAfi"
      },
      "source": [
        "First, Let us implement the lemmatizer on one of the articles to check it's operation."
      ]
    },
    {
      "cell_type": "code",
      "source": [
        "# downloading wordNet lemmatizer\n",
        "nltk.download(['wordnet','omw-1.4'])\n",
        "lemmatizer = WordNetLemmatizer()"
      ],
      "metadata": {
        "colab": {
          "base_uri": "https://localhost:8080/"
        },
        "id": "NkNhKBx1L6ro",
        "outputId": "9f388d89-a79b-4515-99cb-ae5f34547576"
      },
      "execution_count": null,
      "outputs": [
        {
          "output_type": "stream",
          "name": "stderr",
          "text": [
            "[nltk_data] Downloading package wordnet to /root/nltk_data...\n",
            "[nltk_data] Downloading package omw-1.4 to /root/nltk_data...\n"
          ]
        }
      ]
    },
    {
      "cell_type": "code",
      "execution_count": null,
      "metadata": {
        "id": "KFOFyNC6qAdz"
      },
      "outputs": [],
      "source": [
        "lemmatizer = WordNetLemmatizer()"
      ]
    },
    {
      "cell_type": "code",
      "execution_count": null,
      "metadata": {
        "id": "uEjAGuztPXjj",
        "colab": {
          "base_uri": "https://localhost:8080/"
        },
        "outputId": "abfea1a4-8cf1-43b8-a819-5f136599b5f5"
      },
      "outputs": [
        {
          "output_type": "stream",
          "name": "stdout",
          "text": [
            "player burn out worries robinson  england coach andy robinson says english rugby has to act now to prevent injury destroying players  careers   he will be without a host of big names for the six nations as the intensity of professional rugby union hits players   injuries are part of the sport but we have to have a look at the amount of injuries that occur in the english season   robinson told bbc sport   i think players are probably going to have three or four years taken off their careers   robinson will be missing an entire midfield for the six nations with the likes of jonny wilkinson  mike tindall and will greenwood injured   rugby union has become far more physically demanding since the game went professional nearly    years ago  as a result three of the major stakeholders in english rugby have launched an  injury audit  to find out how players are coping  the audit is jointly funded by the professional rugby players  association  the rugby football union and premier rugby  as far as robinson is concerned its findings must not be ignored   i think there s an injury audit coming out in march that s got some great information in there that i think everybody in the english game has got to look at   he said   if we don t the situation is going to get worse and not better  so i think rugby as a whole has got to look at this   \n",
            "1348\n",
            "['player', 'burn', 'out', 'worry', 'robinson', '', 'england', 'coach', 'andy', 'robinson', 'say', 'english', 'rugby', 'ha', 'to', 'act', 'now', 'to', 'prevent', 'injury', 'destroying', 'player', '', 'career', '', '', 'he', 'will', 'be', 'without', 'a', 'host', 'of', 'big', 'name', 'for', 'the', 'six', 'nation', 'a', 'the', 'intensity', 'of', 'professional', 'rugby', 'union', 'hit', 'player', '', '', 'injury', 'are', 'part', 'of', 'the', 'sport', 'but', 'we', 'have', 'to', 'have', 'a', 'look', 'at', 'the', 'amount', 'of', 'injury', 'that', 'occur', 'in', 'the', 'english', 'season', '', '', 'robinson', 'told', 'bbc', 'sport', '', '', 'i', 'think', 'player', 'are', 'probably', 'going', 'to', 'have', 'three', 'or', 'four', 'year', 'taken', 'off', 'their', 'career', '', '', 'robinson', 'will', 'be', 'missing', 'an', 'entire', 'midfield', 'for', 'the', 'six', 'nation', 'with', 'the', 'like', 'of', 'jonny', 'wilkinson', '', 'mike', 'tindall', 'and', 'will', 'greenwood', 'injured', '', '', 'rugby', 'union', 'ha', 'become', 'far', 'more', 'physically', 'demanding', 'since', 'the', 'game', 'went', 'professional', 'nearly', '', '', '', 'year', 'ago', '', 'a', 'a', 'result', 'three', 'of', 'the', 'major', 'stakeholder', 'in', 'english', 'rugby', 'have', 'launched', 'an', '', 'injury', 'audit', '', 'to', 'find', 'out', 'how', 'player', 'are', 'coping', '', 'the', 'audit', 'is', 'jointly', 'funded', 'by', 'the', 'professional', 'rugby', 'player', '', 'association', '', 'the', 'rugby', 'football', 'union', 'and', 'premier', 'rugby', '', 'a', 'far', 'a', 'robinson', 'is', 'concerned', 'it', 'finding', 'must', 'not', 'be', 'ignored', '', '', 'i', 'think', 'there', 's', 'an', 'injury', 'audit', 'coming', 'out', 'in', 'march', 'that', 's', 'got', 'some', 'great', 'information', 'in', 'there', 'that', 'i', 'think', 'everybody', 'in', 'the', 'english', 'game', 'ha', 'got', 'to', 'look', 'at', '', '', 'he', 'said', '', '', 'if', 'we', 'don', 't', 'the', 'situation', 'is', 'going', 'to', 'get', 'worse', 'and', 'not', 'better', '', 'so', 'i', 'think', 'rugby', 'a', 'a', 'whole', 'ha', 'got', 'to', 'look', 'at', 'this', '', '', '']\n",
            "276\n"
          ]
        }
      ],
      "source": [
        "# Lemmatizing an article to see what wordnet returns\n",
        "for rows in bbc_df['Contents']:\n",
        " print(rows)\n",
        " print(len(rows))\n",
        " test = [lemmatizer.lemmatize(words) for words in rows.split(' ')]\n",
        " print(test)\n",
        " print(len(test))\n",
        " break"
      ]
    },
    {
      "cell_type": "markdown",
      "metadata": {
        "id": "AhwtOLS9alKe"
      },
      "source": [
        "As we can see the lemmatizer seems to be working fine, the words are segregated into a list. "
      ]
    },
    {
      "cell_type": "markdown",
      "metadata": {
        "id": "TO9yAm6Va6wv"
      },
      "source": [
        "##### Now, lets try the lemmatization using Snowball Lemmatizer."
      ]
    },
    {
      "cell_type": "code",
      "execution_count": null,
      "metadata": {
        "id": "kHPFNGTwPXgK"
      },
      "outputs": [],
      "source": [
        "# Snowball lemmatizer object\n",
        "sno = nltk.stem.SnowballStemmer('english')"
      ]
    },
    {
      "cell_type": "code",
      "execution_count": null,
      "metadata": {
        "id": "NoZ8WcBJPXdy",
        "colab": {
          "base_uri": "https://localhost:8080/"
        },
        "outputId": "32fdd773-3d3a-4ccc-9bdc-0f292ef6c8a5"
      },
      "outputs": [
        {
          "output_type": "stream",
          "name": "stdout",
          "text": [
            "player burn out worries robinson  england coach andy robinson says english rugby has to act now to prevent injury destroying players  careers   he will be without a host of big names for the six nations as the intensity of professional rugby union hits players   injuries are part of the sport but we have to have a look at the amount of injuries that occur in the english season   robinson told bbc sport   i think players are probably going to have three or four years taken off their careers   robinson will be missing an entire midfield for the six nations with the likes of jonny wilkinson  mike tindall and will greenwood injured   rugby union has become far more physically demanding since the game went professional nearly    years ago  as a result three of the major stakeholders in english rugby have launched an  injury audit  to find out how players are coping  the audit is jointly funded by the professional rugby players  association  the rugby football union and premier rugby  as far as robinson is concerned its findings must not be ignored   i think there s an injury audit coming out in march that s got some great information in there that i think everybody in the english game has got to look at   he said   if we don t the situation is going to get worse and not better  so i think rugby as a whole has got to look at this   \n",
            "1348\n",
            "['player', 'burn', 'out', 'worri', 'robinson', '', 'england', 'coach', 'andi', 'robinson', 'say', 'english', 'rugbi', 'has', 'to', 'act', 'now', 'to', 'prevent', 'injuri', 'destroy', 'player', '', 'career', '', '', 'he', 'will', 'be', 'without', 'a', 'host', 'of', 'big', 'name', 'for', 'the', 'six', 'nation', 'as', 'the', 'intens', 'of', 'profession', 'rugbi', 'union', 'hit', 'player', '', '', 'injuri', 'are', 'part', 'of', 'the', 'sport', 'but', 'we', 'have', 'to', 'have', 'a', 'look', 'at', 'the', 'amount', 'of', 'injuri', 'that', 'occur', 'in', 'the', 'english', 'season', '', '', 'robinson', 'told', 'bbc', 'sport', '', '', 'i', 'think', 'player', 'are', 'probabl', 'go', 'to', 'have', 'three', 'or', 'four', 'year', 'taken', 'off', 'their', 'career', '', '', 'robinson', 'will', 'be', 'miss', 'an', 'entir', 'midfield', 'for', 'the', 'six', 'nation', 'with', 'the', 'like', 'of', 'jonni', 'wilkinson', '', 'mike', 'tindal', 'and', 'will', 'greenwood', 'injur', '', '', 'rugbi', 'union', 'has', 'becom', 'far', 'more', 'physic', 'demand', 'sinc', 'the', 'game', 'went', 'profession', 'near', '', '', '', 'year', 'ago', '', 'as', 'a', 'result', 'three', 'of', 'the', 'major', 'stakehold', 'in', 'english', 'rugbi', 'have', 'launch', 'an', '', 'injuri', 'audit', '', 'to', 'find', 'out', 'how', 'player', 'are', 'cope', '', 'the', 'audit', 'is', 'joint', 'fund', 'by', 'the', 'profession', 'rugbi', 'player', '', 'associ', '', 'the', 'rugbi', 'footbal', 'union', 'and', 'premier', 'rugbi', '', 'as', 'far', 'as', 'robinson', 'is', 'concern', 'it', 'find', 'must', 'not', 'be', 'ignor', '', '', 'i', 'think', 'there', 's', 'an', 'injuri', 'audit', 'come', 'out', 'in', 'march', 'that', 's', 'got', 'some', 'great', 'inform', 'in', 'there', 'that', 'i', 'think', 'everybodi', 'in', 'the', 'english', 'game', 'has', 'got', 'to', 'look', 'at', '', '', 'he', 'said', '', '', 'if', 'we', 'don', 't', 'the', 'situat', 'is', 'go', 'to', 'get', 'wors', 'and', 'not', 'better', '', 'so', 'i', 'think', 'rugbi', 'as', 'a', 'whole', 'has', 'got', 'to', 'look', 'at', 'this', '', '', '']\n",
            "276\n"
          ]
        }
      ],
      "source": [
        "# Lemmatizing an article to see what snowball lemmatizer returns\n",
        "for rows in bbc_df['Contents']:\n",
        " print(rows)\n",
        " print(len(rows))\n",
        " test = [sno.stem(words) for words in rows.split(' ')]\n",
        " print(test)\n",
        " print(len(test))\n",
        " break"
      ]
    },
    {
      "cell_type": "markdown",
      "metadata": {
        "id": "JfZOXbVgbRff"
      },
      "source": [
        "Again the lemmatizer does its job and we got the list of words similar to WordNet Lemmatizer."
      ]
    },
    {
      "cell_type": "markdown",
      "metadata": {
        "id": "CRou3Czm6k-x"
      },
      "source": [
        "##### Now, let's check the same with textBlob"
      ]
    },
    {
      "cell_type": "code",
      "execution_count": null,
      "metadata": {
        "id": "uqVirx-rbThA",
        "colab": {
          "base_uri": "https://localhost:8080/"
        },
        "outputId": "aaa04a6e-b4e3-488b-886f-4449f0f6bd2d"
      },
      "outputs": [
        {
          "output_type": "stream",
          "name": "stdout",
          "text": [
            "player burn out worries robinson  england coach andy robinson says english rugby has to act now to prevent injury destroying players  careers   he will be without a host of big names for the six nations as the intensity of professional rugby union hits players   injuries are part of the sport but we have to have a look at the amount of injuries that occur in the english season   robinson told bbc sport   i think players are probably going to have three or four years taken off their careers   robinson will be missing an entire midfield for the six nations with the likes of jonny wilkinson  mike tindall and will greenwood injured   rugby union has become far more physically demanding since the game went professional nearly    years ago  as a result three of the major stakeholders in english rugby have launched an  injury audit  to find out how players are coping  the audit is jointly funded by the professional rugby players  association  the rugby football union and premier rugby  as far as robinson is concerned its findings must not be ignored   i think there s an injury audit coming out in march that s got some great information in there that i think everybody in the english game has got to look at   he said   if we don t the situation is going to get worse and not better  so i think rugby as a whole has got to look at this   \n",
            "1348\n",
            "['player', 'burn', 'out', 'worry', 'robinson', '', 'england', 'coach', 'andy', 'robinson', 'say', 'english', 'rugby', 'ha', 'to', 'act', 'now', 'to', 'prevent', 'injury', 'destroying', 'player', '', 'career', '', '', 'he', 'will', 'be', 'without', 'a', 'host', 'of', 'big', 'name', 'for', 'the', 'six', 'nation', 'a', 'the', 'intensity', 'of', 'professional', 'rugby', 'union', 'hit', 'player', '', '', 'injury', 'are', 'part', 'of', 'the', 'sport', 'but', 'we', 'have', 'to', 'have', 'a', 'look', 'at', 'the', 'amount', 'of', 'injury', 'that', 'occur', 'in', 'the', 'english', 'season', '', '', 'robinson', 'told', 'bbc', 'sport', '', '', 'i', 'think', 'player', 'are', 'probably', 'going', 'to', 'have', 'three', 'or', 'four', 'year', 'taken', 'off', 'their', 'career', '', '', 'robinson', 'will', 'be', 'missing', 'an', 'entire', 'midfield', 'for', 'the', 'six', 'nation', 'with', 'the', 'like', 'of', 'jonny', 'wilkinson', '', 'mike', 'tindall', 'and', 'will', 'greenwood', 'injured', '', '', 'rugby', 'union', 'ha', 'become', 'far', 'more', 'physically', 'demanding', 'since', 'the', 'game', 'went', 'professional', 'nearly', '', '', '', 'year', 'ago', '', 'a', 'a', 'result', 'three', 'of', 'the', 'major', 'stakeholder', 'in', 'english', 'rugby', 'have', 'launched', 'an', '', 'injury', 'audit', '', 'to', 'find', 'out', 'how', 'player', 'are', 'coping', '', 'the', 'audit', 'is', 'jointly', 'funded', 'by', 'the', 'professional', 'rugby', 'player', '', 'association', '', 'the', 'rugby', 'football', 'union', 'and', 'premier', 'rugby', '', 'a', 'far', 'a', 'robinson', 'is', 'concerned', 'it', 'finding', 'must', 'not', 'be', 'ignored', '', '', 'i', 'think', 'there', 's', 'an', 'injury', 'audit', 'coming', 'out', 'in', 'march', 'that', 's', 'got', 'some', 'great', 'information', 'in', 'there', 'that', 'i', 'think', 'everybody', 'in', 'the', 'english', 'game', 'ha', 'got', 'to', 'look', 'at', '', '', 'he', 'said', '', '', 'if', 'we', 'don', 't', 'the', 'situation', 'is', 'going', 'to', 'get', 'worse', 'and', 'not', 'better', '', 'so', 'i', 'think', 'rugby', 'a', 'a', 'whole', 'ha', 'got', 'to', 'look', 'at', 'this', '', '', '']\n",
            "276\n"
          ]
        }
      ],
      "source": [
        "# Lemmatizing using textblob\n",
        "for rows in bbc_df['Contents']:\n",
        " print(rows)\n",
        " print(len(rows))\n",
        " test = [Word(words).lemmatize() for words in rows.split(' ')]\n",
        " print(test)\n",
        " print(len(test))\n",
        " break"
      ]
    },
    {
      "cell_type": "markdown",
      "metadata": {
        "id": "1phX8H4f7SDU"
      },
      "source": [
        "We can clearly observe that similar lemmatized output is obtained from textBlob as well.\n"
      ]
    },
    {
      "cell_type": "markdown",
      "metadata": {
        "id": "FS1ZSawc7hz0"
      },
      "source": [
        "##### All of the following lemmatizers are displaying same results:\n",
        "\n",
        "1. WordNetLemmatizer\n",
        "2. Snowball Lemmatizer\n",
        "3. textBlob\n",
        "\n",
        "And all of the above lemmatizer algorithms are performing well on our content feature."
      ]
    },
    {
      "cell_type": "markdown",
      "metadata": {
        "id": "-oLEiFgy-5Pf"
      },
      "source": [
        "### 7. Feature Extraction (Vectorization)"
      ]
    },
    {
      "cell_type": "markdown",
      "metadata": {
        "id": "HiTuz1hP-eHW"
      },
      "source": [
        "Vectorization is a classic approach of converting input data from its raw format (i.e. text ) into vectors of real numbers which is the format that ML models support.\n",
        "\n",
        "The idea is to get some distinct features out of the text for the model to train on, by converting text to numerical vectors."
      ]
    },
    {
      "cell_type": "markdown",
      "metadata": {
        "id": "4TPGYqxF-uw4"
      },
      "source": [
        "Let us implement vectorization."
      ]
    },
    {
      "cell_type": "code",
      "execution_count": 52,
      "metadata": {
        "id": "BXlK56oT-vWJ"
      },
      "outputs": [],
      "source": [
        "# creating a countvectorizer object\n",
        "count_vectorizer = CountVectorizer(stop_words = stpwrd, max_features = 4000)"
      ]
    },
    {
      "cell_type": "code",
      "execution_count": 53,
      "metadata": {
        "id": "NTmLvW9T-vO8"
      },
      "outputs": [],
      "source": [
        "# Taking a sample Article\n",
        "text_sample = bbc_df.Contents"
      ]
    },
    {
      "cell_type": "code",
      "execution_count": 54,
      "metadata": {
        "colab": {
          "base_uri": "https://localhost:8080/"
        },
        "id": "9b6MmnWi_Raj",
        "outputId": "3ebde105-56f8-40a7-f413-d1b908b8ad63"
      },
      "outputs": [
        {
          "output_type": "stream",
          "name": "stdout",
          "text": [
            "Content before vectorization: venezuela identifies  idle  farms  venezuelan authorities have identified more than     farms  including    large estates  as idle as it continues with its controversial land reform policy   under a      land law  the government can tax or seize unused farm sites  a further        farms are yet to be inspected  the state s national land institute has told associated press  vice president jose vicente rangel has said farmers and ranchers with their titles in order and their lands productive have  nothing to fear   critics of the land reform policy claim president hugo chavez is trying to enforce a communist style economic programme that ignores property rights and will damage the country  land owners claim the national land institute has made mistakes in classifying lands as public or private   but the government   venezuela s largest land owner   say they are proceeding cautiously to prevent conflicts  in a statement  mr rangel said the land reform is not against the constitution  which permits private property  while stressing the efforts are to  vindicate social and economically  years of inequality in the country   one property in conflict with the government is the el charcote cattle ranch  run by agroflora  a subsidiary of the uk food group vestey  agriculture minister arnoldo marquez told reuters news agency the site s documents  do not guarantee that this is a private land   administrators of the ranch  however  have complained that pro chavez squatters have taken over     of the property in the last four years  and the uk government has asked venezuelan authorities to resolve the conflict   you should ask the company when they are going to put their papers in order and hand over the land that is not theirs   said mr marquez  \n"
          ]
        }
      ],
      "source": [
        "print('Content before vectorization: {}'.format(text_sample[123]))"
      ]
    },
    {
      "cell_type": "code",
      "execution_count": 55,
      "metadata": {
        "colab": {
          "base_uri": "https://localhost:8080/"
        },
        "id": "VSAAS8-F-vLx",
        "outputId": "48cc925b-2e6a-4a96-a718-d686ed16c6ad"
      },
      "outputs": [
        {
          "output_type": "stream",
          "name": "stdout",
          "text": [
            "Content after vectorization: \n",
            "  (0, 3779)\t3\n",
            "  (0, 3160)\t1\n",
            "  (0, 2374)\t2\n",
            "  (0, 407)\t4\n",
            "  (0, 3069)\t2\n",
            "  (0, 1928)\t1\n",
            "  (0, 958)\t1\n",
            "  (0, 3720)\t1\n",
            "  (0, 829)\t4\n",
            "  (0, 3630)\t1\n",
            "  (0, 638)\t2\n",
            "  (0, 878)\t1\n",
            "  (0, 3649)\t6\n",
            "  (0, 1386)\t5\n",
            "  (0, 1098)\t2\n",
            "  (0, 2289)\t1\n",
            "  (0, 3629)\t2\n",
            "  (0, 1916)\t2\n",
            "  (0, 181)\t3\n",
            "  (0, 2520)\t2\n",
            "  (0, 2925)\t1\n",
            "  (0, 1362)\t1\n",
            "  (0, 50)\t1\n",
            "  (0, 379)\t1\n",
            "  (0, 918)\t1\n",
            "  :\t:\n",
            "  (2124, 16)\t2\n",
            "  (2124, 2360)\t1\n",
            "  (2124, 1300)\t2\n",
            "  (2124, 2685)\t2\n",
            "  (2124, 504)\t1\n",
            "  (2124, 2945)\t1\n",
            "  (2124, 3284)\t2\n",
            "  (2124, 1068)\t1\n",
            "  (2124, 710)\t2\n",
            "  (2124, 1018)\t1\n",
            "  (2124, 2268)\t3\n",
            "  (2124, 2575)\t1\n",
            "  (2124, 2500)\t1\n",
            "  (2124, 47)\t1\n",
            "  (2124, 1233)\t1\n",
            "  (2124, 2368)\t1\n",
            "  (2124, 3913)\t1\n",
            "  (2124, 3616)\t1\n",
            "  (2124, 1142)\t1\n",
            "  (2124, 1768)\t1\n",
            "  (2124, 590)\t1\n",
            "  (2124, 478)\t4\n",
            "  (2124, 2687)\t1\n",
            "  (2124, 2688)\t2\n",
            "  (2124, 3015)\t1\n"
          ]
        }
      ],
      "source": [
        "# encode the textual content\n",
        "document_term_matrix = count_vectorizer.fit_transform(text_sample)\n",
        "\n",
        "# text after vectorization\n",
        "print('Content after vectorization: \\n{}'.format(document_term_matrix))"
      ]
    },
    {
      "cell_type": "markdown",
      "metadata": {
        "id": "StxgDquwAFKf"
      },
      "source": [
        "We can see that the text was succesfully converted into a vectorized numeric form. The countvectorizer works as intended, we can now proceed forward to implement the ML model."
      ]
    },
    {
      "cell_type": "markdown",
      "metadata": {
        "id": "VfCC591jGiD4"
      },
      "source": [
        "## ***7. ML Model Implementation***"
      ]
    },
    {
      "cell_type": "markdown",
      "metadata": {
        "id": "OB4l2ZhMeS1U"
      },
      "source": [
        "### ML Model - 1\n",
        "\n",
        "LDA"
      ]
    },
    {
      "cell_type": "markdown",
      "metadata": {
        "id": "jnrtrJp-v5Gs"
      },
      "source": [
        "Now that all the necessary preprocessing is done, we'll implement the ML model for topic modeling on the BBC news articles. Here we have used the LDA algorithm for this purpose. Let’s discuss more about the algorithm and its specifics."
      ]
    },
    {
      "cell_type": "markdown",
      "metadata": {
        "id": "Lg6kiaKXwE9K"
      },
      "source": [
        "##### **Latent Dirichlet Allocation (LDA)** \n",
        "\n",
        "It is one of most popular topic modeling technique to extract topics from a given corpus. The term latent conveys something that exists but is not yet developed. In other words, latent means hidden or concealed. The Dirichlet model describes the pattern of the words that are repeating together, occurring frequently, and these words are similar to each other.\n",
        "\n",
        "And this stochastic process uses Bayesian inferences for explaining “the prior knowledge about the distribution of random variables”. In the case of topic modeling, the process helps in estimating what are the chances of the words, which are spread over the document, will occur again? This enables the model to build data points, estimate probabilities, that’s why LDA is a breed of generative probabilistic model.\n",
        "\n",
        "LDA generates probabilities for the words using which the topics are formed and eventually the topics are classified into documents."
      ]
    },
    {
      "cell_type": "markdown",
      "metadata": {
        "id": "p7iHsepkwO5d"
      },
      "source": [
        "The LDA makes two key assumptions:\n",
        "\n",
        "* Documents are a mixture of topics, and\n",
        "* Topics are a mixture of tokens (or words)"
      ]
    },
    {
      "cell_type": "markdown",
      "metadata": {
        "id": "bHXu3Wn5wU4b"
      },
      "source": [
        "The end goal of LDA is to find the most optimal representation of the Document-Topic matrix and the Topic-Word matrix to find the most optimized Document-Topic distribution and Topic-Word distribution."
      ]
    },
    {
      "cell_type": "markdown",
      "metadata": {
        "id": "RPWVNrvmwUqN"
      },
      "source": [
        "As LDA assumes that documents are a mixture of topics, where topics are a mixture of words so LDA backtracks from the document level to identify which topics would have generated these documents and which words would have generated those topics."
      ]
    },
    {
      "cell_type": "code",
      "execution_count": null,
      "metadata": {
        "colab": {
          "background_save": true
        },
        "id": "7ebyywQieS1U"
      },
      "outputs": [],
      "source": [
        "# ML Model - 1 Implementation"
      ]
    },
    {
      "cell_type": "code",
      "source": [
        "from sklearn.decomposition import LatentDirichletAllocation\n",
        "\n",
        "lda = LatentDirichletAllocation(n_components=5, random_state=42)\n",
        "lda.fit(document_term_matrix);"
      ],
      "metadata": {
        "id": "Xv1NYNJWQVSg"
      },
      "execution_count": 56,
      "outputs": []
    },
    {
      "cell_type": "code",
      "source": [
        "for i,topic in enumerate(lda.components_):\n",
        "    print(f'Topic #{i}:')\n",
        "    print([count_vectorizer.get_feature_names_out()[i] for i in topic.argsort()[-10:]])\n",
        "    print('\\n')"
      ],
      "metadata": {
        "colab": {
          "base_uri": "https://localhost:8080/"
        },
        "id": "VaM8F4r3QVPm",
        "outputId": "a430380e-7b49-43e1-8724-4d2aac0d8562"
      },
      "execution_count": 58,
      "outputs": [
        {
          "output_type": "stream",
          "name": "stdout",
          "text": [
            "Topic #0:\n",
            "['england', 'world', 'also', 'time', 'year', 'would', 'new', 'games', 'game', 'said']\n",
            "\n",
            "\n",
            "Topic #1:\n",
            "['economy', 'last', 'growth', 'sales', 'also', 'best', 'us', 'film', 'year', 'said']\n",
            "\n",
            "\n",
            "Topic #2:\n",
            "['also', 'company', 'new', 'could', 'us', 'bn', 'government', 'would', 'mr', 'said']\n",
            "\n",
            "\n",
            "Topic #3:\n",
            "['blair', 'party', 'election', 'one', 'music', 'labour', 'would', 'people', 'mr', 'said']\n",
            "\n",
            "\n",
            "Topic #4:\n",
            "['final', 'back', 'game', 'half', 'two', 'ireland', 'second', 'said', 'win', 'first']\n",
            "\n",
            "\n"
          ]
        }
      ]
    },
    {
      "cell_type": "markdown",
      "source": [
        "Looks like the topics could be:\n",
        "\n",
        "International, Business, Politics, Entertainment, Sports."
      ],
      "metadata": {
        "id": "KAcU33eHXoSM"
      }
    },
    {
      "cell_type": "code",
      "source": [
        "topic_values = lda.transform(document_term_matrix)\n",
        "doc_num, topic_num = topic_values.shape"
      ],
      "metadata": {
        "id": "Hwz9ee59QVMf"
      },
      "execution_count": 59,
      "outputs": []
    },
    {
      "cell_type": "code",
      "source": [
        "topic_values.shape"
      ],
      "metadata": {
        "colab": {
          "base_uri": "https://localhost:8080/"
        },
        "id": "8zw4NLSHQVJs",
        "outputId": "92842a91-ca1b-41b9-ef77-c2425f09485c"
      },
      "execution_count": 60,
      "outputs": [
        {
          "output_type": "execute_result",
          "data": {
            "text/plain": [
              "(2125, 5)"
            ]
          },
          "metadata": {},
          "execution_count": 60
        }
      ]
    },
    {
      "cell_type": "markdown",
      "source": [
        "Let us explore this in a pandas dataframe so that we can better understand."
      ],
      "metadata": {
        "id": "AQEITepZY7CS"
      }
    },
    {
      "cell_type": "code",
      "source": [
        "df = pd.DataFrame({'document': bbc_df['Contents'], 'label': bbc_df['Category'], 'lda': topic_values.argmax(axis=1)})\n",
        "df.groupby(['label', 'lda']).count().unstack()"
      ],
      "metadata": {
        "colab": {
          "base_uri": "https://localhost:8080/",
          "height": 268
        },
        "id": "OcZduv4iQVFp",
        "outputId": "0ce2eeca-bfb5-4c4c-ffda-bbf56ddea914"
      },
      "execution_count": 63,
      "outputs": [
        {
          "output_type": "execute_result",
          "data": {
            "text/plain": [
              "              document                            \n",
              "lda                  0      1      2      3      4\n",
              "label                                             \n",
              "business           3.0  152.0  344.0    4.0    NaN\n",
              "entertainment      1.0  249.0   10.0  108.0    1.0\n",
              "politics           3.0    NaN  126.0  274.0    NaN\n",
              "sport            299.0    2.0    1.0    NaN  201.0\n",
              "tech              88.0    9.0  110.0  140.0    NaN"
            ],
            "text/html": [
              "\n",
              "  <div id=\"df-f2089a10-56b6-4cc8-8700-3eba4750c834\">\n",
              "    <div class=\"colab-df-container\">\n",
              "      <div>\n",
              "<style scoped>\n",
              "    .dataframe tbody tr th:only-of-type {\n",
              "        vertical-align: middle;\n",
              "    }\n",
              "\n",
              "    .dataframe tbody tr th {\n",
              "        vertical-align: top;\n",
              "    }\n",
              "\n",
              "    .dataframe thead tr th {\n",
              "        text-align: left;\n",
              "    }\n",
              "\n",
              "    .dataframe thead tr:last-of-type th {\n",
              "        text-align: right;\n",
              "    }\n",
              "</style>\n",
              "<table border=\"1\" class=\"dataframe\">\n",
              "  <thead>\n",
              "    <tr>\n",
              "      <th></th>\n",
              "      <th colspan=\"5\" halign=\"left\">document</th>\n",
              "    </tr>\n",
              "    <tr>\n",
              "      <th>lda</th>\n",
              "      <th>0</th>\n",
              "      <th>1</th>\n",
              "      <th>2</th>\n",
              "      <th>3</th>\n",
              "      <th>4</th>\n",
              "    </tr>\n",
              "    <tr>\n",
              "      <th>label</th>\n",
              "      <th></th>\n",
              "      <th></th>\n",
              "      <th></th>\n",
              "      <th></th>\n",
              "      <th></th>\n",
              "    </tr>\n",
              "  </thead>\n",
              "  <tbody>\n",
              "    <tr>\n",
              "      <th>business</th>\n",
              "      <td>3.0</td>\n",
              "      <td>152.0</td>\n",
              "      <td>344.0</td>\n",
              "      <td>4.0</td>\n",
              "      <td>NaN</td>\n",
              "    </tr>\n",
              "    <tr>\n",
              "      <th>entertainment</th>\n",
              "      <td>1.0</td>\n",
              "      <td>249.0</td>\n",
              "      <td>10.0</td>\n",
              "      <td>108.0</td>\n",
              "      <td>1.0</td>\n",
              "    </tr>\n",
              "    <tr>\n",
              "      <th>politics</th>\n",
              "      <td>3.0</td>\n",
              "      <td>NaN</td>\n",
              "      <td>126.0</td>\n",
              "      <td>274.0</td>\n",
              "      <td>NaN</td>\n",
              "    </tr>\n",
              "    <tr>\n",
              "      <th>sport</th>\n",
              "      <td>299.0</td>\n",
              "      <td>2.0</td>\n",
              "      <td>1.0</td>\n",
              "      <td>NaN</td>\n",
              "      <td>201.0</td>\n",
              "    </tr>\n",
              "    <tr>\n",
              "      <th>tech</th>\n",
              "      <td>88.0</td>\n",
              "      <td>9.0</td>\n",
              "      <td>110.0</td>\n",
              "      <td>140.0</td>\n",
              "      <td>NaN</td>\n",
              "    </tr>\n",
              "  </tbody>\n",
              "</table>\n",
              "</div>\n",
              "      <button class=\"colab-df-convert\" onclick=\"convertToInteractive('df-f2089a10-56b6-4cc8-8700-3eba4750c834')\"\n",
              "              title=\"Convert this dataframe to an interactive table.\"\n",
              "              style=\"display:none;\">\n",
              "        \n",
              "  <svg xmlns=\"http://www.w3.org/2000/svg\" height=\"24px\"viewBox=\"0 0 24 24\"\n",
              "       width=\"24px\">\n",
              "    <path d=\"M0 0h24v24H0V0z\" fill=\"none\"/>\n",
              "    <path d=\"M18.56 5.44l.94 2.06.94-2.06 2.06-.94-2.06-.94-.94-2.06-.94 2.06-2.06.94zm-11 1L8.5 8.5l.94-2.06 2.06-.94-2.06-.94L8.5 2.5l-.94 2.06-2.06.94zm10 10l.94 2.06.94-2.06 2.06-.94-2.06-.94-.94-2.06-.94 2.06-2.06.94z\"/><path d=\"M17.41 7.96l-1.37-1.37c-.4-.4-.92-.59-1.43-.59-.52 0-1.04.2-1.43.59L10.3 9.45l-7.72 7.72c-.78.78-.78 2.05 0 2.83L4 21.41c.39.39.9.59 1.41.59.51 0 1.02-.2 1.41-.59l7.78-7.78 2.81-2.81c.8-.78.8-2.07 0-2.86zM5.41 20L4 18.59l7.72-7.72 1.47 1.35L5.41 20z\"/>\n",
              "  </svg>\n",
              "      </button>\n",
              "      \n",
              "  <style>\n",
              "    .colab-df-container {\n",
              "      display:flex;\n",
              "      flex-wrap:wrap;\n",
              "      gap: 12px;\n",
              "    }\n",
              "\n",
              "    .colab-df-convert {\n",
              "      background-color: #E8F0FE;\n",
              "      border: none;\n",
              "      border-radius: 50%;\n",
              "      cursor: pointer;\n",
              "      display: none;\n",
              "      fill: #1967D2;\n",
              "      height: 32px;\n",
              "      padding: 0 0 0 0;\n",
              "      width: 32px;\n",
              "    }\n",
              "\n",
              "    .colab-df-convert:hover {\n",
              "      background-color: #E2EBFA;\n",
              "      box-shadow: 0px 1px 2px rgba(60, 64, 67, 0.3), 0px 1px 3px 1px rgba(60, 64, 67, 0.15);\n",
              "      fill: #174EA6;\n",
              "    }\n",
              "\n",
              "    [theme=dark] .colab-df-convert {\n",
              "      background-color: #3B4455;\n",
              "      fill: #D2E3FC;\n",
              "    }\n",
              "\n",
              "    [theme=dark] .colab-df-convert:hover {\n",
              "      background-color: #434B5C;\n",
              "      box-shadow: 0px 1px 3px 1px rgba(0, 0, 0, 0.15);\n",
              "      filter: drop-shadow(0px 1px 2px rgba(0, 0, 0, 0.3));\n",
              "      fill: #FFFFFF;\n",
              "    }\n",
              "  </style>\n",
              "\n",
              "      <script>\n",
              "        const buttonEl =\n",
              "          document.querySelector('#df-f2089a10-56b6-4cc8-8700-3eba4750c834 button.colab-df-convert');\n",
              "        buttonEl.style.display =\n",
              "          google.colab.kernel.accessAllowed ? 'block' : 'none';\n",
              "\n",
              "        async function convertToInteractive(key) {\n",
              "          const element = document.querySelector('#df-f2089a10-56b6-4cc8-8700-3eba4750c834');\n",
              "          const dataTable =\n",
              "            await google.colab.kernel.invokeFunction('convertToInteractive',\n",
              "                                                     [key], {});\n",
              "          if (!dataTable) return;\n",
              "\n",
              "          const docLinkHtml = 'Like what you see? Visit the ' +\n",
              "            '<a target=\"_blank\" href=https://colab.research.google.com/notebooks/data_table.ipynb>data table notebook</a>'\n",
              "            + ' to learn more about interactive tables.';\n",
              "          element.innerHTML = '';\n",
              "          dataTable['output_type'] = 'display_data';\n",
              "          await google.colab.output.renderOutput(dataTable, element);\n",
              "          const docLink = document.createElement('div');\n",
              "          docLink.innerHTML = docLinkHtml;\n",
              "          element.appendChild(docLink);\n",
              "        }\n",
              "      </script>\n",
              "    </div>\n",
              "  </div>\n",
              "  "
            ]
          },
          "metadata": {},
          "execution_count": 63
        }
      ]
    },
    {
      "cell_type": "markdown",
      "source": [
        "Comparing \"lda\" results to \"labels\" that were taken from the data set, we can see that most of the articles topics have distributed segregation. This may be because several words are present in multiple topics. "
      ],
      "metadata": {
        "id": "S1XTqCDGZ89D"
      }
    },
    {
      "cell_type": "markdown",
      "source": [
        "Let's look at the matrix of probabilities for each document to better understand retrieved results.\n",
        "\n",
        "In order to visualize, we will use bokeh library."
      ],
      "metadata": {
        "id": "e7Cbm9uZd832"
      }
    },
    {
      "cell_type": "code",
      "source": [
        "# Importing necessary BOKEH modules\n",
        "from bokeh.models import LinearColorMapper, BasicTicker, PrintfTickFormatter, ColorBar\n",
        "from bokeh.plotting import figure\n",
        "from bokeh.sampledata.unemployment1948 import data\n",
        "from bokeh.io import output_notebook\n",
        "from math import pi\n",
        "from bokeh.io import show, output_file"
      ],
      "metadata": {
        "id": "9SYvfN-cd8IU"
      },
      "execution_count": 77,
      "outputs": []
    },
    {
      "cell_type": "code",
      "source": [
        "# creating matrix of topic distribution\n",
        "prob_matrix_df = pd.DataFrame(data=topic_values[0:,0:], \n",
        "              index=list(range(len(topic_values))),\n",
        "              columns=list(range(topic_num)))\n",
        "prob_matrix_df"
      ],
      "metadata": {
        "colab": {
          "base_uri": "https://localhost:8080/",
          "height": 423
        },
        "id": "CJazkHEiZHZh",
        "outputId": "8eb7febc-1cf8-4771-ffca-61b087ee3b96"
      },
      "execution_count": 68,
      "outputs": [
        {
          "output_type": "execute_result",
          "data": {
            "text/plain": [
              "             0         1         2         3         4\n",
              "0     0.001117  0.197571  0.759036  0.041158  0.001118\n",
              "1     0.991715  0.002058  0.002071  0.002070  0.002087\n",
              "2     0.205589  0.000632  0.090356  0.702796  0.000627\n",
              "3     0.000763  0.000768  0.229466  0.768244  0.000759\n",
              "4     0.001588  0.654510  0.340723  0.001589  0.001590\n",
              "...        ...       ...       ...       ...       ...\n",
              "2120  0.575046  0.001410  0.140177  0.001428  0.281939\n",
              "2121  0.001551  0.842978  0.001540  0.001561  0.152369\n",
              "2122  0.000921  0.000920  0.083939  0.913297  0.000922\n",
              "2123  0.002353  0.802980  0.189977  0.002358  0.002332\n",
              "2124  0.000857  0.000854  0.650928  0.346516  0.000845\n",
              "\n",
              "[2125 rows x 5 columns]"
            ],
            "text/html": [
              "\n",
              "  <div id=\"df-ea0d6b8e-7eb3-4274-980d-6eb8ae95010a\">\n",
              "    <div class=\"colab-df-container\">\n",
              "      <div>\n",
              "<style scoped>\n",
              "    .dataframe tbody tr th:only-of-type {\n",
              "        vertical-align: middle;\n",
              "    }\n",
              "\n",
              "    .dataframe tbody tr th {\n",
              "        vertical-align: top;\n",
              "    }\n",
              "\n",
              "    .dataframe thead th {\n",
              "        text-align: right;\n",
              "    }\n",
              "</style>\n",
              "<table border=\"1\" class=\"dataframe\">\n",
              "  <thead>\n",
              "    <tr style=\"text-align: right;\">\n",
              "      <th></th>\n",
              "      <th>0</th>\n",
              "      <th>1</th>\n",
              "      <th>2</th>\n",
              "      <th>3</th>\n",
              "      <th>4</th>\n",
              "    </tr>\n",
              "  </thead>\n",
              "  <tbody>\n",
              "    <tr>\n",
              "      <th>0</th>\n",
              "      <td>0.001117</td>\n",
              "      <td>0.197571</td>\n",
              "      <td>0.759036</td>\n",
              "      <td>0.041158</td>\n",
              "      <td>0.001118</td>\n",
              "    </tr>\n",
              "    <tr>\n",
              "      <th>1</th>\n",
              "      <td>0.991715</td>\n",
              "      <td>0.002058</td>\n",
              "      <td>0.002071</td>\n",
              "      <td>0.002070</td>\n",
              "      <td>0.002087</td>\n",
              "    </tr>\n",
              "    <tr>\n",
              "      <th>2</th>\n",
              "      <td>0.205589</td>\n",
              "      <td>0.000632</td>\n",
              "      <td>0.090356</td>\n",
              "      <td>0.702796</td>\n",
              "      <td>0.000627</td>\n",
              "    </tr>\n",
              "    <tr>\n",
              "      <th>3</th>\n",
              "      <td>0.000763</td>\n",
              "      <td>0.000768</td>\n",
              "      <td>0.229466</td>\n",
              "      <td>0.768244</td>\n",
              "      <td>0.000759</td>\n",
              "    </tr>\n",
              "    <tr>\n",
              "      <th>4</th>\n",
              "      <td>0.001588</td>\n",
              "      <td>0.654510</td>\n",
              "      <td>0.340723</td>\n",
              "      <td>0.001589</td>\n",
              "      <td>0.001590</td>\n",
              "    </tr>\n",
              "    <tr>\n",
              "      <th>...</th>\n",
              "      <td>...</td>\n",
              "      <td>...</td>\n",
              "      <td>...</td>\n",
              "      <td>...</td>\n",
              "      <td>...</td>\n",
              "    </tr>\n",
              "    <tr>\n",
              "      <th>2120</th>\n",
              "      <td>0.575046</td>\n",
              "      <td>0.001410</td>\n",
              "      <td>0.140177</td>\n",
              "      <td>0.001428</td>\n",
              "      <td>0.281939</td>\n",
              "    </tr>\n",
              "    <tr>\n",
              "      <th>2121</th>\n",
              "      <td>0.001551</td>\n",
              "      <td>0.842978</td>\n",
              "      <td>0.001540</td>\n",
              "      <td>0.001561</td>\n",
              "      <td>0.152369</td>\n",
              "    </tr>\n",
              "    <tr>\n",
              "      <th>2122</th>\n",
              "      <td>0.000921</td>\n",
              "      <td>0.000920</td>\n",
              "      <td>0.083939</td>\n",
              "      <td>0.913297</td>\n",
              "      <td>0.000922</td>\n",
              "    </tr>\n",
              "    <tr>\n",
              "      <th>2123</th>\n",
              "      <td>0.002353</td>\n",
              "      <td>0.802980</td>\n",
              "      <td>0.189977</td>\n",
              "      <td>0.002358</td>\n",
              "      <td>0.002332</td>\n",
              "    </tr>\n",
              "    <tr>\n",
              "      <th>2124</th>\n",
              "      <td>0.000857</td>\n",
              "      <td>0.000854</td>\n",
              "      <td>0.650928</td>\n",
              "      <td>0.346516</td>\n",
              "      <td>0.000845</td>\n",
              "    </tr>\n",
              "  </tbody>\n",
              "</table>\n",
              "<p>2125 rows × 5 columns</p>\n",
              "</div>\n",
              "      <button class=\"colab-df-convert\" onclick=\"convertToInteractive('df-ea0d6b8e-7eb3-4274-980d-6eb8ae95010a')\"\n",
              "              title=\"Convert this dataframe to an interactive table.\"\n",
              "              style=\"display:none;\">\n",
              "        \n",
              "  <svg xmlns=\"http://www.w3.org/2000/svg\" height=\"24px\"viewBox=\"0 0 24 24\"\n",
              "       width=\"24px\">\n",
              "    <path d=\"M0 0h24v24H0V0z\" fill=\"none\"/>\n",
              "    <path d=\"M18.56 5.44l.94 2.06.94-2.06 2.06-.94-2.06-.94-.94-2.06-.94 2.06-2.06.94zm-11 1L8.5 8.5l.94-2.06 2.06-.94-2.06-.94L8.5 2.5l-.94 2.06-2.06.94zm10 10l.94 2.06.94-2.06 2.06-.94-2.06-.94-.94-2.06-.94 2.06-2.06.94z\"/><path d=\"M17.41 7.96l-1.37-1.37c-.4-.4-.92-.59-1.43-.59-.52 0-1.04.2-1.43.59L10.3 9.45l-7.72 7.72c-.78.78-.78 2.05 0 2.83L4 21.41c.39.39.9.59 1.41.59.51 0 1.02-.2 1.41-.59l7.78-7.78 2.81-2.81c.8-.78.8-2.07 0-2.86zM5.41 20L4 18.59l7.72-7.72 1.47 1.35L5.41 20z\"/>\n",
              "  </svg>\n",
              "      </button>\n",
              "      \n",
              "  <style>\n",
              "    .colab-df-container {\n",
              "      display:flex;\n",
              "      flex-wrap:wrap;\n",
              "      gap: 12px;\n",
              "    }\n",
              "\n",
              "    .colab-df-convert {\n",
              "      background-color: #E8F0FE;\n",
              "      border: none;\n",
              "      border-radius: 50%;\n",
              "      cursor: pointer;\n",
              "      display: none;\n",
              "      fill: #1967D2;\n",
              "      height: 32px;\n",
              "      padding: 0 0 0 0;\n",
              "      width: 32px;\n",
              "    }\n",
              "\n",
              "    .colab-df-convert:hover {\n",
              "      background-color: #E2EBFA;\n",
              "      box-shadow: 0px 1px 2px rgba(60, 64, 67, 0.3), 0px 1px 3px 1px rgba(60, 64, 67, 0.15);\n",
              "      fill: #174EA6;\n",
              "    }\n",
              "\n",
              "    [theme=dark] .colab-df-convert {\n",
              "      background-color: #3B4455;\n",
              "      fill: #D2E3FC;\n",
              "    }\n",
              "\n",
              "    [theme=dark] .colab-df-convert:hover {\n",
              "      background-color: #434B5C;\n",
              "      box-shadow: 0px 1px 3px 1px rgba(0, 0, 0, 0.15);\n",
              "      filter: drop-shadow(0px 1px 2px rgba(0, 0, 0, 0.3));\n",
              "      fill: #FFFFFF;\n",
              "    }\n",
              "  </style>\n",
              "\n",
              "      <script>\n",
              "        const buttonEl =\n",
              "          document.querySelector('#df-ea0d6b8e-7eb3-4274-980d-6eb8ae95010a button.colab-df-convert');\n",
              "        buttonEl.style.display =\n",
              "          google.colab.kernel.accessAllowed ? 'block' : 'none';\n",
              "\n",
              "        async function convertToInteractive(key) {\n",
              "          const element = document.querySelector('#df-ea0d6b8e-7eb3-4274-980d-6eb8ae95010a');\n",
              "          const dataTable =\n",
              "            await google.colab.kernel.invokeFunction('convertToInteractive',\n",
              "                                                     [key], {});\n",
              "          if (!dataTable) return;\n",
              "\n",
              "          const docLinkHtml = 'Like what you see? Visit the ' +\n",
              "            '<a target=\"_blank\" href=https://colab.research.google.com/notebooks/data_table.ipynb>data table notebook</a>'\n",
              "            + ' to learn more about interactive tables.';\n",
              "          element.innerHTML = '';\n",
              "          dataTable['output_type'] = 'display_data';\n",
              "          await google.colab.output.renderOutput(dataTable, element);\n",
              "          const docLink = document.createElement('div');\n",
              "          docLink.innerHTML = docLinkHtml;\n",
              "          element.appendChild(docLink);\n",
              "        }\n",
              "      </script>\n",
              "    </div>\n",
              "  </div>\n",
              "  "
            ]
          },
          "metadata": {},
          "execution_count": 68
        }
      ]
    },
    {
      "cell_type": "code",
      "source": [
        "# Creating topic weightage distribution for each document\n",
        "prob_matrix_df['doc'] = list(range(doc_num))\n",
        "prob_matrix_df = prob_matrix_df.set_index('doc')\n",
        "prob_matrix_df.columns.name = 'topic'\n",
        "df = pd.DataFrame(prob_matrix_df.stack(), columns=['rate']).reset_index()"
      ],
      "metadata": {
        "id": "1v-GmNpFZHWv"
      },
      "execution_count": 69,
      "outputs": []
    },
    {
      "cell_type": "code",
      "source": [
        "df.head()"
      ],
      "metadata": {
        "colab": {
          "base_uri": "https://localhost:8080/",
          "height": 206
        },
        "id": "y0jjuKzSZHT3",
        "outputId": "46ed7b0c-5d45-423f-cd62-9ab34c784e99"
      },
      "execution_count": 71,
      "outputs": [
        {
          "output_type": "execute_result",
          "data": {
            "text/plain": [
              "   doc  topic      rate\n",
              "0    0      0  0.001117\n",
              "1    0      1  0.197571\n",
              "2    0      2  0.759036\n",
              "3    0      3  0.041158\n",
              "4    0      4  0.001118"
            ],
            "text/html": [
              "\n",
              "  <div id=\"df-9be61c87-8465-4b96-9ed9-e54cd27b059f\">\n",
              "    <div class=\"colab-df-container\">\n",
              "      <div>\n",
              "<style scoped>\n",
              "    .dataframe tbody tr th:only-of-type {\n",
              "        vertical-align: middle;\n",
              "    }\n",
              "\n",
              "    .dataframe tbody tr th {\n",
              "        vertical-align: top;\n",
              "    }\n",
              "\n",
              "    .dataframe thead th {\n",
              "        text-align: right;\n",
              "    }\n",
              "</style>\n",
              "<table border=\"1\" class=\"dataframe\">\n",
              "  <thead>\n",
              "    <tr style=\"text-align: right;\">\n",
              "      <th></th>\n",
              "      <th>doc</th>\n",
              "      <th>topic</th>\n",
              "      <th>rate</th>\n",
              "    </tr>\n",
              "  </thead>\n",
              "  <tbody>\n",
              "    <tr>\n",
              "      <th>0</th>\n",
              "      <td>0</td>\n",
              "      <td>0</td>\n",
              "      <td>0.001117</td>\n",
              "    </tr>\n",
              "    <tr>\n",
              "      <th>1</th>\n",
              "      <td>0</td>\n",
              "      <td>1</td>\n",
              "      <td>0.197571</td>\n",
              "    </tr>\n",
              "    <tr>\n",
              "      <th>2</th>\n",
              "      <td>0</td>\n",
              "      <td>2</td>\n",
              "      <td>0.759036</td>\n",
              "    </tr>\n",
              "    <tr>\n",
              "      <th>3</th>\n",
              "      <td>0</td>\n",
              "      <td>3</td>\n",
              "      <td>0.041158</td>\n",
              "    </tr>\n",
              "    <tr>\n",
              "      <th>4</th>\n",
              "      <td>0</td>\n",
              "      <td>4</td>\n",
              "      <td>0.001118</td>\n",
              "    </tr>\n",
              "  </tbody>\n",
              "</table>\n",
              "</div>\n",
              "      <button class=\"colab-df-convert\" onclick=\"convertToInteractive('df-9be61c87-8465-4b96-9ed9-e54cd27b059f')\"\n",
              "              title=\"Convert this dataframe to an interactive table.\"\n",
              "              style=\"display:none;\">\n",
              "        \n",
              "  <svg xmlns=\"http://www.w3.org/2000/svg\" height=\"24px\"viewBox=\"0 0 24 24\"\n",
              "       width=\"24px\">\n",
              "    <path d=\"M0 0h24v24H0V0z\" fill=\"none\"/>\n",
              "    <path d=\"M18.56 5.44l.94 2.06.94-2.06 2.06-.94-2.06-.94-.94-2.06-.94 2.06-2.06.94zm-11 1L8.5 8.5l.94-2.06 2.06-.94-2.06-.94L8.5 2.5l-.94 2.06-2.06.94zm10 10l.94 2.06.94-2.06 2.06-.94-2.06-.94-.94-2.06-.94 2.06-2.06.94z\"/><path d=\"M17.41 7.96l-1.37-1.37c-.4-.4-.92-.59-1.43-.59-.52 0-1.04.2-1.43.59L10.3 9.45l-7.72 7.72c-.78.78-.78 2.05 0 2.83L4 21.41c.39.39.9.59 1.41.59.51 0 1.02-.2 1.41-.59l7.78-7.78 2.81-2.81c.8-.78.8-2.07 0-2.86zM5.41 20L4 18.59l7.72-7.72 1.47 1.35L5.41 20z\"/>\n",
              "  </svg>\n",
              "      </button>\n",
              "      \n",
              "  <style>\n",
              "    .colab-df-container {\n",
              "      display:flex;\n",
              "      flex-wrap:wrap;\n",
              "      gap: 12px;\n",
              "    }\n",
              "\n",
              "    .colab-df-convert {\n",
              "      background-color: #E8F0FE;\n",
              "      border: none;\n",
              "      border-radius: 50%;\n",
              "      cursor: pointer;\n",
              "      display: none;\n",
              "      fill: #1967D2;\n",
              "      height: 32px;\n",
              "      padding: 0 0 0 0;\n",
              "      width: 32px;\n",
              "    }\n",
              "\n",
              "    .colab-df-convert:hover {\n",
              "      background-color: #E2EBFA;\n",
              "      box-shadow: 0px 1px 2px rgba(60, 64, 67, 0.3), 0px 1px 3px 1px rgba(60, 64, 67, 0.15);\n",
              "      fill: #174EA6;\n",
              "    }\n",
              "\n",
              "    [theme=dark] .colab-df-convert {\n",
              "      background-color: #3B4455;\n",
              "      fill: #D2E3FC;\n",
              "    }\n",
              "\n",
              "    [theme=dark] .colab-df-convert:hover {\n",
              "      background-color: #434B5C;\n",
              "      box-shadow: 0px 1px 3px 1px rgba(0, 0, 0, 0.15);\n",
              "      filter: drop-shadow(0px 1px 2px rgba(0, 0, 0, 0.3));\n",
              "      fill: #FFFFFF;\n",
              "    }\n",
              "  </style>\n",
              "\n",
              "      <script>\n",
              "        const buttonEl =\n",
              "          document.querySelector('#df-9be61c87-8465-4b96-9ed9-e54cd27b059f button.colab-df-convert');\n",
              "        buttonEl.style.display =\n",
              "          google.colab.kernel.accessAllowed ? 'block' : 'none';\n",
              "\n",
              "        async function convertToInteractive(key) {\n",
              "          const element = document.querySelector('#df-9be61c87-8465-4b96-9ed9-e54cd27b059f');\n",
              "          const dataTable =\n",
              "            await google.colab.kernel.invokeFunction('convertToInteractive',\n",
              "                                                     [key], {});\n",
              "          if (!dataTable) return;\n",
              "\n",
              "          const docLinkHtml = 'Like what you see? Visit the ' +\n",
              "            '<a target=\"_blank\" href=https://colab.research.google.com/notebooks/data_table.ipynb>data table notebook</a>'\n",
              "            + ' to learn more about interactive tables.';\n",
              "          element.innerHTML = '';\n",
              "          dataTable['output_type'] = 'display_data';\n",
              "          await google.colab.output.renderOutput(dataTable, element);\n",
              "          const docLink = document.createElement('div');\n",
              "          docLink.innerHTML = docLinkHtml;\n",
              "          element.appendChild(docLink);\n",
              "        }\n",
              "      </script>\n",
              "    </div>\n",
              "  </div>\n",
              "  "
            ]
          },
          "metadata": {},
          "execution_count": 71
        }
      ]
    },
    {
      "cell_type": "code",
      "source": [
        "# taking random documents for example\n",
        "import random\n",
        "rand = random.sample(range(1, 2555), 100)\n",
        "df_rand = df.loc[df['doc'].isin(rand)]"
      ],
      "metadata": {
        "id": "4Gd1Y3qHh4iO"
      },
      "execution_count": 79,
      "outputs": []
    },
    {
      "cell_type": "code",
      "source": [
        "# Changing dtypes of our dataframe\n",
        "df['doc'] = df['doc'].astype(str)\n",
        "df['topic'] = df['topic'].astype(str)\n",
        "df['rate'] = df['rate']*100\n",
        "\n",
        "# Creating a list of all document indexes\n",
        "docs = list(set(df['doc'].head(50)))\n",
        "docs.sort()\n",
        "docs = [str(i) for i in docs]\n",
        "# Topics list\n",
        "topics = ['0','1','2','3','4']"
      ],
      "metadata": {
        "id": "3GaJi5VnZHRB"
      },
      "execution_count": 89,
      "outputs": []
    },
    {
      "cell_type": "code",
      "source": [
        "# Plotting for topic distribution\n",
        "colors = ['#084594', '#2171b5', '#4292c6', '#6baed6', '#9ecae1', '#c6dbef', '#deebf7', '#f7fbff']\n",
        "colors.reverse()\n",
        "\n",
        "mapper = LinearColorMapper(palette=colors, low=df.rate.min(), high=df.rate.max())\n",
        "TOOLS = \"hover,save,pan,box_zoom,reset,wheel_zoom\"\n",
        "\n",
        "p = figure(title=\"Topic probability per document\",\n",
        "           x_range=topics, y_range=docs,\n",
        "           x_axis_location=\"above\", plot_width=800, plot_height=400,\n",
        "                      tools=TOOLS, toolbar_location='below',\n",
        "           tooltips=[('rate', '@rate%')]\n",
        "          )\n",
        "\n",
        "p.grid.grid_line_color = None\n",
        "p.axis.axis_line_color = None\n",
        "p.axis.major_tick_line_color = None\n",
        "p.axis.major_label_text_font_size = \"5pt\"\n",
        "p.axis.major_label_standoff = 0\n",
        "\n",
        "p.rect(x=\"topic\", y=\"doc\", width=1, height=1,\n",
        "       source=df,\n",
        "       fill_color={'field': 'rate', 'transform': mapper},\n",
        "       line_color=None)\n",
        "\n",
        "color_bar = ColorBar(color_mapper=mapper, major_label_text_font_size=\"5pt\",\n",
        "                     ticker=BasicTicker(desired_num_ticks=len(colors)),\n",
        "                     formatter=PrintfTickFormatter(format=\"%d%%\"),\n",
        "                     label_standoff=6, border_line_color=None, location=(0, 0))\n",
        "p.add_layout(color_bar, 'right')\n",
        "\n",
        "output_notebook()\n",
        "show(p)"
      ],
      "metadata": {
        "colab": {
          "base_uri": "https://localhost:8080/",
          "height": 417
        },
        "id": "TIC2x0bCgO7V",
        "outputId": "05b5656c-51dc-4b75-b114-224824cedd12"
      },
      "execution_count": 92,
      "outputs": [
        {
          "output_type": "display_data",
          "data": {
            "application/javascript": [
              "(function(root) {\n",
              "  function now() {\n",
              "    return new Date();\n",
              "  }\n",
              "\n",
              "  const force = true;\n",
              "\n",
              "  if (typeof root._bokeh_onload_callbacks === \"undefined\" || force === true) {\n",
              "    root._bokeh_onload_callbacks = [];\n",
              "    root._bokeh_is_loading = undefined;\n",
              "  }\n",
              "\n",
              "const JS_MIME_TYPE = 'application/javascript';\n",
              "  const HTML_MIME_TYPE = 'text/html';\n",
              "  const EXEC_MIME_TYPE = 'application/vnd.bokehjs_exec.v0+json';\n",
              "  const CLASS_NAME = 'output_bokeh rendered_html';\n",
              "\n",
              "  /**\n",
              "   * Render data to the DOM node\n",
              "   */\n",
              "  function render(props, node) {\n",
              "    const script = document.createElement(\"script\");\n",
              "    node.appendChild(script);\n",
              "  }\n",
              "\n",
              "  /**\n",
              "   * Handle when an output is cleared or removed\n",
              "   */\n",
              "  function handleClearOutput(event, handle) {\n",
              "    const cell = handle.cell;\n",
              "\n",
              "    const id = cell.output_area._bokeh_element_id;\n",
              "    const server_id = cell.output_area._bokeh_server_id;\n",
              "    // Clean up Bokeh references\n",
              "    if (id != null && id in Bokeh.index) {\n",
              "      Bokeh.index[id].model.document.clear();\n",
              "      delete Bokeh.index[id];\n",
              "    }\n",
              "\n",
              "    if (server_id !== undefined) {\n",
              "      // Clean up Bokeh references\n",
              "      const cmd_clean = \"from bokeh.io.state import curstate; print(curstate().uuid_to_server['\" + server_id + \"'].get_sessions()[0].document.roots[0]._id)\";\n",
              "      cell.notebook.kernel.execute(cmd_clean, {\n",
              "        iopub: {\n",
              "          output: function(msg) {\n",
              "            const id = msg.content.text.trim();\n",
              "            if (id in Bokeh.index) {\n",
              "              Bokeh.index[id].model.document.clear();\n",
              "              delete Bokeh.index[id];\n",
              "            }\n",
              "          }\n",
              "        }\n",
              "      });\n",
              "      // Destroy server and session\n",
              "      const cmd_destroy = \"import bokeh.io.notebook as ion; ion.destroy_server('\" + server_id + \"')\";\n",
              "      cell.notebook.kernel.execute(cmd_destroy);\n",
              "    }\n",
              "  }\n",
              "\n",
              "  /**\n",
              "   * Handle when a new output is added\n",
              "   */\n",
              "  function handleAddOutput(event, handle) {\n",
              "    const output_area = handle.output_area;\n",
              "    const output = handle.output;\n",
              "\n",
              "    // limit handleAddOutput to display_data with EXEC_MIME_TYPE content only\n",
              "    if ((output.output_type != \"display_data\") || (!Object.prototype.hasOwnProperty.call(output.data, EXEC_MIME_TYPE))) {\n",
              "      return\n",
              "    }\n",
              "\n",
              "    const toinsert = output_area.element.find(\".\" + CLASS_NAME.split(' ')[0]);\n",
              "\n",
              "    if (output.metadata[EXEC_MIME_TYPE][\"id\"] !== undefined) {\n",
              "      toinsert[toinsert.length - 1].firstChild.textContent = output.data[JS_MIME_TYPE];\n",
              "      // store reference to embed id on output_area\n",
              "      output_area._bokeh_element_id = output.metadata[EXEC_MIME_TYPE][\"id\"];\n",
              "    }\n",
              "    if (output.metadata[EXEC_MIME_TYPE][\"server_id\"] !== undefined) {\n",
              "      const bk_div = document.createElement(\"div\");\n",
              "      bk_div.innerHTML = output.data[HTML_MIME_TYPE];\n",
              "      const script_attrs = bk_div.children[0].attributes;\n",
              "      for (let i = 0; i < script_attrs.length; i++) {\n",
              "        toinsert[toinsert.length - 1].firstChild.setAttribute(script_attrs[i].name, script_attrs[i].value);\n",
              "        toinsert[toinsert.length - 1].firstChild.textContent = bk_div.children[0].textContent\n",
              "      }\n",
              "      // store reference to server id on output_area\n",
              "      output_area._bokeh_server_id = output.metadata[EXEC_MIME_TYPE][\"server_id\"];\n",
              "    }\n",
              "  }\n",
              "\n",
              "  function register_renderer(events, OutputArea) {\n",
              "\n",
              "    function append_mime(data, metadata, element) {\n",
              "      // create a DOM node to render to\n",
              "      const toinsert = this.create_output_subarea(\n",
              "        metadata,\n",
              "        CLASS_NAME,\n",
              "        EXEC_MIME_TYPE\n",
              "      );\n",
              "      this.keyboard_manager.register_events(toinsert);\n",
              "      // Render to node\n",
              "      const props = {data: data, metadata: metadata[EXEC_MIME_TYPE]};\n",
              "      render(props, toinsert[toinsert.length - 1]);\n",
              "      element.append(toinsert);\n",
              "      return toinsert\n",
              "    }\n",
              "\n",
              "    /* Handle when an output is cleared or removed */\n",
              "    events.on('clear_output.CodeCell', handleClearOutput);\n",
              "    events.on('delete.Cell', handleClearOutput);\n",
              "\n",
              "    /* Handle when a new output is added */\n",
              "    events.on('output_added.OutputArea', handleAddOutput);\n",
              "\n",
              "    /**\n",
              "     * Register the mime type and append_mime function with output_area\n",
              "     */\n",
              "    OutputArea.prototype.register_mime_type(EXEC_MIME_TYPE, append_mime, {\n",
              "      /* Is output safe? */\n",
              "      safe: true,\n",
              "      /* Index of renderer in `output_area.display_order` */\n",
              "      index: 0\n",
              "    });\n",
              "  }\n",
              "\n",
              "  // register the mime type if in Jupyter Notebook environment and previously unregistered\n",
              "  if (root.Jupyter !== undefined) {\n",
              "    const events = require('base/js/events');\n",
              "    const OutputArea = require('notebook/js/outputarea').OutputArea;\n",
              "\n",
              "    if (OutputArea.prototype.mime_types().indexOf(EXEC_MIME_TYPE) == -1) {\n",
              "      register_renderer(events, OutputArea);\n",
              "    }\n",
              "  }\n",
              "  if (typeof (root._bokeh_timeout) === \"undefined\" || force === true) {\n",
              "    root._bokeh_timeout = Date.now() + 5000;\n",
              "    root._bokeh_failed_load = false;\n",
              "  }\n",
              "\n",
              "  const NB_LOAD_WARNING = {'data': {'text/html':\n",
              "     \"<div style='background-color: #fdd'>\\n\"+\n",
              "     \"<p>\\n\"+\n",
              "     \"BokehJS does not appear to have successfully loaded. If loading BokehJS from CDN, this \\n\"+\n",
              "     \"may be due to a slow or bad network connection. Possible fixes:\\n\"+\n",
              "     \"</p>\\n\"+\n",
              "     \"<ul>\\n\"+\n",
              "     \"<li>re-rerun `output_notebook()` to attempt to load from CDN again, or</li>\\n\"+\n",
              "     \"<li>use INLINE resources instead, as so:</li>\\n\"+\n",
              "     \"</ul>\\n\"+\n",
              "     \"<code>\\n\"+\n",
              "     \"from bokeh.resources import INLINE\\n\"+\n",
              "     \"output_notebook(resources=INLINE)\\n\"+\n",
              "     \"</code>\\n\"+\n",
              "     \"</div>\"}};\n",
              "\n",
              "  function display_loaded() {\n",
              "    const el = document.getElementById(null);\n",
              "    if (el != null) {\n",
              "      el.textContent = \"BokehJS is loading...\";\n",
              "    }\n",
              "    if (root.Bokeh !== undefined) {\n",
              "      if (el != null) {\n",
              "        el.textContent = \"BokehJS \" + root.Bokeh.version + \" successfully loaded.\";\n",
              "      }\n",
              "    } else if (Date.now() < root._bokeh_timeout) {\n",
              "      setTimeout(display_loaded, 100)\n",
              "    }\n",
              "  }\n",
              "\n",
              "  function run_callbacks() {\n",
              "    try {\n",
              "      root._bokeh_onload_callbacks.forEach(function(callback) {\n",
              "        if (callback != null)\n",
              "          callback();\n",
              "      });\n",
              "    } finally {\n",
              "      delete root._bokeh_onload_callbacks\n",
              "    }\n",
              "    console.debug(\"Bokeh: all callbacks have finished\");\n",
              "  }\n",
              "\n",
              "  function load_libs(css_urls, js_urls, callback) {\n",
              "    if (css_urls == null) css_urls = [];\n",
              "    if (js_urls == null) js_urls = [];\n",
              "\n",
              "    root._bokeh_onload_callbacks.push(callback);\n",
              "    if (root._bokeh_is_loading > 0) {\n",
              "      console.debug(\"Bokeh: BokehJS is being loaded, scheduling callback at\", now());\n",
              "      return null;\n",
              "    }\n",
              "    if (js_urls == null || js_urls.length === 0) {\n",
              "      run_callbacks();\n",
              "      return null;\n",
              "    }\n",
              "    console.debug(\"Bokeh: BokehJS not loaded, scheduling load and callback at\", now());\n",
              "    root._bokeh_is_loading = css_urls.length + js_urls.length;\n",
              "\n",
              "    function on_load() {\n",
              "      root._bokeh_is_loading--;\n",
              "      if (root._bokeh_is_loading === 0) {\n",
              "        console.debug(\"Bokeh: all BokehJS libraries/stylesheets loaded\");\n",
              "        run_callbacks()\n",
              "      }\n",
              "    }\n",
              "\n",
              "    function on_error(url) {\n",
              "      console.error(\"failed to load \" + url);\n",
              "    }\n",
              "\n",
              "    for (let i = 0; i < css_urls.length; i++) {\n",
              "      const url = css_urls[i];\n",
              "      const element = document.createElement(\"link\");\n",
              "      element.onload = on_load;\n",
              "      element.onerror = on_error.bind(null, url);\n",
              "      element.rel = \"stylesheet\";\n",
              "      element.type = \"text/css\";\n",
              "      element.href = url;\n",
              "      console.debug(\"Bokeh: injecting link tag for BokehJS stylesheet: \", url);\n",
              "      document.body.appendChild(element);\n",
              "    }\n",
              "\n",
              "    for (let i = 0; i < js_urls.length; i++) {\n",
              "      const url = js_urls[i];\n",
              "      const element = document.createElement('script');\n",
              "      element.onload = on_load;\n",
              "      element.onerror = on_error.bind(null, url);\n",
              "      element.async = false;\n",
              "      element.src = url;\n",
              "      console.debug(\"Bokeh: injecting script tag for BokehJS library: \", url);\n",
              "      document.head.appendChild(element);\n",
              "    }\n",
              "  };\n",
              "\n",
              "  function inject_raw_css(css) {\n",
              "    const element = document.createElement(\"style\");\n",
              "    element.appendChild(document.createTextNode(css));\n",
              "    document.body.appendChild(element);\n",
              "  }\n",
              "\n",
              "  const js_urls = [\"https://cdn.bokeh.org/bokeh/release/bokeh-2.4.3.min.js\", \"https://cdn.bokeh.org/bokeh/release/bokeh-gl-2.4.3.min.js\", \"https://cdn.bokeh.org/bokeh/release/bokeh-widgets-2.4.3.min.js\", \"https://cdn.bokeh.org/bokeh/release/bokeh-tables-2.4.3.min.js\", \"https://cdn.bokeh.org/bokeh/release/bokeh-mathjax-2.4.3.min.js\"];\n",
              "  const css_urls = [];\n",
              "\n",
              "  const inline_js = [    function(Bokeh) {\n",
              "      Bokeh.set_log_level(\"info\");\n",
              "    },\n",
              "function(Bokeh) {\n",
              "    }\n",
              "  ];\n",
              "\n",
              "  function run_inline_js() {\n",
              "    if (root.Bokeh !== undefined || force === true) {\n",
              "          for (let i = 0; i < inline_js.length; i++) {\n",
              "      inline_js[i].call(root, root.Bokeh);\n",
              "    }\n",
              "} else if (Date.now() < root._bokeh_timeout) {\n",
              "      setTimeout(run_inline_js, 100);\n",
              "    } else if (!root._bokeh_failed_load) {\n",
              "      console.log(\"Bokeh: BokehJS failed to load within specified timeout.\");\n",
              "      root._bokeh_failed_load = true;\n",
              "    } else if (force !== true) {\n",
              "      const cell = $(document.getElementById(null)).parents('.cell').data().cell;\n",
              "      cell.output_area.append_execute_result(NB_LOAD_WARNING)\n",
              "    }\n",
              "  }\n",
              "\n",
              "  if (root._bokeh_is_loading === 0) {\n",
              "    console.debug(\"Bokeh: BokehJS loaded, going straight to plotting\");\n",
              "    run_inline_js();\n",
              "  } else {\n",
              "    load_libs(css_urls, js_urls, function() {\n",
              "      console.debug(\"Bokeh: BokehJS plotting callback run at\", now());\n",
              "      run_inline_js();\n",
              "    });\n",
              "  }\n",
              "}(window));"
            ],
            "application/vnd.bokehjs_load.v0+json": "(function(root) {\n  function now() {\n    return new Date();\n  }\n\n  const force = true;\n\n  if (typeof root._bokeh_onload_callbacks === \"undefined\" || force === true) {\n    root._bokeh_onload_callbacks = [];\n    root._bokeh_is_loading = undefined;\n  }\n\n\n  if (typeof (root._bokeh_timeout) === \"undefined\" || force === true) {\n    root._bokeh_timeout = Date.now() + 5000;\n    root._bokeh_failed_load = false;\n  }\n\n  const NB_LOAD_WARNING = {'data': {'text/html':\n     \"<div style='background-color: #fdd'>\\n\"+\n     \"<p>\\n\"+\n     \"BokehJS does not appear to have successfully loaded. If loading BokehJS from CDN, this \\n\"+\n     \"may be due to a slow or bad network connection. Possible fixes:\\n\"+\n     \"</p>\\n\"+\n     \"<ul>\\n\"+\n     \"<li>re-rerun `output_notebook()` to attempt to load from CDN again, or</li>\\n\"+\n     \"<li>use INLINE resources instead, as so:</li>\\n\"+\n     \"</ul>\\n\"+\n     \"<code>\\n\"+\n     \"from bokeh.resources import INLINE\\n\"+\n     \"output_notebook(resources=INLINE)\\n\"+\n     \"</code>\\n\"+\n     \"</div>\"}};\n\n  function display_loaded() {\n    const el = document.getElementById(null);\n    if (el != null) {\n      el.textContent = \"BokehJS is loading...\";\n    }\n    if (root.Bokeh !== undefined) {\n      if (el != null) {\n        el.textContent = \"BokehJS \" + root.Bokeh.version + \" successfully loaded.\";\n      }\n    } else if (Date.now() < root._bokeh_timeout) {\n      setTimeout(display_loaded, 100)\n    }\n  }\n\n  function run_callbacks() {\n    try {\n      root._bokeh_onload_callbacks.forEach(function(callback) {\n        if (callback != null)\n          callback();\n      });\n    } finally {\n      delete root._bokeh_onload_callbacks\n    }\n    console.debug(\"Bokeh: all callbacks have finished\");\n  }\n\n  function load_libs(css_urls, js_urls, callback) {\n    if (css_urls == null) css_urls = [];\n    if (js_urls == null) js_urls = [];\n\n    root._bokeh_onload_callbacks.push(callback);\n    if (root._bokeh_is_loading > 0) {\n      console.debug(\"Bokeh: BokehJS is being loaded, scheduling callback at\", now());\n      return null;\n    }\n    if (js_urls == null || js_urls.length === 0) {\n      run_callbacks();\n      return null;\n    }\n    console.debug(\"Bokeh: BokehJS not loaded, scheduling load and callback at\", now());\n    root._bokeh_is_loading = css_urls.length + js_urls.length;\n\n    function on_load() {\n      root._bokeh_is_loading--;\n      if (root._bokeh_is_loading === 0) {\n        console.debug(\"Bokeh: all BokehJS libraries/stylesheets loaded\");\n        run_callbacks()\n      }\n    }\n\n    function on_error(url) {\n      console.error(\"failed to load \" + url);\n    }\n\n    for (let i = 0; i < css_urls.length; i++) {\n      const url = css_urls[i];\n      const element = document.createElement(\"link\");\n      element.onload = on_load;\n      element.onerror = on_error.bind(null, url);\n      element.rel = \"stylesheet\";\n      element.type = \"text/css\";\n      element.href = url;\n      console.debug(\"Bokeh: injecting link tag for BokehJS stylesheet: \", url);\n      document.body.appendChild(element);\n    }\n\n    for (let i = 0; i < js_urls.length; i++) {\n      const url = js_urls[i];\n      const element = document.createElement('script');\n      element.onload = on_load;\n      element.onerror = on_error.bind(null, url);\n      element.async = false;\n      element.src = url;\n      console.debug(\"Bokeh: injecting script tag for BokehJS library: \", url);\n      document.head.appendChild(element);\n    }\n  };\n\n  function inject_raw_css(css) {\n    const element = document.createElement(\"style\");\n    element.appendChild(document.createTextNode(css));\n    document.body.appendChild(element);\n  }\n\n  const js_urls = [\"https://cdn.bokeh.org/bokeh/release/bokeh-2.4.3.min.js\", \"https://cdn.bokeh.org/bokeh/release/bokeh-gl-2.4.3.min.js\", \"https://cdn.bokeh.org/bokeh/release/bokeh-widgets-2.4.3.min.js\", \"https://cdn.bokeh.org/bokeh/release/bokeh-tables-2.4.3.min.js\", \"https://cdn.bokeh.org/bokeh/release/bokeh-mathjax-2.4.3.min.js\"];\n  const css_urls = [];\n\n  const inline_js = [    function(Bokeh) {\n      Bokeh.set_log_level(\"info\");\n    },\nfunction(Bokeh) {\n    }\n  ];\n\n  function run_inline_js() {\n    if (root.Bokeh !== undefined || force === true) {\n          for (let i = 0; i < inline_js.length; i++) {\n      inline_js[i].call(root, root.Bokeh);\n    }\n} else if (Date.now() < root._bokeh_timeout) {\n      setTimeout(run_inline_js, 100);\n    } else if (!root._bokeh_failed_load) {\n      console.log(\"Bokeh: BokehJS failed to load within specified timeout.\");\n      root._bokeh_failed_load = true;\n    } else if (force !== true) {\n      const cell = $(document.getElementById(null)).parents('.cell').data().cell;\n      cell.output_area.append_execute_result(NB_LOAD_WARNING)\n    }\n  }\n\n  if (root._bokeh_is_loading === 0) {\n    console.debug(\"Bokeh: BokehJS loaded, going straight to plotting\");\n    run_inline_js();\n  } else {\n    load_libs(css_urls, js_urls, function() {\n      console.debug(\"Bokeh: BokehJS plotting callback run at\", now());\n      run_inline_js();\n    });\n  }\n}(window));"
          },
          "metadata": {}
        },
        {
          "output_type": "display_data",
          "data": {
            "text/html": [
              "\n",
              "  <div class=\"bk-root\" id=\"8d75ed3f-707e-4e22-afa7-4607a6fbdc15\" data-root-id=\"2175\"></div>\n"
            ]
          },
          "metadata": {}
        },
        {
          "output_type": "display_data",
          "data": {
            "application/javascript": [
              "(function(root) {\n",
              "  function embed_document(root) {\n",
              "  const docs_json = {\"9116debd-201f-485b-9cff-396bca48369b\":{\"defs\":[],\"roots\":{\"references\":[{\"attributes\":{\"above\":[{\"id\":\"2186\"}],\"center\":[{\"id\":\"2188\"},{\"id\":\"2191\"}],\"height\":400,\"left\":[{\"id\":\"2189\"}],\"renderers\":[{\"id\":\"2211\"}],\"right\":[{\"id\":\"2215\"}],\"title\":{\"id\":\"2176\"},\"toolbar\":{\"id\":\"2199\"},\"toolbar_location\":\"below\",\"width\":800,\"x_range\":{\"id\":\"2178\"},\"x_scale\":{\"id\":\"2182\"},\"y_range\":{\"id\":\"2180\"},\"y_scale\":{\"id\":\"2184\"}},\"id\":\"2175\",\"subtype\":\"Figure\",\"type\":\"Plot\"},{\"attributes\":{\"overlay\":{\"id\":\"2198\"}},\"id\":\"2195\",\"type\":\"BoxZoomTool\"},{\"attributes\":{\"callback\":null,\"tooltips\":[[\"rate\",\"@rate%\"]]},\"id\":\"2192\",\"type\":\"HoverTool\"},{\"attributes\":{},\"id\":\"2197\",\"type\":\"WheelZoomTool\"},{\"attributes\":{},\"id\":\"2193\",\"type\":\"SaveTool\"},{\"attributes\":{},\"id\":\"2196\",\"type\":\"ResetTool\"},{\"attributes\":{\"fill_alpha\":{\"value\":0.2},\"fill_color\":{\"field\":\"rate\",\"transform\":{\"id\":\"2174\"}},\"hatch_alpha\":{\"value\":0.2},\"height\":{\"value\":1},\"line_alpha\":{\"value\":0.2},\"line_color\":{\"value\":null},\"width\":{\"value\":1},\"x\":{\"field\":\"topic\"},\"y\":{\"field\":\"doc\"}},\"id\":\"2210\",\"type\":\"Rect\"},{\"attributes\":{\"color_mapper\":{\"id\":\"2174\"},\"coordinates\":null,\"formatter\":{\"id\":\"2214\"},\"group\":null,\"label_standoff\":6,\"location\":[0,0],\"major_label_policy\":{\"id\":\"2308\"},\"major_label_text_font_size\":\"5pt\",\"ticker\":{\"id\":\"2213\"}},\"id\":\"2215\",\"type\":\"ColorBar\"},{\"attributes\":{},\"id\":\"2182\",\"type\":\"CategoricalScale\"},{\"attributes\":{},\"id\":\"2307\",\"type\":\"AllLabels\"},{\"attributes\":{\"format\":\"%d%%\"},\"id\":\"2214\",\"type\":\"PrintfTickFormatter\"},{\"attributes\":{\"high\":99923447691731.42,\"low\":12263919218.561607,\"palette\":[\"#f7fbff\",\"#deebf7\",\"#c6dbef\",\"#9ecae1\",\"#6baed6\",\"#4292c6\",\"#2171b5\",\"#084594\"]},\"id\":\"2174\",\"type\":\"LinearColorMapper\"},{\"attributes\":{},\"id\":\"2190\",\"type\":\"CategoricalTicker\"},{\"attributes\":{\"factors\":[\"0\",\"1\",\"2\",\"3\",\"4\",\"5\",\"6\",\"7\",\"8\",\"9\"]},\"id\":\"2180\",\"type\":\"FactorRange\"},{\"attributes\":{},\"id\":\"2194\",\"type\":\"PanTool\"},{\"attributes\":{},\"id\":\"2310\",\"type\":\"CategoricalTickFormatter\"},{\"attributes\":{},\"id\":\"2306\",\"type\":\"CategoricalTickFormatter\"},{\"attributes\":{\"desired_num_ticks\":8},\"id\":\"2213\",\"type\":\"BasicTicker\"},{\"attributes\":{},\"id\":\"2311\",\"type\":\"AllLabels\"},{\"attributes\":{},\"id\":\"2308\",\"type\":\"NoOverlap\"},{\"attributes\":{\"fill_color\":{\"field\":\"rate\",\"transform\":{\"id\":\"2174\"}},\"height\":{\"value\":1},\"line_color\":{\"value\":null},\"width\":{\"value\":1},\"x\":{\"field\":\"topic\"},\"y\":{\"field\":\"doc\"}},\"id\":\"2208\",\"type\":\"Rect\"},{\"attributes\":{\"coordinates\":null,\"data_source\":{\"id\":\"2206\"},\"glyph\":{\"id\":\"2208\"},\"group\":null,\"hover_glyph\":null,\"muted_glyph\":{\"id\":\"2210\"},\"nonselection_glyph\":{\"id\":\"2209\"},\"view\":{\"id\":\"2212\"}},\"id\":\"2211\",\"type\":\"GlyphRenderer\"},{\"attributes\":{},\"id\":\"2187\",\"type\":\"CategoricalTicker\"},{\"attributes\":{\"axis_line_color\":null,\"coordinates\":null,\"formatter\":{\"id\":\"2310\"},\"group\":null,\"major_label_policy\":{\"id\":\"2311\"},\"major_label_standoff\":0,\"major_label_text_font_size\":\"5pt\",\"major_tick_line_color\":null,\"ticker\":{\"id\":\"2187\"}},\"id\":\"2186\",\"type\":\"CategoricalAxis\"},{\"attributes\":{\"data\":{\"doc\":[\"0\",\"0\",\"0\",\"0\",\"0\",\"1\",\"1\",\"1\",\"1\",\"1\",\"2\",\"2\",\"2\",\"2\",\"2\",\"3\",\"3\",\"3\",\"3\",\"3\",\"4\",\"4\",\"4\",\"4\",\"4\",\"5\",\"5\",\"5\",\"5\",\"5\",\"6\",\"6\",\"6\",\"6\",\"6\",\"7\",\"7\",\"7\",\"7\",\"7\",\"8\",\"8\",\"8\",\"8\",\"8\",\"9\",\"9\",\"9\",\"9\",\"9\",\"10\",\"10\",\"10\",\"10\",\"10\",\"11\",\"11\",\"11\",\"11\",\"11\",\"12\",\"12\",\"12\",\"12\",\"12\",\"13\",\"13\",\"13\",\"13\",\"13\",\"14\",\"14\",\"14\",\"14\",\"14\",\"15\",\"15\",\"15\",\"15\",\"15\",\"16\",\"16\",\"16\",\"16\",\"16\",\"17\",\"17\",\"17\",\"17\",\"17\",\"18\",\"18\",\"18\",\"18\",\"18\",\"19\",\"19\",\"19\",\"19\",\"19\",\"20\",\"20\",\"20\",\"20\",\"20\",\"21\",\"21\",\"21\",\"21\",\"21\",\"22\",\"22\",\"22\",\"22\",\"22\",\"23\",\"23\",\"23\",\"23\",\"23\",\"24\",\"24\",\"24\",\"24\",\"24\",\"25\",\"25\",\"25\",\"25\",\"25\",\"26\",\"26\",\"26\",\"26\",\"26\",\"27\",\"27\",\"27\",\"27\",\"27\",\"28\",\"28\",\"28\",\"28\",\"28\",\"29\",\"29\",\"29\",\"29\",\"29\",\"30\",\"30\",\"30\",\"30\",\"30\",\"31\",\"31\",\"31\",\"31\",\"31\",\"32\",\"32\",\"32\",\"32\",\"32\",\"33\",\"33\",\"33\",\"33\",\"33\",\"34\",\"34\",\"34\",\"34\",\"34\",\"35\",\"35\",\"35\",\"35\",\"35\",\"36\",\"36\",\"36\",\"36\",\"36\",\"37\",\"37\",\"37\",\"37\",\"37\",\"38\",\"38\",\"38\",\"38\",\"38\",\"39\",\"39\",\"39\",\"39\",\"39\",\"40\",\"40\",\"40\",\"40\",\"40\",\"41\",\"41\",\"41\",\"41\",\"41\",\"42\",\"42\",\"42\",\"42\",\"42\",\"43\",\"43\",\"43\",\"43\",\"43\",\"44\",\"44\",\"44\",\"44\",\"44\",\"45\",\"45\",\"45\",\"45\",\"45\",\"46\",\"46\",\"46\",\"46\",\"46\",\"47\",\"47\",\"47\",\"47\",\"47\",\"48\",\"48\",\"48\",\"48\",\"48\",\"49\",\"49\",\"49\",\"49\",\"49\",\"50\",\"50\",\"50\",\"50\",\"50\",\"51\",\"51\",\"51\",\"51\",\"51\",\"52\",\"52\",\"52\",\"52\",\"52\",\"53\",\"53\",\"53\",\"53\",\"53\",\"54\",\"54\",\"54\",\"54\",\"54\",\"55\",\"55\",\"55\",\"55\",\"55\",\"56\",\"56\",\"56\",\"56\",\"56\",\"57\",\"57\",\"57\",\"57\",\"57\",\"58\",\"58\",\"58\",\"58\",\"58\",\"59\",\"59\",\"59\",\"59\",\"59\",\"60\",\"60\",\"60\",\"60\",\"60\",\"61\",\"61\",\"61\",\"61\",\"61\",\"62\",\"62\",\"62\",\"62\",\"62\",\"63\",\"63\",\"63\",\"63\",\"63\",\"64\",\"64\",\"64\",\"64\",\"64\",\"65\",\"65\",\"65\",\"65\",\"65\",\"66\",\"66\",\"66\",\"66\",\"66\",\"67\",\"67\",\"67\",\"67\",\"67\",\"68\",\"68\",\"68\",\"68\",\"68\",\"69\",\"69\",\"69\",\"69\",\"69\",\"70\",\"70\",\"70\",\"70\",\"70\",\"71\",\"71\",\"71\",\"71\",\"71\",\"72\",\"72\",\"72\",\"72\",\"72\",\"73\",\"73\",\"73\",\"73\",\"73\",\"74\",\"74\",\"74\",\"74\",\"74\",\"75\",\"75\",\"75\",\"75\",\"75\",\"76\",\"76\",\"76\",\"76\",\"76\",\"77\",\"77\",\"77\",\"77\",\"77\",\"78\",\"78\",\"78\",\"78\",\"78\",\"79\",\"79\",\"79\",\"79\",\"79\",\"80\",\"80\",\"80\",\"80\",\"80\",\"81\",\"81\",\"81\",\"81\",\"81\",\"82\",\"82\",\"82\",\"82\",\"82\",\"83\",\"83\",\"83\",\"83\",\"83\",\"84\",\"84\",\"84\",\"84\",\"84\",\"85\",\"85\",\"85\",\"85\",\"85\",\"86\",\"86\",\"86\",\"86\",\"86\",\"87\",\"87\",\"87\",\"87\",\"87\",\"88\",\"88\",\"88\",\"88\",\"88\",\"89\",\"89\",\"89\",\"89\",\"89\",\"90\",\"90\",\"90\",\"90\",\"90\",\"91\",\"91\",\"91\",\"91\",\"91\",\"92\",\"92\",\"92\",\"92\",\"92\",\"93\",\"93\",\"93\",\"93\",\"93\",\"94\",\"94\",\"94\",\"94\",\"94\",\"95\",\"95\",\"95\",\"95\",\"95\",\"96\",\"96\",\"96\",\"96\",\"96\",\"97\",\"97\",\"97\",\"97\",\"97\",\"98\",\"98\",\"98\",\"98\",\"98\",\"99\",\"99\",\"99\",\"99\",\"99\",\"100\",\"100\",\"100\",\"100\",\"100\",\"101\",\"101\",\"101\",\"101\",\"101\",\"102\",\"102\",\"102\",\"102\",\"102\",\"103\",\"103\",\"103\",\"103\",\"103\",\"104\",\"104\",\"104\",\"104\",\"104\",\"105\",\"105\",\"105\",\"105\",\"105\",\"106\",\"106\",\"106\",\"106\",\"106\",\"107\",\"107\",\"107\",\"107\",\"107\",\"108\",\"108\",\"108\",\"108\",\"108\",\"109\",\"109\",\"109\",\"109\",\"109\",\"110\",\"110\",\"110\",\"110\",\"110\",\"111\",\"111\",\"111\",\"111\",\"111\",\"112\",\"112\",\"112\",\"112\",\"112\",\"113\",\"113\",\"113\",\"113\",\"113\",\"114\",\"114\",\"114\",\"114\",\"114\",\"115\",\"115\",\"115\",\"115\",\"115\",\"116\",\"116\",\"116\",\"116\",\"116\",\"117\",\"117\",\"117\",\"117\",\"117\",\"118\",\"118\",\"118\",\"118\",\"118\",\"119\",\"119\",\"119\",\"119\",\"119\",\"120\",\"120\",\"120\",\"120\",\"120\",\"121\",\"121\",\"121\",\"121\",\"121\",\"122\",\"122\",\"122\",\"122\",\"122\",\"123\",\"123\",\"123\",\"123\",\"123\",\"124\",\"124\",\"124\",\"124\",\"124\",\"125\",\"125\",\"125\",\"125\",\"125\",\"126\",\"126\",\"126\",\"126\",\"126\",\"127\",\"127\",\"127\",\"127\",\"127\",\"128\",\"128\",\"128\",\"128\",\"128\",\"129\",\"129\",\"129\",\"129\",\"129\",\"130\",\"130\",\"130\",\"130\",\"130\",\"131\",\"131\",\"131\",\"131\",\"131\",\"132\",\"132\",\"132\",\"132\",\"132\",\"133\",\"133\",\"133\",\"133\",\"133\",\"134\",\"134\",\"134\",\"134\",\"134\",\"135\",\"135\",\"135\",\"135\",\"135\",\"136\",\"136\",\"136\",\"136\",\"136\",\"137\",\"137\",\"137\",\"137\",\"137\",\"138\",\"138\",\"138\",\"138\",\"138\",\"139\",\"139\",\"139\",\"139\",\"139\",\"140\",\"140\",\"140\",\"140\",\"140\",\"141\",\"141\",\"141\",\"141\",\"141\",\"142\",\"142\",\"142\",\"142\",\"142\",\"143\",\"143\",\"143\",\"143\",\"143\",\"144\",\"144\",\"144\",\"144\",\"144\",\"145\",\"145\",\"145\",\"145\",\"145\",\"146\",\"146\",\"146\",\"146\",\"146\",\"147\",\"147\",\"147\",\"147\",\"147\",\"148\",\"148\",\"148\",\"148\",\"148\",\"149\",\"149\",\"149\",\"149\",\"149\",\"150\",\"150\",\"150\",\"150\",\"150\",\"151\",\"151\",\"151\",\"151\",\"151\",\"152\",\"152\",\"152\",\"152\",\"152\",\"153\",\"153\",\"153\",\"153\",\"153\",\"154\",\"154\",\"154\",\"154\",\"154\",\"155\",\"155\",\"155\",\"155\",\"155\",\"156\",\"156\",\"156\",\"156\",\"156\",\"157\",\"157\",\"157\",\"157\",\"157\",\"158\",\"158\",\"158\",\"158\",\"158\",\"159\",\"159\",\"159\",\"159\",\"159\",\"160\",\"160\",\"160\",\"160\",\"160\",\"161\",\"161\",\"161\",\"161\",\"161\",\"162\",\"162\",\"162\",\"162\",\"162\",\"163\",\"163\",\"163\",\"163\",\"163\",\"164\",\"164\",\"164\",\"164\",\"164\",\"165\",\"165\",\"165\",\"165\",\"165\",\"166\",\"166\",\"166\",\"166\",\"166\",\"167\",\"167\",\"167\",\"167\",\"167\",\"168\",\"168\",\"168\",\"168\",\"168\",\"169\",\"169\",\"169\",\"169\",\"169\",\"170\",\"170\",\"170\",\"170\",\"170\",\"171\",\"171\",\"171\",\"171\",\"171\",\"172\",\"172\",\"172\",\"172\",\"172\",\"173\",\"173\",\"173\",\"173\",\"173\",\"174\",\"174\",\"174\",\"174\",\"174\",\"175\",\"175\",\"175\",\"175\",\"175\",\"176\",\"176\",\"176\",\"176\",\"176\",\"177\",\"177\",\"177\",\"177\",\"177\",\"178\",\"178\",\"178\",\"178\",\"178\",\"179\",\"179\",\"179\",\"179\",\"179\",\"180\",\"180\",\"180\",\"180\",\"180\",\"181\",\"181\",\"181\",\"181\",\"181\",\"182\",\"182\",\"182\",\"182\",\"182\",\"183\",\"183\",\"183\",\"183\",\"183\",\"184\",\"184\",\"184\",\"184\",\"184\",\"185\",\"185\",\"185\",\"185\",\"185\",\"186\",\"186\",\"186\",\"186\",\"186\",\"187\",\"187\",\"187\",\"187\",\"187\",\"188\",\"188\",\"188\",\"188\",\"188\",\"189\",\"189\",\"189\",\"189\",\"189\",\"190\",\"190\",\"190\",\"190\",\"190\",\"191\",\"191\",\"191\",\"191\",\"191\",\"192\",\"192\",\"192\",\"192\",\"192\",\"193\",\"193\",\"193\",\"193\",\"193\",\"194\",\"194\",\"194\",\"194\",\"194\",\"195\",\"195\",\"195\",\"195\",\"195\",\"196\",\"196\",\"196\",\"196\",\"196\",\"197\",\"197\",\"197\",\"197\",\"197\",\"198\",\"198\",\"198\",\"198\",\"198\",\"199\",\"199\",\"199\",\"199\",\"199\",\"200\",\"200\",\"200\",\"200\",\"200\",\"201\",\"201\",\"201\",\"201\",\"201\",\"202\",\"202\",\"202\",\"202\",\"202\",\"203\",\"203\",\"203\",\"203\",\"203\",\"204\",\"204\",\"204\",\"204\",\"204\",\"205\",\"205\",\"205\",\"205\",\"205\",\"206\",\"206\",\"206\",\"206\",\"206\",\"207\",\"207\",\"207\",\"207\",\"207\",\"208\",\"208\",\"208\",\"208\",\"208\",\"209\",\"209\",\"209\",\"209\",\"209\",\"210\",\"210\",\"210\",\"210\",\"210\",\"211\",\"211\",\"211\",\"211\",\"211\",\"212\",\"212\",\"212\",\"212\",\"212\",\"213\",\"213\",\"213\",\"213\",\"213\",\"214\",\"214\",\"214\",\"214\",\"214\",\"215\",\"215\",\"215\",\"215\",\"215\",\"216\",\"216\",\"216\",\"216\",\"216\",\"217\",\"217\",\"217\",\"217\",\"217\",\"218\",\"218\",\"218\",\"218\",\"218\",\"219\",\"219\",\"219\",\"219\",\"219\",\"220\",\"220\",\"220\",\"220\",\"220\",\"221\",\"221\",\"221\",\"221\",\"221\",\"222\",\"222\",\"222\",\"222\",\"222\",\"223\",\"223\",\"223\",\"223\",\"223\",\"224\",\"224\",\"224\",\"224\",\"224\",\"225\",\"225\",\"225\",\"225\",\"225\",\"226\",\"226\",\"226\",\"226\",\"226\",\"227\",\"227\",\"227\",\"227\",\"227\",\"228\",\"228\",\"228\",\"228\",\"228\",\"229\",\"229\",\"229\",\"229\",\"229\",\"230\",\"230\",\"230\",\"230\",\"230\",\"231\",\"231\",\"231\",\"231\",\"231\",\"232\",\"232\",\"232\",\"232\",\"232\",\"233\",\"233\",\"233\",\"233\",\"233\",\"234\",\"234\",\"234\",\"234\",\"234\",\"235\",\"235\",\"235\",\"235\",\"235\",\"236\",\"236\",\"236\",\"236\",\"236\",\"237\",\"237\",\"237\",\"237\",\"237\",\"238\",\"238\",\"238\",\"238\",\"238\",\"239\",\"239\",\"239\",\"239\",\"239\",\"240\",\"240\",\"240\",\"240\",\"240\",\"241\",\"241\",\"241\",\"241\",\"241\",\"242\",\"242\",\"242\",\"242\",\"242\",\"243\",\"243\",\"243\",\"243\",\"243\",\"244\",\"244\",\"244\",\"244\",\"244\",\"245\",\"245\",\"245\",\"245\",\"245\",\"246\",\"246\",\"246\",\"246\",\"246\",\"247\",\"247\",\"247\",\"247\",\"247\",\"248\",\"248\",\"248\",\"248\",\"248\",\"249\",\"249\",\"249\",\"249\",\"249\",\"250\",\"250\",\"250\",\"250\",\"250\",\"251\",\"251\",\"251\",\"251\",\"251\",\"252\",\"252\",\"252\",\"252\",\"252\",\"253\",\"253\",\"253\",\"253\",\"253\",\"254\",\"254\",\"254\",\"254\",\"254\",\"255\",\"255\",\"255\",\"255\",\"255\",\"256\",\"256\",\"256\",\"256\",\"256\",\"257\",\"257\",\"257\",\"257\",\"257\",\"258\",\"258\",\"258\",\"258\",\"258\",\"259\",\"259\",\"259\",\"259\",\"259\",\"260\",\"260\",\"260\",\"260\",\"260\",\"261\",\"261\",\"261\",\"261\",\"261\",\"262\",\"262\",\"262\",\"262\",\"262\",\"263\",\"263\",\"263\",\"263\",\"263\",\"264\",\"264\",\"264\",\"264\",\"264\",\"265\",\"265\",\"265\",\"265\",\"265\",\"266\",\"266\",\"266\",\"266\",\"266\",\"267\",\"267\",\"267\",\"267\",\"267\",\"268\",\"268\",\"268\",\"268\",\"268\",\"269\",\"269\",\"269\",\"269\",\"269\",\"270\",\"270\",\"270\",\"270\",\"270\",\"271\",\"271\",\"271\",\"271\",\"271\",\"272\",\"272\",\"272\",\"272\",\"272\",\"273\",\"273\",\"273\",\"273\",\"273\",\"274\",\"274\",\"274\",\"274\",\"274\",\"275\",\"275\",\"275\",\"275\",\"275\",\"276\",\"276\",\"276\",\"276\",\"276\",\"277\",\"277\",\"277\",\"277\",\"277\",\"278\",\"278\",\"278\",\"278\",\"278\",\"279\",\"279\",\"279\",\"279\",\"279\",\"280\",\"280\",\"280\",\"280\",\"280\",\"281\",\"281\",\"281\",\"281\",\"281\",\"282\",\"282\",\"282\",\"282\",\"282\",\"283\",\"283\",\"283\",\"283\",\"283\",\"284\",\"284\",\"284\",\"284\",\"284\",\"285\",\"285\",\"285\",\"285\",\"285\",\"286\",\"286\",\"286\",\"286\",\"286\",\"287\",\"287\",\"287\",\"287\",\"287\",\"288\",\"288\",\"288\",\"288\",\"288\",\"289\",\"289\",\"289\",\"289\",\"289\",\"290\",\"290\",\"290\",\"290\",\"290\",\"291\",\"291\",\"291\",\"291\",\"291\",\"292\",\"292\",\"292\",\"292\",\"292\",\"293\",\"293\",\"293\",\"293\",\"293\",\"294\",\"294\",\"294\",\"294\",\"294\",\"295\",\"295\",\"295\",\"295\",\"295\",\"296\",\"296\",\"296\",\"296\",\"296\",\"297\",\"297\",\"297\",\"297\",\"297\",\"298\",\"298\",\"298\",\"298\",\"298\",\"299\",\"299\",\"299\",\"299\",\"299\",\"300\",\"300\",\"300\",\"300\",\"300\",\"301\",\"301\",\"301\",\"301\",\"301\",\"302\",\"302\",\"302\",\"302\",\"302\",\"303\",\"303\",\"303\",\"303\",\"303\",\"304\",\"304\",\"304\",\"304\",\"304\",\"305\",\"305\",\"305\",\"305\",\"305\",\"306\",\"306\",\"306\",\"306\",\"306\",\"307\",\"307\",\"307\",\"307\",\"307\",\"308\",\"308\",\"308\",\"308\",\"308\",\"309\",\"309\",\"309\",\"309\",\"309\",\"310\",\"310\",\"310\",\"310\",\"310\",\"311\",\"311\",\"311\",\"311\",\"311\",\"312\",\"312\",\"312\",\"312\",\"312\",\"313\",\"313\",\"313\",\"313\",\"313\",\"314\",\"314\",\"314\",\"314\",\"314\",\"315\",\"315\",\"315\",\"315\",\"315\",\"316\",\"316\",\"316\",\"316\",\"316\",\"317\",\"317\",\"317\",\"317\",\"317\",\"318\",\"318\",\"318\",\"318\",\"318\",\"319\",\"319\",\"319\",\"319\",\"319\",\"320\",\"320\",\"320\",\"320\",\"320\",\"321\",\"321\",\"321\",\"321\",\"321\",\"322\",\"322\",\"322\",\"322\",\"322\",\"323\",\"323\",\"323\",\"323\",\"323\",\"324\",\"324\",\"324\",\"324\",\"324\",\"325\",\"325\",\"325\",\"325\",\"325\",\"326\",\"326\",\"326\",\"326\",\"326\",\"327\",\"327\",\"327\",\"327\",\"327\",\"328\",\"328\",\"328\",\"328\",\"328\",\"329\",\"329\",\"329\",\"329\",\"329\",\"330\",\"330\",\"330\",\"330\",\"330\",\"331\",\"331\",\"331\",\"331\",\"331\",\"332\",\"332\",\"332\",\"332\",\"332\",\"333\",\"333\",\"333\",\"333\",\"333\",\"334\",\"334\",\"334\",\"334\",\"334\",\"335\",\"335\",\"335\",\"335\",\"335\",\"336\",\"336\",\"336\",\"336\",\"336\",\"337\",\"337\",\"337\",\"337\",\"337\",\"338\",\"338\",\"338\",\"338\",\"338\",\"339\",\"339\",\"339\",\"339\",\"339\",\"340\",\"340\",\"340\",\"340\",\"340\",\"341\",\"341\",\"341\",\"341\",\"341\",\"342\",\"342\",\"342\",\"342\",\"342\",\"343\",\"343\",\"343\",\"343\",\"343\",\"344\",\"344\",\"344\",\"344\",\"344\",\"345\",\"345\",\"345\",\"345\",\"345\",\"346\",\"346\",\"346\",\"346\",\"346\",\"347\",\"347\",\"347\",\"347\",\"347\",\"348\",\"348\",\"348\",\"348\",\"348\",\"349\",\"349\",\"349\",\"349\",\"349\",\"350\",\"350\",\"350\",\"350\",\"350\",\"351\",\"351\",\"351\",\"351\",\"351\",\"352\",\"352\",\"352\",\"352\",\"352\",\"353\",\"353\",\"353\",\"353\",\"353\",\"354\",\"354\",\"354\",\"354\",\"354\",\"355\",\"355\",\"355\",\"355\",\"355\",\"356\",\"356\",\"356\",\"356\",\"356\",\"357\",\"357\",\"357\",\"357\",\"357\",\"358\",\"358\",\"358\",\"358\",\"358\",\"359\",\"359\",\"359\",\"359\",\"359\",\"360\",\"360\",\"360\",\"360\",\"360\",\"361\",\"361\",\"361\",\"361\",\"361\",\"362\",\"362\",\"362\",\"362\",\"362\",\"363\",\"363\",\"363\",\"363\",\"363\",\"364\",\"364\",\"364\",\"364\",\"364\",\"365\",\"365\",\"365\",\"365\",\"365\",\"366\",\"366\",\"366\",\"366\",\"366\",\"367\",\"367\",\"367\",\"367\",\"367\",\"368\",\"368\",\"368\",\"368\",\"368\",\"369\",\"369\",\"369\",\"369\",\"369\",\"370\",\"370\",\"370\",\"370\",\"370\",\"371\",\"371\",\"371\",\"371\",\"371\",\"372\",\"372\",\"372\",\"372\",\"372\",\"373\",\"373\",\"373\",\"373\",\"373\",\"374\",\"374\",\"374\",\"374\",\"374\",\"375\",\"375\",\"375\",\"375\",\"375\",\"376\",\"376\",\"376\",\"376\",\"376\",\"377\",\"377\",\"377\",\"377\",\"377\",\"378\",\"378\",\"378\",\"378\",\"378\",\"379\",\"379\",\"379\",\"379\",\"379\",\"380\",\"380\",\"380\",\"380\",\"380\",\"381\",\"381\",\"381\",\"381\",\"381\",\"382\",\"382\",\"382\",\"382\",\"382\",\"383\",\"383\",\"383\",\"383\",\"383\",\"384\",\"384\",\"384\",\"384\",\"384\",\"385\",\"385\",\"385\",\"385\",\"385\",\"386\",\"386\",\"386\",\"386\",\"386\",\"387\",\"387\",\"387\",\"387\",\"387\",\"388\",\"388\",\"388\",\"388\",\"388\",\"389\",\"389\",\"389\",\"389\",\"389\",\"390\",\"390\",\"390\",\"390\",\"390\",\"391\",\"391\",\"391\",\"391\",\"391\",\"392\",\"392\",\"392\",\"392\",\"392\",\"393\",\"393\",\"393\",\"393\",\"393\",\"394\",\"394\",\"394\",\"394\",\"394\",\"395\",\"395\",\"395\",\"395\",\"395\",\"396\",\"396\",\"396\",\"396\",\"396\",\"397\",\"397\",\"397\",\"397\",\"397\",\"398\",\"398\",\"398\",\"398\",\"398\",\"399\",\"399\",\"399\",\"399\",\"399\",\"400\",\"400\",\"400\",\"400\",\"400\",\"401\",\"401\",\"401\",\"401\",\"401\",\"402\",\"402\",\"402\",\"402\",\"402\",\"403\",\"403\",\"403\",\"403\",\"403\",\"404\",\"404\",\"404\",\"404\",\"404\",\"405\",\"405\",\"405\",\"405\",\"405\",\"406\",\"406\",\"406\",\"406\",\"406\",\"407\",\"407\",\"407\",\"407\",\"407\",\"408\",\"408\",\"408\",\"408\",\"408\",\"409\",\"409\",\"409\",\"409\",\"409\",\"410\",\"410\",\"410\",\"410\",\"410\",\"411\",\"411\",\"411\",\"411\",\"411\",\"412\",\"412\",\"412\",\"412\",\"412\",\"413\",\"413\",\"413\",\"413\",\"413\",\"414\",\"414\",\"414\",\"414\",\"414\",\"415\",\"415\",\"415\",\"415\",\"415\",\"416\",\"416\",\"416\",\"416\",\"416\",\"417\",\"417\",\"417\",\"417\",\"417\",\"418\",\"418\",\"418\",\"418\",\"418\",\"419\",\"419\",\"419\",\"419\",\"419\",\"420\",\"420\",\"420\",\"420\",\"420\",\"421\",\"421\",\"421\",\"421\",\"421\",\"422\",\"422\",\"422\",\"422\",\"422\",\"423\",\"423\",\"423\",\"423\",\"423\",\"424\",\"424\",\"424\",\"424\",\"424\",\"425\",\"425\",\"425\",\"425\",\"425\",\"426\",\"426\",\"426\",\"426\",\"426\",\"427\",\"427\",\"427\",\"427\",\"427\",\"428\",\"428\",\"428\",\"428\",\"428\",\"429\",\"429\",\"429\",\"429\",\"429\",\"430\",\"430\",\"430\",\"430\",\"430\",\"431\",\"431\",\"431\",\"431\",\"431\",\"432\",\"432\",\"432\",\"432\",\"432\",\"433\",\"433\",\"433\",\"433\",\"433\",\"434\",\"434\",\"434\",\"434\",\"434\",\"435\",\"435\",\"435\",\"435\",\"435\",\"436\",\"436\",\"436\",\"436\",\"436\",\"437\",\"437\",\"437\",\"437\",\"437\",\"438\",\"438\",\"438\",\"438\",\"438\",\"439\",\"439\",\"439\",\"439\",\"439\",\"440\",\"440\",\"440\",\"440\",\"440\",\"441\",\"441\",\"441\",\"441\",\"441\",\"442\",\"442\",\"442\",\"442\",\"442\",\"443\",\"443\",\"443\",\"443\",\"443\",\"444\",\"444\",\"444\",\"444\",\"444\",\"445\",\"445\",\"445\",\"445\",\"445\",\"446\",\"446\",\"446\",\"446\",\"446\",\"447\",\"447\",\"447\",\"447\",\"447\",\"448\",\"448\",\"448\",\"448\",\"448\",\"449\",\"449\",\"449\",\"449\",\"449\",\"450\",\"450\",\"450\",\"450\",\"450\",\"451\",\"451\",\"451\",\"451\",\"451\",\"452\",\"452\",\"452\",\"452\",\"452\",\"453\",\"453\",\"453\",\"453\",\"453\",\"454\",\"454\",\"454\",\"454\",\"454\",\"455\",\"455\",\"455\",\"455\",\"455\",\"456\",\"456\",\"456\",\"456\",\"456\",\"457\",\"457\",\"457\",\"457\",\"457\",\"458\",\"458\",\"458\",\"458\",\"458\",\"459\",\"459\",\"459\",\"459\",\"459\",\"460\",\"460\",\"460\",\"460\",\"460\",\"461\",\"461\",\"461\",\"461\",\"461\",\"462\",\"462\",\"462\",\"462\",\"462\",\"463\",\"463\",\"463\",\"463\",\"463\",\"464\",\"464\",\"464\",\"464\",\"464\",\"465\",\"465\",\"465\",\"465\",\"465\",\"466\",\"466\",\"466\",\"466\",\"466\",\"467\",\"467\",\"467\",\"467\",\"467\",\"468\",\"468\",\"468\",\"468\",\"468\",\"469\",\"469\",\"469\",\"469\",\"469\",\"470\",\"470\",\"470\",\"470\",\"470\",\"471\",\"471\",\"471\",\"471\",\"471\",\"472\",\"472\",\"472\",\"472\",\"472\",\"473\",\"473\",\"473\",\"473\",\"473\",\"474\",\"474\",\"474\",\"474\",\"474\",\"475\",\"475\",\"475\",\"475\",\"475\",\"476\",\"476\",\"476\",\"476\",\"476\",\"477\",\"477\",\"477\",\"477\",\"477\",\"478\",\"478\",\"478\",\"478\",\"478\",\"479\",\"479\",\"479\",\"479\",\"479\",\"480\",\"480\",\"480\",\"480\",\"480\",\"481\",\"481\",\"481\",\"481\",\"481\",\"482\",\"482\",\"482\",\"482\",\"482\",\"483\",\"483\",\"483\",\"483\",\"483\",\"484\",\"484\",\"484\",\"484\",\"484\",\"485\",\"485\",\"485\",\"485\",\"485\",\"486\",\"486\",\"486\",\"486\",\"486\",\"487\",\"487\",\"487\",\"487\",\"487\",\"488\",\"488\",\"488\",\"488\",\"488\",\"489\",\"489\",\"489\",\"489\",\"489\",\"490\",\"490\",\"490\",\"490\",\"490\",\"491\",\"491\",\"491\",\"491\",\"491\",\"492\",\"492\",\"492\",\"492\",\"492\",\"493\",\"493\",\"493\",\"493\",\"493\",\"494\",\"494\",\"494\",\"494\",\"494\",\"495\",\"495\",\"495\",\"495\",\"495\",\"496\",\"496\",\"496\",\"496\",\"496\",\"497\",\"497\",\"497\",\"497\",\"497\",\"498\",\"498\",\"498\",\"498\",\"498\",\"499\",\"499\",\"499\",\"499\",\"499\",\"500\",\"500\",\"500\",\"500\",\"500\",\"501\",\"501\",\"501\",\"501\",\"501\",\"502\",\"502\",\"502\",\"502\",\"502\",\"503\",\"503\",\"503\",\"503\",\"503\",\"504\",\"504\",\"504\",\"504\",\"504\",\"505\",\"505\",\"505\",\"505\",\"505\",\"506\",\"506\",\"506\",\"506\",\"506\",\"507\",\"507\",\"507\",\"507\",\"507\",\"508\",\"508\",\"508\",\"508\",\"508\",\"509\",\"509\",\"509\",\"509\",\"509\",\"510\",\"510\",\"510\",\"510\",\"510\",\"511\",\"511\",\"511\",\"511\",\"511\",\"512\",\"512\",\"512\",\"512\",\"512\",\"513\",\"513\",\"513\",\"513\",\"513\",\"514\",\"514\",\"514\",\"514\",\"514\",\"515\",\"515\",\"515\",\"515\",\"515\",\"516\",\"516\",\"516\",\"516\",\"516\",\"517\",\"517\",\"517\",\"517\",\"517\",\"518\",\"518\",\"518\",\"518\",\"518\",\"519\",\"519\",\"519\",\"519\",\"519\",\"520\",\"520\",\"520\",\"520\",\"520\",\"521\",\"521\",\"521\",\"521\",\"521\",\"522\",\"522\",\"522\",\"522\",\"522\",\"523\",\"523\",\"523\",\"523\",\"523\",\"524\",\"524\",\"524\",\"524\",\"524\",\"525\",\"525\",\"525\",\"525\",\"525\",\"526\",\"526\",\"526\",\"526\",\"526\",\"527\",\"527\",\"527\",\"527\",\"527\",\"528\",\"528\",\"528\",\"528\",\"528\",\"529\",\"529\",\"529\",\"529\",\"529\",\"530\",\"530\",\"530\",\"530\",\"530\",\"531\",\"531\",\"531\",\"531\",\"531\",\"532\",\"532\",\"532\",\"532\",\"532\",\"533\",\"533\",\"533\",\"533\",\"533\",\"534\",\"534\",\"534\",\"534\",\"534\",\"535\",\"535\",\"535\",\"535\",\"535\",\"536\",\"536\",\"536\",\"536\",\"536\",\"537\",\"537\",\"537\",\"537\",\"537\",\"538\",\"538\",\"538\",\"538\",\"538\",\"539\",\"539\",\"539\",\"539\",\"539\",\"540\",\"540\",\"540\",\"540\",\"540\",\"541\",\"541\",\"541\",\"541\",\"541\",\"542\",\"542\",\"542\",\"542\",\"542\",\"543\",\"543\",\"543\",\"543\",\"543\",\"544\",\"544\",\"544\",\"544\",\"544\",\"545\",\"545\",\"545\",\"545\",\"545\",\"546\",\"546\",\"546\",\"546\",\"546\",\"547\",\"547\",\"547\",\"547\",\"547\",\"548\",\"548\",\"548\",\"548\",\"548\",\"549\",\"549\",\"549\",\"549\",\"549\",\"550\",\"550\",\"550\",\"550\",\"550\",\"551\",\"551\",\"551\",\"551\",\"551\",\"552\",\"552\",\"552\",\"552\",\"552\",\"553\",\"553\",\"553\",\"553\",\"553\",\"554\",\"554\",\"554\",\"554\",\"554\",\"555\",\"555\",\"555\",\"555\",\"555\",\"556\",\"556\",\"556\",\"556\",\"556\",\"557\",\"557\",\"557\",\"557\",\"557\",\"558\",\"558\",\"558\",\"558\",\"558\",\"559\",\"559\",\"559\",\"559\",\"559\",\"560\",\"560\",\"560\",\"560\",\"560\",\"561\",\"561\",\"561\",\"561\",\"561\",\"562\",\"562\",\"562\",\"562\",\"562\",\"563\",\"563\",\"563\",\"563\",\"563\",\"564\",\"564\",\"564\",\"564\",\"564\",\"565\",\"565\",\"565\",\"565\",\"565\",\"566\",\"566\",\"566\",\"566\",\"566\",\"567\",\"567\",\"567\",\"567\",\"567\",\"568\",\"568\",\"568\",\"568\",\"568\",\"569\",\"569\",\"569\",\"569\",\"569\",\"570\",\"570\",\"570\",\"570\",\"570\",\"571\",\"571\",\"571\",\"571\",\"571\",\"572\",\"572\",\"572\",\"572\",\"572\",\"573\",\"573\",\"573\",\"573\",\"573\",\"574\",\"574\",\"574\",\"574\",\"574\",\"575\",\"575\",\"575\",\"575\",\"575\",\"576\",\"576\",\"576\",\"576\",\"576\",\"577\",\"577\",\"577\",\"577\",\"577\",\"578\",\"578\",\"578\",\"578\",\"578\",\"579\",\"579\",\"579\",\"579\",\"579\",\"580\",\"580\",\"580\",\"580\",\"580\",\"581\",\"581\",\"581\",\"581\",\"581\",\"582\",\"582\",\"582\",\"582\",\"582\",\"583\",\"583\",\"583\",\"583\",\"583\",\"584\",\"584\",\"584\",\"584\",\"584\",\"585\",\"585\",\"585\",\"585\",\"585\",\"586\",\"586\",\"586\",\"586\",\"586\",\"587\",\"587\",\"587\",\"587\",\"587\",\"588\",\"588\",\"588\",\"588\",\"588\",\"589\",\"589\",\"589\",\"589\",\"589\",\"590\",\"590\",\"590\",\"590\",\"590\",\"591\",\"591\",\"591\",\"591\",\"591\",\"592\",\"592\",\"592\",\"592\",\"592\",\"593\",\"593\",\"593\",\"593\",\"593\",\"594\",\"594\",\"594\",\"594\",\"594\",\"595\",\"595\",\"595\",\"595\",\"595\",\"596\",\"596\",\"596\",\"596\",\"596\",\"597\",\"597\",\"597\",\"597\",\"597\",\"598\",\"598\",\"598\",\"598\",\"598\",\"599\",\"599\",\"599\",\"599\",\"599\",\"600\",\"600\",\"600\",\"600\",\"600\",\"601\",\"601\",\"601\",\"601\",\"601\",\"602\",\"602\",\"602\",\"602\",\"602\",\"603\",\"603\",\"603\",\"603\",\"603\",\"604\",\"604\",\"604\",\"604\",\"604\",\"605\",\"605\",\"605\",\"605\",\"605\",\"606\",\"606\",\"606\",\"606\",\"606\",\"607\",\"607\",\"607\",\"607\",\"607\",\"608\",\"608\",\"608\",\"608\",\"608\",\"609\",\"609\",\"609\",\"609\",\"609\",\"610\",\"610\",\"610\",\"610\",\"610\",\"611\",\"611\",\"611\",\"611\",\"611\",\"612\",\"612\",\"612\",\"612\",\"612\",\"613\",\"613\",\"613\",\"613\",\"613\",\"614\",\"614\",\"614\",\"614\",\"614\",\"615\",\"615\",\"615\",\"615\",\"615\",\"616\",\"616\",\"616\",\"616\",\"616\",\"617\",\"617\",\"617\",\"617\",\"617\",\"618\",\"618\",\"618\",\"618\",\"618\",\"619\",\"619\",\"619\",\"619\",\"619\",\"620\",\"620\",\"620\",\"620\",\"620\",\"621\",\"621\",\"621\",\"621\",\"621\",\"622\",\"622\",\"622\",\"622\",\"622\",\"623\",\"623\",\"623\",\"623\",\"623\",\"624\",\"624\",\"624\",\"624\",\"624\",\"625\",\"625\",\"625\",\"625\",\"625\",\"626\",\"626\",\"626\",\"626\",\"626\",\"627\",\"627\",\"627\",\"627\",\"627\",\"628\",\"628\",\"628\",\"628\",\"628\",\"629\",\"629\",\"629\",\"629\",\"629\",\"630\",\"630\",\"630\",\"630\",\"630\",\"631\",\"631\",\"631\",\"631\",\"631\",\"632\",\"632\",\"632\",\"632\",\"632\",\"633\",\"633\",\"633\",\"633\",\"633\",\"634\",\"634\",\"634\",\"634\",\"634\",\"635\",\"635\",\"635\",\"635\",\"635\",\"636\",\"636\",\"636\",\"636\",\"636\",\"637\",\"637\",\"637\",\"637\",\"637\",\"638\",\"638\",\"638\",\"638\",\"638\",\"639\",\"639\",\"639\",\"639\",\"639\",\"640\",\"640\",\"640\",\"640\",\"640\",\"641\",\"641\",\"641\",\"641\",\"641\",\"642\",\"642\",\"642\",\"642\",\"642\",\"643\",\"643\",\"643\",\"643\",\"643\",\"644\",\"644\",\"644\",\"644\",\"644\",\"645\",\"645\",\"645\",\"645\",\"645\",\"646\",\"646\",\"646\",\"646\",\"646\",\"647\",\"647\",\"647\",\"647\",\"647\",\"648\",\"648\",\"648\",\"648\",\"648\",\"649\",\"649\",\"649\",\"649\",\"649\",\"650\",\"650\",\"650\",\"650\",\"650\",\"651\",\"651\",\"651\",\"651\",\"651\",\"652\",\"652\",\"652\",\"652\",\"652\",\"653\",\"653\",\"653\",\"653\",\"653\",\"654\",\"654\",\"654\",\"654\",\"654\",\"655\",\"655\",\"655\",\"655\",\"655\",\"656\",\"656\",\"656\",\"656\",\"656\",\"657\",\"657\",\"657\",\"657\",\"657\",\"658\",\"658\",\"658\",\"658\",\"658\",\"659\",\"659\",\"659\",\"659\",\"659\",\"660\",\"660\",\"660\",\"660\",\"660\",\"661\",\"661\",\"661\",\"661\",\"661\",\"662\",\"662\",\"662\",\"662\",\"662\",\"663\",\"663\",\"663\",\"663\",\"663\",\"664\",\"664\",\"664\",\"664\",\"664\",\"665\",\"665\",\"665\",\"665\",\"665\",\"666\",\"666\",\"666\",\"666\",\"666\",\"667\",\"667\",\"667\",\"667\",\"667\",\"668\",\"668\",\"668\",\"668\",\"668\",\"669\",\"669\",\"669\",\"669\",\"669\",\"670\",\"670\",\"670\",\"670\",\"670\",\"671\",\"671\",\"671\",\"671\",\"671\",\"672\",\"672\",\"672\",\"672\",\"672\",\"673\",\"673\",\"673\",\"673\",\"673\",\"674\",\"674\",\"674\",\"674\",\"674\",\"675\",\"675\",\"675\",\"675\",\"675\",\"676\",\"676\",\"676\",\"676\",\"676\",\"677\",\"677\",\"677\",\"677\",\"677\",\"678\",\"678\",\"678\",\"678\",\"678\",\"679\",\"679\",\"679\",\"679\",\"679\",\"680\",\"680\",\"680\",\"680\",\"680\",\"681\",\"681\",\"681\",\"681\",\"681\",\"682\",\"682\",\"682\",\"682\",\"682\",\"683\",\"683\",\"683\",\"683\",\"683\",\"684\",\"684\",\"684\",\"684\",\"684\",\"685\",\"685\",\"685\",\"685\",\"685\",\"686\",\"686\",\"686\",\"686\",\"686\",\"687\",\"687\",\"687\",\"687\",\"687\",\"688\",\"688\",\"688\",\"688\",\"688\",\"689\",\"689\",\"689\",\"689\",\"689\",\"690\",\"690\",\"690\",\"690\",\"690\",\"691\",\"691\",\"691\",\"691\",\"691\",\"692\",\"692\",\"692\",\"692\",\"692\",\"693\",\"693\",\"693\",\"693\",\"693\",\"694\",\"694\",\"694\",\"694\",\"694\",\"695\",\"695\",\"695\",\"695\",\"695\",\"696\",\"696\",\"696\",\"696\",\"696\",\"697\",\"697\",\"697\",\"697\",\"697\",\"698\",\"698\",\"698\",\"698\",\"698\",\"699\",\"699\",\"699\",\"699\",\"699\",\"700\",\"700\",\"700\",\"700\",\"700\",\"701\",\"701\",\"701\",\"701\",\"701\",\"702\",\"702\",\"702\",\"702\",\"702\",\"703\",\"703\",\"703\",\"703\",\"703\",\"704\",\"704\",\"704\",\"704\",\"704\",\"705\",\"705\",\"705\",\"705\",\"705\",\"706\",\"706\",\"706\",\"706\",\"706\",\"707\",\"707\",\"707\",\"707\",\"707\",\"708\",\"708\",\"708\",\"708\",\"708\",\"709\",\"709\",\"709\",\"709\",\"709\",\"710\",\"710\",\"710\",\"710\",\"710\",\"711\",\"711\",\"711\",\"711\",\"711\",\"712\",\"712\",\"712\",\"712\",\"712\",\"713\",\"713\",\"713\",\"713\",\"713\",\"714\",\"714\",\"714\",\"714\",\"714\",\"715\",\"715\",\"715\",\"715\",\"715\",\"716\",\"716\",\"716\",\"716\",\"716\",\"717\",\"717\",\"717\",\"717\",\"717\",\"718\",\"718\",\"718\",\"718\",\"718\",\"719\",\"719\",\"719\",\"719\",\"719\",\"720\",\"720\",\"720\",\"720\",\"720\",\"721\",\"721\",\"721\",\"721\",\"721\",\"722\",\"722\",\"722\",\"722\",\"722\",\"723\",\"723\",\"723\",\"723\",\"723\",\"724\",\"724\",\"724\",\"724\",\"724\",\"725\",\"725\",\"725\",\"725\",\"725\",\"726\",\"726\",\"726\",\"726\",\"726\",\"727\",\"727\",\"727\",\"727\",\"727\",\"728\",\"728\",\"728\",\"728\",\"728\",\"729\",\"729\",\"729\",\"729\",\"729\",\"730\",\"730\",\"730\",\"730\",\"730\",\"731\",\"731\",\"731\",\"731\",\"731\",\"732\",\"732\",\"732\",\"732\",\"732\",\"733\",\"733\",\"733\",\"733\",\"733\",\"734\",\"734\",\"734\",\"734\",\"734\",\"735\",\"735\",\"735\",\"735\",\"735\",\"736\",\"736\",\"736\",\"736\",\"736\",\"737\",\"737\",\"737\",\"737\",\"737\",\"738\",\"738\",\"738\",\"738\",\"738\",\"739\",\"739\",\"739\",\"739\",\"739\",\"740\",\"740\",\"740\",\"740\",\"740\",\"741\",\"741\",\"741\",\"741\",\"741\",\"742\",\"742\",\"742\",\"742\",\"742\",\"743\",\"743\",\"743\",\"743\",\"743\",\"744\",\"744\",\"744\",\"744\",\"744\",\"745\",\"745\",\"745\",\"745\",\"745\",\"746\",\"746\",\"746\",\"746\",\"746\",\"747\",\"747\",\"747\",\"747\",\"747\",\"748\",\"748\",\"748\",\"748\",\"748\",\"749\",\"749\",\"749\",\"749\",\"749\",\"750\",\"750\",\"750\",\"750\",\"750\",\"751\",\"751\",\"751\",\"751\",\"751\",\"752\",\"752\",\"752\",\"752\",\"752\",\"753\",\"753\",\"753\",\"753\",\"753\",\"754\",\"754\",\"754\",\"754\",\"754\",\"755\",\"755\",\"755\",\"755\",\"755\",\"756\",\"756\",\"756\",\"756\",\"756\",\"757\",\"757\",\"757\",\"757\",\"757\",\"758\",\"758\",\"758\",\"758\",\"758\",\"759\",\"759\",\"759\",\"759\",\"759\",\"760\",\"760\",\"760\",\"760\",\"760\",\"761\",\"761\",\"761\",\"761\",\"761\",\"762\",\"762\",\"762\",\"762\",\"762\",\"763\",\"763\",\"763\",\"763\",\"763\",\"764\",\"764\",\"764\",\"764\",\"764\",\"765\",\"765\",\"765\",\"765\",\"765\",\"766\",\"766\",\"766\",\"766\",\"766\",\"767\",\"767\",\"767\",\"767\",\"767\",\"768\",\"768\",\"768\",\"768\",\"768\",\"769\",\"769\",\"769\",\"769\",\"769\",\"770\",\"770\",\"770\",\"770\",\"770\",\"771\",\"771\",\"771\",\"771\",\"771\",\"772\",\"772\",\"772\",\"772\",\"772\",\"773\",\"773\",\"773\",\"773\",\"773\",\"774\",\"774\",\"774\",\"774\",\"774\",\"775\",\"775\",\"775\",\"775\",\"775\",\"776\",\"776\",\"776\",\"776\",\"776\",\"777\",\"777\",\"777\",\"777\",\"777\",\"778\",\"778\",\"778\",\"778\",\"778\",\"779\",\"779\",\"779\",\"779\",\"779\",\"780\",\"780\",\"780\",\"780\",\"780\",\"781\",\"781\",\"781\",\"781\",\"781\",\"782\",\"782\",\"782\",\"782\",\"782\",\"783\",\"783\",\"783\",\"783\",\"783\",\"784\",\"784\",\"784\",\"784\",\"784\",\"785\",\"785\",\"785\",\"785\",\"785\",\"786\",\"786\",\"786\",\"786\",\"786\",\"787\",\"787\",\"787\",\"787\",\"787\",\"788\",\"788\",\"788\",\"788\",\"788\",\"789\",\"789\",\"789\",\"789\",\"789\",\"790\",\"790\",\"790\",\"790\",\"790\",\"791\",\"791\",\"791\",\"791\",\"791\",\"792\",\"792\",\"792\",\"792\",\"792\",\"793\",\"793\",\"793\",\"793\",\"793\",\"794\",\"794\",\"794\",\"794\",\"794\",\"795\",\"795\",\"795\",\"795\",\"795\",\"796\",\"796\",\"796\",\"796\",\"796\",\"797\",\"797\",\"797\",\"797\",\"797\",\"798\",\"798\",\"798\",\"798\",\"798\",\"799\",\"799\",\"799\",\"799\",\"799\",\"800\",\"800\",\"800\",\"800\",\"800\",\"801\",\"801\",\"801\",\"801\",\"801\",\"802\",\"802\",\"802\",\"802\",\"802\",\"803\",\"803\",\"803\",\"803\",\"803\",\"804\",\"804\",\"804\",\"804\",\"804\",\"805\",\"805\",\"805\",\"805\",\"805\",\"806\",\"806\",\"806\",\"806\",\"806\",\"807\",\"807\",\"807\",\"807\",\"807\",\"808\",\"808\",\"808\",\"808\",\"808\",\"809\",\"809\",\"809\",\"809\",\"809\",\"810\",\"810\",\"810\",\"810\",\"810\",\"811\",\"811\",\"811\",\"811\",\"811\",\"812\",\"812\",\"812\",\"812\",\"812\",\"813\",\"813\",\"813\",\"813\",\"813\",\"814\",\"814\",\"814\",\"814\",\"814\",\"815\",\"815\",\"815\",\"815\",\"815\",\"816\",\"816\",\"816\",\"816\",\"816\",\"817\",\"817\",\"817\",\"817\",\"817\",\"818\",\"818\",\"818\",\"818\",\"818\",\"819\",\"819\",\"819\",\"819\",\"819\",\"820\",\"820\",\"820\",\"820\",\"820\",\"821\",\"821\",\"821\",\"821\",\"821\",\"822\",\"822\",\"822\",\"822\",\"822\",\"823\",\"823\",\"823\",\"823\",\"823\",\"824\",\"824\",\"824\",\"824\",\"824\",\"825\",\"825\",\"825\",\"825\",\"825\",\"826\",\"826\",\"826\",\"826\",\"826\",\"827\",\"827\",\"827\",\"827\",\"827\",\"828\",\"828\",\"828\",\"828\",\"828\",\"829\",\"829\",\"829\",\"829\",\"829\",\"830\",\"830\",\"830\",\"830\",\"830\",\"831\",\"831\",\"831\",\"831\",\"831\",\"832\",\"832\",\"832\",\"832\",\"832\",\"833\",\"833\",\"833\",\"833\",\"833\",\"834\",\"834\",\"834\",\"834\",\"834\",\"835\",\"835\",\"835\",\"835\",\"835\",\"836\",\"836\",\"836\",\"836\",\"836\",\"837\",\"837\",\"837\",\"837\",\"837\",\"838\",\"838\",\"838\",\"838\",\"838\",\"839\",\"839\",\"839\",\"839\",\"839\",\"840\",\"840\",\"840\",\"840\",\"840\",\"841\",\"841\",\"841\",\"841\",\"841\",\"842\",\"842\",\"842\",\"842\",\"842\",\"843\",\"843\",\"843\",\"843\",\"843\",\"844\",\"844\",\"844\",\"844\",\"844\",\"845\",\"845\",\"845\",\"845\",\"845\",\"846\",\"846\",\"846\",\"846\",\"846\",\"847\",\"847\",\"847\",\"847\",\"847\",\"848\",\"848\",\"848\",\"848\",\"848\",\"849\",\"849\",\"849\",\"849\",\"849\",\"850\",\"850\",\"850\",\"850\",\"850\",\"851\",\"851\",\"851\",\"851\",\"851\",\"852\",\"852\",\"852\",\"852\",\"852\",\"853\",\"853\",\"853\",\"853\",\"853\",\"854\",\"854\",\"854\",\"854\",\"854\",\"855\",\"855\",\"855\",\"855\",\"855\",\"856\",\"856\",\"856\",\"856\",\"856\",\"857\",\"857\",\"857\",\"857\",\"857\",\"858\",\"858\",\"858\",\"858\",\"858\",\"859\",\"859\",\"859\",\"859\",\"859\",\"860\",\"860\",\"860\",\"860\",\"860\",\"861\",\"861\",\"861\",\"861\",\"861\",\"862\",\"862\",\"862\",\"862\",\"862\",\"863\",\"863\",\"863\",\"863\",\"863\",\"864\",\"864\",\"864\",\"864\",\"864\",\"865\",\"865\",\"865\",\"865\",\"865\",\"866\",\"866\",\"866\",\"866\",\"866\",\"867\",\"867\",\"867\",\"867\",\"867\",\"868\",\"868\",\"868\",\"868\",\"868\",\"869\",\"869\",\"869\",\"869\",\"869\",\"870\",\"870\",\"870\",\"870\",\"870\",\"871\",\"871\",\"871\",\"871\",\"871\",\"872\",\"872\",\"872\",\"872\",\"872\",\"873\",\"873\",\"873\",\"873\",\"873\",\"874\",\"874\",\"874\",\"874\",\"874\",\"875\",\"875\",\"875\",\"875\",\"875\",\"876\",\"876\",\"876\",\"876\",\"876\",\"877\",\"877\",\"877\",\"877\",\"877\",\"878\",\"878\",\"878\",\"878\",\"878\",\"879\",\"879\",\"879\",\"879\",\"879\",\"880\",\"880\",\"880\",\"880\",\"880\",\"881\",\"881\",\"881\",\"881\",\"881\",\"882\",\"882\",\"882\",\"882\",\"882\",\"883\",\"883\",\"883\",\"883\",\"883\",\"884\",\"884\",\"884\",\"884\",\"884\",\"885\",\"885\",\"885\",\"885\",\"885\",\"886\",\"886\",\"886\",\"886\",\"886\",\"887\",\"887\",\"887\",\"887\",\"887\",\"888\",\"888\",\"888\",\"888\",\"888\",\"889\",\"889\",\"889\",\"889\",\"889\",\"890\",\"890\",\"890\",\"890\",\"890\",\"891\",\"891\",\"891\",\"891\",\"891\",\"892\",\"892\",\"892\",\"892\",\"892\",\"893\",\"893\",\"893\",\"893\",\"893\",\"894\",\"894\",\"894\",\"894\",\"894\",\"895\",\"895\",\"895\",\"895\",\"895\",\"896\",\"896\",\"896\",\"896\",\"896\",\"897\",\"897\",\"897\",\"897\",\"897\",\"898\",\"898\",\"898\",\"898\",\"898\",\"899\",\"899\",\"899\",\"899\",\"899\",\"900\",\"900\",\"900\",\"900\",\"900\",\"901\",\"901\",\"901\",\"901\",\"901\",\"902\",\"902\",\"902\",\"902\",\"902\",\"903\",\"903\",\"903\",\"903\",\"903\",\"904\",\"904\",\"904\",\"904\",\"904\",\"905\",\"905\",\"905\",\"905\",\"905\",\"906\",\"906\",\"906\",\"906\",\"906\",\"907\",\"907\",\"907\",\"907\",\"907\",\"908\",\"908\",\"908\",\"908\",\"908\",\"909\",\"909\",\"909\",\"909\",\"909\",\"910\",\"910\",\"910\",\"910\",\"910\",\"911\",\"911\",\"911\",\"911\",\"911\",\"912\",\"912\",\"912\",\"912\",\"912\",\"913\",\"913\",\"913\",\"913\",\"913\",\"914\",\"914\",\"914\",\"914\",\"914\",\"915\",\"915\",\"915\",\"915\",\"915\",\"916\",\"916\",\"916\",\"916\",\"916\",\"917\",\"917\",\"917\",\"917\",\"917\",\"918\",\"918\",\"918\",\"918\",\"918\",\"919\",\"919\",\"919\",\"919\",\"919\",\"920\",\"920\",\"920\",\"920\",\"920\",\"921\",\"921\",\"921\",\"921\",\"921\",\"922\",\"922\",\"922\",\"922\",\"922\",\"923\",\"923\",\"923\",\"923\",\"923\",\"924\",\"924\",\"924\",\"924\",\"924\",\"925\",\"925\",\"925\",\"925\",\"925\",\"926\",\"926\",\"926\",\"926\",\"926\",\"927\",\"927\",\"927\",\"927\",\"927\",\"928\",\"928\",\"928\",\"928\",\"928\",\"929\",\"929\",\"929\",\"929\",\"929\",\"930\",\"930\",\"930\",\"930\",\"930\",\"931\",\"931\",\"931\",\"931\",\"931\",\"932\",\"932\",\"932\",\"932\",\"932\",\"933\",\"933\",\"933\",\"933\",\"933\",\"934\",\"934\",\"934\",\"934\",\"934\",\"935\",\"935\",\"935\",\"935\",\"935\",\"936\",\"936\",\"936\",\"936\",\"936\",\"937\",\"937\",\"937\",\"937\",\"937\",\"938\",\"938\",\"938\",\"938\",\"938\",\"939\",\"939\",\"939\",\"939\",\"939\",\"940\",\"940\",\"940\",\"940\",\"940\",\"941\",\"941\",\"941\",\"941\",\"941\",\"942\",\"942\",\"942\",\"942\",\"942\",\"943\",\"943\",\"943\",\"943\",\"943\",\"944\",\"944\",\"944\",\"944\",\"944\",\"945\",\"945\",\"945\",\"945\",\"945\",\"946\",\"946\",\"946\",\"946\",\"946\",\"947\",\"947\",\"947\",\"947\",\"947\",\"948\",\"948\",\"948\",\"948\",\"948\",\"949\",\"949\",\"949\",\"949\",\"949\",\"950\",\"950\",\"950\",\"950\",\"950\",\"951\",\"951\",\"951\",\"951\",\"951\",\"952\",\"952\",\"952\",\"952\",\"952\",\"953\",\"953\",\"953\",\"953\",\"953\",\"954\",\"954\",\"954\",\"954\",\"954\",\"955\",\"955\",\"955\",\"955\",\"955\",\"956\",\"956\",\"956\",\"956\",\"956\",\"957\",\"957\",\"957\",\"957\",\"957\",\"958\",\"958\",\"958\",\"958\",\"958\",\"959\",\"959\",\"959\",\"959\",\"959\",\"960\",\"960\",\"960\",\"960\",\"960\",\"961\",\"961\",\"961\",\"961\",\"961\",\"962\",\"962\",\"962\",\"962\",\"962\",\"963\",\"963\",\"963\",\"963\",\"963\",\"964\",\"964\",\"964\",\"964\",\"964\",\"965\",\"965\",\"965\",\"965\",\"965\",\"966\",\"966\",\"966\",\"966\",\"966\",\"967\",\"967\",\"967\",\"967\",\"967\",\"968\",\"968\",\"968\",\"968\",\"968\",\"969\",\"969\",\"969\",\"969\",\"969\",\"970\",\"970\",\"970\",\"970\",\"970\",\"971\",\"971\",\"971\",\"971\",\"971\",\"972\",\"972\",\"972\",\"972\",\"972\",\"973\",\"973\",\"973\",\"973\",\"973\",\"974\",\"974\",\"974\",\"974\",\"974\",\"975\",\"975\",\"975\",\"975\",\"975\",\"976\",\"976\",\"976\",\"976\",\"976\",\"977\",\"977\",\"977\",\"977\",\"977\",\"978\",\"978\",\"978\",\"978\",\"978\",\"979\",\"979\",\"979\",\"979\",\"979\",\"980\",\"980\",\"980\",\"980\",\"980\",\"981\",\"981\",\"981\",\"981\",\"981\",\"982\",\"982\",\"982\",\"982\",\"982\",\"983\",\"983\",\"983\",\"983\",\"983\",\"984\",\"984\",\"984\",\"984\",\"984\",\"985\",\"985\",\"985\",\"985\",\"985\",\"986\",\"986\",\"986\",\"986\",\"986\",\"987\",\"987\",\"987\",\"987\",\"987\",\"988\",\"988\",\"988\",\"988\",\"988\",\"989\",\"989\",\"989\",\"989\",\"989\",\"990\",\"990\",\"990\",\"990\",\"990\",\"991\",\"991\",\"991\",\"991\",\"991\",\"992\",\"992\",\"992\",\"992\",\"992\",\"993\",\"993\",\"993\",\"993\",\"993\",\"994\",\"994\",\"994\",\"994\",\"994\",\"995\",\"995\",\"995\",\"995\",\"995\",\"996\",\"996\",\"996\",\"996\",\"996\",\"997\",\"997\",\"997\",\"997\",\"997\",\"998\",\"998\",\"998\",\"998\",\"998\",\"999\",\"999\",\"999\",\"999\",\"999\",\"1000\",\"1000\",\"1000\",\"1000\",\"1000\",\"1001\",\"1001\",\"1001\",\"1001\",\"1001\",\"1002\",\"1002\",\"1002\",\"1002\",\"1002\",\"1003\",\"1003\",\"1003\",\"1003\",\"1003\",\"1004\",\"1004\",\"1004\",\"1004\",\"1004\",\"1005\",\"1005\",\"1005\",\"1005\",\"1005\",\"1006\",\"1006\",\"1006\",\"1006\",\"1006\",\"1007\",\"1007\",\"1007\",\"1007\",\"1007\",\"1008\",\"1008\",\"1008\",\"1008\",\"1008\",\"1009\",\"1009\",\"1009\",\"1009\",\"1009\",\"1010\",\"1010\",\"1010\",\"1010\",\"1010\",\"1011\",\"1011\",\"1011\",\"1011\",\"1011\",\"1012\",\"1012\",\"1012\",\"1012\",\"1012\",\"1013\",\"1013\",\"1013\",\"1013\",\"1013\",\"1014\",\"1014\",\"1014\",\"1014\",\"1014\",\"1015\",\"1015\",\"1015\",\"1015\",\"1015\",\"1016\",\"1016\",\"1016\",\"1016\",\"1016\",\"1017\",\"1017\",\"1017\",\"1017\",\"1017\",\"1018\",\"1018\",\"1018\",\"1018\",\"1018\",\"1019\",\"1019\",\"1019\",\"1019\",\"1019\",\"1020\",\"1020\",\"1020\",\"1020\",\"1020\",\"1021\",\"1021\",\"1021\",\"1021\",\"1021\",\"1022\",\"1022\",\"1022\",\"1022\",\"1022\",\"1023\",\"1023\",\"1023\",\"1023\",\"1023\",\"1024\",\"1024\",\"1024\",\"1024\",\"1024\",\"1025\",\"1025\",\"1025\",\"1025\",\"1025\",\"1026\",\"1026\",\"1026\",\"1026\",\"1026\",\"1027\",\"1027\",\"1027\",\"1027\",\"1027\",\"1028\",\"1028\",\"1028\",\"1028\",\"1028\",\"1029\",\"1029\",\"1029\",\"1029\",\"1029\",\"1030\",\"1030\",\"1030\",\"1030\",\"1030\",\"1031\",\"1031\",\"1031\",\"1031\",\"1031\",\"1032\",\"1032\",\"1032\",\"1032\",\"1032\",\"1033\",\"1033\",\"1033\",\"1033\",\"1033\",\"1034\",\"1034\",\"1034\",\"1034\",\"1034\",\"1035\",\"1035\",\"1035\",\"1035\",\"1035\",\"1036\",\"1036\",\"1036\",\"1036\",\"1036\",\"1037\",\"1037\",\"1037\",\"1037\",\"1037\",\"1038\",\"1038\",\"1038\",\"1038\",\"1038\",\"1039\",\"1039\",\"1039\",\"1039\",\"1039\",\"1040\",\"1040\",\"1040\",\"1040\",\"1040\",\"1041\",\"1041\",\"1041\",\"1041\",\"1041\",\"1042\",\"1042\",\"1042\",\"1042\",\"1042\",\"1043\",\"1043\",\"1043\",\"1043\",\"1043\",\"1044\",\"1044\",\"1044\",\"1044\",\"1044\",\"1045\",\"1045\",\"1045\",\"1045\",\"1045\",\"1046\",\"1046\",\"1046\",\"1046\",\"1046\",\"1047\",\"1047\",\"1047\",\"1047\",\"1047\",\"1048\",\"1048\",\"1048\",\"1048\",\"1048\",\"1049\",\"1049\",\"1049\",\"1049\",\"1049\",\"1050\",\"1050\",\"1050\",\"1050\",\"1050\",\"1051\",\"1051\",\"1051\",\"1051\",\"1051\",\"1052\",\"1052\",\"1052\",\"1052\",\"1052\",\"1053\",\"1053\",\"1053\",\"1053\",\"1053\",\"1054\",\"1054\",\"1054\",\"1054\",\"1054\",\"1055\",\"1055\",\"1055\",\"1055\",\"1055\",\"1056\",\"1056\",\"1056\",\"1056\",\"1056\",\"1057\",\"1057\",\"1057\",\"1057\",\"1057\",\"1058\",\"1058\",\"1058\",\"1058\",\"1058\",\"1059\",\"1059\",\"1059\",\"1059\",\"1059\",\"1060\",\"1060\",\"1060\",\"1060\",\"1060\",\"1061\",\"1061\",\"1061\",\"1061\",\"1061\",\"1062\",\"1062\",\"1062\",\"1062\",\"1062\",\"1063\",\"1063\",\"1063\",\"1063\",\"1063\",\"1064\",\"1064\",\"1064\",\"1064\",\"1064\",\"1065\",\"1065\",\"1065\",\"1065\",\"1065\",\"1066\",\"1066\",\"1066\",\"1066\",\"1066\",\"1067\",\"1067\",\"1067\",\"1067\",\"1067\",\"1068\",\"1068\",\"1068\",\"1068\",\"1068\",\"1069\",\"1069\",\"1069\",\"1069\",\"1069\",\"1070\",\"1070\",\"1070\",\"1070\",\"1070\",\"1071\",\"1071\",\"1071\",\"1071\",\"1071\",\"1072\",\"1072\",\"1072\",\"1072\",\"1072\",\"1073\",\"1073\",\"1073\",\"1073\",\"1073\",\"1074\",\"1074\",\"1074\",\"1074\",\"1074\",\"1075\",\"1075\",\"1075\",\"1075\",\"1075\",\"1076\",\"1076\",\"1076\",\"1076\",\"1076\",\"1077\",\"1077\",\"1077\",\"1077\",\"1077\",\"1078\",\"1078\",\"1078\",\"1078\",\"1078\",\"1079\",\"1079\",\"1079\",\"1079\",\"1079\",\"1080\",\"1080\",\"1080\",\"1080\",\"1080\",\"1081\",\"1081\",\"1081\",\"1081\",\"1081\",\"1082\",\"1082\",\"1082\",\"1082\",\"1082\",\"1083\",\"1083\",\"1083\",\"1083\",\"1083\",\"1084\",\"1084\",\"1084\",\"1084\",\"1084\",\"1085\",\"1085\",\"1085\",\"1085\",\"1085\",\"1086\",\"1086\",\"1086\",\"1086\",\"1086\",\"1087\",\"1087\",\"1087\",\"1087\",\"1087\",\"1088\",\"1088\",\"1088\",\"1088\",\"1088\",\"1089\",\"1089\",\"1089\",\"1089\",\"1089\",\"1090\",\"1090\",\"1090\",\"1090\",\"1090\",\"1091\",\"1091\",\"1091\",\"1091\",\"1091\",\"1092\",\"1092\",\"1092\",\"1092\",\"1092\",\"1093\",\"1093\",\"1093\",\"1093\",\"1093\",\"1094\",\"1094\",\"1094\",\"1094\",\"1094\",\"1095\",\"1095\",\"1095\",\"1095\",\"1095\",\"1096\",\"1096\",\"1096\",\"1096\",\"1096\",\"1097\",\"1097\",\"1097\",\"1097\",\"1097\",\"1098\",\"1098\",\"1098\",\"1098\",\"1098\",\"1099\",\"1099\",\"1099\",\"1099\",\"1099\",\"1100\",\"1100\",\"1100\",\"1100\",\"1100\",\"1101\",\"1101\",\"1101\",\"1101\",\"1101\",\"1102\",\"1102\",\"1102\",\"1102\",\"1102\",\"1103\",\"1103\",\"1103\",\"1103\",\"1103\",\"1104\",\"1104\",\"1104\",\"1104\",\"1104\",\"1105\",\"1105\",\"1105\",\"1105\",\"1105\",\"1106\",\"1106\",\"1106\",\"1106\",\"1106\",\"1107\",\"1107\",\"1107\",\"1107\",\"1107\",\"1108\",\"1108\",\"1108\",\"1108\",\"1108\",\"1109\",\"1109\",\"1109\",\"1109\",\"1109\",\"1110\",\"1110\",\"1110\",\"1110\",\"1110\",\"1111\",\"1111\",\"1111\",\"1111\",\"1111\",\"1112\",\"1112\",\"1112\",\"1112\",\"1112\",\"1113\",\"1113\",\"1113\",\"1113\",\"1113\",\"1114\",\"1114\",\"1114\",\"1114\",\"1114\",\"1115\",\"1115\",\"1115\",\"1115\",\"1115\",\"1116\",\"1116\",\"1116\",\"1116\",\"1116\",\"1117\",\"1117\",\"1117\",\"1117\",\"1117\",\"1118\",\"1118\",\"1118\",\"1118\",\"1118\",\"1119\",\"1119\",\"1119\",\"1119\",\"1119\",\"1120\",\"1120\",\"1120\",\"1120\",\"1120\",\"1121\",\"1121\",\"1121\",\"1121\",\"1121\",\"1122\",\"1122\",\"1122\",\"1122\",\"1122\",\"1123\",\"1123\",\"1123\",\"1123\",\"1123\",\"1124\",\"1124\",\"1124\",\"1124\",\"1124\",\"1125\",\"1125\",\"1125\",\"1125\",\"1125\",\"1126\",\"1126\",\"1126\",\"1126\",\"1126\",\"1127\",\"1127\",\"1127\",\"1127\",\"1127\",\"1128\",\"1128\",\"1128\",\"1128\",\"1128\",\"1129\",\"1129\",\"1129\",\"1129\",\"1129\",\"1130\",\"1130\",\"1130\",\"1130\",\"1130\",\"1131\",\"1131\",\"1131\",\"1131\",\"1131\",\"1132\",\"1132\",\"1132\",\"1132\",\"1132\",\"1133\",\"1133\",\"1133\",\"1133\",\"1133\",\"1134\",\"1134\",\"1134\",\"1134\",\"1134\",\"1135\",\"1135\",\"1135\",\"1135\",\"1135\",\"1136\",\"1136\",\"1136\",\"1136\",\"1136\",\"1137\",\"1137\",\"1137\",\"1137\",\"1137\",\"1138\",\"1138\",\"1138\",\"1138\",\"1138\",\"1139\",\"1139\",\"1139\",\"1139\",\"1139\",\"1140\",\"1140\",\"1140\",\"1140\",\"1140\",\"1141\",\"1141\",\"1141\",\"1141\",\"1141\",\"1142\",\"1142\",\"1142\",\"1142\",\"1142\",\"1143\",\"1143\",\"1143\",\"1143\",\"1143\",\"1144\",\"1144\",\"1144\",\"1144\",\"1144\",\"1145\",\"1145\",\"1145\",\"1145\",\"1145\",\"1146\",\"1146\",\"1146\",\"1146\",\"1146\",\"1147\",\"1147\",\"1147\",\"1147\",\"1147\",\"1148\",\"1148\",\"1148\",\"1148\",\"1148\",\"1149\",\"1149\",\"1149\",\"1149\",\"1149\",\"1150\",\"1150\",\"1150\",\"1150\",\"1150\",\"1151\",\"1151\",\"1151\",\"1151\",\"1151\",\"1152\",\"1152\",\"1152\",\"1152\",\"1152\",\"1153\",\"1153\",\"1153\",\"1153\",\"1153\",\"1154\",\"1154\",\"1154\",\"1154\",\"1154\",\"1155\",\"1155\",\"1155\",\"1155\",\"1155\",\"1156\",\"1156\",\"1156\",\"1156\",\"1156\",\"1157\",\"1157\",\"1157\",\"1157\",\"1157\",\"1158\",\"1158\",\"1158\",\"1158\",\"1158\",\"1159\",\"1159\",\"1159\",\"1159\",\"1159\",\"1160\",\"1160\",\"1160\",\"1160\",\"1160\",\"1161\",\"1161\",\"1161\",\"1161\",\"1161\",\"1162\",\"1162\",\"1162\",\"1162\",\"1162\",\"1163\",\"1163\",\"1163\",\"1163\",\"1163\",\"1164\",\"1164\",\"1164\",\"1164\",\"1164\",\"1165\",\"1165\",\"1165\",\"1165\",\"1165\",\"1166\",\"1166\",\"1166\",\"1166\",\"1166\",\"1167\",\"1167\",\"1167\",\"1167\",\"1167\",\"1168\",\"1168\",\"1168\",\"1168\",\"1168\",\"1169\",\"1169\",\"1169\",\"1169\",\"1169\",\"1170\",\"1170\",\"1170\",\"1170\",\"1170\",\"1171\",\"1171\",\"1171\",\"1171\",\"1171\",\"1172\",\"1172\",\"1172\",\"1172\",\"1172\",\"1173\",\"1173\",\"1173\",\"1173\",\"1173\",\"1174\",\"1174\",\"1174\",\"1174\",\"1174\",\"1175\",\"1175\",\"1175\",\"1175\",\"1175\",\"1176\",\"1176\",\"1176\",\"1176\",\"1176\",\"1177\",\"1177\",\"1177\",\"1177\",\"1177\",\"1178\",\"1178\",\"1178\",\"1178\",\"1178\",\"1179\",\"1179\",\"1179\",\"1179\",\"1179\",\"1180\",\"1180\",\"1180\",\"1180\",\"1180\",\"1181\",\"1181\",\"1181\",\"1181\",\"1181\",\"1182\",\"1182\",\"1182\",\"1182\",\"1182\",\"1183\",\"1183\",\"1183\",\"1183\",\"1183\",\"1184\",\"1184\",\"1184\",\"1184\",\"1184\",\"1185\",\"1185\",\"1185\",\"1185\",\"1185\",\"1186\",\"1186\",\"1186\",\"1186\",\"1186\",\"1187\",\"1187\",\"1187\",\"1187\",\"1187\",\"1188\",\"1188\",\"1188\",\"1188\",\"1188\",\"1189\",\"1189\",\"1189\",\"1189\",\"1189\",\"1190\",\"1190\",\"1190\",\"1190\",\"1190\",\"1191\",\"1191\",\"1191\",\"1191\",\"1191\",\"1192\",\"1192\",\"1192\",\"1192\",\"1192\",\"1193\",\"1193\",\"1193\",\"1193\",\"1193\",\"1194\",\"1194\",\"1194\",\"1194\",\"1194\",\"1195\",\"1195\",\"1195\",\"1195\",\"1195\",\"1196\",\"1196\",\"1196\",\"1196\",\"1196\",\"1197\",\"1197\",\"1197\",\"1197\",\"1197\",\"1198\",\"1198\",\"1198\",\"1198\",\"1198\",\"1199\",\"1199\",\"1199\",\"1199\",\"1199\",\"1200\",\"1200\",\"1200\",\"1200\",\"1200\",\"1201\",\"1201\",\"1201\",\"1201\",\"1201\",\"1202\",\"1202\",\"1202\",\"1202\",\"1202\",\"1203\",\"1203\",\"1203\",\"1203\",\"1203\",\"1204\",\"1204\",\"1204\",\"1204\",\"1204\",\"1205\",\"1205\",\"1205\",\"1205\",\"1205\",\"1206\",\"1206\",\"1206\",\"1206\",\"1206\",\"1207\",\"1207\",\"1207\",\"1207\",\"1207\",\"1208\",\"1208\",\"1208\",\"1208\",\"1208\",\"1209\",\"1209\",\"1209\",\"1209\",\"1209\",\"1210\",\"1210\",\"1210\",\"1210\",\"1210\",\"1211\",\"1211\",\"1211\",\"1211\",\"1211\",\"1212\",\"1212\",\"1212\",\"1212\",\"1212\",\"1213\",\"1213\",\"1213\",\"1213\",\"1213\",\"1214\",\"1214\",\"1214\",\"1214\",\"1214\",\"1215\",\"1215\",\"1215\",\"1215\",\"1215\",\"1216\",\"1216\",\"1216\",\"1216\",\"1216\",\"1217\",\"1217\",\"1217\",\"1217\",\"1217\",\"1218\",\"1218\",\"1218\",\"1218\",\"1218\",\"1219\",\"1219\",\"1219\",\"1219\",\"1219\",\"1220\",\"1220\",\"1220\",\"1220\",\"1220\",\"1221\",\"1221\",\"1221\",\"1221\",\"1221\",\"1222\",\"1222\",\"1222\",\"1222\",\"1222\",\"1223\",\"1223\",\"1223\",\"1223\",\"1223\",\"1224\",\"1224\",\"1224\",\"1224\",\"1224\",\"1225\",\"1225\",\"1225\",\"1225\",\"1225\",\"1226\",\"1226\",\"1226\",\"1226\",\"1226\",\"1227\",\"1227\",\"1227\",\"1227\",\"1227\",\"1228\",\"1228\",\"1228\",\"1228\",\"1228\",\"1229\",\"1229\",\"1229\",\"1229\",\"1229\",\"1230\",\"1230\",\"1230\",\"1230\",\"1230\",\"1231\",\"1231\",\"1231\",\"1231\",\"1231\",\"1232\",\"1232\",\"1232\",\"1232\",\"1232\",\"1233\",\"1233\",\"1233\",\"1233\",\"1233\",\"1234\",\"1234\",\"1234\",\"1234\",\"1234\",\"1235\",\"1235\",\"1235\",\"1235\",\"1235\",\"1236\",\"1236\",\"1236\",\"1236\",\"1236\",\"1237\",\"1237\",\"1237\",\"1237\",\"1237\",\"1238\",\"1238\",\"1238\",\"1238\",\"1238\",\"1239\",\"1239\",\"1239\",\"1239\",\"1239\",\"1240\",\"1240\",\"1240\",\"1240\",\"1240\",\"1241\",\"1241\",\"1241\",\"1241\",\"1241\",\"1242\",\"1242\",\"1242\",\"1242\",\"1242\",\"1243\",\"1243\",\"1243\",\"1243\",\"1243\",\"1244\",\"1244\",\"1244\",\"1244\",\"1244\",\"1245\",\"1245\",\"1245\",\"1245\",\"1245\",\"1246\",\"1246\",\"1246\",\"1246\",\"1246\",\"1247\",\"1247\",\"1247\",\"1247\",\"1247\",\"1248\",\"1248\",\"1248\",\"1248\",\"1248\",\"1249\",\"1249\",\"1249\",\"1249\",\"1249\",\"1250\",\"1250\",\"1250\",\"1250\",\"1250\",\"1251\",\"1251\",\"1251\",\"1251\",\"1251\",\"1252\",\"1252\",\"1252\",\"1252\",\"1252\",\"1253\",\"1253\",\"1253\",\"1253\",\"1253\",\"1254\",\"1254\",\"1254\",\"1254\",\"1254\",\"1255\",\"1255\",\"1255\",\"1255\",\"1255\",\"1256\",\"1256\",\"1256\",\"1256\",\"1256\",\"1257\",\"1257\",\"1257\",\"1257\",\"1257\",\"1258\",\"1258\",\"1258\",\"1258\",\"1258\",\"1259\",\"1259\",\"1259\",\"1259\",\"1259\",\"1260\",\"1260\",\"1260\",\"1260\",\"1260\",\"1261\",\"1261\",\"1261\",\"1261\",\"1261\",\"1262\",\"1262\",\"1262\",\"1262\",\"1262\",\"1263\",\"1263\",\"1263\",\"1263\",\"1263\",\"1264\",\"1264\",\"1264\",\"1264\",\"1264\",\"1265\",\"1265\",\"1265\",\"1265\",\"1265\",\"1266\",\"1266\",\"1266\",\"1266\",\"1266\",\"1267\",\"1267\",\"1267\",\"1267\",\"1267\",\"1268\",\"1268\",\"1268\",\"1268\",\"1268\",\"1269\",\"1269\",\"1269\",\"1269\",\"1269\",\"1270\",\"1270\",\"1270\",\"1270\",\"1270\",\"1271\",\"1271\",\"1271\",\"1271\",\"1271\",\"1272\",\"1272\",\"1272\",\"1272\",\"1272\",\"1273\",\"1273\",\"1273\",\"1273\",\"1273\",\"1274\",\"1274\",\"1274\",\"1274\",\"1274\",\"1275\",\"1275\",\"1275\",\"1275\",\"1275\",\"1276\",\"1276\",\"1276\",\"1276\",\"1276\",\"1277\",\"1277\",\"1277\",\"1277\",\"1277\",\"1278\",\"1278\",\"1278\",\"1278\",\"1278\",\"1279\",\"1279\",\"1279\",\"1279\",\"1279\",\"1280\",\"1280\",\"1280\",\"1280\",\"1280\",\"1281\",\"1281\",\"1281\",\"1281\",\"1281\",\"1282\",\"1282\",\"1282\",\"1282\",\"1282\",\"1283\",\"1283\",\"1283\",\"1283\",\"1283\",\"1284\",\"1284\",\"1284\",\"1284\",\"1284\",\"1285\",\"1285\",\"1285\",\"1285\",\"1285\",\"1286\",\"1286\",\"1286\",\"1286\",\"1286\",\"1287\",\"1287\",\"1287\",\"1287\",\"1287\",\"1288\",\"1288\",\"1288\",\"1288\",\"1288\",\"1289\",\"1289\",\"1289\",\"1289\",\"1289\",\"1290\",\"1290\",\"1290\",\"1290\",\"1290\",\"1291\",\"1291\",\"1291\",\"1291\",\"1291\",\"1292\",\"1292\",\"1292\",\"1292\",\"1292\",\"1293\",\"1293\",\"1293\",\"1293\",\"1293\",\"1294\",\"1294\",\"1294\",\"1294\",\"1294\",\"1295\",\"1295\",\"1295\",\"1295\",\"1295\",\"1296\",\"1296\",\"1296\",\"1296\",\"1296\",\"1297\",\"1297\",\"1297\",\"1297\",\"1297\",\"1298\",\"1298\",\"1298\",\"1298\",\"1298\",\"1299\",\"1299\",\"1299\",\"1299\",\"1299\",\"1300\",\"1300\",\"1300\",\"1300\",\"1300\",\"1301\",\"1301\",\"1301\",\"1301\",\"1301\",\"1302\",\"1302\",\"1302\",\"1302\",\"1302\",\"1303\",\"1303\",\"1303\",\"1303\",\"1303\",\"1304\",\"1304\",\"1304\",\"1304\",\"1304\",\"1305\",\"1305\",\"1305\",\"1305\",\"1305\",\"1306\",\"1306\",\"1306\",\"1306\",\"1306\",\"1307\",\"1307\",\"1307\",\"1307\",\"1307\",\"1308\",\"1308\",\"1308\",\"1308\",\"1308\",\"1309\",\"1309\",\"1309\",\"1309\",\"1309\",\"1310\",\"1310\",\"1310\",\"1310\",\"1310\",\"1311\",\"1311\",\"1311\",\"1311\",\"1311\",\"1312\",\"1312\",\"1312\",\"1312\",\"1312\",\"1313\",\"1313\",\"1313\",\"1313\",\"1313\",\"1314\",\"1314\",\"1314\",\"1314\",\"1314\",\"1315\",\"1315\",\"1315\",\"1315\",\"1315\",\"1316\",\"1316\",\"1316\",\"1316\",\"1316\",\"1317\",\"1317\",\"1317\",\"1317\",\"1317\",\"1318\",\"1318\",\"1318\",\"1318\",\"1318\",\"1319\",\"1319\",\"1319\",\"1319\",\"1319\",\"1320\",\"1320\",\"1320\",\"1320\",\"1320\",\"1321\",\"1321\",\"1321\",\"1321\",\"1321\",\"1322\",\"1322\",\"1322\",\"1322\",\"1322\",\"1323\",\"1323\",\"1323\",\"1323\",\"1323\",\"1324\",\"1324\",\"1324\",\"1324\",\"1324\",\"1325\",\"1325\",\"1325\",\"1325\",\"1325\",\"1326\",\"1326\",\"1326\",\"1326\",\"1326\",\"1327\",\"1327\",\"1327\",\"1327\",\"1327\",\"1328\",\"1328\",\"1328\",\"1328\",\"1328\",\"1329\",\"1329\",\"1329\",\"1329\",\"1329\",\"1330\",\"1330\",\"1330\",\"1330\",\"1330\",\"1331\",\"1331\",\"1331\",\"1331\",\"1331\",\"1332\",\"1332\",\"1332\",\"1332\",\"1332\",\"1333\",\"1333\",\"1333\",\"1333\",\"1333\",\"1334\",\"1334\",\"1334\",\"1334\",\"1334\",\"1335\",\"1335\",\"1335\",\"1335\",\"1335\",\"1336\",\"1336\",\"1336\",\"1336\",\"1336\",\"1337\",\"1337\",\"1337\",\"1337\",\"1337\",\"1338\",\"1338\",\"1338\",\"1338\",\"1338\",\"1339\",\"1339\",\"1339\",\"1339\",\"1339\",\"1340\",\"1340\",\"1340\",\"1340\",\"1340\",\"1341\",\"1341\",\"1341\",\"1341\",\"1341\",\"1342\",\"1342\",\"1342\",\"1342\",\"1342\",\"1343\",\"1343\",\"1343\",\"1343\",\"1343\",\"1344\",\"1344\",\"1344\",\"1344\",\"1344\",\"1345\",\"1345\",\"1345\",\"1345\",\"1345\",\"1346\",\"1346\",\"1346\",\"1346\",\"1346\",\"1347\",\"1347\",\"1347\",\"1347\",\"1347\",\"1348\",\"1348\",\"1348\",\"1348\",\"1348\",\"1349\",\"1349\",\"1349\",\"1349\",\"1349\",\"1350\",\"1350\",\"1350\",\"1350\",\"1350\",\"1351\",\"1351\",\"1351\",\"1351\",\"1351\",\"1352\",\"1352\",\"1352\",\"1352\",\"1352\",\"1353\",\"1353\",\"1353\",\"1353\",\"1353\",\"1354\",\"1354\",\"1354\",\"1354\",\"1354\",\"1355\",\"1355\",\"1355\",\"1355\",\"1355\",\"1356\",\"1356\",\"1356\",\"1356\",\"1356\",\"1357\",\"1357\",\"1357\",\"1357\",\"1357\",\"1358\",\"1358\",\"1358\",\"1358\",\"1358\",\"1359\",\"1359\",\"1359\",\"1359\",\"1359\",\"1360\",\"1360\",\"1360\",\"1360\",\"1360\",\"1361\",\"1361\",\"1361\",\"1361\",\"1361\",\"1362\",\"1362\",\"1362\",\"1362\",\"1362\",\"1363\",\"1363\",\"1363\",\"1363\",\"1363\",\"1364\",\"1364\",\"1364\",\"1364\",\"1364\",\"1365\",\"1365\",\"1365\",\"1365\",\"1365\",\"1366\",\"1366\",\"1366\",\"1366\",\"1366\",\"1367\",\"1367\",\"1367\",\"1367\",\"1367\",\"1368\",\"1368\",\"1368\",\"1368\",\"1368\",\"1369\",\"1369\",\"1369\",\"1369\",\"1369\",\"1370\",\"1370\",\"1370\",\"1370\",\"1370\",\"1371\",\"1371\",\"1371\",\"1371\",\"1371\",\"1372\",\"1372\",\"1372\",\"1372\",\"1372\",\"1373\",\"1373\",\"1373\",\"1373\",\"1373\",\"1374\",\"1374\",\"1374\",\"1374\",\"1374\",\"1375\",\"1375\",\"1375\",\"1375\",\"1375\",\"1376\",\"1376\",\"1376\",\"1376\",\"1376\",\"1377\",\"1377\",\"1377\",\"1377\",\"1377\",\"1378\",\"1378\",\"1378\",\"1378\",\"1378\",\"1379\",\"1379\",\"1379\",\"1379\",\"1379\",\"1380\",\"1380\",\"1380\",\"1380\",\"1380\",\"1381\",\"1381\",\"1381\",\"1381\",\"1381\",\"1382\",\"1382\",\"1382\",\"1382\",\"1382\",\"1383\",\"1383\",\"1383\",\"1383\",\"1383\",\"1384\",\"1384\",\"1384\",\"1384\",\"1384\",\"1385\",\"1385\",\"1385\",\"1385\",\"1385\",\"1386\",\"1386\",\"1386\",\"1386\",\"1386\",\"1387\",\"1387\",\"1387\",\"1387\",\"1387\",\"1388\",\"1388\",\"1388\",\"1388\",\"1388\",\"1389\",\"1389\",\"1389\",\"1389\",\"1389\",\"1390\",\"1390\",\"1390\",\"1390\",\"1390\",\"1391\",\"1391\",\"1391\",\"1391\",\"1391\",\"1392\",\"1392\",\"1392\",\"1392\",\"1392\",\"1393\",\"1393\",\"1393\",\"1393\",\"1393\",\"1394\",\"1394\",\"1394\",\"1394\",\"1394\",\"1395\",\"1395\",\"1395\",\"1395\",\"1395\",\"1396\",\"1396\",\"1396\",\"1396\",\"1396\",\"1397\",\"1397\",\"1397\",\"1397\",\"1397\",\"1398\",\"1398\",\"1398\",\"1398\",\"1398\",\"1399\",\"1399\",\"1399\",\"1399\",\"1399\",\"1400\",\"1400\",\"1400\",\"1400\",\"1400\",\"1401\",\"1401\",\"1401\",\"1401\",\"1401\",\"1402\",\"1402\",\"1402\",\"1402\",\"1402\",\"1403\",\"1403\",\"1403\",\"1403\",\"1403\",\"1404\",\"1404\",\"1404\",\"1404\",\"1404\",\"1405\",\"1405\",\"1405\",\"1405\",\"1405\",\"1406\",\"1406\",\"1406\",\"1406\",\"1406\",\"1407\",\"1407\",\"1407\",\"1407\",\"1407\",\"1408\",\"1408\",\"1408\",\"1408\",\"1408\",\"1409\",\"1409\",\"1409\",\"1409\",\"1409\",\"1410\",\"1410\",\"1410\",\"1410\",\"1410\",\"1411\",\"1411\",\"1411\",\"1411\",\"1411\",\"1412\",\"1412\",\"1412\",\"1412\",\"1412\",\"1413\",\"1413\",\"1413\",\"1413\",\"1413\",\"1414\",\"1414\",\"1414\",\"1414\",\"1414\",\"1415\",\"1415\",\"1415\",\"1415\",\"1415\",\"1416\",\"1416\",\"1416\",\"1416\",\"1416\",\"1417\",\"1417\",\"1417\",\"1417\",\"1417\",\"1418\",\"1418\",\"1418\",\"1418\",\"1418\",\"1419\",\"1419\",\"1419\",\"1419\",\"1419\",\"1420\",\"1420\",\"1420\",\"1420\",\"1420\",\"1421\",\"1421\",\"1421\",\"1421\",\"1421\",\"1422\",\"1422\",\"1422\",\"1422\",\"1422\",\"1423\",\"1423\",\"1423\",\"1423\",\"1423\",\"1424\",\"1424\",\"1424\",\"1424\",\"1424\",\"1425\",\"1425\",\"1425\",\"1425\",\"1425\",\"1426\",\"1426\",\"1426\",\"1426\",\"1426\",\"1427\",\"1427\",\"1427\",\"1427\",\"1427\",\"1428\",\"1428\",\"1428\",\"1428\",\"1428\",\"1429\",\"1429\",\"1429\",\"1429\",\"1429\",\"1430\",\"1430\",\"1430\",\"1430\",\"1430\",\"1431\",\"1431\",\"1431\",\"1431\",\"1431\",\"1432\",\"1432\",\"1432\",\"1432\",\"1432\",\"1433\",\"1433\",\"1433\",\"1433\",\"1433\",\"1434\",\"1434\",\"1434\",\"1434\",\"1434\",\"1435\",\"1435\",\"1435\",\"1435\",\"1435\",\"1436\",\"1436\",\"1436\",\"1436\",\"1436\",\"1437\",\"1437\",\"1437\",\"1437\",\"1437\",\"1438\",\"1438\",\"1438\",\"1438\",\"1438\",\"1439\",\"1439\",\"1439\",\"1439\",\"1439\",\"1440\",\"1440\",\"1440\",\"1440\",\"1440\",\"1441\",\"1441\",\"1441\",\"1441\",\"1441\",\"1442\",\"1442\",\"1442\",\"1442\",\"1442\",\"1443\",\"1443\",\"1443\",\"1443\",\"1443\",\"1444\",\"1444\",\"1444\",\"1444\",\"1444\",\"1445\",\"1445\",\"1445\",\"1445\",\"1445\",\"1446\",\"1446\",\"1446\",\"1446\",\"1446\",\"1447\",\"1447\",\"1447\",\"1447\",\"1447\",\"1448\",\"1448\",\"1448\",\"1448\",\"1448\",\"1449\",\"1449\",\"1449\",\"1449\",\"1449\",\"1450\",\"1450\",\"1450\",\"1450\",\"1450\",\"1451\",\"1451\",\"1451\",\"1451\",\"1451\",\"1452\",\"1452\",\"1452\",\"1452\",\"1452\",\"1453\",\"1453\",\"1453\",\"1453\",\"1453\",\"1454\",\"1454\",\"1454\",\"1454\",\"1454\",\"1455\",\"1455\",\"1455\",\"1455\",\"1455\",\"1456\",\"1456\",\"1456\",\"1456\",\"1456\",\"1457\",\"1457\",\"1457\",\"1457\",\"1457\",\"1458\",\"1458\",\"1458\",\"1458\",\"1458\",\"1459\",\"1459\",\"1459\",\"1459\",\"1459\",\"1460\",\"1460\",\"1460\",\"1460\",\"1460\",\"1461\",\"1461\",\"1461\",\"1461\",\"1461\",\"1462\",\"1462\",\"1462\",\"1462\",\"1462\",\"1463\",\"1463\",\"1463\",\"1463\",\"1463\",\"1464\",\"1464\",\"1464\",\"1464\",\"1464\",\"1465\",\"1465\",\"1465\",\"1465\",\"1465\",\"1466\",\"1466\",\"1466\",\"1466\",\"1466\",\"1467\",\"1467\",\"1467\",\"1467\",\"1467\",\"1468\",\"1468\",\"1468\",\"1468\",\"1468\",\"1469\",\"1469\",\"1469\",\"1469\",\"1469\",\"1470\",\"1470\",\"1470\",\"1470\",\"1470\",\"1471\",\"1471\",\"1471\",\"1471\",\"1471\",\"1472\",\"1472\",\"1472\",\"1472\",\"1472\",\"1473\",\"1473\",\"1473\",\"1473\",\"1473\",\"1474\",\"1474\",\"1474\",\"1474\",\"1474\",\"1475\",\"1475\",\"1475\",\"1475\",\"1475\",\"1476\",\"1476\",\"1476\",\"1476\",\"1476\",\"1477\",\"1477\",\"1477\",\"1477\",\"1477\",\"1478\",\"1478\",\"1478\",\"1478\",\"1478\",\"1479\",\"1479\",\"1479\",\"1479\",\"1479\",\"1480\",\"1480\",\"1480\",\"1480\",\"1480\",\"1481\",\"1481\",\"1481\",\"1481\",\"1481\",\"1482\",\"1482\",\"1482\",\"1482\",\"1482\",\"1483\",\"1483\",\"1483\",\"1483\",\"1483\",\"1484\",\"1484\",\"1484\",\"1484\",\"1484\",\"1485\",\"1485\",\"1485\",\"1485\",\"1485\",\"1486\",\"1486\",\"1486\",\"1486\",\"1486\",\"1487\",\"1487\",\"1487\",\"1487\",\"1487\",\"1488\",\"1488\",\"1488\",\"1488\",\"1488\",\"1489\",\"1489\",\"1489\",\"1489\",\"1489\",\"1490\",\"1490\",\"1490\",\"1490\",\"1490\",\"1491\",\"1491\",\"1491\",\"1491\",\"1491\",\"1492\",\"1492\",\"1492\",\"1492\",\"1492\",\"1493\",\"1493\",\"1493\",\"1493\",\"1493\",\"1494\",\"1494\",\"1494\",\"1494\",\"1494\",\"1495\",\"1495\",\"1495\",\"1495\",\"1495\",\"1496\",\"1496\",\"1496\",\"1496\",\"1496\",\"1497\",\"1497\",\"1497\",\"1497\",\"1497\",\"1498\",\"1498\",\"1498\",\"1498\",\"1498\",\"1499\",\"1499\",\"1499\",\"1499\",\"1499\",\"1500\",\"1500\",\"1500\",\"1500\",\"1500\",\"1501\",\"1501\",\"1501\",\"1501\",\"1501\",\"1502\",\"1502\",\"1502\",\"1502\",\"1502\",\"1503\",\"1503\",\"1503\",\"1503\",\"1503\",\"1504\",\"1504\",\"1504\",\"1504\",\"1504\",\"1505\",\"1505\",\"1505\",\"1505\",\"1505\",\"1506\",\"1506\",\"1506\",\"1506\",\"1506\",\"1507\",\"1507\",\"1507\",\"1507\",\"1507\",\"1508\",\"1508\",\"1508\",\"1508\",\"1508\",\"1509\",\"1509\",\"1509\",\"1509\",\"1509\",\"1510\",\"1510\",\"1510\",\"1510\",\"1510\",\"1511\",\"1511\",\"1511\",\"1511\",\"1511\",\"1512\",\"1512\",\"1512\",\"1512\",\"1512\",\"1513\",\"1513\",\"1513\",\"1513\",\"1513\",\"1514\",\"1514\",\"1514\",\"1514\",\"1514\",\"1515\",\"1515\",\"1515\",\"1515\",\"1515\",\"1516\",\"1516\",\"1516\",\"1516\",\"1516\",\"1517\",\"1517\",\"1517\",\"1517\",\"1517\",\"1518\",\"1518\",\"1518\",\"1518\",\"1518\",\"1519\",\"1519\",\"1519\",\"1519\",\"1519\",\"1520\",\"1520\",\"1520\",\"1520\",\"1520\",\"1521\",\"1521\",\"1521\",\"1521\",\"1521\",\"1522\",\"1522\",\"1522\",\"1522\",\"1522\",\"1523\",\"1523\",\"1523\",\"1523\",\"1523\",\"1524\",\"1524\",\"1524\",\"1524\",\"1524\",\"1525\",\"1525\",\"1525\",\"1525\",\"1525\",\"1526\",\"1526\",\"1526\",\"1526\",\"1526\",\"1527\",\"1527\",\"1527\",\"1527\",\"1527\",\"1528\",\"1528\",\"1528\",\"1528\",\"1528\",\"1529\",\"1529\",\"1529\",\"1529\",\"1529\",\"1530\",\"1530\",\"1530\",\"1530\",\"1530\",\"1531\",\"1531\",\"1531\",\"1531\",\"1531\",\"1532\",\"1532\",\"1532\",\"1532\",\"1532\",\"1533\",\"1533\",\"1533\",\"1533\",\"1533\",\"1534\",\"1534\",\"1534\",\"1534\",\"1534\",\"1535\",\"1535\",\"1535\",\"1535\",\"1535\",\"1536\",\"1536\",\"1536\",\"1536\",\"1536\",\"1537\",\"1537\",\"1537\",\"1537\",\"1537\",\"1538\",\"1538\",\"1538\",\"1538\",\"1538\",\"1539\",\"1539\",\"1539\",\"1539\",\"1539\",\"1540\",\"1540\",\"1540\",\"1540\",\"1540\",\"1541\",\"1541\",\"1541\",\"1541\",\"1541\",\"1542\",\"1542\",\"1542\",\"1542\",\"1542\",\"1543\",\"1543\",\"1543\",\"1543\",\"1543\",\"1544\",\"1544\",\"1544\",\"1544\",\"1544\",\"1545\",\"1545\",\"1545\",\"1545\",\"1545\",\"1546\",\"1546\",\"1546\",\"1546\",\"1546\",\"1547\",\"1547\",\"1547\",\"1547\",\"1547\",\"1548\",\"1548\",\"1548\",\"1548\",\"1548\",\"1549\",\"1549\",\"1549\",\"1549\",\"1549\",\"1550\",\"1550\",\"1550\",\"1550\",\"1550\",\"1551\",\"1551\",\"1551\",\"1551\",\"1551\",\"1552\",\"1552\",\"1552\",\"1552\",\"1552\",\"1553\",\"1553\",\"1553\",\"1553\",\"1553\",\"1554\",\"1554\",\"1554\",\"1554\",\"1554\",\"1555\",\"1555\",\"1555\",\"1555\",\"1555\",\"1556\",\"1556\",\"1556\",\"1556\",\"1556\",\"1557\",\"1557\",\"1557\",\"1557\",\"1557\",\"1558\",\"1558\",\"1558\",\"1558\",\"1558\",\"1559\",\"1559\",\"1559\",\"1559\",\"1559\",\"1560\",\"1560\",\"1560\",\"1560\",\"1560\",\"1561\",\"1561\",\"1561\",\"1561\",\"1561\",\"1562\",\"1562\",\"1562\",\"1562\",\"1562\",\"1563\",\"1563\",\"1563\",\"1563\",\"1563\",\"1564\",\"1564\",\"1564\",\"1564\",\"1564\",\"1565\",\"1565\",\"1565\",\"1565\",\"1565\",\"1566\",\"1566\",\"1566\",\"1566\",\"1566\",\"1567\",\"1567\",\"1567\",\"1567\",\"1567\",\"1568\",\"1568\",\"1568\",\"1568\",\"1568\",\"1569\",\"1569\",\"1569\",\"1569\",\"1569\",\"1570\",\"1570\",\"1570\",\"1570\",\"1570\",\"1571\",\"1571\",\"1571\",\"1571\",\"1571\",\"1572\",\"1572\",\"1572\",\"1572\",\"1572\",\"1573\",\"1573\",\"1573\",\"1573\",\"1573\",\"1574\",\"1574\",\"1574\",\"1574\",\"1574\",\"1575\",\"1575\",\"1575\",\"1575\",\"1575\",\"1576\",\"1576\",\"1576\",\"1576\",\"1576\",\"1577\",\"1577\",\"1577\",\"1577\",\"1577\",\"1578\",\"1578\",\"1578\",\"1578\",\"1578\",\"1579\",\"1579\",\"1579\",\"1579\",\"1579\",\"1580\",\"1580\",\"1580\",\"1580\",\"1580\",\"1581\",\"1581\",\"1581\",\"1581\",\"1581\",\"1582\",\"1582\",\"1582\",\"1582\",\"1582\",\"1583\",\"1583\",\"1583\",\"1583\",\"1583\",\"1584\",\"1584\",\"1584\",\"1584\",\"1584\",\"1585\",\"1585\",\"1585\",\"1585\",\"1585\",\"1586\",\"1586\",\"1586\",\"1586\",\"1586\",\"1587\",\"1587\",\"1587\",\"1587\",\"1587\",\"1588\",\"1588\",\"1588\",\"1588\",\"1588\",\"1589\",\"1589\",\"1589\",\"1589\",\"1589\",\"1590\",\"1590\",\"1590\",\"1590\",\"1590\",\"1591\",\"1591\",\"1591\",\"1591\",\"1591\",\"1592\",\"1592\",\"1592\",\"1592\",\"1592\",\"1593\",\"1593\",\"1593\",\"1593\",\"1593\",\"1594\",\"1594\",\"1594\",\"1594\",\"1594\",\"1595\",\"1595\",\"1595\",\"1595\",\"1595\",\"1596\",\"1596\",\"1596\",\"1596\",\"1596\",\"1597\",\"1597\",\"1597\",\"1597\",\"1597\",\"1598\",\"1598\",\"1598\",\"1598\",\"1598\",\"1599\",\"1599\",\"1599\",\"1599\",\"1599\",\"1600\",\"1600\",\"1600\",\"1600\",\"1600\",\"1601\",\"1601\",\"1601\",\"1601\",\"1601\",\"1602\",\"1602\",\"1602\",\"1602\",\"1602\",\"1603\",\"1603\",\"1603\",\"1603\",\"1603\",\"1604\",\"1604\",\"1604\",\"1604\",\"1604\",\"1605\",\"1605\",\"1605\",\"1605\",\"1605\",\"1606\",\"1606\",\"1606\",\"1606\",\"1606\",\"1607\",\"1607\",\"1607\",\"1607\",\"1607\",\"1608\",\"1608\",\"1608\",\"1608\",\"1608\",\"1609\",\"1609\",\"1609\",\"1609\",\"1609\",\"1610\",\"1610\",\"1610\",\"1610\",\"1610\",\"1611\",\"1611\",\"1611\",\"1611\",\"1611\",\"1612\",\"1612\",\"1612\",\"1612\",\"1612\",\"1613\",\"1613\",\"1613\",\"1613\",\"1613\",\"1614\",\"1614\",\"1614\",\"1614\",\"1614\",\"1615\",\"1615\",\"1615\",\"1615\",\"1615\",\"1616\",\"1616\",\"1616\",\"1616\",\"1616\",\"1617\",\"1617\",\"1617\",\"1617\",\"1617\",\"1618\",\"1618\",\"1618\",\"1618\",\"1618\",\"1619\",\"1619\",\"1619\",\"1619\",\"1619\",\"1620\",\"1620\",\"1620\",\"1620\",\"1620\",\"1621\",\"1621\",\"1621\",\"1621\",\"1621\",\"1622\",\"1622\",\"1622\",\"1622\",\"1622\",\"1623\",\"1623\",\"1623\",\"1623\",\"1623\",\"1624\",\"1624\",\"1624\",\"1624\",\"1624\",\"1625\",\"1625\",\"1625\",\"1625\",\"1625\",\"1626\",\"1626\",\"1626\",\"1626\",\"1626\",\"1627\",\"1627\",\"1627\",\"1627\",\"1627\",\"1628\",\"1628\",\"1628\",\"1628\",\"1628\",\"1629\",\"1629\",\"1629\",\"1629\",\"1629\",\"1630\",\"1630\",\"1630\",\"1630\",\"1630\",\"1631\",\"1631\",\"1631\",\"1631\",\"1631\",\"1632\",\"1632\",\"1632\",\"1632\",\"1632\",\"1633\",\"1633\",\"1633\",\"1633\",\"1633\",\"1634\",\"1634\",\"1634\",\"1634\",\"1634\",\"1635\",\"1635\",\"1635\",\"1635\",\"1635\",\"1636\",\"1636\",\"1636\",\"1636\",\"1636\",\"1637\",\"1637\",\"1637\",\"1637\",\"1637\",\"1638\",\"1638\",\"1638\",\"1638\",\"1638\",\"1639\",\"1639\",\"1639\",\"1639\",\"1639\",\"1640\",\"1640\",\"1640\",\"1640\",\"1640\",\"1641\",\"1641\",\"1641\",\"1641\",\"1641\",\"1642\",\"1642\",\"1642\",\"1642\",\"1642\",\"1643\",\"1643\",\"1643\",\"1643\",\"1643\",\"1644\",\"1644\",\"1644\",\"1644\",\"1644\",\"1645\",\"1645\",\"1645\",\"1645\",\"1645\",\"1646\",\"1646\",\"1646\",\"1646\",\"1646\",\"1647\",\"1647\",\"1647\",\"1647\",\"1647\",\"1648\",\"1648\",\"1648\",\"1648\",\"1648\",\"1649\",\"1649\",\"1649\",\"1649\",\"1649\",\"1650\",\"1650\",\"1650\",\"1650\",\"1650\",\"1651\",\"1651\",\"1651\",\"1651\",\"1651\",\"1652\",\"1652\",\"1652\",\"1652\",\"1652\",\"1653\",\"1653\",\"1653\",\"1653\",\"1653\",\"1654\",\"1654\",\"1654\",\"1654\",\"1654\",\"1655\",\"1655\",\"1655\",\"1655\",\"1655\",\"1656\",\"1656\",\"1656\",\"1656\",\"1656\",\"1657\",\"1657\",\"1657\",\"1657\",\"1657\",\"1658\",\"1658\",\"1658\",\"1658\",\"1658\",\"1659\",\"1659\",\"1659\",\"1659\",\"1659\",\"1660\",\"1660\",\"1660\",\"1660\",\"1660\",\"1661\",\"1661\",\"1661\",\"1661\",\"1661\",\"1662\",\"1662\",\"1662\",\"1662\",\"1662\",\"1663\",\"1663\",\"1663\",\"1663\",\"1663\",\"1664\",\"1664\",\"1664\",\"1664\",\"1664\",\"1665\",\"1665\",\"1665\",\"1665\",\"1665\",\"1666\",\"1666\",\"1666\",\"1666\",\"1666\",\"1667\",\"1667\",\"1667\",\"1667\",\"1667\",\"1668\",\"1668\",\"1668\",\"1668\",\"1668\",\"1669\",\"1669\",\"1669\",\"1669\",\"1669\",\"1670\",\"1670\",\"1670\",\"1670\",\"1670\",\"1671\",\"1671\",\"1671\",\"1671\",\"1671\",\"1672\",\"1672\",\"1672\",\"1672\",\"1672\",\"1673\",\"1673\",\"1673\",\"1673\",\"1673\",\"1674\",\"1674\",\"1674\",\"1674\",\"1674\",\"1675\",\"1675\",\"1675\",\"1675\",\"1675\",\"1676\",\"1676\",\"1676\",\"1676\",\"1676\",\"1677\",\"1677\",\"1677\",\"1677\",\"1677\",\"1678\",\"1678\",\"1678\",\"1678\",\"1678\",\"1679\",\"1679\",\"1679\",\"1679\",\"1679\",\"1680\",\"1680\",\"1680\",\"1680\",\"1680\",\"1681\",\"1681\",\"1681\",\"1681\",\"1681\",\"1682\",\"1682\",\"1682\",\"1682\",\"1682\",\"1683\",\"1683\",\"1683\",\"1683\",\"1683\",\"1684\",\"1684\",\"1684\",\"1684\",\"1684\",\"1685\",\"1685\",\"1685\",\"1685\",\"1685\",\"1686\",\"1686\",\"1686\",\"1686\",\"1686\",\"1687\",\"1687\",\"1687\",\"1687\",\"1687\",\"1688\",\"1688\",\"1688\",\"1688\",\"1688\",\"1689\",\"1689\",\"1689\",\"1689\",\"1689\",\"1690\",\"1690\",\"1690\",\"1690\",\"1690\",\"1691\",\"1691\",\"1691\",\"1691\",\"1691\",\"1692\",\"1692\",\"1692\",\"1692\",\"1692\",\"1693\",\"1693\",\"1693\",\"1693\",\"1693\",\"1694\",\"1694\",\"1694\",\"1694\",\"1694\",\"1695\",\"1695\",\"1695\",\"1695\",\"1695\",\"1696\",\"1696\",\"1696\",\"1696\",\"1696\",\"1697\",\"1697\",\"1697\",\"1697\",\"1697\",\"1698\",\"1698\",\"1698\",\"1698\",\"1698\",\"1699\",\"1699\",\"1699\",\"1699\",\"1699\",\"1700\",\"1700\",\"1700\",\"1700\",\"1700\",\"1701\",\"1701\",\"1701\",\"1701\",\"1701\",\"1702\",\"1702\",\"1702\",\"1702\",\"1702\",\"1703\",\"1703\",\"1703\",\"1703\",\"1703\",\"1704\",\"1704\",\"1704\",\"1704\",\"1704\",\"1705\",\"1705\",\"1705\",\"1705\",\"1705\",\"1706\",\"1706\",\"1706\",\"1706\",\"1706\",\"1707\",\"1707\",\"1707\",\"1707\",\"1707\",\"1708\",\"1708\",\"1708\",\"1708\",\"1708\",\"1709\",\"1709\",\"1709\",\"1709\",\"1709\",\"1710\",\"1710\",\"1710\",\"1710\",\"1710\",\"1711\",\"1711\",\"1711\",\"1711\",\"1711\",\"1712\",\"1712\",\"1712\",\"1712\",\"1712\",\"1713\",\"1713\",\"1713\",\"1713\",\"1713\",\"1714\",\"1714\",\"1714\",\"1714\",\"1714\",\"1715\",\"1715\",\"1715\",\"1715\",\"1715\",\"1716\",\"1716\",\"1716\",\"1716\",\"1716\",\"1717\",\"1717\",\"1717\",\"1717\",\"1717\",\"1718\",\"1718\",\"1718\",\"1718\",\"1718\",\"1719\",\"1719\",\"1719\",\"1719\",\"1719\",\"1720\",\"1720\",\"1720\",\"1720\",\"1720\",\"1721\",\"1721\",\"1721\",\"1721\",\"1721\",\"1722\",\"1722\",\"1722\",\"1722\",\"1722\",\"1723\",\"1723\",\"1723\",\"1723\",\"1723\",\"1724\",\"1724\",\"1724\",\"1724\",\"1724\",\"1725\",\"1725\",\"1725\",\"1725\",\"1725\",\"1726\",\"1726\",\"1726\",\"1726\",\"1726\",\"1727\",\"1727\",\"1727\",\"1727\",\"1727\",\"1728\",\"1728\",\"1728\",\"1728\",\"1728\",\"1729\",\"1729\",\"1729\",\"1729\",\"1729\",\"1730\",\"1730\",\"1730\",\"1730\",\"1730\",\"1731\",\"1731\",\"1731\",\"1731\",\"1731\",\"1732\",\"1732\",\"1732\",\"1732\",\"1732\",\"1733\",\"1733\",\"1733\",\"1733\",\"1733\",\"1734\",\"1734\",\"1734\",\"1734\",\"1734\",\"1735\",\"1735\",\"1735\",\"1735\",\"1735\",\"1736\",\"1736\",\"1736\",\"1736\",\"1736\",\"1737\",\"1737\",\"1737\",\"1737\",\"1737\",\"1738\",\"1738\",\"1738\",\"1738\",\"1738\",\"1739\",\"1739\",\"1739\",\"1739\",\"1739\",\"1740\",\"1740\",\"1740\",\"1740\",\"1740\",\"1741\",\"1741\",\"1741\",\"1741\",\"1741\",\"1742\",\"1742\",\"1742\",\"1742\",\"1742\",\"1743\",\"1743\",\"1743\",\"1743\",\"1743\",\"1744\",\"1744\",\"1744\",\"1744\",\"1744\",\"1745\",\"1745\",\"1745\",\"1745\",\"1745\",\"1746\",\"1746\",\"1746\",\"1746\",\"1746\",\"1747\",\"1747\",\"1747\",\"1747\",\"1747\",\"1748\",\"1748\",\"1748\",\"1748\",\"1748\",\"1749\",\"1749\",\"1749\",\"1749\",\"1749\",\"1750\",\"1750\",\"1750\",\"1750\",\"1750\",\"1751\",\"1751\",\"1751\",\"1751\",\"1751\",\"1752\",\"1752\",\"1752\",\"1752\",\"1752\",\"1753\",\"1753\",\"1753\",\"1753\",\"1753\",\"1754\",\"1754\",\"1754\",\"1754\",\"1754\",\"1755\",\"1755\",\"1755\",\"1755\",\"1755\",\"1756\",\"1756\",\"1756\",\"1756\",\"1756\",\"1757\",\"1757\",\"1757\",\"1757\",\"1757\",\"1758\",\"1758\",\"1758\",\"1758\",\"1758\",\"1759\",\"1759\",\"1759\",\"1759\",\"1759\",\"1760\",\"1760\",\"1760\",\"1760\",\"1760\",\"1761\",\"1761\",\"1761\",\"1761\",\"1761\",\"1762\",\"1762\",\"1762\",\"1762\",\"1762\",\"1763\",\"1763\",\"1763\",\"1763\",\"1763\",\"1764\",\"1764\",\"1764\",\"1764\",\"1764\",\"1765\",\"1765\",\"1765\",\"1765\",\"1765\",\"1766\",\"1766\",\"1766\",\"1766\",\"1766\",\"1767\",\"1767\",\"1767\",\"1767\",\"1767\",\"1768\",\"1768\",\"1768\",\"1768\",\"1768\",\"1769\",\"1769\",\"1769\",\"1769\",\"1769\",\"1770\",\"1770\",\"1770\",\"1770\",\"1770\",\"1771\",\"1771\",\"1771\",\"1771\",\"1771\",\"1772\",\"1772\",\"1772\",\"1772\",\"1772\",\"1773\",\"1773\",\"1773\",\"1773\",\"1773\",\"1774\",\"1774\",\"1774\",\"1774\",\"1774\",\"1775\",\"1775\",\"1775\",\"1775\",\"1775\",\"1776\",\"1776\",\"1776\",\"1776\",\"1776\",\"1777\",\"1777\",\"1777\",\"1777\",\"1777\",\"1778\",\"1778\",\"1778\",\"1778\",\"1778\",\"1779\",\"1779\",\"1779\",\"1779\",\"1779\",\"1780\",\"1780\",\"1780\",\"1780\",\"1780\",\"1781\",\"1781\",\"1781\",\"1781\",\"1781\",\"1782\",\"1782\",\"1782\",\"1782\",\"1782\",\"1783\",\"1783\",\"1783\",\"1783\",\"1783\",\"1784\",\"1784\",\"1784\",\"1784\",\"1784\",\"1785\",\"1785\",\"1785\",\"1785\",\"1785\",\"1786\",\"1786\",\"1786\",\"1786\",\"1786\",\"1787\",\"1787\",\"1787\",\"1787\",\"1787\",\"1788\",\"1788\",\"1788\",\"1788\",\"1788\",\"1789\",\"1789\",\"1789\",\"1789\",\"1789\",\"1790\",\"1790\",\"1790\",\"1790\",\"1790\",\"1791\",\"1791\",\"1791\",\"1791\",\"1791\",\"1792\",\"1792\",\"1792\",\"1792\",\"1792\",\"1793\",\"1793\",\"1793\",\"1793\",\"1793\",\"1794\",\"1794\",\"1794\",\"1794\",\"1794\",\"1795\",\"1795\",\"1795\",\"1795\",\"1795\",\"1796\",\"1796\",\"1796\",\"1796\",\"1796\",\"1797\",\"1797\",\"1797\",\"1797\",\"1797\",\"1798\",\"1798\",\"1798\",\"1798\",\"1798\",\"1799\",\"1799\",\"1799\",\"1799\",\"1799\",\"1800\",\"1800\",\"1800\",\"1800\",\"1800\",\"1801\",\"1801\",\"1801\",\"1801\",\"1801\",\"1802\",\"1802\",\"1802\",\"1802\",\"1802\",\"1803\",\"1803\",\"1803\",\"1803\",\"1803\",\"1804\",\"1804\",\"1804\",\"1804\",\"1804\",\"1805\",\"1805\",\"1805\",\"1805\",\"1805\",\"1806\",\"1806\",\"1806\",\"1806\",\"1806\",\"1807\",\"1807\",\"1807\",\"1807\",\"1807\",\"1808\",\"1808\",\"1808\",\"1808\",\"1808\",\"1809\",\"1809\",\"1809\",\"1809\",\"1809\",\"1810\",\"1810\",\"1810\",\"1810\",\"1810\",\"1811\",\"1811\",\"1811\",\"1811\",\"1811\",\"1812\",\"1812\",\"1812\",\"1812\",\"1812\",\"1813\",\"1813\",\"1813\",\"1813\",\"1813\",\"1814\",\"1814\",\"1814\",\"1814\",\"1814\",\"1815\",\"1815\",\"1815\",\"1815\",\"1815\",\"1816\",\"1816\",\"1816\",\"1816\",\"1816\",\"1817\",\"1817\",\"1817\",\"1817\",\"1817\",\"1818\",\"1818\",\"1818\",\"1818\",\"1818\",\"1819\",\"1819\",\"1819\",\"1819\",\"1819\",\"1820\",\"1820\",\"1820\",\"1820\",\"1820\",\"1821\",\"1821\",\"1821\",\"1821\",\"1821\",\"1822\",\"1822\",\"1822\",\"1822\",\"1822\",\"1823\",\"1823\",\"1823\",\"1823\",\"1823\",\"1824\",\"1824\",\"1824\",\"1824\",\"1824\",\"1825\",\"1825\",\"1825\",\"1825\",\"1825\",\"1826\",\"1826\",\"1826\",\"1826\",\"1826\",\"1827\",\"1827\",\"1827\",\"1827\",\"1827\",\"1828\",\"1828\",\"1828\",\"1828\",\"1828\",\"1829\",\"1829\",\"1829\",\"1829\",\"1829\",\"1830\",\"1830\",\"1830\",\"1830\",\"1830\",\"1831\",\"1831\",\"1831\",\"1831\",\"1831\",\"1832\",\"1832\",\"1832\",\"1832\",\"1832\",\"1833\",\"1833\",\"1833\",\"1833\",\"1833\",\"1834\",\"1834\",\"1834\",\"1834\",\"1834\",\"1835\",\"1835\",\"1835\",\"1835\",\"1835\",\"1836\",\"1836\",\"1836\",\"1836\",\"1836\",\"1837\",\"1837\",\"1837\",\"1837\",\"1837\",\"1838\",\"1838\",\"1838\",\"1838\",\"1838\",\"1839\",\"1839\",\"1839\",\"1839\",\"1839\",\"1840\",\"1840\",\"1840\",\"1840\",\"1840\",\"1841\",\"1841\",\"1841\",\"1841\",\"1841\",\"1842\",\"1842\",\"1842\",\"1842\",\"1842\",\"1843\",\"1843\",\"1843\",\"1843\",\"1843\",\"1844\",\"1844\",\"1844\",\"1844\",\"1844\",\"1845\",\"1845\",\"1845\",\"1845\",\"1845\",\"1846\",\"1846\",\"1846\",\"1846\",\"1846\",\"1847\",\"1847\",\"1847\",\"1847\",\"1847\",\"1848\",\"1848\",\"1848\",\"1848\",\"1848\",\"1849\",\"1849\",\"1849\",\"1849\",\"1849\",\"1850\",\"1850\",\"1850\",\"1850\",\"1850\",\"1851\",\"1851\",\"1851\",\"1851\",\"1851\",\"1852\",\"1852\",\"1852\",\"1852\",\"1852\",\"1853\",\"1853\",\"1853\",\"1853\",\"1853\",\"1854\",\"1854\",\"1854\",\"1854\",\"1854\",\"1855\",\"1855\",\"1855\",\"1855\",\"1855\",\"1856\",\"1856\",\"1856\",\"1856\",\"1856\",\"1857\",\"1857\",\"1857\",\"1857\",\"1857\",\"1858\",\"1858\",\"1858\",\"1858\",\"1858\",\"1859\",\"1859\",\"1859\",\"1859\",\"1859\",\"1860\",\"1860\",\"1860\",\"1860\",\"1860\",\"1861\",\"1861\",\"1861\",\"1861\",\"1861\",\"1862\",\"1862\",\"1862\",\"1862\",\"1862\",\"1863\",\"1863\",\"1863\",\"1863\",\"1863\",\"1864\",\"1864\",\"1864\",\"1864\",\"1864\",\"1865\",\"1865\",\"1865\",\"1865\",\"1865\",\"1866\",\"1866\",\"1866\",\"1866\",\"1866\",\"1867\",\"1867\",\"1867\",\"1867\",\"1867\",\"1868\",\"1868\",\"1868\",\"1868\",\"1868\",\"1869\",\"1869\",\"1869\",\"1869\",\"1869\",\"1870\",\"1870\",\"1870\",\"1870\",\"1870\",\"1871\",\"1871\",\"1871\",\"1871\",\"1871\",\"1872\",\"1872\",\"1872\",\"1872\",\"1872\",\"1873\",\"1873\",\"1873\",\"1873\",\"1873\",\"1874\",\"1874\",\"1874\",\"1874\",\"1874\",\"1875\",\"1875\",\"1875\",\"1875\",\"1875\",\"1876\",\"1876\",\"1876\",\"1876\",\"1876\",\"1877\",\"1877\",\"1877\",\"1877\",\"1877\",\"1878\",\"1878\",\"1878\",\"1878\",\"1878\",\"1879\",\"1879\",\"1879\",\"1879\",\"1879\",\"1880\",\"1880\",\"1880\",\"1880\",\"1880\",\"1881\",\"1881\",\"1881\",\"1881\",\"1881\",\"1882\",\"1882\",\"1882\",\"1882\",\"1882\",\"1883\",\"1883\",\"1883\",\"1883\",\"1883\",\"1884\",\"1884\",\"1884\",\"1884\",\"1884\",\"1885\",\"1885\",\"1885\",\"1885\",\"1885\",\"1886\",\"1886\",\"1886\",\"1886\",\"1886\",\"1887\",\"1887\",\"1887\",\"1887\",\"1887\",\"1888\",\"1888\",\"1888\",\"1888\",\"1888\",\"1889\",\"1889\",\"1889\",\"1889\",\"1889\",\"1890\",\"1890\",\"1890\",\"1890\",\"1890\",\"1891\",\"1891\",\"1891\",\"1891\",\"1891\",\"1892\",\"1892\",\"1892\",\"1892\",\"1892\",\"1893\",\"1893\",\"1893\",\"1893\",\"1893\",\"1894\",\"1894\",\"1894\",\"1894\",\"1894\",\"1895\",\"1895\",\"1895\",\"1895\",\"1895\",\"1896\",\"1896\",\"1896\",\"1896\",\"1896\",\"1897\",\"1897\",\"1897\",\"1897\",\"1897\",\"1898\",\"1898\",\"1898\",\"1898\",\"1898\",\"1899\",\"1899\",\"1899\",\"1899\",\"1899\",\"1900\",\"1900\",\"1900\",\"1900\",\"1900\",\"1901\",\"1901\",\"1901\",\"1901\",\"1901\",\"1902\",\"1902\",\"1902\",\"1902\",\"1902\",\"1903\",\"1903\",\"1903\",\"1903\",\"1903\",\"1904\",\"1904\",\"1904\",\"1904\",\"1904\",\"1905\",\"1905\",\"1905\",\"1905\",\"1905\",\"1906\",\"1906\",\"1906\",\"1906\",\"1906\",\"1907\",\"1907\",\"1907\",\"1907\",\"1907\",\"1908\",\"1908\",\"1908\",\"1908\",\"1908\",\"1909\",\"1909\",\"1909\",\"1909\",\"1909\",\"1910\",\"1910\",\"1910\",\"1910\",\"1910\",\"1911\",\"1911\",\"1911\",\"1911\",\"1911\",\"1912\",\"1912\",\"1912\",\"1912\",\"1912\",\"1913\",\"1913\",\"1913\",\"1913\",\"1913\",\"1914\",\"1914\",\"1914\",\"1914\",\"1914\",\"1915\",\"1915\",\"1915\",\"1915\",\"1915\",\"1916\",\"1916\",\"1916\",\"1916\",\"1916\",\"1917\",\"1917\",\"1917\",\"1917\",\"1917\",\"1918\",\"1918\",\"1918\",\"1918\",\"1918\",\"1919\",\"1919\",\"1919\",\"1919\",\"1919\",\"1920\",\"1920\",\"1920\",\"1920\",\"1920\",\"1921\",\"1921\",\"1921\",\"1921\",\"1921\",\"1922\",\"1922\",\"1922\",\"1922\",\"1922\",\"1923\",\"1923\",\"1923\",\"1923\",\"1923\",\"1924\",\"1924\",\"1924\",\"1924\",\"1924\",\"1925\",\"1925\",\"1925\",\"1925\",\"1925\",\"1926\",\"1926\",\"1926\",\"1926\",\"1926\",\"1927\",\"1927\",\"1927\",\"1927\",\"1927\",\"1928\",\"1928\",\"1928\",\"1928\",\"1928\",\"1929\",\"1929\",\"1929\",\"1929\",\"1929\",\"1930\",\"1930\",\"1930\",\"1930\",\"1930\",\"1931\",\"1931\",\"1931\",\"1931\",\"1931\",\"1932\",\"1932\",\"1932\",\"1932\",\"1932\",\"1933\",\"1933\",\"1933\",\"1933\",\"1933\",\"1934\",\"1934\",\"1934\",\"1934\",\"1934\",\"1935\",\"1935\",\"1935\",\"1935\",\"1935\",\"1936\",\"1936\",\"1936\",\"1936\",\"1936\",\"1937\",\"1937\",\"1937\",\"1937\",\"1937\",\"1938\",\"1938\",\"1938\",\"1938\",\"1938\",\"1939\",\"1939\",\"1939\",\"1939\",\"1939\",\"1940\",\"1940\",\"1940\",\"1940\",\"1940\",\"1941\",\"1941\",\"1941\",\"1941\",\"1941\",\"1942\",\"1942\",\"1942\",\"1942\",\"1942\",\"1943\",\"1943\",\"1943\",\"1943\",\"1943\",\"1944\",\"1944\",\"1944\",\"1944\",\"1944\",\"1945\",\"1945\",\"1945\",\"1945\",\"1945\",\"1946\",\"1946\",\"1946\",\"1946\",\"1946\",\"1947\",\"1947\",\"1947\",\"1947\",\"1947\",\"1948\",\"1948\",\"1948\",\"1948\",\"1948\",\"1949\",\"1949\",\"1949\",\"1949\",\"1949\",\"1950\",\"1950\",\"1950\",\"1950\",\"1950\",\"1951\",\"1951\",\"1951\",\"1951\",\"1951\",\"1952\",\"1952\",\"1952\",\"1952\",\"1952\",\"1953\",\"1953\",\"1953\",\"1953\",\"1953\",\"1954\",\"1954\",\"1954\",\"1954\",\"1954\",\"1955\",\"1955\",\"1955\",\"1955\",\"1955\",\"1956\",\"1956\",\"1956\",\"1956\",\"1956\",\"1957\",\"1957\",\"1957\",\"1957\",\"1957\",\"1958\",\"1958\",\"1958\",\"1958\",\"1958\",\"1959\",\"1959\",\"1959\",\"1959\",\"1959\",\"1960\",\"1960\",\"1960\",\"1960\",\"1960\",\"1961\",\"1961\",\"1961\",\"1961\",\"1961\",\"1962\",\"1962\",\"1962\",\"1962\",\"1962\",\"1963\",\"1963\",\"1963\",\"1963\",\"1963\",\"1964\",\"1964\",\"1964\",\"1964\",\"1964\",\"1965\",\"1965\",\"1965\",\"1965\",\"1965\",\"1966\",\"1966\",\"1966\",\"1966\",\"1966\",\"1967\",\"1967\",\"1967\",\"1967\",\"1967\",\"1968\",\"1968\",\"1968\",\"1968\",\"1968\",\"1969\",\"1969\",\"1969\",\"1969\",\"1969\",\"1970\",\"1970\",\"1970\",\"1970\",\"1970\",\"1971\",\"1971\",\"1971\",\"1971\",\"1971\",\"1972\",\"1972\",\"1972\",\"1972\",\"1972\",\"1973\",\"1973\",\"1973\",\"1973\",\"1973\",\"1974\",\"1974\",\"1974\",\"1974\",\"1974\",\"1975\",\"1975\",\"1975\",\"1975\",\"1975\",\"1976\",\"1976\",\"1976\",\"1976\",\"1976\",\"1977\",\"1977\",\"1977\",\"1977\",\"1977\",\"1978\",\"1978\",\"1978\",\"1978\",\"1978\",\"1979\",\"1979\",\"1979\",\"1979\",\"1979\",\"1980\",\"1980\",\"1980\",\"1980\",\"1980\",\"1981\",\"1981\",\"1981\",\"1981\",\"1981\",\"1982\",\"1982\",\"1982\",\"1982\",\"1982\",\"1983\",\"1983\",\"1983\",\"1983\",\"1983\",\"1984\",\"1984\",\"1984\",\"1984\",\"1984\",\"1985\",\"1985\",\"1985\",\"1985\",\"1985\",\"1986\",\"1986\",\"1986\",\"1986\",\"1986\",\"1987\",\"1987\",\"1987\",\"1987\",\"1987\",\"1988\",\"1988\",\"1988\",\"1988\",\"1988\",\"1989\",\"1989\",\"1989\",\"1989\",\"1989\",\"1990\",\"1990\",\"1990\",\"1990\",\"1990\",\"1991\",\"1991\",\"1991\",\"1991\",\"1991\",\"1992\",\"1992\",\"1992\",\"1992\",\"1992\",\"1993\",\"1993\",\"1993\",\"1993\",\"1993\",\"1994\",\"1994\",\"1994\",\"1994\",\"1994\",\"1995\",\"1995\",\"1995\",\"1995\",\"1995\",\"1996\",\"1996\",\"1996\",\"1996\",\"1996\",\"1997\",\"1997\",\"1997\",\"1997\",\"1997\",\"1998\",\"1998\",\"1998\",\"1998\",\"1998\",\"1999\",\"1999\",\"1999\",\"1999\",\"1999\",\"2000\",\"2000\",\"2000\",\"2000\",\"2000\",\"2001\",\"2001\",\"2001\",\"2001\",\"2001\",\"2002\",\"2002\",\"2002\",\"2002\",\"2002\",\"2003\",\"2003\",\"2003\",\"2003\",\"2003\",\"2004\",\"2004\",\"2004\",\"2004\",\"2004\",\"2005\",\"2005\",\"2005\",\"2005\",\"2005\",\"2006\",\"2006\",\"2006\",\"2006\",\"2006\",\"2007\",\"2007\",\"2007\",\"2007\",\"2007\",\"2008\",\"2008\",\"2008\",\"2008\",\"2008\",\"2009\",\"2009\",\"2009\",\"2009\",\"2009\",\"2010\",\"2010\",\"2010\",\"2010\",\"2010\",\"2011\",\"2011\",\"2011\",\"2011\",\"2011\",\"2012\",\"2012\",\"2012\",\"2012\",\"2012\",\"2013\",\"2013\",\"2013\",\"2013\",\"2013\",\"2014\",\"2014\",\"2014\",\"2014\",\"2014\",\"2015\",\"2015\",\"2015\",\"2015\",\"2015\",\"2016\",\"2016\",\"2016\",\"2016\",\"2016\",\"2017\",\"2017\",\"2017\",\"2017\",\"2017\",\"2018\",\"2018\",\"2018\",\"2018\",\"2018\",\"2019\",\"2019\",\"2019\",\"2019\",\"2019\",\"2020\",\"2020\",\"2020\",\"2020\",\"2020\",\"2021\",\"2021\",\"2021\",\"2021\",\"2021\",\"2022\",\"2022\",\"2022\",\"2022\",\"2022\",\"2023\",\"2023\",\"2023\",\"2023\",\"2023\",\"2024\",\"2024\",\"2024\",\"2024\",\"2024\",\"2025\",\"2025\",\"2025\",\"2025\",\"2025\",\"2026\",\"2026\",\"2026\",\"2026\",\"2026\",\"2027\",\"2027\",\"2027\",\"2027\",\"2027\",\"2028\",\"2028\",\"2028\",\"2028\",\"2028\",\"2029\",\"2029\",\"2029\",\"2029\",\"2029\",\"2030\",\"2030\",\"2030\",\"2030\",\"2030\",\"2031\",\"2031\",\"2031\",\"2031\",\"2031\",\"2032\",\"2032\",\"2032\",\"2032\",\"2032\",\"2033\",\"2033\",\"2033\",\"2033\",\"2033\",\"2034\",\"2034\",\"2034\",\"2034\",\"2034\",\"2035\",\"2035\",\"2035\",\"2035\",\"2035\",\"2036\",\"2036\",\"2036\",\"2036\",\"2036\",\"2037\",\"2037\",\"2037\",\"2037\",\"2037\",\"2038\",\"2038\",\"2038\",\"2038\",\"2038\",\"2039\",\"2039\",\"2039\",\"2039\",\"2039\",\"2040\",\"2040\",\"2040\",\"2040\",\"2040\",\"2041\",\"2041\",\"2041\",\"2041\",\"2041\",\"2042\",\"2042\",\"2042\",\"2042\",\"2042\",\"2043\",\"2043\",\"2043\",\"2043\",\"2043\",\"2044\",\"2044\",\"2044\",\"2044\",\"2044\",\"2045\",\"2045\",\"2045\",\"2045\",\"2045\",\"2046\",\"2046\",\"2046\",\"2046\",\"2046\",\"2047\",\"2047\",\"2047\",\"2047\",\"2047\",\"2048\",\"2048\",\"2048\",\"2048\",\"2048\",\"2049\",\"2049\",\"2049\",\"2049\",\"2049\",\"2050\",\"2050\",\"2050\",\"2050\",\"2050\",\"2051\",\"2051\",\"2051\",\"2051\",\"2051\",\"2052\",\"2052\",\"2052\",\"2052\",\"2052\",\"2053\",\"2053\",\"2053\",\"2053\",\"2053\",\"2054\",\"2054\",\"2054\",\"2054\",\"2054\",\"2055\",\"2055\",\"2055\",\"2055\",\"2055\",\"2056\",\"2056\",\"2056\",\"2056\",\"2056\",\"2057\",\"2057\",\"2057\",\"2057\",\"2057\",\"2058\",\"2058\",\"2058\",\"2058\",\"2058\",\"2059\",\"2059\",\"2059\",\"2059\",\"2059\",\"2060\",\"2060\",\"2060\",\"2060\",\"2060\",\"2061\",\"2061\",\"2061\",\"2061\",\"2061\",\"2062\",\"2062\",\"2062\",\"2062\",\"2062\",\"2063\",\"2063\",\"2063\",\"2063\",\"2063\",\"2064\",\"2064\",\"2064\",\"2064\",\"2064\",\"2065\",\"2065\",\"2065\",\"2065\",\"2065\",\"2066\",\"2066\",\"2066\",\"2066\",\"2066\",\"2067\",\"2067\",\"2067\",\"2067\",\"2067\",\"2068\",\"2068\",\"2068\",\"2068\",\"2068\",\"2069\",\"2069\",\"2069\",\"2069\",\"2069\",\"2070\",\"2070\",\"2070\",\"2070\",\"2070\",\"2071\",\"2071\",\"2071\",\"2071\",\"2071\",\"2072\",\"2072\",\"2072\",\"2072\",\"2072\",\"2073\",\"2073\",\"2073\",\"2073\",\"2073\",\"2074\",\"2074\",\"2074\",\"2074\",\"2074\",\"2075\",\"2075\",\"2075\",\"2075\",\"2075\",\"2076\",\"2076\",\"2076\",\"2076\",\"2076\",\"2077\",\"2077\",\"2077\",\"2077\",\"2077\",\"2078\",\"2078\",\"2078\",\"2078\",\"2078\",\"2079\",\"2079\",\"2079\",\"2079\",\"2079\",\"2080\",\"2080\",\"2080\",\"2080\",\"2080\",\"2081\",\"2081\",\"2081\",\"2081\",\"2081\",\"2082\",\"2082\",\"2082\",\"2082\",\"2082\",\"2083\",\"2083\",\"2083\",\"2083\",\"2083\",\"2084\",\"2084\",\"2084\",\"2084\",\"2084\",\"2085\",\"2085\",\"2085\",\"2085\",\"2085\",\"2086\",\"2086\",\"2086\",\"2086\",\"2086\",\"2087\",\"2087\",\"2087\",\"2087\",\"2087\",\"2088\",\"2088\",\"2088\",\"2088\",\"2088\",\"2089\",\"2089\",\"2089\",\"2089\",\"2089\",\"2090\",\"2090\",\"2090\",\"2090\",\"2090\",\"2091\",\"2091\",\"2091\",\"2091\",\"2091\",\"2092\",\"2092\",\"2092\",\"2092\",\"2092\",\"2093\",\"2093\",\"2093\",\"2093\",\"2093\",\"2094\",\"2094\",\"2094\",\"2094\",\"2094\",\"2095\",\"2095\",\"2095\",\"2095\",\"2095\",\"2096\",\"2096\",\"2096\",\"2096\",\"2096\",\"2097\",\"2097\",\"2097\",\"2097\",\"2097\",\"2098\",\"2098\",\"2098\",\"2098\",\"2098\",\"2099\",\"2099\",\"2099\",\"2099\",\"2099\",\"2100\",\"2100\",\"2100\",\"2100\",\"2100\",\"2101\",\"2101\",\"2101\",\"2101\",\"2101\",\"2102\",\"2102\",\"2102\",\"2102\",\"2102\",\"2103\",\"2103\",\"2103\",\"2103\",\"2103\",\"2104\",\"2104\",\"2104\",\"2104\",\"2104\",\"2105\",\"2105\",\"2105\",\"2105\",\"2105\",\"2106\",\"2106\",\"2106\",\"2106\",\"2106\",\"2107\",\"2107\",\"2107\",\"2107\",\"2107\",\"2108\",\"2108\",\"2108\",\"2108\",\"2108\",\"2109\",\"2109\",\"2109\",\"2109\",\"2109\",\"2110\",\"2110\",\"2110\",\"2110\",\"2110\",\"2111\",\"2111\",\"2111\",\"2111\",\"2111\",\"2112\",\"2112\",\"2112\",\"2112\",\"2112\",\"2113\",\"2113\",\"2113\",\"2113\",\"2113\",\"2114\",\"2114\",\"2114\",\"2114\",\"2114\",\"2115\",\"2115\",\"2115\",\"2115\",\"2115\",\"2116\",\"2116\",\"2116\",\"2116\",\"2116\",\"2117\",\"2117\",\"2117\",\"2117\",\"2117\",\"2118\",\"2118\",\"2118\",\"2118\",\"2118\",\"2119\",\"2119\",\"2119\",\"2119\",\"2119\",\"2120\",\"2120\",\"2120\",\"2120\",\"2120\",\"2121\",\"2121\",\"2121\",\"2121\",\"2121\",\"2122\",\"2122\",\"2122\",\"2122\",\"2122\",\"2123\",\"2123\",\"2123\",\"2123\",\"2123\",\"2124\",\"2124\",\"2124\",\"2124\",\"2124\"],\"index\":[0,1,2,3,4,5,6,7,8,9,10,11,12,13,14,15,16,17,18,19,20,21,22,23,24,25,26,27,28,29,30,31,32,33,34,35,36,37,38,39,40,41,42,43,44,45,46,47,48,49,50,51,52,53,54,55,56,57,58,59,60,61,62,63,64,65,66,67,68,69,70,71,72,73,74,75,76,77,78,79,80,81,82,83,84,85,86,87,88,89,90,91,92,93,94,95,96,97,98,99,100,101,102,103,104,105,106,107,108,109,110,111,112,113,114,115,116,117,118,119,120,121,122,123,124,125,126,127,128,129,130,131,132,133,134,135,136,137,138,139,140,141,142,143,144,145,146,147,148,149,150,151,152,153,154,155,156,157,158,159,160,161,162,163,164,165,166,167,168,169,170,171,172,173,174,175,176,177,178,179,180,181,182,183,184,185,186,187,188,189,190,191,192,193,194,195,196,197,198,199,200,201,202,203,204,205,206,207,208,209,210,211,212,213,214,215,216,217,218,219,220,221,222,223,224,225,226,227,228,229,230,231,232,233,234,235,236,237,238,239,240,241,242,243,244,245,246,247,248,249,250,251,252,253,254,255,256,257,258,259,260,261,262,263,264,265,266,267,268,269,270,271,272,273,274,275,276,277,278,279,280,281,282,283,284,285,286,287,288,289,290,291,292,293,294,295,296,297,298,299,300,301,302,303,304,305,306,307,308,309,310,311,312,313,314,315,316,317,318,319,320,321,322,323,324,325,326,327,328,329,330,331,332,333,334,335,336,337,338,339,340,341,342,343,344,345,346,347,348,349,350,351,352,353,354,355,356,357,358,359,360,361,362,363,364,365,366,367,368,369,370,371,372,373,374,375,376,377,378,379,380,381,382,383,384,385,386,387,388,389,390,391,392,393,394,395,396,397,398,399,400,401,402,403,404,405,406,407,408,409,410,411,412,413,414,415,416,417,418,419,420,421,422,423,424,425,426,427,428,429,430,431,432,433,434,435,436,437,438,439,440,441,442,443,444,445,446,447,448,449,450,451,452,453,454,455,456,457,458,459,460,461,462,463,464,465,466,467,468,469,470,471,472,473,474,475,476,477,478,479,480,481,482,483,484,485,486,487,488,489,490,491,492,493,494,495,496,497,498,499,500,501,502,503,504,505,506,507,508,509,510,511,512,513,514,515,516,517,518,519,520,521,522,523,524,525,526,527,528,529,530,531,532,533,534,535,536,537,538,539,540,541,542,543,544,545,546,547,548,549,550,551,552,553,554,555,556,557,558,559,560,561,562,563,564,565,566,567,568,569,570,571,572,573,574,575,576,577,578,579,580,581,582,583,584,585,586,587,588,589,590,591,592,593,594,595,596,597,598,599,600,601,602,603,604,605,606,607,608,609,610,611,612,613,614,615,616,617,618,619,620,621,622,623,624,625,626,627,628,629,630,631,632,633,634,635,636,637,638,639,640,641,642,643,644,645,646,647,648,649,650,651,652,653,654,655,656,657,658,659,660,661,662,663,664,665,666,667,668,669,670,671,672,673,674,675,676,677,678,679,680,681,682,683,684,685,686,687,688,689,690,691,692,693,694,695,696,697,698,699,700,701,702,703,704,705,706,707,708,709,710,711,712,713,714,715,716,717,718,719,720,721,722,723,724,725,726,727,728,729,730,731,732,733,734,735,736,737,738,739,740,741,742,743,744,745,746,747,748,749,750,751,752,753,754,755,756,757,758,759,760,761,762,763,764,765,766,767,768,769,770,771,772,773,774,775,776,777,778,779,780,781,782,783,784,785,786,787,788,789,790,791,792,793,794,795,796,797,798,799,800,801,802,803,804,805,806,807,808,809,810,811,812,813,814,815,816,817,818,819,820,821,822,823,824,825,826,827,828,829,830,831,832,833,834,835,836,837,838,839,840,841,842,843,844,845,846,847,848,849,850,851,852,853,854,855,856,857,858,859,860,861,862,863,864,865,866,867,868,869,870,871,872,873,874,875,876,877,878,879,880,881,882,883,884,885,886,887,888,889,890,891,892,893,894,895,896,897,898,899,900,901,902,903,904,905,906,907,908,909,910,911,912,913,914,915,916,917,918,919,920,921,922,923,924,925,926,927,928,929,930,931,932,933,934,935,936,937,938,939,940,941,942,943,944,945,946,947,948,949,950,951,952,953,954,955,956,957,958,959,960,961,962,963,964,965,966,967,968,969,970,971,972,973,974,975,976,977,978,979,980,981,982,983,984,985,986,987,988,989,990,991,992,993,994,995,996,997,998,999,1000,1001,1002,1003,1004,1005,1006,1007,1008,1009,1010,1011,1012,1013,1014,1015,1016,1017,1018,1019,1020,1021,1022,1023,1024,1025,1026,1027,1028,1029,1030,1031,1032,1033,1034,1035,1036,1037,1038,1039,1040,1041,1042,1043,1044,1045,1046,1047,1048,1049,1050,1051,1052,1053,1054,1055,1056,1057,1058,1059,1060,1061,1062,1063,1064,1065,1066,1067,1068,1069,1070,1071,1072,1073,1074,1075,1076,1077,1078,1079,1080,1081,1082,1083,1084,1085,1086,1087,1088,1089,1090,1091,1092,1093,1094,1095,1096,1097,1098,1099,1100,1101,1102,1103,1104,1105,1106,1107,1108,1109,1110,1111,1112,1113,1114,1115,1116,1117,1118,1119,1120,1121,1122,1123,1124,1125,1126,1127,1128,1129,1130,1131,1132,1133,1134,1135,1136,1137,1138,1139,1140,1141,1142,1143,1144,1145,1146,1147,1148,1149,1150,1151,1152,1153,1154,1155,1156,1157,1158,1159,1160,1161,1162,1163,1164,1165,1166,1167,1168,1169,1170,1171,1172,1173,1174,1175,1176,1177,1178,1179,1180,1181,1182,1183,1184,1185,1186,1187,1188,1189,1190,1191,1192,1193,1194,1195,1196,1197,1198,1199,1200,1201,1202,1203,1204,1205,1206,1207,1208,1209,1210,1211,1212,1213,1214,1215,1216,1217,1218,1219,1220,1221,1222,1223,1224,1225,1226,1227,1228,1229,1230,1231,1232,1233,1234,1235,1236,1237,1238,1239,1240,1241,1242,1243,1244,1245,1246,1247,1248,1249,1250,1251,1252,1253,1254,1255,1256,1257,1258,1259,1260,1261,1262,1263,1264,1265,1266,1267,1268,1269,1270,1271,1272,1273,1274,1275,1276,1277,1278,1279,1280,1281,1282,1283,1284,1285,1286,1287,1288,1289,1290,1291,1292,1293,1294,1295,1296,1297,1298,1299,1300,1301,1302,1303,1304,1305,1306,1307,1308,1309,1310,1311,1312,1313,1314,1315,1316,1317,1318,1319,1320,1321,1322,1323,1324,1325,1326,1327,1328,1329,1330,1331,1332,1333,1334,1335,1336,1337,1338,1339,1340,1341,1342,1343,1344,1345,1346,1347,1348,1349,1350,1351,1352,1353,1354,1355,1356,1357,1358,1359,1360,1361,1362,1363,1364,1365,1366,1367,1368,1369,1370,1371,1372,1373,1374,1375,1376,1377,1378,1379,1380,1381,1382,1383,1384,1385,1386,1387,1388,1389,1390,1391,1392,1393,1394,1395,1396,1397,1398,1399,1400,1401,1402,1403,1404,1405,1406,1407,1408,1409,1410,1411,1412,1413,1414,1415,1416,1417,1418,1419,1420,1421,1422,1423,1424,1425,1426,1427,1428,1429,1430,1431,1432,1433,1434,1435,1436,1437,1438,1439,1440,1441,1442,1443,1444,1445,1446,1447,1448,1449,1450,1451,1452,1453,1454,1455,1456,1457,1458,1459,1460,1461,1462,1463,1464,1465,1466,1467,1468,1469,1470,1471,1472,1473,1474,1475,1476,1477,1478,1479,1480,1481,1482,1483,1484,1485,1486,1487,1488,1489,1490,1491,1492,1493,1494,1495,1496,1497,1498,1499,1500,1501,1502,1503,1504,1505,1506,1507,1508,1509,1510,1511,1512,1513,1514,1515,1516,1517,1518,1519,1520,1521,1522,1523,1524,1525,1526,1527,1528,1529,1530,1531,1532,1533,1534,1535,1536,1537,1538,1539,1540,1541,1542,1543,1544,1545,1546,1547,1548,1549,1550,1551,1552,1553,1554,1555,1556,1557,1558,1559,1560,1561,1562,1563,1564,1565,1566,1567,1568,1569,1570,1571,1572,1573,1574,1575,1576,1577,1578,1579,1580,1581,1582,1583,1584,1585,1586,1587,1588,1589,1590,1591,1592,1593,1594,1595,1596,1597,1598,1599,1600,1601,1602,1603,1604,1605,1606,1607,1608,1609,1610,1611,1612,1613,1614,1615,1616,1617,1618,1619,1620,1621,1622,1623,1624,1625,1626,1627,1628,1629,1630,1631,1632,1633,1634,1635,1636,1637,1638,1639,1640,1641,1642,1643,1644,1645,1646,1647,1648,1649,1650,1651,1652,1653,1654,1655,1656,1657,1658,1659,1660,1661,1662,1663,1664,1665,1666,1667,1668,1669,1670,1671,1672,1673,1674,1675,1676,1677,1678,1679,1680,1681,1682,1683,1684,1685,1686,1687,1688,1689,1690,1691,1692,1693,1694,1695,1696,1697,1698,1699,1700,1701,1702,1703,1704,1705,1706,1707,1708,1709,1710,1711,1712,1713,1714,1715,1716,1717,1718,1719,1720,1721,1722,1723,1724,1725,1726,1727,1728,1729,1730,1731,1732,1733,1734,1735,1736,1737,1738,1739,1740,1741,1742,1743,1744,1745,1746,1747,1748,1749,1750,1751,1752,1753,1754,1755,1756,1757,1758,1759,1760,1761,1762,1763,1764,1765,1766,1767,1768,1769,1770,1771,1772,1773,1774,1775,1776,1777,1778,1779,1780,1781,1782,1783,1784,1785,1786,1787,1788,1789,1790,1791,1792,1793,1794,1795,1796,1797,1798,1799,1800,1801,1802,1803,1804,1805,1806,1807,1808,1809,1810,1811,1812,1813,1814,1815,1816,1817,1818,1819,1820,1821,1822,1823,1824,1825,1826,1827,1828,1829,1830,1831,1832,1833,1834,1835,1836,1837,1838,1839,1840,1841,1842,1843,1844,1845,1846,1847,1848,1849,1850,1851,1852,1853,1854,1855,1856,1857,1858,1859,1860,1861,1862,1863,1864,1865,1866,1867,1868,1869,1870,1871,1872,1873,1874,1875,1876,1877,1878,1879,1880,1881,1882,1883,1884,1885,1886,1887,1888,1889,1890,1891,1892,1893,1894,1895,1896,1897,1898,1899,1900,1901,1902,1903,1904,1905,1906,1907,1908,1909,1910,1911,1912,1913,1914,1915,1916,1917,1918,1919,1920,1921,1922,1923,1924,1925,1926,1927,1928,1929,1930,1931,1932,1933,1934,1935,1936,1937,1938,1939,1940,1941,1942,1943,1944,1945,1946,1947,1948,1949,1950,1951,1952,1953,1954,1955,1956,1957,1958,1959,1960,1961,1962,1963,1964,1965,1966,1967,1968,1969,1970,1971,1972,1973,1974,1975,1976,1977,1978,1979,1980,1981,1982,1983,1984,1985,1986,1987,1988,1989,1990,1991,1992,1993,1994,1995,1996,1997,1998,1999,2000,2001,2002,2003,2004,2005,2006,2007,2008,2009,2010,2011,2012,2013,2014,2015,2016,2017,2018,2019,2020,2021,2022,2023,2024,2025,2026,2027,2028,2029,2030,2031,2032,2033,2034,2035,2036,2037,2038,2039,2040,2041,2042,2043,2044,2045,2046,2047,2048,2049,2050,2051,2052,2053,2054,2055,2056,2057,2058,2059,2060,2061,2062,2063,2064,2065,2066,2067,2068,2069,2070,2071,2072,2073,2074,2075,2076,2077,2078,2079,2080,2081,2082,2083,2084,2085,2086,2087,2088,2089,2090,2091,2092,2093,2094,2095,2096,2097,2098,2099,2100,2101,2102,2103,2104,2105,2106,2107,2108,2109,2110,2111,2112,2113,2114,2115,2116,2117,2118,2119,2120,2121,2122,2123,2124,2125,2126,2127,2128,2129,2130,2131,2132,2133,2134,2135,2136,2137,2138,2139,2140,2141,2142,2143,2144,2145,2146,2147,2148,2149,2150,2151,2152,2153,2154,2155,2156,2157,2158,2159,2160,2161,2162,2163,2164,2165,2166,2167,2168,2169,2170,2171,2172,2173,2174,2175,2176,2177,2178,2179,2180,2181,2182,2183,2184,2185,2186,2187,2188,2189,2190,2191,2192,2193,2194,2195,2196,2197,2198,2199,2200,2201,2202,2203,2204,2205,2206,2207,2208,2209,2210,2211,2212,2213,2214,2215,2216,2217,2218,2219,2220,2221,2222,2223,2224,2225,2226,2227,2228,2229,2230,2231,2232,2233,2234,2235,2236,2237,2238,2239,2240,2241,2242,2243,2244,2245,2246,2247,2248,2249,2250,2251,2252,2253,2254,2255,2256,2257,2258,2259,2260,2261,2262,2263,2264,2265,2266,2267,2268,2269,2270,2271,2272,2273,2274,2275,2276,2277,2278,2279,2280,2281,2282,2283,2284,2285,2286,2287,2288,2289,2290,2291,2292,2293,2294,2295,2296,2297,2298,2299,2300,2301,2302,2303,2304,2305,2306,2307,2308,2309,2310,2311,2312,2313,2314,2315,2316,2317,2318,2319,2320,2321,2322,2323,2324,2325,2326,2327,2328,2329,2330,2331,2332,2333,2334,2335,2336,2337,2338,2339,2340,2341,2342,2343,2344,2345,2346,2347,2348,2349,2350,2351,2352,2353,2354,2355,2356,2357,2358,2359,2360,2361,2362,2363,2364,2365,2366,2367,2368,2369,2370,2371,2372,2373,2374,2375,2376,2377,2378,2379,2380,2381,2382,2383,2384,2385,2386,2387,2388,2389,2390,2391,2392,2393,2394,2395,2396,2397,2398,2399,2400,2401,2402,2403,2404,2405,2406,2407,2408,2409,2410,2411,2412,2413,2414,2415,2416,2417,2418,2419,2420,2421,2422,2423,2424,2425,2426,2427,2428,2429,2430,2431,2432,2433,2434,2435,2436,2437,2438,2439,2440,2441,2442,2443,2444,2445,2446,2447,2448,2449,2450,2451,2452,2453,2454,2455,2456,2457,2458,2459,2460,2461,2462,2463,2464,2465,2466,2467,2468,2469,2470,2471,2472,2473,2474,2475,2476,2477,2478,2479,2480,2481,2482,2483,2484,2485,2486,2487,2488,2489,2490,2491,2492,2493,2494,2495,2496,2497,2498,2499,2500,2501,2502,2503,2504,2505,2506,2507,2508,2509,2510,2511,2512,2513,2514,2515,2516,2517,2518,2519,2520,2521,2522,2523,2524,2525,2526,2527,2528,2529,2530,2531,2532,2533,2534,2535,2536,2537,2538,2539,2540,2541,2542,2543,2544,2545,2546,2547,2548,2549,2550,2551,2552,2553,2554,2555,2556,2557,2558,2559,2560,2561,2562,2563,2564,2565,2566,2567,2568,2569,2570,2571,2572,2573,2574,2575,2576,2577,2578,2579,2580,2581,2582,2583,2584,2585,2586,2587,2588,2589,2590,2591,2592,2593,2594,2595,2596,2597,2598,2599,2600,2601,2602,2603,2604,2605,2606,2607,2608,2609,2610,2611,2612,2613,2614,2615,2616,2617,2618,2619,2620,2621,2622,2623,2624,2625,2626,2627,2628,2629,2630,2631,2632,2633,2634,2635,2636,2637,2638,2639,2640,2641,2642,2643,2644,2645,2646,2647,2648,2649,2650,2651,2652,2653,2654,2655,2656,2657,2658,2659,2660,2661,2662,2663,2664,2665,2666,2667,2668,2669,2670,2671,2672,2673,2674,2675,2676,2677,2678,2679,2680,2681,2682,2683,2684,2685,2686,2687,2688,2689,2690,2691,2692,2693,2694,2695,2696,2697,2698,2699,2700,2701,2702,2703,2704,2705,2706,2707,2708,2709,2710,2711,2712,2713,2714,2715,2716,2717,2718,2719,2720,2721,2722,2723,2724,2725,2726,2727,2728,2729,2730,2731,2732,2733,2734,2735,2736,2737,2738,2739,2740,2741,2742,2743,2744,2745,2746,2747,2748,2749,2750,2751,2752,2753,2754,2755,2756,2757,2758,2759,2760,2761,2762,2763,2764,2765,2766,2767,2768,2769,2770,2771,2772,2773,2774,2775,2776,2777,2778,2779,2780,2781,2782,2783,2784,2785,2786,2787,2788,2789,2790,2791,2792,2793,2794,2795,2796,2797,2798,2799,2800,2801,2802,2803,2804,2805,2806,2807,2808,2809,2810,2811,2812,2813,2814,2815,2816,2817,2818,2819,2820,2821,2822,2823,2824,2825,2826,2827,2828,2829,2830,2831,2832,2833,2834,2835,2836,2837,2838,2839,2840,2841,2842,2843,2844,2845,2846,2847,2848,2849,2850,2851,2852,2853,2854,2855,2856,2857,2858,2859,2860,2861,2862,2863,2864,2865,2866,2867,2868,2869,2870,2871,2872,2873,2874,2875,2876,2877,2878,2879,2880,2881,2882,2883,2884,2885,2886,2887,2888,2889,2890,2891,2892,2893,2894,2895,2896,2897,2898,2899,2900,2901,2902,2903,2904,2905,2906,2907,2908,2909,2910,2911,2912,2913,2914,2915,2916,2917,2918,2919,2920,2921,2922,2923,2924,2925,2926,2927,2928,2929,2930,2931,2932,2933,2934,2935,2936,2937,2938,2939,2940,2941,2942,2943,2944,2945,2946,2947,2948,2949,2950,2951,2952,2953,2954,2955,2956,2957,2958,2959,2960,2961,2962,2963,2964,2965,2966,2967,2968,2969,2970,2971,2972,2973,2974,2975,2976,2977,2978,2979,2980,2981,2982,2983,2984,2985,2986,2987,2988,2989,2990,2991,2992,2993,2994,2995,2996,2997,2998,2999,3000,3001,3002,3003,3004,3005,3006,3007,3008,3009,3010,3011,3012,3013,3014,3015,3016,3017,3018,3019,3020,3021,3022,3023,3024,3025,3026,3027,3028,3029,3030,3031,3032,3033,3034,3035,3036,3037,3038,3039,3040,3041,3042,3043,3044,3045,3046,3047,3048,3049,3050,3051,3052,3053,3054,3055,3056,3057,3058,3059,3060,3061,3062,3063,3064,3065,3066,3067,3068,3069,3070,3071,3072,3073,3074,3075,3076,3077,3078,3079,3080,3081,3082,3083,3084,3085,3086,3087,3088,3089,3090,3091,3092,3093,3094,3095,3096,3097,3098,3099,3100,3101,3102,3103,3104,3105,3106,3107,3108,3109,3110,3111,3112,3113,3114,3115,3116,3117,3118,3119,3120,3121,3122,3123,3124,3125,3126,3127,3128,3129,3130,3131,3132,3133,3134,3135,3136,3137,3138,3139,3140,3141,3142,3143,3144,3145,3146,3147,3148,3149,3150,3151,3152,3153,3154,3155,3156,3157,3158,3159,3160,3161,3162,3163,3164,3165,3166,3167,3168,3169,3170,3171,3172,3173,3174,3175,3176,3177,3178,3179,3180,3181,3182,3183,3184,3185,3186,3187,3188,3189,3190,3191,3192,3193,3194,3195,3196,3197,3198,3199,3200,3201,3202,3203,3204,3205,3206,3207,3208,3209,3210,3211,3212,3213,3214,3215,3216,3217,3218,3219,3220,3221,3222,3223,3224,3225,3226,3227,3228,3229,3230,3231,3232,3233,3234,3235,3236,3237,3238,3239,3240,3241,3242,3243,3244,3245,3246,3247,3248,3249,3250,3251,3252,3253,3254,3255,3256,3257,3258,3259,3260,3261,3262,3263,3264,3265,3266,3267,3268,3269,3270,3271,3272,3273,3274,3275,3276,3277,3278,3279,3280,3281,3282,3283,3284,3285,3286,3287,3288,3289,3290,3291,3292,3293,3294,3295,3296,3297,3298,3299,3300,3301,3302,3303,3304,3305,3306,3307,3308,3309,3310,3311,3312,3313,3314,3315,3316,3317,3318,3319,3320,3321,3322,3323,3324,3325,3326,3327,3328,3329,3330,3331,3332,3333,3334,3335,3336,3337,3338,3339,3340,3341,3342,3343,3344,3345,3346,3347,3348,3349,3350,3351,3352,3353,3354,3355,3356,3357,3358,3359,3360,3361,3362,3363,3364,3365,3366,3367,3368,3369,3370,3371,3372,3373,3374,3375,3376,3377,3378,3379,3380,3381,3382,3383,3384,3385,3386,3387,3388,3389,3390,3391,3392,3393,3394,3395,3396,3397,3398,3399,3400,3401,3402,3403,3404,3405,3406,3407,3408,3409,3410,3411,3412,3413,3414,3415,3416,3417,3418,3419,3420,3421,3422,3423,3424,3425,3426,3427,3428,3429,3430,3431,3432,3433,3434,3435,3436,3437,3438,3439,3440,3441,3442,3443,3444,3445,3446,3447,3448,3449,3450,3451,3452,3453,3454,3455,3456,3457,3458,3459,3460,3461,3462,3463,3464,3465,3466,3467,3468,3469,3470,3471,3472,3473,3474,3475,3476,3477,3478,3479,3480,3481,3482,3483,3484,3485,3486,3487,3488,3489,3490,3491,3492,3493,3494,3495,3496,3497,3498,3499,3500,3501,3502,3503,3504,3505,3506,3507,3508,3509,3510,3511,3512,3513,3514,3515,3516,3517,3518,3519,3520,3521,3522,3523,3524,3525,3526,3527,3528,3529,3530,3531,3532,3533,3534,3535,3536,3537,3538,3539,3540,3541,3542,3543,3544,3545,3546,3547,3548,3549,3550,3551,3552,3553,3554,3555,3556,3557,3558,3559,3560,3561,3562,3563,3564,3565,3566,3567,3568,3569,3570,3571,3572,3573,3574,3575,3576,3577,3578,3579,3580,3581,3582,3583,3584,3585,3586,3587,3588,3589,3590,3591,3592,3593,3594,3595,3596,3597,3598,3599,3600,3601,3602,3603,3604,3605,3606,3607,3608,3609,3610,3611,3612,3613,3614,3615,3616,3617,3618,3619,3620,3621,3622,3623,3624,3625,3626,3627,3628,3629,3630,3631,3632,3633,3634,3635,3636,3637,3638,3639,3640,3641,3642,3643,3644,3645,3646,3647,3648,3649,3650,3651,3652,3653,3654,3655,3656,3657,3658,3659,3660,3661,3662,3663,3664,3665,3666,3667,3668,3669,3670,3671,3672,3673,3674,3675,3676,3677,3678,3679,3680,3681,3682,3683,3684,3685,3686,3687,3688,3689,3690,3691,3692,3693,3694,3695,3696,3697,3698,3699,3700,3701,3702,3703,3704,3705,3706,3707,3708,3709,3710,3711,3712,3713,3714,3715,3716,3717,3718,3719,3720,3721,3722,3723,3724,3725,3726,3727,3728,3729,3730,3731,3732,3733,3734,3735,3736,3737,3738,3739,3740,3741,3742,3743,3744,3745,3746,3747,3748,3749,3750,3751,3752,3753,3754,3755,3756,3757,3758,3759,3760,3761,3762,3763,3764,3765,3766,3767,3768,3769,3770,3771,3772,3773,3774,3775,3776,3777,3778,3779,3780,3781,3782,3783,3784,3785,3786,3787,3788,3789,3790,3791,3792,3793,3794,3795,3796,3797,3798,3799,3800,3801,3802,3803,3804,3805,3806,3807,3808,3809,3810,3811,3812,3813,3814,3815,3816,3817,3818,3819,3820,3821,3822,3823,3824,3825,3826,3827,3828,3829,3830,3831,3832,3833,3834,3835,3836,3837,3838,3839,3840,3841,3842,3843,3844,3845,3846,3847,3848,3849,3850,3851,3852,3853,3854,3855,3856,3857,3858,3859,3860,3861,3862,3863,3864,3865,3866,3867,3868,3869,3870,3871,3872,3873,3874,3875,3876,3877,3878,3879,3880,3881,3882,3883,3884,3885,3886,3887,3888,3889,3890,3891,3892,3893,3894,3895,3896,3897,3898,3899,3900,3901,3902,3903,3904,3905,3906,3907,3908,3909,3910,3911,3912,3913,3914,3915,3916,3917,3918,3919,3920,3921,3922,3923,3924,3925,3926,3927,3928,3929,3930,3931,3932,3933,3934,3935,3936,3937,3938,3939,3940,3941,3942,3943,3944,3945,3946,3947,3948,3949,3950,3951,3952,3953,3954,3955,3956,3957,3958,3959,3960,3961,3962,3963,3964,3965,3966,3967,3968,3969,3970,3971,3972,3973,3974,3975,3976,3977,3978,3979,3980,3981,3982,3983,3984,3985,3986,3987,3988,3989,3990,3991,3992,3993,3994,3995,3996,3997,3998,3999,4000,4001,4002,4003,4004,4005,4006,4007,4008,4009,4010,4011,4012,4013,4014,4015,4016,4017,4018,4019,4020,4021,4022,4023,4024,4025,4026,4027,4028,4029,4030,4031,4032,4033,4034,4035,4036,4037,4038,4039,4040,4041,4042,4043,4044,4045,4046,4047,4048,4049,4050,4051,4052,4053,4054,4055,4056,4057,4058,4059,4060,4061,4062,4063,4064,4065,4066,4067,4068,4069,4070,4071,4072,4073,4074,4075,4076,4077,4078,4079,4080,4081,4082,4083,4084,4085,4086,4087,4088,4089,4090,4091,4092,4093,4094,4095,4096,4097,4098,4099,4100,4101,4102,4103,4104,4105,4106,4107,4108,4109,4110,4111,4112,4113,4114,4115,4116,4117,4118,4119,4120,4121,4122,4123,4124,4125,4126,4127,4128,4129,4130,4131,4132,4133,4134,4135,4136,4137,4138,4139,4140,4141,4142,4143,4144,4145,4146,4147,4148,4149,4150,4151,4152,4153,4154,4155,4156,4157,4158,4159,4160,4161,4162,4163,4164,4165,4166,4167,4168,4169,4170,4171,4172,4173,4174,4175,4176,4177,4178,4179,4180,4181,4182,4183,4184,4185,4186,4187,4188,4189,4190,4191,4192,4193,4194,4195,4196,4197,4198,4199,4200,4201,4202,4203,4204,4205,4206,4207,4208,4209,4210,4211,4212,4213,4214,4215,4216,4217,4218,4219,4220,4221,4222,4223,4224,4225,4226,4227,4228,4229,4230,4231,4232,4233,4234,4235,4236,4237,4238,4239,4240,4241,4242,4243,4244,4245,4246,4247,4248,4249,4250,4251,4252,4253,4254,4255,4256,4257,4258,4259,4260,4261,4262,4263,4264,4265,4266,4267,4268,4269,4270,4271,4272,4273,4274,4275,4276,4277,4278,4279,4280,4281,4282,4283,4284,4285,4286,4287,4288,4289,4290,4291,4292,4293,4294,4295,4296,4297,4298,4299,4300,4301,4302,4303,4304,4305,4306,4307,4308,4309,4310,4311,4312,4313,4314,4315,4316,4317,4318,4319,4320,4321,4322,4323,4324,4325,4326,4327,4328,4329,4330,4331,4332,4333,4334,4335,4336,4337,4338,4339,4340,4341,4342,4343,4344,4345,4346,4347,4348,4349,4350,4351,4352,4353,4354,4355,4356,4357,4358,4359,4360,4361,4362,4363,4364,4365,4366,4367,4368,4369,4370,4371,4372,4373,4374,4375,4376,4377,4378,4379,4380,4381,4382,4383,4384,4385,4386,4387,4388,4389,4390,4391,4392,4393,4394,4395,4396,4397,4398,4399,4400,4401,4402,4403,4404,4405,4406,4407,4408,4409,4410,4411,4412,4413,4414,4415,4416,4417,4418,4419,4420,4421,4422,4423,4424,4425,4426,4427,4428,4429,4430,4431,4432,4433,4434,4435,4436,4437,4438,4439,4440,4441,4442,4443,4444,4445,4446,4447,4448,4449,4450,4451,4452,4453,4454,4455,4456,4457,4458,4459,4460,4461,4462,4463,4464,4465,4466,4467,4468,4469,4470,4471,4472,4473,4474,4475,4476,4477,4478,4479,4480,4481,4482,4483,4484,4485,4486,4487,4488,4489,4490,4491,4492,4493,4494,4495,4496,4497,4498,4499,4500,4501,4502,4503,4504,4505,4506,4507,4508,4509,4510,4511,4512,4513,4514,4515,4516,4517,4518,4519,4520,4521,4522,4523,4524,4525,4526,4527,4528,4529,4530,4531,4532,4533,4534,4535,4536,4537,4538,4539,4540,4541,4542,4543,4544,4545,4546,4547,4548,4549,4550,4551,4552,4553,4554,4555,4556,4557,4558,4559,4560,4561,4562,4563,4564,4565,4566,4567,4568,4569,4570,4571,4572,4573,4574,4575,4576,4577,4578,4579,4580,4581,4582,4583,4584,4585,4586,4587,4588,4589,4590,4591,4592,4593,4594,4595,4596,4597,4598,4599,4600,4601,4602,4603,4604,4605,4606,4607,4608,4609,4610,4611,4612,4613,4614,4615,4616,4617,4618,4619,4620,4621,4622,4623,4624,4625,4626,4627,4628,4629,4630,4631,4632,4633,4634,4635,4636,4637,4638,4639,4640,4641,4642,4643,4644,4645,4646,4647,4648,4649,4650,4651,4652,4653,4654,4655,4656,4657,4658,4659,4660,4661,4662,4663,4664,4665,4666,4667,4668,4669,4670,4671,4672,4673,4674,4675,4676,4677,4678,4679,4680,4681,4682,4683,4684,4685,4686,4687,4688,4689,4690,4691,4692,4693,4694,4695,4696,4697,4698,4699,4700,4701,4702,4703,4704,4705,4706,4707,4708,4709,4710,4711,4712,4713,4714,4715,4716,4717,4718,4719,4720,4721,4722,4723,4724,4725,4726,4727,4728,4729,4730,4731,4732,4733,4734,4735,4736,4737,4738,4739,4740,4741,4742,4743,4744,4745,4746,4747,4748,4749,4750,4751,4752,4753,4754,4755,4756,4757,4758,4759,4760,4761,4762,4763,4764,4765,4766,4767,4768,4769,4770,4771,4772,4773,4774,4775,4776,4777,4778,4779,4780,4781,4782,4783,4784,4785,4786,4787,4788,4789,4790,4791,4792,4793,4794,4795,4796,4797,4798,4799,4800,4801,4802,4803,4804,4805,4806,4807,4808,4809,4810,4811,4812,4813,4814,4815,4816,4817,4818,4819,4820,4821,4822,4823,4824,4825,4826,4827,4828,4829,4830,4831,4832,4833,4834,4835,4836,4837,4838,4839,4840,4841,4842,4843,4844,4845,4846,4847,4848,4849,4850,4851,4852,4853,4854,4855,4856,4857,4858,4859,4860,4861,4862,4863,4864,4865,4866,4867,4868,4869,4870,4871,4872,4873,4874,4875,4876,4877,4878,4879,4880,4881,4882,4883,4884,4885,4886,4887,4888,4889,4890,4891,4892,4893,4894,4895,4896,4897,4898,4899,4900,4901,4902,4903,4904,4905,4906,4907,4908,4909,4910,4911,4912,4913,4914,4915,4916,4917,4918,4919,4920,4921,4922,4923,4924,4925,4926,4927,4928,4929,4930,4931,4932,4933,4934,4935,4936,4937,4938,4939,4940,4941,4942,4943,4944,4945,4946,4947,4948,4949,4950,4951,4952,4953,4954,4955,4956,4957,4958,4959,4960,4961,4962,4963,4964,4965,4966,4967,4968,4969,4970,4971,4972,4973,4974,4975,4976,4977,4978,4979,4980,4981,4982,4983,4984,4985,4986,4987,4988,4989,4990,4991,4992,4993,4994,4995,4996,4997,4998,4999,5000,5001,5002,5003,5004,5005,5006,5007,5008,5009,5010,5011,5012,5013,5014,5015,5016,5017,5018,5019,5020,5021,5022,5023,5024,5025,5026,5027,5028,5029,5030,5031,5032,5033,5034,5035,5036,5037,5038,5039,5040,5041,5042,5043,5044,5045,5046,5047,5048,5049,5050,5051,5052,5053,5054,5055,5056,5057,5058,5059,5060,5061,5062,5063,5064,5065,5066,5067,5068,5069,5070,5071,5072,5073,5074,5075,5076,5077,5078,5079,5080,5081,5082,5083,5084,5085,5086,5087,5088,5089,5090,5091,5092,5093,5094,5095,5096,5097,5098,5099,5100,5101,5102,5103,5104,5105,5106,5107,5108,5109,5110,5111,5112,5113,5114,5115,5116,5117,5118,5119,5120,5121,5122,5123,5124,5125,5126,5127,5128,5129,5130,5131,5132,5133,5134,5135,5136,5137,5138,5139,5140,5141,5142,5143,5144,5145,5146,5147,5148,5149,5150,5151,5152,5153,5154,5155,5156,5157,5158,5159,5160,5161,5162,5163,5164,5165,5166,5167,5168,5169,5170,5171,5172,5173,5174,5175,5176,5177,5178,5179,5180,5181,5182,5183,5184,5185,5186,5187,5188,5189,5190,5191,5192,5193,5194,5195,5196,5197,5198,5199,5200,5201,5202,5203,5204,5205,5206,5207,5208,5209,5210,5211,5212,5213,5214,5215,5216,5217,5218,5219,5220,5221,5222,5223,5224,5225,5226,5227,5228,5229,5230,5231,5232,5233,5234,5235,5236,5237,5238,5239,5240,5241,5242,5243,5244,5245,5246,5247,5248,5249,5250,5251,5252,5253,5254,5255,5256,5257,5258,5259,5260,5261,5262,5263,5264,5265,5266,5267,5268,5269,5270,5271,5272,5273,5274,5275,5276,5277,5278,5279,5280,5281,5282,5283,5284,5285,5286,5287,5288,5289,5290,5291,5292,5293,5294,5295,5296,5297,5298,5299,5300,5301,5302,5303,5304,5305,5306,5307,5308,5309,5310,5311,5312,5313,5314,5315,5316,5317,5318,5319,5320,5321,5322,5323,5324,5325,5326,5327,5328,5329,5330,5331,5332,5333,5334,5335,5336,5337,5338,5339,5340,5341,5342,5343,5344,5345,5346,5347,5348,5349,5350,5351,5352,5353,5354,5355,5356,5357,5358,5359,5360,5361,5362,5363,5364,5365,5366,5367,5368,5369,5370,5371,5372,5373,5374,5375,5376,5377,5378,5379,5380,5381,5382,5383,5384,5385,5386,5387,5388,5389,5390,5391,5392,5393,5394,5395,5396,5397,5398,5399,5400,5401,5402,5403,5404,5405,5406,5407,5408,5409,5410,5411,5412,5413,5414,5415,5416,5417,5418,5419,5420,5421,5422,5423,5424,5425,5426,5427,5428,5429,5430,5431,5432,5433,5434,5435,5436,5437,5438,5439,5440,5441,5442,5443,5444,5445,5446,5447,5448,5449,5450,5451,5452,5453,5454,5455,5456,5457,5458,5459,5460,5461,5462,5463,5464,5465,5466,5467,5468,5469,5470,5471,5472,5473,5474,5475,5476,5477,5478,5479,5480,5481,5482,5483,5484,5485,5486,5487,5488,5489,5490,5491,5492,5493,5494,5495,5496,5497,5498,5499,5500,5501,5502,5503,5504,5505,5506,5507,5508,5509,5510,5511,5512,5513,5514,5515,5516,5517,5518,5519,5520,5521,5522,5523,5524,5525,5526,5527,5528,5529,5530,5531,5532,5533,5534,5535,5536,5537,5538,5539,5540,5541,5542,5543,5544,5545,5546,5547,5548,5549,5550,5551,5552,5553,5554,5555,5556,5557,5558,5559,5560,5561,5562,5563,5564,5565,5566,5567,5568,5569,5570,5571,5572,5573,5574,5575,5576,5577,5578,5579,5580,5581,5582,5583,5584,5585,5586,5587,5588,5589,5590,5591,5592,5593,5594,5595,5596,5597,5598,5599,5600,5601,5602,5603,5604,5605,5606,5607,5608,5609,5610,5611,5612,5613,5614,5615,5616,5617,5618,5619,5620,5621,5622,5623,5624,5625,5626,5627,5628,5629,5630,5631,5632,5633,5634,5635,5636,5637,5638,5639,5640,5641,5642,5643,5644,5645,5646,5647,5648,5649,5650,5651,5652,5653,5654,5655,5656,5657,5658,5659,5660,5661,5662,5663,5664,5665,5666,5667,5668,5669,5670,5671,5672,5673,5674,5675,5676,5677,5678,5679,5680,5681,5682,5683,5684,5685,5686,5687,5688,5689,5690,5691,5692,5693,5694,5695,5696,5697,5698,5699,5700,5701,5702,5703,5704,5705,5706,5707,5708,5709,5710,5711,5712,5713,5714,5715,5716,5717,5718,5719,5720,5721,5722,5723,5724,5725,5726,5727,5728,5729,5730,5731,5732,5733,5734,5735,5736,5737,5738,5739,5740,5741,5742,5743,5744,5745,5746,5747,5748,5749,5750,5751,5752,5753,5754,5755,5756,5757,5758,5759,5760,5761,5762,5763,5764,5765,5766,5767,5768,5769,5770,5771,5772,5773,5774,5775,5776,5777,5778,5779,5780,5781,5782,5783,5784,5785,5786,5787,5788,5789,5790,5791,5792,5793,5794,5795,5796,5797,5798,5799,5800,5801,5802,5803,5804,5805,5806,5807,5808,5809,5810,5811,5812,5813,5814,5815,5816,5817,5818,5819,5820,5821,5822,5823,5824,5825,5826,5827,5828,5829,5830,5831,5832,5833,5834,5835,5836,5837,5838,5839,5840,5841,5842,5843,5844,5845,5846,5847,5848,5849,5850,5851,5852,5853,5854,5855,5856,5857,5858,5859,5860,5861,5862,5863,5864,5865,5866,5867,5868,5869,5870,5871,5872,5873,5874,5875,5876,5877,5878,5879,5880,5881,5882,5883,5884,5885,5886,5887,5888,5889,5890,5891,5892,5893,5894,5895,5896,5897,5898,5899,5900,5901,5902,5903,5904,5905,5906,5907,5908,5909,5910,5911,5912,5913,5914,5915,5916,5917,5918,5919,5920,5921,5922,5923,5924,5925,5926,5927,5928,5929,5930,5931,5932,5933,5934,5935,5936,5937,5938,5939,5940,5941,5942,5943,5944,5945,5946,5947,5948,5949,5950,5951,5952,5953,5954,5955,5956,5957,5958,5959,5960,5961,5962,5963,5964,5965,5966,5967,5968,5969,5970,5971,5972,5973,5974,5975,5976,5977,5978,5979,5980,5981,5982,5983,5984,5985,5986,5987,5988,5989,5990,5991,5992,5993,5994,5995,5996,5997,5998,5999,6000,6001,6002,6003,6004,6005,6006,6007,6008,6009,6010,6011,6012,6013,6014,6015,6016,6017,6018,6019,6020,6021,6022,6023,6024,6025,6026,6027,6028,6029,6030,6031,6032,6033,6034,6035,6036,6037,6038,6039,6040,6041,6042,6043,6044,6045,6046,6047,6048,6049,6050,6051,6052,6053,6054,6055,6056,6057,6058,6059,6060,6061,6062,6063,6064,6065,6066,6067,6068,6069,6070,6071,6072,6073,6074,6075,6076,6077,6078,6079,6080,6081,6082,6083,6084,6085,6086,6087,6088,6089,6090,6091,6092,6093,6094,6095,6096,6097,6098,6099,6100,6101,6102,6103,6104,6105,6106,6107,6108,6109,6110,6111,6112,6113,6114,6115,6116,6117,6118,6119,6120,6121,6122,6123,6124,6125,6126,6127,6128,6129,6130,6131,6132,6133,6134,6135,6136,6137,6138,6139,6140,6141,6142,6143,6144,6145,6146,6147,6148,6149,6150,6151,6152,6153,6154,6155,6156,6157,6158,6159,6160,6161,6162,6163,6164,6165,6166,6167,6168,6169,6170,6171,6172,6173,6174,6175,6176,6177,6178,6179,6180,6181,6182,6183,6184,6185,6186,6187,6188,6189,6190,6191,6192,6193,6194,6195,6196,6197,6198,6199,6200,6201,6202,6203,6204,6205,6206,6207,6208,6209,6210,6211,6212,6213,6214,6215,6216,6217,6218,6219,6220,6221,6222,6223,6224,6225,6226,6227,6228,6229,6230,6231,6232,6233,6234,6235,6236,6237,6238,6239,6240,6241,6242,6243,6244,6245,6246,6247,6248,6249,6250,6251,6252,6253,6254,6255,6256,6257,6258,6259,6260,6261,6262,6263,6264,6265,6266,6267,6268,6269,6270,6271,6272,6273,6274,6275,6276,6277,6278,6279,6280,6281,6282,6283,6284,6285,6286,6287,6288,6289,6290,6291,6292,6293,6294,6295,6296,6297,6298,6299,6300,6301,6302,6303,6304,6305,6306,6307,6308,6309,6310,6311,6312,6313,6314,6315,6316,6317,6318,6319,6320,6321,6322,6323,6324,6325,6326,6327,6328,6329,6330,6331,6332,6333,6334,6335,6336,6337,6338,6339,6340,6341,6342,6343,6344,6345,6346,6347,6348,6349,6350,6351,6352,6353,6354,6355,6356,6357,6358,6359,6360,6361,6362,6363,6364,6365,6366,6367,6368,6369,6370,6371,6372,6373,6374,6375,6376,6377,6378,6379,6380,6381,6382,6383,6384,6385,6386,6387,6388,6389,6390,6391,6392,6393,6394,6395,6396,6397,6398,6399,6400,6401,6402,6403,6404,6405,6406,6407,6408,6409,6410,6411,6412,6413,6414,6415,6416,6417,6418,6419,6420,6421,6422,6423,6424,6425,6426,6427,6428,6429,6430,6431,6432,6433,6434,6435,6436,6437,6438,6439,6440,6441,6442,6443,6444,6445,6446,6447,6448,6449,6450,6451,6452,6453,6454,6455,6456,6457,6458,6459,6460,6461,6462,6463,6464,6465,6466,6467,6468,6469,6470,6471,6472,6473,6474,6475,6476,6477,6478,6479,6480,6481,6482,6483,6484,6485,6486,6487,6488,6489,6490,6491,6492,6493,6494,6495,6496,6497,6498,6499,6500,6501,6502,6503,6504,6505,6506,6507,6508,6509,6510,6511,6512,6513,6514,6515,6516,6517,6518,6519,6520,6521,6522,6523,6524,6525,6526,6527,6528,6529,6530,6531,6532,6533,6534,6535,6536,6537,6538,6539,6540,6541,6542,6543,6544,6545,6546,6547,6548,6549,6550,6551,6552,6553,6554,6555,6556,6557,6558,6559,6560,6561,6562,6563,6564,6565,6566,6567,6568,6569,6570,6571,6572,6573,6574,6575,6576,6577,6578,6579,6580,6581,6582,6583,6584,6585,6586,6587,6588,6589,6590,6591,6592,6593,6594,6595,6596,6597,6598,6599,6600,6601,6602,6603,6604,6605,6606,6607,6608,6609,6610,6611,6612,6613,6614,6615,6616,6617,6618,6619,6620,6621,6622,6623,6624,6625,6626,6627,6628,6629,6630,6631,6632,6633,6634,6635,6636,6637,6638,6639,6640,6641,6642,6643,6644,6645,6646,6647,6648,6649,6650,6651,6652,6653,6654,6655,6656,6657,6658,6659,6660,6661,6662,6663,6664,6665,6666,6667,6668,6669,6670,6671,6672,6673,6674,6675,6676,6677,6678,6679,6680,6681,6682,6683,6684,6685,6686,6687,6688,6689,6690,6691,6692,6693,6694,6695,6696,6697,6698,6699,6700,6701,6702,6703,6704,6705,6706,6707,6708,6709,6710,6711,6712,6713,6714,6715,6716,6717,6718,6719,6720,6721,6722,6723,6724,6725,6726,6727,6728,6729,6730,6731,6732,6733,6734,6735,6736,6737,6738,6739,6740,6741,6742,6743,6744,6745,6746,6747,6748,6749,6750,6751,6752,6753,6754,6755,6756,6757,6758,6759,6760,6761,6762,6763,6764,6765,6766,6767,6768,6769,6770,6771,6772,6773,6774,6775,6776,6777,6778,6779,6780,6781,6782,6783,6784,6785,6786,6787,6788,6789,6790,6791,6792,6793,6794,6795,6796,6797,6798,6799,6800,6801,6802,6803,6804,6805,6806,6807,6808,6809,6810,6811,6812,6813,6814,6815,6816,6817,6818,6819,6820,6821,6822,6823,6824,6825,6826,6827,6828,6829,6830,6831,6832,6833,6834,6835,6836,6837,6838,6839,6840,6841,6842,6843,6844,6845,6846,6847,6848,6849,6850,6851,6852,6853,6854,6855,6856,6857,6858,6859,6860,6861,6862,6863,6864,6865,6866,6867,6868,6869,6870,6871,6872,6873,6874,6875,6876,6877,6878,6879,6880,6881,6882,6883,6884,6885,6886,6887,6888,6889,6890,6891,6892,6893,6894,6895,6896,6897,6898,6899,6900,6901,6902,6903,6904,6905,6906,6907,6908,6909,6910,6911,6912,6913,6914,6915,6916,6917,6918,6919,6920,6921,6922,6923,6924,6925,6926,6927,6928,6929,6930,6931,6932,6933,6934,6935,6936,6937,6938,6939,6940,6941,6942,6943,6944,6945,6946,6947,6948,6949,6950,6951,6952,6953,6954,6955,6956,6957,6958,6959,6960,6961,6962,6963,6964,6965,6966,6967,6968,6969,6970,6971,6972,6973,6974,6975,6976,6977,6978,6979,6980,6981,6982,6983,6984,6985,6986,6987,6988,6989,6990,6991,6992,6993,6994,6995,6996,6997,6998,6999,7000,7001,7002,7003,7004,7005,7006,7007,7008,7009,7010,7011,7012,7013,7014,7015,7016,7017,7018,7019,7020,7021,7022,7023,7024,7025,7026,7027,7028,7029,7030,7031,7032,7033,7034,7035,7036,7037,7038,7039,7040,7041,7042,7043,7044,7045,7046,7047,7048,7049,7050,7051,7052,7053,7054,7055,7056,7057,7058,7059,7060,7061,7062,7063,7064,7065,7066,7067,7068,7069,7070,7071,7072,7073,7074,7075,7076,7077,7078,7079,7080,7081,7082,7083,7084,7085,7086,7087,7088,7089,7090,7091,7092,7093,7094,7095,7096,7097,7098,7099,7100,7101,7102,7103,7104,7105,7106,7107,7108,7109,7110,7111,7112,7113,7114,7115,7116,7117,7118,7119,7120,7121,7122,7123,7124,7125,7126,7127,7128,7129,7130,7131,7132,7133,7134,7135,7136,7137,7138,7139,7140,7141,7142,7143,7144,7145,7146,7147,7148,7149,7150,7151,7152,7153,7154,7155,7156,7157,7158,7159,7160,7161,7162,7163,7164,7165,7166,7167,7168,7169,7170,7171,7172,7173,7174,7175,7176,7177,7178,7179,7180,7181,7182,7183,7184,7185,7186,7187,7188,7189,7190,7191,7192,7193,7194,7195,7196,7197,7198,7199,7200,7201,7202,7203,7204,7205,7206,7207,7208,7209,7210,7211,7212,7213,7214,7215,7216,7217,7218,7219,7220,7221,7222,7223,7224,7225,7226,7227,7228,7229,7230,7231,7232,7233,7234,7235,7236,7237,7238,7239,7240,7241,7242,7243,7244,7245,7246,7247,7248,7249,7250,7251,7252,7253,7254,7255,7256,7257,7258,7259,7260,7261,7262,7263,7264,7265,7266,7267,7268,7269,7270,7271,7272,7273,7274,7275,7276,7277,7278,7279,7280,7281,7282,7283,7284,7285,7286,7287,7288,7289,7290,7291,7292,7293,7294,7295,7296,7297,7298,7299,7300,7301,7302,7303,7304,7305,7306,7307,7308,7309,7310,7311,7312,7313,7314,7315,7316,7317,7318,7319,7320,7321,7322,7323,7324,7325,7326,7327,7328,7329,7330,7331,7332,7333,7334,7335,7336,7337,7338,7339,7340,7341,7342,7343,7344,7345,7346,7347,7348,7349,7350,7351,7352,7353,7354,7355,7356,7357,7358,7359,7360,7361,7362,7363,7364,7365,7366,7367,7368,7369,7370,7371,7372,7373,7374,7375,7376,7377,7378,7379,7380,7381,7382,7383,7384,7385,7386,7387,7388,7389,7390,7391,7392,7393,7394,7395,7396,7397,7398,7399,7400,7401,7402,7403,7404,7405,7406,7407,7408,7409,7410,7411,7412,7413,7414,7415,7416,7417,7418,7419,7420,7421,7422,7423,7424,7425,7426,7427,7428,7429,7430,7431,7432,7433,7434,7435,7436,7437,7438,7439,7440,7441,7442,7443,7444,7445,7446,7447,7448,7449,7450,7451,7452,7453,7454,7455,7456,7457,7458,7459,7460,7461,7462,7463,7464,7465,7466,7467,7468,7469,7470,7471,7472,7473,7474,7475,7476,7477,7478,7479,7480,7481,7482,7483,7484,7485,7486,7487,7488,7489,7490,7491,7492,7493,7494,7495,7496,7497,7498,7499,7500,7501,7502,7503,7504,7505,7506,7507,7508,7509,7510,7511,7512,7513,7514,7515,7516,7517,7518,7519,7520,7521,7522,7523,7524,7525,7526,7527,7528,7529,7530,7531,7532,7533,7534,7535,7536,7537,7538,7539,7540,7541,7542,7543,7544,7545,7546,7547,7548,7549,7550,7551,7552,7553,7554,7555,7556,7557,7558,7559,7560,7561,7562,7563,7564,7565,7566,7567,7568,7569,7570,7571,7572,7573,7574,7575,7576,7577,7578,7579,7580,7581,7582,7583,7584,7585,7586,7587,7588,7589,7590,7591,7592,7593,7594,7595,7596,7597,7598,7599,7600,7601,7602,7603,7604,7605,7606,7607,7608,7609,7610,7611,7612,7613,7614,7615,7616,7617,7618,7619,7620,7621,7622,7623,7624,7625,7626,7627,7628,7629,7630,7631,7632,7633,7634,7635,7636,7637,7638,7639,7640,7641,7642,7643,7644,7645,7646,7647,7648,7649,7650,7651,7652,7653,7654,7655,7656,7657,7658,7659,7660,7661,7662,7663,7664,7665,7666,7667,7668,7669,7670,7671,7672,7673,7674,7675,7676,7677,7678,7679,7680,7681,7682,7683,7684,7685,7686,7687,7688,7689,7690,7691,7692,7693,7694,7695,7696,7697,7698,7699,7700,7701,7702,7703,7704,7705,7706,7707,7708,7709,7710,7711,7712,7713,7714,7715,7716,7717,7718,7719,7720,7721,7722,7723,7724,7725,7726,7727,7728,7729,7730,7731,7732,7733,7734,7735,7736,7737,7738,7739,7740,7741,7742,7743,7744,7745,7746,7747,7748,7749,7750,7751,7752,7753,7754,7755,7756,7757,7758,7759,7760,7761,7762,7763,7764,7765,7766,7767,7768,7769,7770,7771,7772,7773,7774,7775,7776,7777,7778,7779,7780,7781,7782,7783,7784,7785,7786,7787,7788,7789,7790,7791,7792,7793,7794,7795,7796,7797,7798,7799,7800,7801,7802,7803,7804,7805,7806,7807,7808,7809,7810,7811,7812,7813,7814,7815,7816,7817,7818,7819,7820,7821,7822,7823,7824,7825,7826,7827,7828,7829,7830,7831,7832,7833,7834,7835,7836,7837,7838,7839,7840,7841,7842,7843,7844,7845,7846,7847,7848,7849,7850,7851,7852,7853,7854,7855,7856,7857,7858,7859,7860,7861,7862,7863,7864,7865,7866,7867,7868,7869,7870,7871,7872,7873,7874,7875,7876,7877,7878,7879,7880,7881,7882,7883,7884,7885,7886,7887,7888,7889,7890,7891,7892,7893,7894,7895,7896,7897,7898,7899,7900,7901,7902,7903,7904,7905,7906,7907,7908,7909,7910,7911,7912,7913,7914,7915,7916,7917,7918,7919,7920,7921,7922,7923,7924,7925,7926,7927,7928,7929,7930,7931,7932,7933,7934,7935,7936,7937,7938,7939,7940,7941,7942,7943,7944,7945,7946,7947,7948,7949,7950,7951,7952,7953,7954,7955,7956,7957,7958,7959,7960,7961,7962,7963,7964,7965,7966,7967,7968,7969,7970,7971,7972,7973,7974,7975,7976,7977,7978,7979,7980,7981,7982,7983,7984,7985,7986,7987,7988,7989,7990,7991,7992,7993,7994,7995,7996,7997,7998,7999,8000,8001,8002,8003,8004,8005,8006,8007,8008,8009,8010,8011,8012,8013,8014,8015,8016,8017,8018,8019,8020,8021,8022,8023,8024,8025,8026,8027,8028,8029,8030,8031,8032,8033,8034,8035,8036,8037,8038,8039,8040,8041,8042,8043,8044,8045,8046,8047,8048,8049,8050,8051,8052,8053,8054,8055,8056,8057,8058,8059,8060,8061,8062,8063,8064,8065,8066,8067,8068,8069,8070,8071,8072,8073,8074,8075,8076,8077,8078,8079,8080,8081,8082,8083,8084,8085,8086,8087,8088,8089,8090,8091,8092,8093,8094,8095,8096,8097,8098,8099,8100,8101,8102,8103,8104,8105,8106,8107,8108,8109,8110,8111,8112,8113,8114,8115,8116,8117,8118,8119,8120,8121,8122,8123,8124,8125,8126,8127,8128,8129,8130,8131,8132,8133,8134,8135,8136,8137,8138,8139,8140,8141,8142,8143,8144,8145,8146,8147,8148,8149,8150,8151,8152,8153,8154,8155,8156,8157,8158,8159,8160,8161,8162,8163,8164,8165,8166,8167,8168,8169,8170,8171,8172,8173,8174,8175,8176,8177,8178,8179,8180,8181,8182,8183,8184,8185,8186,8187,8188,8189,8190,8191,8192,8193,8194,8195,8196,8197,8198,8199,8200,8201,8202,8203,8204,8205,8206,8207,8208,8209,8210,8211,8212,8213,8214,8215,8216,8217,8218,8219,8220,8221,8222,8223,8224,8225,8226,8227,8228,8229,8230,8231,8232,8233,8234,8235,8236,8237,8238,8239,8240,8241,8242,8243,8244,8245,8246,8247,8248,8249,8250,8251,8252,8253,8254,8255,8256,8257,8258,8259,8260,8261,8262,8263,8264,8265,8266,8267,8268,8269,8270,8271,8272,8273,8274,8275,8276,8277,8278,8279,8280,8281,8282,8283,8284,8285,8286,8287,8288,8289,8290,8291,8292,8293,8294,8295,8296,8297,8298,8299,8300,8301,8302,8303,8304,8305,8306,8307,8308,8309,8310,8311,8312,8313,8314,8315,8316,8317,8318,8319,8320,8321,8322,8323,8324,8325,8326,8327,8328,8329,8330,8331,8332,8333,8334,8335,8336,8337,8338,8339,8340,8341,8342,8343,8344,8345,8346,8347,8348,8349,8350,8351,8352,8353,8354,8355,8356,8357,8358,8359,8360,8361,8362,8363,8364,8365,8366,8367,8368,8369,8370,8371,8372,8373,8374,8375,8376,8377,8378,8379,8380,8381,8382,8383,8384,8385,8386,8387,8388,8389,8390,8391,8392,8393,8394,8395,8396,8397,8398,8399,8400,8401,8402,8403,8404,8405,8406,8407,8408,8409,8410,8411,8412,8413,8414,8415,8416,8417,8418,8419,8420,8421,8422,8423,8424,8425,8426,8427,8428,8429,8430,8431,8432,8433,8434,8435,8436,8437,8438,8439,8440,8441,8442,8443,8444,8445,8446,8447,8448,8449,8450,8451,8452,8453,8454,8455,8456,8457,8458,8459,8460,8461,8462,8463,8464,8465,8466,8467,8468,8469,8470,8471,8472,8473,8474,8475,8476,8477,8478,8479,8480,8481,8482,8483,8484,8485,8486,8487,8488,8489,8490,8491,8492,8493,8494,8495,8496,8497,8498,8499,8500,8501,8502,8503,8504,8505,8506,8507,8508,8509,8510,8511,8512,8513,8514,8515,8516,8517,8518,8519,8520,8521,8522,8523,8524,8525,8526,8527,8528,8529,8530,8531,8532,8533,8534,8535,8536,8537,8538,8539,8540,8541,8542,8543,8544,8545,8546,8547,8548,8549,8550,8551,8552,8553,8554,8555,8556,8557,8558,8559,8560,8561,8562,8563,8564,8565,8566,8567,8568,8569,8570,8571,8572,8573,8574,8575,8576,8577,8578,8579,8580,8581,8582,8583,8584,8585,8586,8587,8588,8589,8590,8591,8592,8593,8594,8595,8596,8597,8598,8599,8600,8601,8602,8603,8604,8605,8606,8607,8608,8609,8610,8611,8612,8613,8614,8615,8616,8617,8618,8619,8620,8621,8622,8623,8624,8625,8626,8627,8628,8629,8630,8631,8632,8633,8634,8635,8636,8637,8638,8639,8640,8641,8642,8643,8644,8645,8646,8647,8648,8649,8650,8651,8652,8653,8654,8655,8656,8657,8658,8659,8660,8661,8662,8663,8664,8665,8666,8667,8668,8669,8670,8671,8672,8673,8674,8675,8676,8677,8678,8679,8680,8681,8682,8683,8684,8685,8686,8687,8688,8689,8690,8691,8692,8693,8694,8695,8696,8697,8698,8699,8700,8701,8702,8703,8704,8705,8706,8707,8708,8709,8710,8711,8712,8713,8714,8715,8716,8717,8718,8719,8720,8721,8722,8723,8724,8725,8726,8727,8728,8729,8730,8731,8732,8733,8734,8735,8736,8737,8738,8739,8740,8741,8742,8743,8744,8745,8746,8747,8748,8749,8750,8751,8752,8753,8754,8755,8756,8757,8758,8759,8760,8761,8762,8763,8764,8765,8766,8767,8768,8769,8770,8771,8772,8773,8774,8775,8776,8777,8778,8779,8780,8781,8782,8783,8784,8785,8786,8787,8788,8789,8790,8791,8792,8793,8794,8795,8796,8797,8798,8799,8800,8801,8802,8803,8804,8805,8806,8807,8808,8809,8810,8811,8812,8813,8814,8815,8816,8817,8818,8819,8820,8821,8822,8823,8824,8825,8826,8827,8828,8829,8830,8831,8832,8833,8834,8835,8836,8837,8838,8839,8840,8841,8842,8843,8844,8845,8846,8847,8848,8849,8850,8851,8852,8853,8854,8855,8856,8857,8858,8859,8860,8861,8862,8863,8864,8865,8866,8867,8868,8869,8870,8871,8872,8873,8874,8875,8876,8877,8878,8879,8880,8881,8882,8883,8884,8885,8886,8887,8888,8889,8890,8891,8892,8893,8894,8895,8896,8897,8898,8899,8900,8901,8902,8903,8904,8905,8906,8907,8908,8909,8910,8911,8912,8913,8914,8915,8916,8917,8918,8919,8920,8921,8922,8923,8924,8925,8926,8927,8928,8929,8930,8931,8932,8933,8934,8935,8936,8937,8938,8939,8940,8941,8942,8943,8944,8945,8946,8947,8948,8949,8950,8951,8952,8953,8954,8955,8956,8957,8958,8959,8960,8961,8962,8963,8964,8965,8966,8967,8968,8969,8970,8971,8972,8973,8974,8975,8976,8977,8978,8979,8980,8981,8982,8983,8984,8985,8986,8987,8988,8989,8990,8991,8992,8993,8994,8995,8996,8997,8998,8999,9000,9001,9002,9003,9004,9005,9006,9007,9008,9009,9010,9011,9012,9013,9014,9015,9016,9017,9018,9019,9020,9021,9022,9023,9024,9025,9026,9027,9028,9029,9030,9031,9032,9033,9034,9035,9036,9037,9038,9039,9040,9041,9042,9043,9044,9045,9046,9047,9048,9049,9050,9051,9052,9053,9054,9055,9056,9057,9058,9059,9060,9061,9062,9063,9064,9065,9066,9067,9068,9069,9070,9071,9072,9073,9074,9075,9076,9077,9078,9079,9080,9081,9082,9083,9084,9085,9086,9087,9088,9089,9090,9091,9092,9093,9094,9095,9096,9097,9098,9099,9100,9101,9102,9103,9104,9105,9106,9107,9108,9109,9110,9111,9112,9113,9114,9115,9116,9117,9118,9119,9120,9121,9122,9123,9124,9125,9126,9127,9128,9129,9130,9131,9132,9133,9134,9135,9136,9137,9138,9139,9140,9141,9142,9143,9144,9145,9146,9147,9148,9149,9150,9151,9152,9153,9154,9155,9156,9157,9158,9159,9160,9161,9162,9163,9164,9165,9166,9167,9168,9169,9170,9171,9172,9173,9174,9175,9176,9177,9178,9179,9180,9181,9182,9183,9184,9185,9186,9187,9188,9189,9190,9191,9192,9193,9194,9195,9196,9197,9198,9199,9200,9201,9202,9203,9204,9205,9206,9207,9208,9209,9210,9211,9212,9213,9214,9215,9216,9217,9218,9219,9220,9221,9222,9223,9224,9225,9226,9227,9228,9229,9230,9231,9232,9233,9234,9235,9236,9237,9238,9239,9240,9241,9242,9243,9244,9245,9246,9247,9248,9249,9250,9251,9252,9253,9254,9255,9256,9257,9258,9259,9260,9261,9262,9263,9264,9265,9266,9267,9268,9269,9270,9271,9272,9273,9274,9275,9276,9277,9278,9279,9280,9281,9282,9283,9284,9285,9286,9287,9288,9289,9290,9291,9292,9293,9294,9295,9296,9297,9298,9299,9300,9301,9302,9303,9304,9305,9306,9307,9308,9309,9310,9311,9312,9313,9314,9315,9316,9317,9318,9319,9320,9321,9322,9323,9324,9325,9326,9327,9328,9329,9330,9331,9332,9333,9334,9335,9336,9337,9338,9339,9340,9341,9342,9343,9344,9345,9346,9347,9348,9349,9350,9351,9352,9353,9354,9355,9356,9357,9358,9359,9360,9361,9362,9363,9364,9365,9366,9367,9368,9369,9370,9371,9372,9373,9374,9375,9376,9377,9378,9379,9380,9381,9382,9383,9384,9385,9386,9387,9388,9389,9390,9391,9392,9393,9394,9395,9396,9397,9398,9399,9400,9401,9402,9403,9404,9405,9406,9407,9408,9409,9410,9411,9412,9413,9414,9415,9416,9417,9418,9419,9420,9421,9422,9423,9424,9425,9426,9427,9428,9429,9430,9431,9432,9433,9434,9435,9436,9437,9438,9439,9440,9441,9442,9443,9444,9445,9446,9447,9448,9449,9450,9451,9452,9453,9454,9455,9456,9457,9458,9459,9460,9461,9462,9463,9464,9465,9466,9467,9468,9469,9470,9471,9472,9473,9474,9475,9476,9477,9478,9479,9480,9481,9482,9483,9484,9485,9486,9487,9488,9489,9490,9491,9492,9493,9494,9495,9496,9497,9498,9499,9500,9501,9502,9503,9504,9505,9506,9507,9508,9509,9510,9511,9512,9513,9514,9515,9516,9517,9518,9519,9520,9521,9522,9523,9524,9525,9526,9527,9528,9529,9530,9531,9532,9533,9534,9535,9536,9537,9538,9539,9540,9541,9542,9543,9544,9545,9546,9547,9548,9549,9550,9551,9552,9553,9554,9555,9556,9557,9558,9559,9560,9561,9562,9563,9564,9565,9566,9567,9568,9569,9570,9571,9572,9573,9574,9575,9576,9577,9578,9579,9580,9581,9582,9583,9584,9585,9586,9587,9588,9589,9590,9591,9592,9593,9594,9595,9596,9597,9598,9599,9600,9601,9602,9603,9604,9605,9606,9607,9608,9609,9610,9611,9612,9613,9614,9615,9616,9617,9618,9619,9620,9621,9622,9623,9624,9625,9626,9627,9628,9629,9630,9631,9632,9633,9634,9635,9636,9637,9638,9639,9640,9641,9642,9643,9644,9645,9646,9647,9648,9649,9650,9651,9652,9653,9654,9655,9656,9657,9658,9659,9660,9661,9662,9663,9664,9665,9666,9667,9668,9669,9670,9671,9672,9673,9674,9675,9676,9677,9678,9679,9680,9681,9682,9683,9684,9685,9686,9687,9688,9689,9690,9691,9692,9693,9694,9695,9696,9697,9698,9699,9700,9701,9702,9703,9704,9705,9706,9707,9708,9709,9710,9711,9712,9713,9714,9715,9716,9717,9718,9719,9720,9721,9722,9723,9724,9725,9726,9727,9728,9729,9730,9731,9732,9733,9734,9735,9736,9737,9738,9739,9740,9741,9742,9743,9744,9745,9746,9747,9748,9749,9750,9751,9752,9753,9754,9755,9756,9757,9758,9759,9760,9761,9762,9763,9764,9765,9766,9767,9768,9769,9770,9771,9772,9773,9774,9775,9776,9777,9778,9779,9780,9781,9782,9783,9784,9785,9786,9787,9788,9789,9790,9791,9792,9793,9794,9795,9796,9797,9798,9799,9800,9801,9802,9803,9804,9805,9806,9807,9808,9809,9810,9811,9812,9813,9814,9815,9816,9817,9818,9819,9820,9821,9822,9823,9824,9825,9826,9827,9828,9829,9830,9831,9832,9833,9834,9835,9836,9837,9838,9839,9840,9841,9842,9843,9844,9845,9846,9847,9848,9849,9850,9851,9852,9853,9854,9855,9856,9857,9858,9859,9860,9861,9862,9863,9864,9865,9866,9867,9868,9869,9870,9871,9872,9873,9874,9875,9876,9877,9878,9879,9880,9881,9882,9883,9884,9885,9886,9887,9888,9889,9890,9891,9892,9893,9894,9895,9896,9897,9898,9899,9900,9901,9902,9903,9904,9905,9906,9907,9908,9909,9910,9911,9912,9913,9914,9915,9916,9917,9918,9919,9920,9921,9922,9923,9924,9925,9926,9927,9928,9929,9930,9931,9932,9933,9934,9935,9936,9937,9938,9939,9940,9941,9942,9943,9944,9945,9946,9947,9948,9949,9950,9951,9952,9953,9954,9955,9956,9957,9958,9959,9960,9961,9962,9963,9964,9965,9966,9967,9968,9969,9970,9971,9972,9973,9974,9975,9976,9977,9978,9979,9980,9981,9982,9983,9984,9985,9986,9987,9988,9989,9990,9991,9992,9993,9994,9995,9996,9997,9998,9999,10000,10001,10002,10003,10004,10005,10006,10007,10008,10009,10010,10011,10012,10013,10014,10015,10016,10017,10018,10019,10020,10021,10022,10023,10024,10025,10026,10027,10028,10029,10030,10031,10032,10033,10034,10035,10036,10037,10038,10039,10040,10041,10042,10043,10044,10045,10046,10047,10048,10049,10050,10051,10052,10053,10054,10055,10056,10057,10058,10059,10060,10061,10062,10063,10064,10065,10066,10067,10068,10069,10070,10071,10072,10073,10074,10075,10076,10077,10078,10079,10080,10081,10082,10083,10084,10085,10086,10087,10088,10089,10090,10091,10092,10093,10094,10095,10096,10097,10098,10099,10100,10101,10102,10103,10104,10105,10106,10107,10108,10109,10110,10111,10112,10113,10114,10115,10116,10117,10118,10119,10120,10121,10122,10123,10124,10125,10126,10127,10128,10129,10130,10131,10132,10133,10134,10135,10136,10137,10138,10139,10140,10141,10142,10143,10144,10145,10146,10147,10148,10149,10150,10151,10152,10153,10154,10155,10156,10157,10158,10159,10160,10161,10162,10163,10164,10165,10166,10167,10168,10169,10170,10171,10172,10173,10174,10175,10176,10177,10178,10179,10180,10181,10182,10183,10184,10185,10186,10187,10188,10189,10190,10191,10192,10193,10194,10195,10196,10197,10198,10199,10200,10201,10202,10203,10204,10205,10206,10207,10208,10209,10210,10211,10212,10213,10214,10215,10216,10217,10218,10219,10220,10221,10222,10223,10224,10225,10226,10227,10228,10229,10230,10231,10232,10233,10234,10235,10236,10237,10238,10239,10240,10241,10242,10243,10244,10245,10246,10247,10248,10249,10250,10251,10252,10253,10254,10255,10256,10257,10258,10259,10260,10261,10262,10263,10264,10265,10266,10267,10268,10269,10270,10271,10272,10273,10274,10275,10276,10277,10278,10279,10280,10281,10282,10283,10284,10285,10286,10287,10288,10289,10290,10291,10292,10293,10294,10295,10296,10297,10298,10299,10300,10301,10302,10303,10304,10305,10306,10307,10308,10309,10310,10311,10312,10313,10314,10315,10316,10317,10318,10319,10320,10321,10322,10323,10324,10325,10326,10327,10328,10329,10330,10331,10332,10333,10334,10335,10336,10337,10338,10339,10340,10341,10342,10343,10344,10345,10346,10347,10348,10349,10350,10351,10352,10353,10354,10355,10356,10357,10358,10359,10360,10361,10362,10363,10364,10365,10366,10367,10368,10369,10370,10371,10372,10373,10374,10375,10376,10377,10378,10379,10380,10381,10382,10383,10384,10385,10386,10387,10388,10389,10390,10391,10392,10393,10394,10395,10396,10397,10398,10399,10400,10401,10402,10403,10404,10405,10406,10407,10408,10409,10410,10411,10412,10413,10414,10415,10416,10417,10418,10419,10420,10421,10422,10423,10424,10425,10426,10427,10428,10429,10430,10431,10432,10433,10434,10435,10436,10437,10438,10439,10440,10441,10442,10443,10444,10445,10446,10447,10448,10449,10450,10451,10452,10453,10454,10455,10456,10457,10458,10459,10460,10461,10462,10463,10464,10465,10466,10467,10468,10469,10470,10471,10472,10473,10474,10475,10476,10477,10478,10479,10480,10481,10482,10483,10484,10485,10486,10487,10488,10489,10490,10491,10492,10493,10494,10495,10496,10497,10498,10499,10500,10501,10502,10503,10504,10505,10506,10507,10508,10509,10510,10511,10512,10513,10514,10515,10516,10517,10518,10519,10520,10521,10522,10523,10524,10525,10526,10527,10528,10529,10530,10531,10532,10533,10534,10535,10536,10537,10538,10539,10540,10541,10542,10543,10544,10545,10546,10547,10548,10549,10550,10551,10552,10553,10554,10555,10556,10557,10558,10559,10560,10561,10562,10563,10564,10565,10566,10567,10568,10569,10570,10571,10572,10573,10574,10575,10576,10577,10578,10579,10580,10581,10582,10583,10584,10585,10586,10587,10588,10589,10590,10591,10592,10593,10594,10595,10596,10597,10598,10599,10600,10601,10602,10603,10604,10605,10606,10607,10608,10609,10610,10611,10612,10613,10614,10615,10616,10617,10618,10619,10620,10621,10622,10623,10624],\"rate\":{\"__ndarray__\":\"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\",\"dtype\":\"float64\",\"order\":\"little\",\"shape\":[10625]},\"topic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},\"selected\":{\"id\":\"2313\"},\"selection_policy\":{\"id\":\"2312\"}},\"id\":\"2206\",\"type\":\"ColumnDataSource\"},{\"attributes\":{},\"id\":\"2313\",\"type\":\"Selection\"},{\"attributes\":{\"bottom_units\":\"screen\",\"coordinates\":null,\"fill_alpha\":0.5,\"fill_color\":\"lightgrey\",\"group\":null,\"left_units\":\"screen\",\"level\":\"overlay\",\"line_alpha\":1.0,\"line_color\":\"black\",\"line_dash\":[4,4],\"line_width\":2,\"right_units\":\"screen\",\"syncable\":false,\"top_units\":\"screen\"},\"id\":\"2198\",\"type\":\"BoxAnnotation\"},{\"attributes\":{\"axis_line_color\":null,\"coordinates\":null,\"formatter\":{\"id\":\"2306\"},\"group\":null,\"major_label_policy\":{\"id\":\"2307\"},\"major_label_standoff\":0,\"major_label_text_font_size\":\"5pt\",\"major_tick_line_color\":null,\"ticker\":{\"id\":\"2190\"}},\"id\":\"2189\",\"type\":\"CategoricalAxis\"},{\"attributes\":{\"axis\":{\"id\":\"2189\"},\"coordinates\":null,\"dimension\":1,\"grid_line_color\":null,\"group\":null,\"ticker\":null},\"id\":\"2191\",\"type\":\"Grid\"},{\"attributes\":{\"coordinates\":null,\"group\":null,\"text\":\"Topic probability per document\"},\"id\":\"2176\",\"type\":\"Title\"},{\"attributes\":{},\"id\":\"2312\",\"type\":\"UnionRenderers\"},{\"attributes\":{\"factors\":[\"0\",\"1\",\"2\",\"3\",\"4\"]},\"id\":\"2178\",\"type\":\"FactorRange\"},{\"attributes\":{\"source\":{\"id\":\"2206\"}},\"id\":\"2212\",\"type\":\"CDSView\"},{\"attributes\":{\"tools\":[{\"id\":\"2192\"},{\"id\":\"2193\"},{\"id\":\"2194\"},{\"id\":\"2195\"},{\"id\":\"2196\"},{\"id\":\"2197\"}]},\"id\":\"2199\",\"type\":\"Toolbar\"},{\"attributes\":{},\"id\":\"2184\",\"type\":\"CategoricalScale\"},{\"attributes\":{\"fill_alpha\":{\"value\":0.1},\"fill_color\":{\"field\":\"rate\",\"transform\":{\"id\":\"2174\"}},\"hatch_alpha\":{\"value\":0.1},\"height\":{\"value\":1},\"line_alpha\":{\"value\":0.1},\"line_color\":{\"value\":null},\"width\":{\"value\":1},\"x\":{\"field\":\"topic\"},\"y\":{\"field\":\"doc\"}},\"id\":\"2209\",\"type\":\"Rect\"},{\"attributes\":{\"axis\":{\"id\":\"2186\"},\"coordinates\":null,\"grid_line_color\":null,\"group\":null,\"ticker\":null},\"id\":\"2188\",\"type\":\"Grid\"}],\"root_ids\":[\"2175\"]},\"title\":\"Bokeh Application\",\"version\":\"2.4.3\"}};\n",
              "  const render_items = [{\"docid\":\"9116debd-201f-485b-9cff-396bca48369b\",\"root_ids\":[\"2175\"],\"roots\":{\"2175\":\"8d75ed3f-707e-4e22-afa7-4607a6fbdc15\"}}];\n",
              "  root.Bokeh.embed.embed_items_notebook(docs_json, render_items);\n",
              "  }\n",
              "  if (root.Bokeh !== undefined) {\n",
              "    embed_document(root);\n",
              "  } else {\n",
              "    let attempts = 0;\n",
              "    const timer = setInterval(function(root) {\n",
              "      if (root.Bokeh !== undefined) {\n",
              "        clearInterval(timer);\n",
              "        embed_document(root);\n",
              "      } else {\n",
              "        attempts++;\n",
              "        if (attempts > 100) {\n",
              "          clearInterval(timer);\n",
              "          console.log(\"Bokeh: ERROR: Unable to run BokehJS code because BokehJS library is missing\");\n",
              "        }\n",
              "      }\n",
              "    }, 10, root)\n",
              "  }\n",
              "})(window);"
            ],
            "application/vnd.bokehjs_exec.v0+json": ""
          },
          "metadata": {
            "application/vnd.bokehjs_exec.v0+json": {
              "id": "2175"
            }
          }
        }
      ]
    },
    {
      "cell_type": "markdown",
      "source": [
        "From the above density distribution, the plot shows the probability scores for each topic. It is now clear that some of the documents were almost equally classified in two categories so that the error is highly probable. Such cases should be always taken into account."
      ],
      "metadata": {
        "id": "jB9gPiw9jmC1"
      }
    },
    {
      "cell_type": "code",
      "source": [],
      "metadata": {
        "id": "2d6ejddRgO2_"
      },
      "execution_count": null,
      "outputs": []
    },
    {
      "cell_type": "code",
      "source": [],
      "metadata": {
        "id": "Uo796HnigOvf"
      },
      "execution_count": null,
      "outputs": []
    },
    {
      "cell_type": "code",
      "source": [
        "# installing pyLDAvis to visualize the results of LDA model\n",
        "!pip install pyLDAvis"
      ],
      "metadata": {
        "colab": {
          "base_uri": "https://localhost:8080/",
          "height": 849
        },
        "id": "LVYtCKp9MoPQ",
        "outputId": "0ffd57d0-df0f-40df-ba80-340b0b7f71c0"
      },
      "execution_count": null,
      "outputs": [
        {
          "output_type": "stream",
          "name": "stdout",
          "text": [
            "Looking in indexes: https://pypi.org/simple, https://us-python.pkg.dev/colab-wheels/public/simple/\n",
            "Collecting pyLDAvis\n",
            "  Downloading pyLDAvis-3.4.1-py3-none-any.whl (2.6 MB)\n",
            "\u001b[2K     \u001b[90m━━━━━━━━━━━━━━━━━━━━━━━━━━━━━━━━━━━━━━━━\u001b[0m \u001b[32m2.6/2.6 MB\u001b[0m \u001b[31m45.1 MB/s\u001b[0m eta \u001b[36m0:00:00\u001b[0m\n",
            "\u001b[?25hCollecting numpy>=1.24.2 (from pyLDAvis)\n",
            "  Downloading numpy-1.24.3-cp310-cp310-manylinux_2_17_x86_64.manylinux2014_x86_64.whl (17.3 MB)\n",
            "\u001b[2K     \u001b[90m━━━━━━━━━━━━━━━━━━━━━━━━━━━━━━━━━━━━━━━━\u001b[0m \u001b[32m17.3/17.3 MB\u001b[0m \u001b[31m78.8 MB/s\u001b[0m eta \u001b[36m0:00:00\u001b[0m\n",
            "\u001b[?25hRequirement already satisfied: scipy in /usr/local/lib/python3.10/dist-packages (from pyLDAvis) (1.10.1)\n",
            "Collecting pandas>=2.0.0 (from pyLDAvis)\n",
            "  Downloading pandas-2.0.1-cp310-cp310-manylinux_2_17_x86_64.manylinux2014_x86_64.whl (12.3 MB)\n",
            "\u001b[2K     \u001b[90m━━━━━━━━━━━━━━━━━━━━━━━━━━━━━━━━━━━━━━━━\u001b[0m \u001b[32m12.3/12.3 MB\u001b[0m \u001b[31m92.6 MB/s\u001b[0m eta \u001b[36m0:00:00\u001b[0m\n",
            "\u001b[?25hRequirement already satisfied: joblib>=1.2.0 in /usr/local/lib/python3.10/dist-packages (from pyLDAvis) (1.2.0)\n",
            "Requirement already satisfied: jinja2 in /usr/local/lib/python3.10/dist-packages (from pyLDAvis) (3.1.2)\n",
            "Requirement already satisfied: numexpr in /usr/local/lib/python3.10/dist-packages (from pyLDAvis) (2.8.4)\n",
            "Collecting funcy (from pyLDAvis)\n",
            "  Downloading funcy-2.0-py2.py3-none-any.whl (30 kB)\n",
            "Requirement already satisfied: scikit-learn>=1.0.0 in /usr/local/lib/python3.10/dist-packages (from pyLDAvis) (1.2.2)\n",
            "Requirement already satisfied: gensim in /usr/local/lib/python3.10/dist-packages (from pyLDAvis) (4.3.1)\n",
            "Requirement already satisfied: setuptools in /usr/local/lib/python3.10/dist-packages (from pyLDAvis) (67.7.2)\n",
            "Requirement already satisfied: python-dateutil>=2.8.2 in /usr/local/lib/python3.10/dist-packages (from pandas>=2.0.0->pyLDAvis) (2.8.2)\n",
            "Requirement already satisfied: pytz>=2020.1 in /usr/local/lib/python3.10/dist-packages (from pandas>=2.0.0->pyLDAvis) (2022.7.1)\n",
            "Requirement already satisfied: tzdata>=2022.1 in /usr/local/lib/python3.10/dist-packages (from pandas>=2.0.0->pyLDAvis) (2023.3)\n",
            "Requirement already satisfied: threadpoolctl>=2.0.0 in /usr/local/lib/python3.10/dist-packages (from scikit-learn>=1.0.0->pyLDAvis) (3.1.0)\n",
            "Requirement already satisfied: smart-open>=1.8.1 in /usr/local/lib/python3.10/dist-packages (from gensim->pyLDAvis) (6.3.0)\n",
            "Requirement already satisfied: MarkupSafe>=2.0 in /usr/local/lib/python3.10/dist-packages (from jinja2->pyLDAvis) (2.1.2)\n",
            "Requirement already satisfied: six>=1.5 in /usr/local/lib/python3.10/dist-packages (from python-dateutil>=2.8.2->pandas>=2.0.0->pyLDAvis) (1.16.0)\n",
            "Installing collected packages: funcy, numpy, pandas, pyLDAvis\n",
            "  Attempting uninstall: numpy\n",
            "    Found existing installation: numpy 1.22.4\n",
            "    Uninstalling numpy-1.22.4:\n",
            "      Successfully uninstalled numpy-1.22.4\n",
            "  Attempting uninstall: pandas\n",
            "    Found existing installation: pandas 1.5.3\n",
            "    Uninstalling pandas-1.5.3:\n",
            "      Successfully uninstalled pandas-1.5.3\n",
            "\u001b[31mERROR: pip's dependency resolver does not currently take into account all the packages that are installed. This behaviour is the source of the following dependency conflicts.\n",
            "google-colab 1.0.0 requires pandas~=1.5.3, but you have pandas 2.0.1 which is incompatible.\n",
            "numba 0.56.4 requires numpy<1.24,>=1.18, but you have numpy 1.24.3 which is incompatible.\n",
            "tensorflow 2.12.0 requires numpy<1.24,>=1.22, but you have numpy 1.24.3 which is incompatible.\u001b[0m\u001b[31m\n",
            "\u001b[0mSuccessfully installed funcy-2.0 numpy-1.24.3 pandas-2.0.1 pyLDAvis-3.4.1\n"
          ]
        },
        {
          "output_type": "display_data",
          "data": {
            "application/vnd.colab-display-data+json": {
              "pip_warning": {
                "packages": [
                  "numpy",
                  "pandas"
                ]
              }
            }
          },
          "metadata": {}
        }
      ]
    },
    {
      "cell_type": "code",
      "execution_count": null,
      "metadata": {
        "id": "U4KAKjfgv4WO"
      },
      "outputs": [],
      "source": [
        "# importing pyLDAvis module\n",
        "import pyLDAvis\n",
        "pyLDAvis.enable_notebook()"
      ]
    },
    {
      "cell_type": "code",
      "source": [
        "import pyLDAvis.gensim\n",
        "from gensim.corpora import Dictionary\n",
        "from gensim.models import LdaModel"
      ],
      "metadata": {
        "id": "vy-tpCUJs64S"
      },
      "execution_count": null,
      "outputs": []
    },
    {
      "cell_type": "markdown",
      "source": [
        "Now lets visualize the results using pyLDAvis to get the better understanding of the model. This will show us the topics found for all 5 categories and how they're distributed based on preferences."
      ],
      "metadata": {
        "id": "BLQp7NhQNu8f"
      }
    },
    {
      "cell_type": "code",
      "source": [
        "# Topic Modeling using Latent Dirichlet Allocation\n",
        "lda = LatentDirichletAllocation(n_components = 5)\n",
        "lda_model = lda.fit(document_term_matrix)"
      ],
      "metadata": {
        "id": "-nrxTTH3qsFI"
      },
      "execution_count": null,
      "outputs": []
    },
    {
      "cell_type": "code",
      "source": [
        "lda_panel = pyLDAvis.gensim.prepare(lda_model,count_vectorizer,document_term_matrix)"
      ],
      "metadata": {
        "colab": {
          "base_uri": "https://localhost:8080/",
          "height": 320
        },
        "id": "Gy5fDXwysPZi",
        "outputId": "61de046e-95e7-472c-d0ca-6157107c8dbe"
      },
      "execution_count": null,
      "outputs": [
        {
          "output_type": "error",
          "ename": "TypeError",
          "evalue": "ignored",
          "traceback": [
            "\u001b[0;31m---------------------------------------------------------------------------\u001b[0m",
            "\u001b[0;31mTypeError\u001b[0m                                 Traceback (most recent call last)",
            "\u001b[0;32m<ipython-input-72-616e83eca035>\u001b[0m in \u001b[0;36m<cell line: 1>\u001b[0;34m()\u001b[0m\n\u001b[0;32m----> 1\u001b[0;31m \u001b[0mlda_panel\u001b[0m \u001b[0;34m=\u001b[0m \u001b[0mpyLDAvis\u001b[0m\u001b[0;34m.\u001b[0m\u001b[0mgensim\u001b[0m\u001b[0;34m.\u001b[0m\u001b[0mprepare\u001b[0m\u001b[0;34m(\u001b[0m\u001b[0mlda_model\u001b[0m\u001b[0;34m,\u001b[0m\u001b[0mcount_vectorizer\u001b[0m\u001b[0;34m,\u001b[0m\u001b[0mdocument_term_matrix\u001b[0m\u001b[0;34m)\u001b[0m\u001b[0;34m\u001b[0m\u001b[0;34m\u001b[0m\u001b[0m\n\u001b[0m",
            "\u001b[0;32m/usr/local/lib/python3.10/dist-packages/pyLDAvis/gensim.py\u001b[0m in \u001b[0;36mprepare\u001b[0;34m(topic_model, corpus, dictionary, doc_topic_dist, **kwargs)\u001b[0m\n\u001b[1;32m    120\u001b[0m     \u001b[0mSee\u001b[0m\u001b[0;31m \u001b[0m\u001b[0;31m`\u001b[0m\u001b[0mpyLDAvis\u001b[0m\u001b[0;34m.\u001b[0m\u001b[0mprepare\u001b[0m\u001b[0;31m`\u001b[0m \u001b[0;32mfor\u001b[0m \u001b[0;34m**\u001b[0m\u001b[0mkwargs\u001b[0m\u001b[0;34m.\u001b[0m\u001b[0;34m\u001b[0m\u001b[0;34m\u001b[0m\u001b[0m\n\u001b[1;32m    121\u001b[0m     \"\"\"\n\u001b[0;32m--> 122\u001b[0;31m     \u001b[0mopts\u001b[0m \u001b[0;34m=\u001b[0m \u001b[0mfp\u001b[0m\u001b[0;34m.\u001b[0m\u001b[0mmerge\u001b[0m\u001b[0;34m(\u001b[0m\u001b[0m_extract_data\u001b[0m\u001b[0;34m(\u001b[0m\u001b[0mtopic_model\u001b[0m\u001b[0;34m,\u001b[0m \u001b[0mcorpus\u001b[0m\u001b[0;34m,\u001b[0m \u001b[0mdictionary\u001b[0m\u001b[0;34m,\u001b[0m \u001b[0mdoc_topic_dist\u001b[0m\u001b[0;34m)\u001b[0m\u001b[0;34m,\u001b[0m \u001b[0mkwargs\u001b[0m\u001b[0;34m)\u001b[0m\u001b[0;34m\u001b[0m\u001b[0;34m\u001b[0m\u001b[0m\n\u001b[0m\u001b[1;32m    123\u001b[0m     \u001b[0;32mreturn\u001b[0m \u001b[0mvis_prepare\u001b[0m\u001b[0;34m(\u001b[0m\u001b[0;34m**\u001b[0m\u001b[0mopts\u001b[0m\u001b[0;34m)\u001b[0m\u001b[0;34m\u001b[0m\u001b[0;34m\u001b[0m\u001b[0m\n",
            "\u001b[0;32m/usr/local/lib/python3.10/dist-packages/pyLDAvis/gensim.py\u001b[0m in \u001b[0;36m_extract_data\u001b[0;34m(topic_model, corpus, dictionary, doc_topic_dists)\u001b[0m\n\u001b[1;32m     15\u001b[0m \u001b[0;34m\u001b[0m\u001b[0m\n\u001b[1;32m     16\u001b[0m     \u001b[0;32mif\u001b[0m \u001b[0;32mnot\u001b[0m \u001b[0mgensim\u001b[0m\u001b[0;34m.\u001b[0m\u001b[0mmatutils\u001b[0m\u001b[0;34m.\u001b[0m\u001b[0mismatrix\u001b[0m\u001b[0;34m(\u001b[0m\u001b[0mcorpus\u001b[0m\u001b[0;34m)\u001b[0m\u001b[0;34m:\u001b[0m\u001b[0;34m\u001b[0m\u001b[0;34m\u001b[0m\u001b[0m\n\u001b[0;32m---> 17\u001b[0;31m         \u001b[0mcorpus_csc\u001b[0m \u001b[0;34m=\u001b[0m \u001b[0mgensim\u001b[0m\u001b[0;34m.\u001b[0m\u001b[0mmatutils\u001b[0m\u001b[0;34m.\u001b[0m\u001b[0mcorpus2csc\u001b[0m\u001b[0;34m(\u001b[0m\u001b[0mcorpus\u001b[0m\u001b[0;34m,\u001b[0m \u001b[0mnum_terms\u001b[0m\u001b[0;34m=\u001b[0m\u001b[0mlen\u001b[0m\u001b[0;34m(\u001b[0m\u001b[0mdictionary\u001b[0m\u001b[0;34m)\u001b[0m\u001b[0;34m)\u001b[0m\u001b[0;34m\u001b[0m\u001b[0;34m\u001b[0m\u001b[0m\n\u001b[0m\u001b[1;32m     18\u001b[0m     \u001b[0;32melse\u001b[0m\u001b[0;34m:\u001b[0m\u001b[0;34m\u001b[0m\u001b[0;34m\u001b[0m\u001b[0m\n\u001b[1;32m     19\u001b[0m         \u001b[0mcorpus_csc\u001b[0m \u001b[0;34m=\u001b[0m \u001b[0mcorpus\u001b[0m\u001b[0;34m\u001b[0m\u001b[0;34m\u001b[0m\u001b[0m\n",
            "\u001b[0;32m/usr/local/lib/python3.10/dist-packages/scipy/sparse/_base.py\u001b[0m in \u001b[0;36m__len__\u001b[0;34m(self)\u001b[0m\n\u001b[1;32m    343\u001b[0m     \u001b[0;31m# non-zeros is more important.  For now, raise an exception!\u001b[0m\u001b[0;34m\u001b[0m\u001b[0;34m\u001b[0m\u001b[0m\n\u001b[1;32m    344\u001b[0m     \u001b[0;32mdef\u001b[0m \u001b[0m__len__\u001b[0m\u001b[0;34m(\u001b[0m\u001b[0mself\u001b[0m\u001b[0;34m)\u001b[0m\u001b[0;34m:\u001b[0m\u001b[0;34m\u001b[0m\u001b[0;34m\u001b[0m\u001b[0m\n\u001b[0;32m--> 345\u001b[0;31m         raise TypeError(\"sparse matrix length is ambiguous; use getnnz()\"\n\u001b[0m\u001b[1;32m    346\u001b[0m                         \" or shape[0]\")\n\u001b[1;32m    347\u001b[0m \u001b[0;34m\u001b[0m\u001b[0m\n",
            "\u001b[0;31mTypeError\u001b[0m: sparse matrix length is ambiguous; use getnnz() or shape[0]"
          ]
        }
      ]
    },
    {
      "cell_type": "code",
      "source": [
        "# Visualising our topics\n",
        "lda_panel = pyLDAvis.prepare(lda_model, term_frequency = document_term_matrix, count_vectorizer)\n",
        "lda_panel"
      ],
      "metadata": {
        "colab": {
          "base_uri": "https://localhost:8080/",
          "height": 133
        },
        "id": "tnjAuGKVrCZ5",
        "outputId": "29fe2065-43a9-4d3c-9e78-146f8b2685d2"
      },
      "execution_count": null,
      "outputs": [
        {
          "output_type": "error",
          "ename": "SyntaxError",
          "evalue": "ignored",
          "traceback": [
            "\u001b[0;36m  File \u001b[0;32m\"<ipython-input-69-7d9a2884589b>\"\u001b[0;36m, line \u001b[0;32m2\u001b[0m\n\u001b[0;31m    lda_panel = pyLDAvis.prepare(lda_model, term_frequency = document_term_matrix, count_vectorizer)\u001b[0m\n\u001b[0m                                                                                                   ^\u001b[0m\n\u001b[0;31mSyntaxError\u001b[0m\u001b[0;31m:\u001b[0m positional argument follows keyword argument\n"
          ]
        }
      ]
    },
    {
      "cell_type": "code",
      "source": [],
      "metadata": {
        "id": "JZvq_tlXrCMY"
      },
      "execution_count": null,
      "outputs": []
    },
    {
      "cell_type": "code",
      "source": [
        "# generate and display the graph\n",
        "lda_panel = pyLDAvis.prepare(best_lda_model, document_term_matrix, count_vectorizer, mds='tsne')\n",
        "lda_panel"
      ],
      "metadata": {
        "colab": {
          "base_uri": "https://localhost:8080/",
          "height": 206
        },
        "id": "9XXMgeXPNupf",
        "outputId": "e38be236-3e92-4ebf-89db-68470d498343"
      },
      "execution_count": null,
      "outputs": [
        {
          "output_type": "error",
          "ename": "TypeError",
          "evalue": "ignored",
          "traceback": [
            "\u001b[0;31m---------------------------------------------------------------------------\u001b[0m",
            "\u001b[0;31mTypeError\u001b[0m                                 Traceback (most recent call last)",
            "\u001b[0;32m<ipython-input-63-6794ee16d71f>\u001b[0m in \u001b[0;36m<cell line: 2>\u001b[0;34m()\u001b[0m\n\u001b[1;32m      1\u001b[0m \u001b[0;31m# generate and display the graph\u001b[0m\u001b[0;34m\u001b[0m\u001b[0;34m\u001b[0m\u001b[0m\n\u001b[0;32m----> 2\u001b[0;31m \u001b[0mlda_panel\u001b[0m \u001b[0;34m=\u001b[0m \u001b[0mpyLDAvis\u001b[0m\u001b[0;34m.\u001b[0m\u001b[0mprepare\u001b[0m\u001b[0;34m(\u001b[0m\u001b[0mdocument_term_matrix\u001b[0m\u001b[0;34m)\u001b[0m\u001b[0;34m\u001b[0m\u001b[0;34m\u001b[0m\u001b[0m\n\u001b[0m\u001b[1;32m      3\u001b[0m \u001b[0mlda_panel\u001b[0m\u001b[0;34m\u001b[0m\u001b[0;34m\u001b[0m\u001b[0m\n",
            "\u001b[0;31mTypeError\u001b[0m: prepare() missing 4 required positional arguments: 'doc_topic_dists', 'doc_lengths', 'vocab', and 'term_frequency'"
          ]
        }
      ]
    },
    {
      "cell_type": "code",
      "execution_count": null,
      "metadata": {
        "colab": {
          "background_save": true
        },
        "id": "1zFW5gS_v4Qr"
      },
      "outputs": [],
      "source": [
        "# fitting the model\n",
        "lda.fit(document_term_matrix)"
      ]
    },
    {
      "cell_type": "code",
      "execution_count": null,
      "metadata": {
        "colab": {
          "background_save": true
        },
        "id": "1HFsZE1Lv4M7"
      },
      "outputs": [],
      "source": [
        "# best LDA model\n",
        "best_lda_model = lda.best_estimator_\n",
        "print(\"Best LDA model's params\" , lda.best_params_)\n",
        "print(\"Best log likelihood Score for the LDA model\",lda.best_score_)\n",
        "print(\"LDA model Perplexity on train data\", best_lda_model.perplexity(document_term_matrix))"
      ]
    },
    {
      "cell_type": "code",
      "execution_count": null,
      "metadata": {
        "colab": {
          "background_save": true
        },
        "id": "mjSEz9Huv4Jt"
      },
      "outputs": [],
      "source": []
    },
    {
      "cell_type": "code",
      "source": [
        "# hyperparameter tuning using Grid Search CV\n",
        "grid_params = {'n_components' : [5]}\n",
        "\n",
        "# creating LDA model object\n",
        "lda = LatentDirichletAllocation()\n",
        "\n",
        "# fitting the model\n",
        "lda_model = GridSearchCV(lda, param_grid = grid_params)\n",
        "lda_model.fit(document_term_matrix)\n",
        "\n",
        "# best LDA model\n",
        "best_lda_model = lda_model.best_estimator_\n",
        "print(\"Best LDA model's params\" , lda_model.best_params_)\n",
        "print(\"Best log likelihood Score for the LDA model\",lda_model.best_score_)\n",
        "print(\"LDA model Perplexity on train data\", best_lda_model.perplexity(document_term_matrix))"
      ],
      "metadata": {
        "colab": {
          "base_uri": "https://localhost:8080/"
        },
        "id": "32cyLdHrOl_v",
        "outputId": "8242f960-b880-4752-cba3-7d2871b1b0b5"
      },
      "execution_count": null,
      "outputs": [
        {
          "output_type": "stream",
          "name": "stderr",
          "text": [
            "/usr/local/lib/python3.10/dist-packages/ipykernel/ipkernel.py:283: DeprecationWarning: `should_run_async` will not call `transform_cell` automatically in the future. Please pass the result to `transformed_cell` argument and any exception that happen during thetransform in `preprocessing_exc_tuple` in IPython 7.17 and above.\n",
            "  and should_run_async(code)\n"
          ]
        },
        {
          "output_type": "stream",
          "name": "stdout",
          "text": [
            "Best LDA model's params {'n_components': 5}\n",
            "Best log likelihood Score for the LDA model -581443.0970203208\n",
            "LDA model Perplexity on train data 1558.6049373429896\n"
          ]
        }
      ]
    },
    {
      "cell_type": "markdown",
      "metadata": {
        "id": "dJ2tPlVmpsJ0"
      },
      "source": [
        "### ML Model - 2"
      ]
    },
    {
      "cell_type": "markdown",
      "metadata": {
        "id": "JWYfwnehpsJ1"
      },
      "source": [
        "#### 1. Explain the ML Model used and it's performance using Evaluation metric Score Chart."
      ]
    },
    {
      "cell_type": "code",
      "execution_count": null,
      "metadata": {
        "colab": {
          "background_save": true
        },
        "id": "yEl-hgQWpsJ1"
      },
      "outputs": [],
      "source": [
        "# Visualizing evaluation Metric Score chart"
      ]
    },
    {
      "cell_type": "markdown",
      "metadata": {
        "id": "-jK_YjpMpsJ2"
      },
      "source": [
        "#### 2. Cross- Validation & Hyperparameter Tuning"
      ]
    },
    {
      "cell_type": "code",
      "execution_count": null,
      "metadata": {
        "colab": {
          "background_save": true
        },
        "id": "Dn0EOfS6psJ2"
      },
      "outputs": [],
      "source": [
        "# ML Model - 1 Implementation with hyperparameter optimization techniques (i.e., GridSearch CV, RandomSearch CV, Bayesian Optimization etc.)\n",
        "\n",
        "# Fit the Algorithm\n",
        "\n",
        "# Predict on the model"
      ]
    },
    {
      "cell_type": "markdown",
      "metadata": {
        "id": "HAih1iBOpsJ2"
      },
      "source": [
        "##### Which hyperparameter optimization technique have you used and why?"
      ]
    },
    {
      "cell_type": "markdown",
      "metadata": {
        "id": "9kBgjYcdpsJ2"
      },
      "source": [
        "Answer Here."
      ]
    },
    {
      "cell_type": "markdown",
      "metadata": {
        "id": "zVGeBEFhpsJ2"
      },
      "source": [
        "##### Have you seen any improvement? Note down the improvement with updates Evaluation metric Score Chart."
      ]
    },
    {
      "cell_type": "markdown",
      "metadata": {
        "id": "74yRdG6UpsJ3"
      },
      "source": [
        "Answer Here."
      ]
    },
    {
      "cell_type": "markdown",
      "metadata": {
        "id": "bmKjuQ-FpsJ3"
      },
      "source": [
        "#### 3. Explain each evaluation metric's indication towards business and the business impact pf the ML model used."
      ]
    },
    {
      "cell_type": "markdown",
      "metadata": {
        "id": "BDKtOrBQpsJ3"
      },
      "source": [
        "Answer Here."
      ]
    },
    {
      "cell_type": "markdown",
      "metadata": {
        "id": "Fze-IPXLpx6K"
      },
      "source": [
        "### ML Model - 3"
      ]
    },
    {
      "cell_type": "code",
      "execution_count": null,
      "metadata": {
        "colab": {
          "background_save": true
        },
        "id": "FFrSXAtrpx6M"
      },
      "outputs": [],
      "source": [
        "# ML Model - 3 Implementation\n",
        "\n",
        "# Fit the Algorithm\n",
        "\n",
        "# Predict on the model"
      ]
    },
    {
      "cell_type": "markdown",
      "metadata": {
        "id": "7AN1z2sKpx6M"
      },
      "source": [
        "#### 1. Explain the ML Model used and it's performance using Evaluation metric Score Chart."
      ]
    },
    {
      "cell_type": "code",
      "execution_count": null,
      "metadata": {
        "colab": {
          "background_save": true
        },
        "id": "xIY4lxxGpx6M"
      },
      "outputs": [],
      "source": [
        "# Visualizing evaluation Metric Score chart"
      ]
    },
    {
      "cell_type": "markdown",
      "metadata": {
        "id": "9PIHJqyupx6M"
      },
      "source": [
        "#### 2. Cross- Validation & Hyperparameter Tuning"
      ]
    },
    {
      "cell_type": "code",
      "execution_count": null,
      "metadata": {
        "colab": {
          "background_save": true
        },
        "id": "eSVXuaSKpx6M"
      },
      "outputs": [],
      "source": [
        "# ML Model - 3 Implementation with hyperparameter optimization techniques (i.e., GridSearch CV, RandomSearch CV, Bayesian Optimization etc.)\n",
        "\n",
        "# Fit the Algorithm\n",
        "\n",
        "# Predict on the model"
      ]
    },
    {
      "cell_type": "markdown",
      "metadata": {
        "id": "_-qAgymDpx6N"
      },
      "source": [
        "##### Which hyperparameter optimization technique have you used and why?"
      ]
    },
    {
      "cell_type": "markdown",
      "metadata": {
        "id": "lQMffxkwpx6N"
      },
      "source": [
        "Answer Here."
      ]
    },
    {
      "cell_type": "markdown",
      "metadata": {
        "id": "Z-hykwinpx6N"
      },
      "source": [
        "##### Have you seen any improvement? Note down the improvement with updates Evaluation metric Score Chart."
      ]
    },
    {
      "cell_type": "markdown",
      "metadata": {
        "id": "MzVzZC6opx6N"
      },
      "source": [
        "Answer Here."
      ]
    },
    {
      "cell_type": "markdown",
      "metadata": {
        "id": "h_CCil-SKHpo"
      },
      "source": [
        "### 1. Which Evaluation metrics did you consider for a positive business impact and why?"
      ]
    },
    {
      "cell_type": "markdown",
      "metadata": {
        "id": "jHVz9hHDKFms"
      },
      "source": [
        "Answer Here."
      ]
    },
    {
      "cell_type": "markdown",
      "metadata": {
        "id": "cBFFvTBNJzUa"
      },
      "source": [
        "### 2. Which ML model did you choose from the above created models as your final prediction model and why?"
      ]
    },
    {
      "cell_type": "markdown",
      "metadata": {
        "id": "6ksF5Q1LKTVm"
      },
      "source": [
        "Answer Here."
      ]
    },
    {
      "cell_type": "markdown",
      "metadata": {
        "id": "HvGl1hHyA_VK"
      },
      "source": [
        "### 3. Explain the model which you have used and the feature importance using any model explainability tool?"
      ]
    },
    {
      "cell_type": "markdown",
      "metadata": {
        "id": "YnvVTiIxBL-C"
      },
      "source": [
        "Answer Here."
      ]
    },
    {
      "cell_type": "markdown",
      "metadata": {
        "id": "EyNgTHvd2WFk"
      },
      "source": [
        "## ***8.*** ***Future Work (Optional)***"
      ]
    },
    {
      "cell_type": "markdown",
      "metadata": {
        "id": "KH5McJBi2d8v"
      },
      "source": [
        "### 1. Save the best performing ml model in a pickle file or joblib file format for deployment process.\n"
      ]
    },
    {
      "cell_type": "code",
      "execution_count": null,
      "metadata": {
        "colab": {
          "background_save": true
        },
        "id": "bQIANRl32f4J"
      },
      "outputs": [],
      "source": [
        "# Save the File"
      ]
    },
    {
      "cell_type": "markdown",
      "metadata": {
        "id": "iW_Lq9qf2h6X"
      },
      "source": [
        "### 2. Again Load the saved model file and try to predict unseen data for a sanity check.\n"
      ]
    },
    {
      "cell_type": "code",
      "execution_count": null,
      "metadata": {
        "colab": {
          "background_save": true
        },
        "id": "oEXk9ydD2nVC"
      },
      "outputs": [],
      "source": [
        "# Load the File and predict unseen data."
      ]
    },
    {
      "cell_type": "markdown",
      "metadata": {
        "id": "-Kee-DAl2viO"
      },
      "source": [
        "### ***Congrats! Your model is successfully created and ready for deployment on a live server for a real user interaction !!!***"
      ]
    },
    {
      "cell_type": "markdown",
      "metadata": {
        "id": "gCX9965dhzqZ"
      },
      "source": [
        "# **Conclusion**"
      ]
    },
    {
      "cell_type": "markdown",
      "metadata": {
        "id": "Fjb1IsQkh3yE"
      },
      "source": [
        "Write the conclusion here."
      ]
    },
    {
      "cell_type": "markdown",
      "metadata": {
        "id": "gIfDvo9L0UH2"
      },
      "source": [
        "### ***Hurrah! You have successfully completed your Machine Learning Capstone Project !!!***"
      ]
    }
  ],
  "metadata": {
    "colab": {
      "collapsed_sections": [
        "mDgbUHAGgjLW",
        "UV0SzAkaZNRQ",
        "YPEH6qLeZNRQ",
        "q29F0dvdveiT",
        "EXh0U9oCveiU",
        "22aHeOlLveiV",
        "g-ATYxFrGrvw",
        "Yfr_Vlr8HBkt",
        "8yEUt7NnHlrM",
        "tEA2Xm5dHt1r",
        "I79__PHVH19G",
        "Ou-I18pAyIpj",
        "fF3858GYyt-u",
        "4_0_7-oCpUZd",
        "hwyV_J3ipUZe",
        "3yB-zSqbpUZe",
        "dEUvejAfpUZe",
        "Fd15vwWVpUZf",
        "bn_IUdTipZyH",
        "49K5P_iCpZyH",
        "Nff-vKELpZyI",
        "kLW572S8pZyI",
        "dWbDXHzopZyI",
        "dJ2tPlVmpsJ0",
        "JWYfwnehpsJ1",
        "-jK_YjpMpsJ2",
        "HAih1iBOpsJ2",
        "zVGeBEFhpsJ2",
        "bmKjuQ-FpsJ3",
        "Fze-IPXLpx6K",
        "7AN1z2sKpx6M",
        "9PIHJqyupx6M",
        "_-qAgymDpx6N",
        "Z-hykwinpx6N",
        "h_CCil-SKHpo",
        "cBFFvTBNJzUa",
        "HvGl1hHyA_VK",
        "EyNgTHvd2WFk",
        "KH5McJBi2d8v",
        "iW_Lq9qf2h6X",
        "-Kee-DAl2viO",
        "gCX9965dhzqZ",
        "gIfDvo9L0UH2"
      ],
      "provenance": [],
      "include_colab_link": true
    },
    "gpuClass": "standard",
    "kernelspec": {
      "display_name": "Python 3",
      "name": "python3"
    },
    "language_info": {
      "name": "python"
    }
  },
  "nbformat": 4,
  "nbformat_minor": 0
}